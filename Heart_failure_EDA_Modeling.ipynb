{
 "cells": [
  {
   "cell_type": "markdown",
   "id": "b4c54357-cff8-467d-821b-2e8ab3fbbff1",
   "metadata": {},
   "source": [
    "# Heart failure outcome classifier\n",
    "In this notebook we will take a dive into a [this](https://www.kaggle.com/datasets/asgharalikhan/mortality-rate-heart-patient-pakistan-hospital) dataset of heart failures in Pakistan.  \n",
    "While I am **not** a medical professional and know only slightly more about heart failures than an average person, I will try to create a model, that will predict the mortality of a heart failure in the Pakistani settings. This model might not work to predict the mortality in other countries, which are more or less medically advanced. \n",
    "\n",
    "> **Disclaimer!** This is not a medical study nor recommendation!\n",
    "\n",
    "## How will it work?\n",
    "With hypothesis testing, I will determine, which of the features of the patients attribute to the heart failure the most to mortality. Having the best features selected, I will create a model, that will predict the mortality for the given sample of patients. Once the model is created with best possible scores, I will check and determine, which of the features impact mortality the most. \n",
    "\n",
    "## How is this model useful?\n",
    "Knowing the most crucial features that might contribute to fatal heart failure, users of this model might check if in their current health, would they survive a heart failure in Pakistan. In another setting, if the model predicts fatality, whils the user is alive, it might be a suggestion to consult with their doctor the state of their health, to avoid heart failure in the future - this aspect might be useful in any different settings.\n",
    "\n",
    "## Good to know\n",
    "Data analized in this study does not touch on the accessability to the hospital or a doctor, time of diagnosis, CPR occurrecne and duration, threatment, how long did it take for the patient to receive firts aid, how far were they from the nearest hospital, chronic diseases, etc. While the dataset gives a good insight on the patients parameters, many life-saving aspects are not included, therefore any conclusions, especially resulting in death on a user of this model should not be taken too seriously. These might however suggest to schedule a check-up with the users doctor.\n",
    "\n",
    "# Exploratory data analysis"
   ]
  },
  {
   "cell_type": "code",
   "execution_count": 118,
   "id": "0efb81bf-6527-49b6-bbf2-d5c1cbb92dc8",
   "metadata": {},
   "outputs": [],
   "source": [
    "# setting the environment\n",
    "import re\n",
    "import random\n",
    "import numpy as np\n",
    "import pandas as pd \n",
    "import matplotlib.pyplot as plt\n",
    "import seaborn as sns\n",
    "from scipy.stats import ttest_ind, chi2_contingency\n",
    "from statsmodels.stats.proportion import proportions_ztest\n",
    "\n",
    "import optuna\n",
    "from sklearn.decomposition import PCA\n",
    "from sklearn.preprocessing import StandardScaler, LabelEncoder\n",
    "from sklearn.metrics import (accuracy_score, precision_score, recall_score, \n",
    "                             f1_score, roc_auc_score, confusion_matrix)\n",
    "from sklearn.model_selection import train_test_split, KFold\n",
    "from sklearn.ensemble import AdaBoostClassifier, RandomForestClassifier\n",
    "from xgboost import XGBClassifier\n",
    "\n",
    "\n",
    "# there are many columns, I want to see them all\n",
    "pd.set_option('display.max_columns', 500)"
   ]
  },
  {
   "cell_type": "code",
   "execution_count": 119,
   "id": "2af093cd-70fd-4947-9471-513aec9fdce5",
   "metadata": {},
   "outputs": [
    {
     "data": {
      "text/html": [
       "<div>\n",
       "<style scoped>\n",
       "    .dataframe tbody tr th:only-of-type {\n",
       "        vertical-align: middle;\n",
       "    }\n",
       "\n",
       "    .dataframe tbody tr th {\n",
       "        vertical-align: top;\n",
       "    }\n",
       "\n",
       "    .dataframe thead th {\n",
       "        text-align: right;\n",
       "    }\n",
       "</style>\n",
       "<table border=\"1\" class=\"dataframe\">\n",
       "  <thead>\n",
       "    <tr style=\"text-align: right;\">\n",
       "      <th></th>\n",
       "      <th>Age</th>\n",
       "      <th>AgeGroup</th>\n",
       "      <th>Gender</th>\n",
       "      <th>Locality</th>\n",
       "      <th>Maritalstatus</th>\n",
       "      <th>LifeStyle</th>\n",
       "      <th>Sleep</th>\n",
       "      <th>Category</th>\n",
       "      <th>Depression</th>\n",
       "      <th>Hyperlipi</th>\n",
       "      <th>Smoking</th>\n",
       "      <th>FamilyHistory</th>\n",
       "      <th>FHistory</th>\n",
       "      <th>Diabetes</th>\n",
       "      <th>HTN</th>\n",
       "      <th>Allergies</th>\n",
       "      <th>BP</th>\n",
       "      <th>Thrombolysis</th>\n",
       "      <th>BGR</th>\n",
       "      <th>BUrea</th>\n",
       "      <th>SCr</th>\n",
       "      <th>SSodium</th>\n",
       "      <th>SPotassium</th>\n",
       "      <th>SChloride</th>\n",
       "      <th>CPK</th>\n",
       "      <th>CKMB</th>\n",
       "      <th>ESR</th>\n",
       "      <th>WBC</th>\n",
       "      <th>RBC</th>\n",
       "      <th>Hemoglobin</th>\n",
       "      <th>PCV</th>\n",
       "      <th>MCV</th>\n",
       "      <th>MCH</th>\n",
       "      <th>MCHC</th>\n",
       "      <th>PLATELET_COUNT</th>\n",
       "      <th>NEUTROPHIL</th>\n",
       "      <th>LYMPHO</th>\n",
       "      <th>MONOCYTE</th>\n",
       "      <th>EOSINO</th>\n",
       "      <th>Others</th>\n",
       "      <th>CO</th>\n",
       "      <th>Diagnosis</th>\n",
       "      <th>Hypersensitivity</th>\n",
       "      <th>cp</th>\n",
       "      <th>trestbps</th>\n",
       "      <th>chol</th>\n",
       "      <th>fbs</th>\n",
       "      <th>restecg</th>\n",
       "      <th>thalach</th>\n",
       "      <th>exang</th>\n",
       "      <th>oldpeak</th>\n",
       "      <th>slope</th>\n",
       "      <th>ca</th>\n",
       "      <th>thal</th>\n",
       "      <th>num</th>\n",
       "      <th>SK</th>\n",
       "      <th>SKReact</th>\n",
       "      <th>Reaction</th>\n",
       "      <th>Mortality</th>\n",
       "      <th>FollowUp</th>\n",
       "    </tr>\n",
       "  </thead>\n",
       "  <tbody>\n",
       "    <tr>\n",
       "      <th>0</th>\n",
       "      <td>45</td>\n",
       "      <td>41-50</td>\n",
       "      <td>Female</td>\n",
       "      <td>RURAL</td>\n",
       "      <td>MARRIED</td>\n",
       "      <td>NO</td>\n",
       "      <td>NO</td>\n",
       "      <td>FREE</td>\n",
       "      <td>YES</td>\n",
       "      <td>YES</td>\n",
       "      <td>NO</td>\n",
       "      <td>NO</td>\n",
       "      <td>0</td>\n",
       "      <td>1</td>\n",
       "      <td>NO</td>\n",
       "      <td>NO</td>\n",
       "      <td>100.6</td>\n",
       "      <td>0</td>\n",
       "      <td>84</td>\n",
       "      <td>28.0</td>\n",
       "      <td>0.9</td>\n",
       "      <td>138</td>\n",
       "      <td>3.3</td>\n",
       "      <td>107</td>\n",
       "      <td>130</td>\n",
       "      <td>30</td>\n",
       "      <td>11</td>\n",
       "      <td>9900</td>\n",
       "      <td>4.26</td>\n",
       "      <td>11.6</td>\n",
       "      <td>0.34</td>\n",
       "      <td>79.7</td>\n",
       "      <td>27.2</td>\n",
       "      <td>0.34</td>\n",
       "      <td>265000</td>\n",
       "      <td>0.70</td>\n",
       "      <td>0.25</td>\n",
       "      <td>0.03</td>\n",
       "      <td>2</td>\n",
       "      <td>no</td>\n",
       "      <td>Chest pain,</td>\n",
       "      <td>EXT. ACUTE WALL M.I</td>\n",
       "      <td>NO</td>\n",
       "      <td>4</td>\n",
       "      <td>132</td>\n",
       "      <td>341</td>\n",
       "      <td>1</td>\n",
       "      <td>2</td>\n",
       "      <td>136</td>\n",
       "      <td>1</td>\n",
       "      <td>3.0</td>\n",
       "      <td>2</td>\n",
       "      <td>0</td>\n",
       "      <td>7</td>\n",
       "      <td>2</td>\n",
       "      <td>1</td>\n",
       "      <td>NO</td>\n",
       "      <td>0</td>\n",
       "      <td>0</td>\n",
       "      <td>60</td>\n",
       "    </tr>\n",
       "    <tr>\n",
       "      <th>1</th>\n",
       "      <td>51</td>\n",
       "      <td>51-60</td>\n",
       "      <td>Female</td>\n",
       "      <td>URBAN</td>\n",
       "      <td>MARRIED</td>\n",
       "      <td>NO</td>\n",
       "      <td>NO</td>\n",
       "      <td>FREE</td>\n",
       "      <td>YES</td>\n",
       "      <td>YES</td>\n",
       "      <td>NO</td>\n",
       "      <td>NO</td>\n",
       "      <td>0</td>\n",
       "      <td>0</td>\n",
       "      <td>NO</td>\n",
       "      <td>NO</td>\n",
       "      <td>90.6</td>\n",
       "      <td>0</td>\n",
       "      <td>135</td>\n",
       "      <td>17.0</td>\n",
       "      <td>0.7</td>\n",
       "      <td>144</td>\n",
       "      <td>4.7</td>\n",
       "      <td>104</td>\n",
       "      <td>163</td>\n",
       "      <td>30</td>\n",
       "      <td>27</td>\n",
       "      <td>15800</td>\n",
       "      <td>5.74</td>\n",
       "      <td>14.5</td>\n",
       "      <td>0.44</td>\n",
       "      <td>78.0</td>\n",
       "      <td>25.0</td>\n",
       "      <td>0.32</td>\n",
       "      <td>287000</td>\n",
       "      <td>0.73</td>\n",
       "      <td>0.20</td>\n",
       "      <td>0.04</td>\n",
       "      <td>3</td>\n",
       "      <td>no</td>\n",
       "      <td>Central Chest pain,</td>\n",
       "      <td>A/W M.I</td>\n",
       "      <td>NO</td>\n",
       "      <td>4</td>\n",
       "      <td>130</td>\n",
       "      <td>305</td>\n",
       "      <td>0</td>\n",
       "      <td>0</td>\n",
       "      <td>142</td>\n",
       "      <td>1</td>\n",
       "      <td>1.2</td>\n",
       "      <td>2</td>\n",
       "      <td>0</td>\n",
       "      <td>7</td>\n",
       "      <td>2</td>\n",
       "      <td>1</td>\n",
       "      <td>NO</td>\n",
       "      <td>0</td>\n",
       "      <td>0</td>\n",
       "      <td>15</td>\n",
       "    </tr>\n",
       "    <tr>\n",
       "      <th>2</th>\n",
       "      <td>55</td>\n",
       "      <td>51-60</td>\n",
       "      <td>Female</td>\n",
       "      <td>RURAL</td>\n",
       "      <td>MARRIED</td>\n",
       "      <td>YES</td>\n",
       "      <td>YES</td>\n",
       "      <td>FREE</td>\n",
       "      <td>YES</td>\n",
       "      <td>YES</td>\n",
       "      <td>NO</td>\n",
       "      <td>NO</td>\n",
       "      <td>0</td>\n",
       "      <td>1</td>\n",
       "      <td>YES</td>\n",
       "      <td>NO</td>\n",
       "      <td>100.7</td>\n",
       "      <td>0</td>\n",
       "      <td>146</td>\n",
       "      <td>37.0</td>\n",
       "      <td>1.0</td>\n",
       "      <td>137</td>\n",
       "      <td>4.2</td>\n",
       "      <td>103</td>\n",
       "      <td>149</td>\n",
       "      <td>22</td>\n",
       "      <td>19</td>\n",
       "      <td>7900</td>\n",
       "      <td>4.83</td>\n",
       "      <td>14.1</td>\n",
       "      <td>0.42</td>\n",
       "      <td>87.0</td>\n",
       "      <td>29.0</td>\n",
       "      <td>0.33</td>\n",
       "      <td>183000</td>\n",
       "      <td>0.60</td>\n",
       "      <td>0.33</td>\n",
       "      <td>0.04</td>\n",
       "      <td>3</td>\n",
       "      <td>LV dysfunction</td>\n",
       "      <td>Chest pain,SOB, Cold sweating</td>\n",
       "      <td>AC I/W M.I (RV) RE. M.I</td>\n",
       "      <td>NO</td>\n",
       "      <td>4</td>\n",
       "      <td>180</td>\n",
       "      <td>327</td>\n",
       "      <td>0</td>\n",
       "      <td>1</td>\n",
       "      <td>117</td>\n",
       "      <td>1</td>\n",
       "      <td>3.4</td>\n",
       "      <td>2</td>\n",
       "      <td>0</td>\n",
       "      <td>3</td>\n",
       "      <td>2</td>\n",
       "      <td>1</td>\n",
       "      <td>NO</td>\n",
       "      <td>0</td>\n",
       "      <td>0</td>\n",
       "      <td>6</td>\n",
       "    </tr>\n",
       "    <tr>\n",
       "      <th>3</th>\n",
       "      <td>55</td>\n",
       "      <td>51-60</td>\n",
       "      <td>Female</td>\n",
       "      <td>RURAL</td>\n",
       "      <td>MARRIED</td>\n",
       "      <td>YES</td>\n",
       "      <td>YES</td>\n",
       "      <td>FREE</td>\n",
       "      <td>YES</td>\n",
       "      <td>YES</td>\n",
       "      <td>NO</td>\n",
       "      <td>NO</td>\n",
       "      <td>0</td>\n",
       "      <td>1</td>\n",
       "      <td>YES</td>\n",
       "      <td>NO</td>\n",
       "      <td>160.1</td>\n",
       "      <td>0</td>\n",
       "      <td>146</td>\n",
       "      <td>37.0</td>\n",
       "      <td>1.0</td>\n",
       "      <td>137</td>\n",
       "      <td>4.2</td>\n",
       "      <td>103</td>\n",
       "      <td>149</td>\n",
       "      <td>22</td>\n",
       "      <td>19</td>\n",
       "      <td>7900</td>\n",
       "      <td>4.83</td>\n",
       "      <td>14.1</td>\n",
       "      <td>0.42</td>\n",
       "      <td>87.0</td>\n",
       "      <td>29.0</td>\n",
       "      <td>0.33</td>\n",
       "      <td>183000</td>\n",
       "      <td>0.60</td>\n",
       "      <td>0.33</td>\n",
       "      <td>0.04</td>\n",
       "      <td>3</td>\n",
       "      <td>HTN</td>\n",
       "      <td>CENTRAL Chest pain,</td>\n",
       "      <td>I/W M.I</td>\n",
       "      <td>NO</td>\n",
       "      <td>4</td>\n",
       "      <td>128</td>\n",
       "      <td>205</td>\n",
       "      <td>0</td>\n",
       "      <td>1</td>\n",
       "      <td>130</td>\n",
       "      <td>1</td>\n",
       "      <td>2.0</td>\n",
       "      <td>2</td>\n",
       "      <td>1</td>\n",
       "      <td>7</td>\n",
       "      <td>3</td>\n",
       "      <td>1</td>\n",
       "      <td>NO</td>\n",
       "      <td>0</td>\n",
       "      <td>0</td>\n",
       "      <td>52</td>\n",
       "    </tr>\n",
       "    <tr>\n",
       "      <th>4</th>\n",
       "      <td>56</td>\n",
       "      <td>51-60</td>\n",
       "      <td>Female</td>\n",
       "      <td>RURAL</td>\n",
       "      <td>MARRIED</td>\n",
       "      <td>YES</td>\n",
       "      <td>NO</td>\n",
       "      <td>FREE</td>\n",
       "      <td>YES</td>\n",
       "      <td>YES</td>\n",
       "      <td>NO</td>\n",
       "      <td>NO</td>\n",
       "      <td>0</td>\n",
       "      <td>1</td>\n",
       "      <td>YES</td>\n",
       "      <td>NO</td>\n",
       "      <td>90.6</td>\n",
       "      <td>0</td>\n",
       "      <td>85</td>\n",
       "      <td>78.0</td>\n",
       "      <td>1.2</td>\n",
       "      <td>139</td>\n",
       "      <td>4.5</td>\n",
       "      <td>112</td>\n",
       "      <td>75</td>\n",
       "      <td>18</td>\n",
       "      <td>13</td>\n",
       "      <td>6900</td>\n",
       "      <td>4.41</td>\n",
       "      <td>12.3</td>\n",
       "      <td>0.36</td>\n",
       "      <td>82.0</td>\n",
       "      <td>27.0</td>\n",
       "      <td>0.33</td>\n",
       "      <td>211000</td>\n",
       "      <td>0.71</td>\n",
       "      <td>0.25</td>\n",
       "      <td>0.02</td>\n",
       "      <td>2</td>\n",
       "      <td>no</td>\n",
       "      <td>Chest pain,</td>\n",
       "      <td>A/W M.I</td>\n",
       "      <td>NO</td>\n",
       "      <td>4</td>\n",
       "      <td>200</td>\n",
       "      <td>288</td>\n",
       "      <td>1</td>\n",
       "      <td>2</td>\n",
       "      <td>133</td>\n",
       "      <td>1</td>\n",
       "      <td>4.0</td>\n",
       "      <td>3</td>\n",
       "      <td>2</td>\n",
       "      <td>7</td>\n",
       "      <td>3</td>\n",
       "      <td>1</td>\n",
       "      <td>NO</td>\n",
       "      <td>0</td>\n",
       "      <td>0</td>\n",
       "      <td>34</td>\n",
       "    </tr>\n",
       "  </tbody>\n",
       "</table>\n",
       "</div>"
      ],
      "text/plain": [
       "   Age AgeGroup  Gender Locality Maritalstatus LifeStyle Sleep Category  \\\n",
       "0   45    41-50  Female    RURAL       MARRIED        NO    NO     FREE   \n",
       "1   51    51-60  Female    URBAN       MARRIED        NO    NO     FREE   \n",
       "2   55    51-60  Female    RURAL       MARRIED       YES   YES     FREE   \n",
       "3   55    51-60  Female    RURAL       MARRIED       YES   YES     FREE   \n",
       "4   56    51-60  Female    RURAL       MARRIED       YES    NO     FREE   \n",
       "\n",
       "  Depression Hyperlipi Smoking FamilyHistory  FHistory  Diabetes  HTN  \\\n",
       "0        YES       YES      NO            NO         0         1   NO   \n",
       "1        YES       YES      NO            NO         0         0   NO   \n",
       "2        YES       YES      NO            NO         0         1  YES   \n",
       "3        YES       YES      NO            NO         0         1  YES   \n",
       "4        YES       YES      NO            NO         0         1  YES   \n",
       "\n",
       "  Allergies     BP  Thrombolysis  BGR  BUrea  SCr  SSodium  SPotassium  \\\n",
       "0        NO  100.6             0   84   28.0  0.9      138         3.3   \n",
       "1        NO   90.6             0  135   17.0  0.7      144         4.7   \n",
       "2        NO  100.7             0  146   37.0  1.0      137         4.2   \n",
       "3        NO  160.1             0  146   37.0  1.0      137         4.2   \n",
       "4        NO   90.6             0   85   78.0  1.2      139         4.5   \n",
       "\n",
       "   SChloride  CPK  CKMB  ESR    WBC   RBC  Hemoglobin   PCV   MCV   MCH  MCHC  \\\n",
       "0        107  130    30   11   9900  4.26        11.6  0.34  79.7  27.2  0.34   \n",
       "1        104  163    30   27  15800  5.74        14.5  0.44  78.0  25.0  0.32   \n",
       "2        103  149    22   19   7900  4.83        14.1  0.42  87.0  29.0  0.33   \n",
       "3        103  149    22   19   7900  4.83        14.1  0.42  87.0  29.0  0.33   \n",
       "4        112   75    18   13   6900  4.41        12.3  0.36  82.0  27.0  0.33   \n",
       "\n",
       "   PLATELET_COUNT  NEUTROPHIL  LYMPHO  MONOCYTE  EOSINO          Others  \\\n",
       "0          265000        0.70    0.25      0.03       2              no   \n",
       "1          287000        0.73    0.20      0.04       3              no   \n",
       "2          183000        0.60    0.33      0.04       3  LV dysfunction   \n",
       "3          183000        0.60    0.33      0.04       3             HTN   \n",
       "4          211000        0.71    0.25      0.02       2              no   \n",
       "\n",
       "                              CO                 Diagnosis Hypersensitivity  \\\n",
       "0                    Chest pain,       EXT. ACUTE WALL M.I               NO   \n",
       "1            Central Chest pain,                   A/W M.I               NO   \n",
       "2  Chest pain,SOB, Cold sweating  AC I/W M.I (RV) RE. M.I                NO   \n",
       "3            CENTRAL Chest pain,                   I/W M.I               NO   \n",
       "4                    Chest pain,                   A/W M.I               NO   \n",
       "\n",
       "   cp  trestbps  chol  fbs  restecg  thalach  exang  oldpeak  slope  ca  thal  \\\n",
       "0   4       132   341    1        2      136      1      3.0      2   0     7   \n",
       "1   4       130   305    0        0      142      1      1.2      2   0     7   \n",
       "2   4       180   327    0        1      117      1      3.4      2   0     3   \n",
       "3   4       128   205    0        1      130      1      2.0      2   1     7   \n",
       "4   4       200   288    1        2      133      1      4.0      3   2     7   \n",
       "\n",
       "   num  SK SKReact  Reaction  Mortality  FollowUp  \n",
       "0    2   1      NO         0          0        60  \n",
       "1    2   1      NO         0          0        15  \n",
       "2    2   1      NO         0          0         6  \n",
       "3    3   1      NO         0          0        52  \n",
       "4    3   1      NO         0          0        34  "
      ]
     },
     "execution_count": 119,
     "metadata": {},
     "output_type": "execute_result"
    }
   ],
   "source": [
    "df = pd.read_csv('data/heart_failure_dataset.csv')\n",
    "\n",
    "# column names are strangely formated, let's fix them quick\n",
    "replace_dict = {}\n",
    "\n",
    "for c in df.columns:\n",
    "    if c not in replace_dict.keys():\n",
    "        replace_dict[c] = c.replace(' ', '').replace('.', '')     \n",
    "                                    \n",
    "df = df.rename(columns=replace_dict)\n",
    "df.head(5)"
   ]
  },
  {
   "cell_type": "code",
   "execution_count": 120,
   "id": "f6df1d8c-3720-4916-b4a5-5a81ac81e2c8",
   "metadata": {},
   "outputs": [
    {
     "data": {
      "text/plain": [
       "(368, 60)"
      ]
     },
     "execution_count": 120,
     "metadata": {},
     "output_type": "execute_result"
    }
   ],
   "source": [
    "df.shape"
   ]
  },
  {
   "cell_type": "code",
   "execution_count": 121,
   "id": "54d93053-d647-4aff-9078-84bb3a2c8f54",
   "metadata": {
    "tags": []
   },
   "outputs": [
    {
     "name": "stdout",
     "output_type": "stream",
     "text": [
      "<class 'pandas.core.frame.DataFrame'>\n",
      "RangeIndex: 368 entries, 0 to 367\n",
      "Data columns (total 60 columns):\n",
      " #   Column            Non-Null Count  Dtype  \n",
      "---  ------            --------------  -----  \n",
      " 0   Age               368 non-null    int64  \n",
      " 1   AgeGroup          368 non-null    object \n",
      " 2   Gender            368 non-null    object \n",
      " 3   Locality          368 non-null    object \n",
      " 4   Maritalstatus     368 non-null    object \n",
      " 5   LifeStyle         368 non-null    object \n",
      " 6   Sleep             368 non-null    object \n",
      " 7   Category          368 non-null    object \n",
      " 8   Depression        368 non-null    object \n",
      " 9   Hyperlipi         368 non-null    object \n",
      " 10  Smoking           368 non-null    object \n",
      " 11  FamilyHistory     368 non-null    object \n",
      " 12  FHistory          368 non-null    int64  \n",
      " 13  Diabetes          368 non-null    int64  \n",
      " 14  HTN               368 non-null    object \n",
      " 15  Allergies         368 non-null    object \n",
      " 16  BP                368 non-null    float64\n",
      " 17  Thrombolysis      368 non-null    int64  \n",
      " 18  BGR               368 non-null    int64  \n",
      " 19  BUrea             368 non-null    float64\n",
      " 20  SCr               368 non-null    float64\n",
      " 21  SSodium           368 non-null    int64  \n",
      " 22  SPotassium        368 non-null    float64\n",
      " 23  SChloride         368 non-null    int64  \n",
      " 24  CPK               368 non-null    int64  \n",
      " 25  CKMB              368 non-null    int64  \n",
      " 26  ESR               368 non-null    int64  \n",
      " 27  WBC               368 non-null    int64  \n",
      " 28  RBC               368 non-null    float64\n",
      " 29  Hemoglobin        368 non-null    float64\n",
      " 30  PCV               368 non-null    float64\n",
      " 31  MCV               368 non-null    float64\n",
      " 32  MCH               368 non-null    float64\n",
      " 33  MCHC              368 non-null    float64\n",
      " 34  PLATELET_COUNT    368 non-null    int64  \n",
      " 35  NEUTROPHIL        368 non-null    float64\n",
      " 36  LYMPHO            368 non-null    float64\n",
      " 37  MONOCYTE          368 non-null    float64\n",
      " 38  EOSINO            368 non-null    int64  \n",
      " 39  Others            368 non-null    object \n",
      " 40  CO                368 non-null    object \n",
      " 41  Diagnosis         368 non-null    object \n",
      " 42  Hypersensitivity  368 non-null    object \n",
      " 43  cp                368 non-null    int64  \n",
      " 44  trestbps          368 non-null    int64  \n",
      " 45  chol              368 non-null    int64  \n",
      " 46  fbs               368 non-null    int64  \n",
      " 47  restecg           368 non-null    int64  \n",
      " 48  thalach           368 non-null    int64  \n",
      " 49  exang             368 non-null    int64  \n",
      " 50  oldpeak           368 non-null    float64\n",
      " 51  slope             368 non-null    int64  \n",
      " 52  ca                368 non-null    int64  \n",
      " 53  thal              368 non-null    int64  \n",
      " 54  num               368 non-null    int64  \n",
      " 55  SK                368 non-null    int64  \n",
      " 56  SKReact           368 non-null    object \n",
      " 57  Reaction          368 non-null    int64  \n",
      " 58  Mortality         368 non-null    int64  \n",
      " 59  FollowUp          368 non-null    int64  \n",
      "dtypes: float64(14), int64(28), object(18)\n",
      "memory usage: 172.6+ KB\n"
     ]
    }
   ],
   "source": [
    "df.info()"
   ]
  },
  {
   "cell_type": "code",
   "execution_count": 122,
   "id": "3644c707-0685-40ef-a25f-908aa3bc22b5",
   "metadata": {},
   "outputs": [
    {
     "data": {
      "text/plain": [
       "0"
      ]
     },
     "execution_count": 122,
     "metadata": {},
     "output_type": "execute_result"
    }
   ],
   "source": [
    "df.isna().sum().sum() # there are no NaN values in the dataset"
   ]
  },
  {
   "cell_type": "code",
   "execution_count": 123,
   "id": "669af523-47dd-47e0-aaf6-f509e6763bb6",
   "metadata": {},
   "outputs": [],
   "source": [
    "# FamilyHistory is the same as FHistory, just not encoded, let's drop it\n",
    "df = df.drop('FamilyHistory', axis=1)"
   ]
  },
  {
   "cell_type": "code",
   "execution_count": 124,
   "id": "a96dd3ce-baf4-4c85-930a-27f427c9167e",
   "metadata": {},
   "outputs": [
    {
     "data": {
      "text/plain": [
       "214"
      ]
     },
     "execution_count": 124,
     "metadata": {},
     "output_type": "execute_result"
    }
   ],
   "source": [
    "df.duplicated().sum() # seems there is a lot of duplicates"
   ]
  },
  {
   "cell_type": "code",
   "execution_count": 125,
   "id": "235cf2b4-b8f0-4ae9-9cc2-20396c5f8349",
   "metadata": {},
   "outputs": [
    {
     "data": {
      "text/plain": [
       "0    78.26087\n",
       "1    21.73913\n",
       "Name: Mortality, dtype: float64"
      ]
     },
     "execution_count": 125,
     "metadata": {},
     "output_type": "execute_result"
    }
   ],
   "source": [
    "mortality_percentage = df['Mortality'].value_counts(normalize=True) * 100\n",
    "mortality_percentage"
   ]
  },
  {
   "cell_type": "markdown",
   "id": "35f17aeb-a351-452a-820a-d4b0ffa42345",
   "metadata": {},
   "source": [
    "Upon further inspection of the dataset, majority of rows are duplicated, which is unfortunate, as this dataset it pretty small.\n",
    "\n",
    "The differences between the statistics of the dataset with and without the duplicates are similar, and with the duplicates the percentage of patients, who survided the heart failure is larger - this makes the data less unbalanced. \n",
    "\n",
    "For the modeling, we will use the dataset with the duplicates, since most of the data is distibuted the same, however for hypothesis testing we will only compare the dataset without the duplicates, so that these will not affect the differences."
   ]
  },
  {
   "cell_type": "code",
   "execution_count": 126,
   "id": "87c981f0-20ed-4594-ac57-5aef4ef373ec",
   "metadata": {},
   "outputs": [],
   "source": [
    "# let's create a copy - a clear dataset\n",
    "df_c = df.copy()\n",
    "df_c = df_c.drop_duplicates()"
   ]
  },
  {
   "cell_type": "code",
   "execution_count": 127,
   "id": "30b287db-165f-46da-ba0b-3fd8a14fe1e7",
   "metadata": {},
   "outputs": [
    {
     "data": {
      "text/plain": [
       "0    82.467532\n",
       "1    17.532468\n",
       "Name: Mortality, dtype: float64"
      ]
     },
     "execution_count": 127,
     "metadata": {},
     "output_type": "execute_result"
    }
   ],
   "source": [
    "# let's check the mortality rate in clean dataset\n",
    "mortality_percentage_c = df_c['Mortality'].value_counts(normalize=True) * 100\n",
    "mortality_percentage_c"
   ]
  },
  {
   "cell_type": "code",
   "execution_count": 128,
   "id": "03f5f761-89e4-4dc0-bb0f-493d5f897b33",
   "metadata": {},
   "outputs": [
    {
     "data": {
      "text/html": [
       "<div>\n",
       "<style scoped>\n",
       "    .dataframe tbody tr th:only-of-type {\n",
       "        vertical-align: middle;\n",
       "    }\n",
       "\n",
       "    .dataframe tbody tr th {\n",
       "        vertical-align: top;\n",
       "    }\n",
       "\n",
       "    .dataframe thead th {\n",
       "        text-align: right;\n",
       "    }\n",
       "</style>\n",
       "<table border=\"1\" class=\"dataframe\">\n",
       "  <thead>\n",
       "    <tr style=\"text-align: right;\">\n",
       "      <th></th>\n",
       "      <th>Age</th>\n",
       "      <th>FHistory</th>\n",
       "      <th>Diabetes</th>\n",
       "      <th>BP</th>\n",
       "      <th>Thrombolysis</th>\n",
       "      <th>BGR</th>\n",
       "      <th>BUrea</th>\n",
       "      <th>SCr</th>\n",
       "      <th>SSodium</th>\n",
       "      <th>SPotassium</th>\n",
       "      <th>SChloride</th>\n",
       "      <th>CPK</th>\n",
       "      <th>CKMB</th>\n",
       "      <th>ESR</th>\n",
       "      <th>WBC</th>\n",
       "      <th>RBC</th>\n",
       "      <th>Hemoglobin</th>\n",
       "      <th>PCV</th>\n",
       "      <th>MCV</th>\n",
       "      <th>MCH</th>\n",
       "      <th>MCHC</th>\n",
       "      <th>PLATELET_COUNT</th>\n",
       "      <th>NEUTROPHIL</th>\n",
       "      <th>LYMPHO</th>\n",
       "      <th>MONOCYTE</th>\n",
       "      <th>EOSINO</th>\n",
       "      <th>cp</th>\n",
       "      <th>trestbps</th>\n",
       "      <th>chol</th>\n",
       "      <th>fbs</th>\n",
       "      <th>restecg</th>\n",
       "      <th>thalach</th>\n",
       "      <th>exang</th>\n",
       "      <th>oldpeak</th>\n",
       "      <th>slope</th>\n",
       "      <th>ca</th>\n",
       "      <th>thal</th>\n",
       "      <th>num</th>\n",
       "      <th>SK</th>\n",
       "      <th>Reaction</th>\n",
       "      <th>Mortality</th>\n",
       "      <th>FollowUp</th>\n",
       "    </tr>\n",
       "  </thead>\n",
       "  <tbody>\n",
       "    <tr>\n",
       "      <th>count</th>\n",
       "      <td>154.000000</td>\n",
       "      <td>154.000000</td>\n",
       "      <td>154.000000</td>\n",
       "      <td>154.000000</td>\n",
       "      <td>154.000000</td>\n",
       "      <td>154.000000</td>\n",
       "      <td>154.000000</td>\n",
       "      <td>154.000000</td>\n",
       "      <td>154.000000</td>\n",
       "      <td>154.000000</td>\n",
       "      <td>154.000000</td>\n",
       "      <td>154.000000</td>\n",
       "      <td>154.000000</td>\n",
       "      <td>154.000000</td>\n",
       "      <td>154.000000</td>\n",
       "      <td>154.000000</td>\n",
       "      <td>154.000000</td>\n",
       "      <td>154.000000</td>\n",
       "      <td>154.000000</td>\n",
       "      <td>154.000000</td>\n",
       "      <td>154.000000</td>\n",
       "      <td>154.000000</td>\n",
       "      <td>154.000000</td>\n",
       "      <td>154.000000</td>\n",
       "      <td>154.000000</td>\n",
       "      <td>154.000000</td>\n",
       "      <td>154.000000</td>\n",
       "      <td>154.000000</td>\n",
       "      <td>154.000000</td>\n",
       "      <td>154.000000</td>\n",
       "      <td>154.000000</td>\n",
       "      <td>154.000000</td>\n",
       "      <td>154.000000</td>\n",
       "      <td>154.000000</td>\n",
       "      <td>154.000000</td>\n",
       "      <td>154.000000</td>\n",
       "      <td>154.000000</td>\n",
       "      <td>154.000000</td>\n",
       "      <td>154.000000</td>\n",
       "      <td>154.000000</td>\n",
       "      <td>154.000000</td>\n",
       "      <td>154.000000</td>\n",
       "    </tr>\n",
       "    <tr>\n",
       "      <th>mean</th>\n",
       "      <td>55.772727</td>\n",
       "      <td>0.194805</td>\n",
       "      <td>0.409091</td>\n",
       "      <td>118.165779</td>\n",
       "      <td>0.051948</td>\n",
       "      <td>227.948052</td>\n",
       "      <td>47.135714</td>\n",
       "      <td>1.490000</td>\n",
       "      <td>137.987013</td>\n",
       "      <td>4.194805</td>\n",
       "      <td>103.461039</td>\n",
       "      <td>637.694805</td>\n",
       "      <td>69.396104</td>\n",
       "      <td>25.720779</td>\n",
       "      <td>11171.363636</td>\n",
       "      <td>5.115325</td>\n",
       "      <td>13.840260</td>\n",
       "      <td>0.417208</td>\n",
       "      <td>81.033766</td>\n",
       "      <td>27.059740</td>\n",
       "      <td>0.326753</td>\n",
       "      <td>245792.207792</td>\n",
       "      <td>2.294286</td>\n",
       "      <td>0.249026</td>\n",
       "      <td>0.033117</td>\n",
       "      <td>2.214286</td>\n",
       "      <td>3.590909</td>\n",
       "      <td>133.396104</td>\n",
       "      <td>249.448052</td>\n",
       "      <td>0.149351</td>\n",
       "      <td>1.162338</td>\n",
       "      <td>139.993506</td>\n",
       "      <td>0.551948</td>\n",
       "      <td>1.531169</td>\n",
       "      <td>1.818182</td>\n",
       "      <td>1.051948</td>\n",
       "      <td>5.896104</td>\n",
       "      <td>2.032468</td>\n",
       "      <td>0.974026</td>\n",
       "      <td>0.759740</td>\n",
       "      <td>0.175325</td>\n",
       "      <td>28.902597</td>\n",
       "    </tr>\n",
       "    <tr>\n",
       "      <th>std</th>\n",
       "      <td>9.036978</td>\n",
       "      <td>0.397343</td>\n",
       "      <td>0.493270</td>\n",
       "      <td>23.459274</td>\n",
       "      <td>0.222646</td>\n",
       "      <td>141.137804</td>\n",
       "      <td>54.496293</td>\n",
       "      <td>3.079576</td>\n",
       "      <td>3.993437</td>\n",
       "      <td>0.369559</td>\n",
       "      <td>4.628885</td>\n",
       "      <td>1085.768192</td>\n",
       "      <td>100.175233</td>\n",
       "      <td>28.377358</td>\n",
       "      <td>3360.261441</td>\n",
       "      <td>0.775705</td>\n",
       "      <td>2.162319</td>\n",
       "      <td>0.065744</td>\n",
       "      <td>7.304875</td>\n",
       "      <td>3.330735</td>\n",
       "      <td>0.027839</td>\n",
       "      <td>78208.509251</td>\n",
       "      <td>11.413506</td>\n",
       "      <td>0.117366</td>\n",
       "      <td>0.015946</td>\n",
       "      <td>0.877938</td>\n",
       "      <td>0.844928</td>\n",
       "      <td>18.592788</td>\n",
       "      <td>49.913133</td>\n",
       "      <td>0.357597</td>\n",
       "      <td>0.980001</td>\n",
       "      <td>22.523915</td>\n",
       "      <td>0.498917</td>\n",
       "      <td>1.300403</td>\n",
       "      <td>0.565391</td>\n",
       "      <td>1.027671</td>\n",
       "      <td>1.715629</td>\n",
       "      <td>1.012464</td>\n",
       "      <td>0.159577</td>\n",
       "      <td>0.428635</td>\n",
       "      <td>0.381485</td>\n",
       "      <td>16.567457</td>\n",
       "    </tr>\n",
       "    <tr>\n",
       "      <th>min</th>\n",
       "      <td>24.000000</td>\n",
       "      <td>0.000000</td>\n",
       "      <td>0.000000</td>\n",
       "      <td>80.500000</td>\n",
       "      <td>0.000000</td>\n",
       "      <td>60.000000</td>\n",
       "      <td>2.300000</td>\n",
       "      <td>0.600000</td>\n",
       "      <td>129.000000</td>\n",
       "      <td>3.300000</td>\n",
       "      <td>90.000000</td>\n",
       "      <td>52.000000</td>\n",
       "      <td>14.000000</td>\n",
       "      <td>5.000000</td>\n",
       "      <td>5800.000000</td>\n",
       "      <td>3.460000</td>\n",
       "      <td>9.100000</td>\n",
       "      <td>0.290000</td>\n",
       "      <td>60.000000</td>\n",
       "      <td>18.000000</td>\n",
       "      <td>0.220000</td>\n",
       "      <td>20000.000000</td>\n",
       "      <td>0.360000</td>\n",
       "      <td>0.050000</td>\n",
       "      <td>0.010000</td>\n",
       "      <td>1.000000</td>\n",
       "      <td>1.000000</td>\n",
       "      <td>100.000000</td>\n",
       "      <td>131.000000</td>\n",
       "      <td>0.000000</td>\n",
       "      <td>0.000000</td>\n",
       "      <td>71.000000</td>\n",
       "      <td>0.000000</td>\n",
       "      <td>0.000000</td>\n",
       "      <td>1.000000</td>\n",
       "      <td>0.000000</td>\n",
       "      <td>3.000000</td>\n",
       "      <td>1.000000</td>\n",
       "      <td>0.000000</td>\n",
       "      <td>0.000000</td>\n",
       "      <td>0.000000</td>\n",
       "      <td>1.000000</td>\n",
       "    </tr>\n",
       "    <tr>\n",
       "      <th>25%</th>\n",
       "      <td>52.000000</td>\n",
       "      <td>0.000000</td>\n",
       "      <td>0.000000</td>\n",
       "      <td>100.625000</td>\n",
       "      <td>0.000000</td>\n",
       "      <td>127.000000</td>\n",
       "      <td>28.000000</td>\n",
       "      <td>0.800000</td>\n",
       "      <td>135.000000</td>\n",
       "      <td>3.900000</td>\n",
       "      <td>100.000000</td>\n",
       "      <td>131.250000</td>\n",
       "      <td>22.000000</td>\n",
       "      <td>11.000000</td>\n",
       "      <td>7900.000000</td>\n",
       "      <td>4.410000</td>\n",
       "      <td>12.300000</td>\n",
       "      <td>0.360000</td>\n",
       "      <td>78.000000</td>\n",
       "      <td>25.000000</td>\n",
       "      <td>0.320000</td>\n",
       "      <td>187000.000000</td>\n",
       "      <td>0.600000</td>\n",
       "      <td>0.170000</td>\n",
       "      <td>0.020000</td>\n",
       "      <td>2.000000</td>\n",
       "      <td>4.000000</td>\n",
       "      <td>120.000000</td>\n",
       "      <td>213.000000</td>\n",
       "      <td>0.000000</td>\n",
       "      <td>0.000000</td>\n",
       "      <td>125.000000</td>\n",
       "      <td>0.000000</td>\n",
       "      <td>0.225000</td>\n",
       "      <td>1.000000</td>\n",
       "      <td>0.000000</td>\n",
       "      <td>3.750000</td>\n",
       "      <td>1.000000</td>\n",
       "      <td>1.000000</td>\n",
       "      <td>1.000000</td>\n",
       "      <td>0.000000</td>\n",
       "      <td>15.000000</td>\n",
       "    </tr>\n",
       "    <tr>\n",
       "      <th>50%</th>\n",
       "      <td>57.000000</td>\n",
       "      <td>0.000000</td>\n",
       "      <td>0.000000</td>\n",
       "      <td>120.700000</td>\n",
       "      <td>0.000000</td>\n",
       "      <td>165.000000</td>\n",
       "      <td>35.500000</td>\n",
       "      <td>0.900000</td>\n",
       "      <td>138.000000</td>\n",
       "      <td>4.200000</td>\n",
       "      <td>104.000000</td>\n",
       "      <td>192.000000</td>\n",
       "      <td>39.000000</td>\n",
       "      <td>16.000000</td>\n",
       "      <td>10400.000000</td>\n",
       "      <td>5.230000</td>\n",
       "      <td>14.100000</td>\n",
       "      <td>0.420000</td>\n",
       "      <td>82.100000</td>\n",
       "      <td>27.800000</td>\n",
       "      <td>0.330000</td>\n",
       "      <td>237000.000000</td>\n",
       "      <td>0.720000</td>\n",
       "      <td>0.210000</td>\n",
       "      <td>0.030000</td>\n",
       "      <td>2.000000</td>\n",
       "      <td>4.000000</td>\n",
       "      <td>130.000000</td>\n",
       "      <td>248.500000</td>\n",
       "      <td>0.000000</td>\n",
       "      <td>2.000000</td>\n",
       "      <td>142.000000</td>\n",
       "      <td>1.000000</td>\n",
       "      <td>1.400000</td>\n",
       "      <td>2.000000</td>\n",
       "      <td>1.000000</td>\n",
       "      <td>7.000000</td>\n",
       "      <td>2.000000</td>\n",
       "      <td>1.000000</td>\n",
       "      <td>1.000000</td>\n",
       "      <td>0.000000</td>\n",
       "      <td>32.000000</td>\n",
       "    </tr>\n",
       "    <tr>\n",
       "      <th>75%</th>\n",
       "      <td>61.000000</td>\n",
       "      <td>0.000000</td>\n",
       "      <td>1.000000</td>\n",
       "      <td>130.800000</td>\n",
       "      <td>0.000000</td>\n",
       "      <td>320.000000</td>\n",
       "      <td>42.000000</td>\n",
       "      <td>1.080000</td>\n",
       "      <td>140.750000</td>\n",
       "      <td>4.400000</td>\n",
       "      <td>106.000000</td>\n",
       "      <td>446.000000</td>\n",
       "      <td>52.000000</td>\n",
       "      <td>27.000000</td>\n",
       "      <td>13800.000000</td>\n",
       "      <td>5.650000</td>\n",
       "      <td>15.500000</td>\n",
       "      <td>0.460000</td>\n",
       "      <td>86.000000</td>\n",
       "      <td>29.000000</td>\n",
       "      <td>0.340000</td>\n",
       "      <td>284000.000000</td>\n",
       "      <td>0.797500</td>\n",
       "      <td>0.320000</td>\n",
       "      <td>0.040000</td>\n",
       "      <td>3.000000</td>\n",
       "      <td>4.000000</td>\n",
       "      <td>143.500000</td>\n",
       "      <td>283.000000</td>\n",
       "      <td>0.000000</td>\n",
       "      <td>2.000000</td>\n",
       "      <td>156.750000</td>\n",
       "      <td>1.000000</td>\n",
       "      <td>2.475000</td>\n",
       "      <td>2.000000</td>\n",
       "      <td>2.000000</td>\n",
       "      <td>7.000000</td>\n",
       "      <td>3.000000</td>\n",
       "      <td>1.000000</td>\n",
       "      <td>1.000000</td>\n",
       "      <td>0.000000</td>\n",
       "      <td>36.000000</td>\n",
       "    </tr>\n",
       "    <tr>\n",
       "      <th>max</th>\n",
       "      <td>77.000000</td>\n",
       "      <td>1.000000</td>\n",
       "      <td>1.000000</td>\n",
       "      <td>190.110000</td>\n",
       "      <td>1.000000</td>\n",
       "      <td>563.000000</td>\n",
       "      <td>394.000000</td>\n",
       "      <td>22.900000</td>\n",
       "      <td>146.000000</td>\n",
       "      <td>5.300000</td>\n",
       "      <td>112.000000</td>\n",
       "      <td>4289.000000</td>\n",
       "      <td>505.000000</td>\n",
       "      <td>154.000000</td>\n",
       "      <td>19590.000000</td>\n",
       "      <td>6.980000</td>\n",
       "      <td>18.000000</td>\n",
       "      <td>0.540000</td>\n",
       "      <td>96.000000</td>\n",
       "      <td>33.000000</td>\n",
       "      <td>0.390000</td>\n",
       "      <td>459000.000000</td>\n",
       "      <td>83.000000</td>\n",
       "      <td>0.540000</td>\n",
       "      <td>0.080000</td>\n",
       "      <td>5.000000</td>\n",
       "      <td>4.000000</td>\n",
       "      <td>200.000000</td>\n",
       "      <td>409.000000</td>\n",
       "      <td>1.000000</td>\n",
       "      <td>2.000000</td>\n",
       "      <td>195.000000</td>\n",
       "      <td>1.000000</td>\n",
       "      <td>6.200000</td>\n",
       "      <td>3.000000</td>\n",
       "      <td>3.000000</td>\n",
       "      <td>7.000000</td>\n",
       "      <td>4.000000</td>\n",
       "      <td>1.000000</td>\n",
       "      <td>1.000000</td>\n",
       "      <td>1.000000</td>\n",
       "      <td>60.000000</td>\n",
       "    </tr>\n",
       "  </tbody>\n",
       "</table>\n",
       "</div>"
      ],
      "text/plain": [
       "              Age    FHistory    Diabetes          BP  Thrombolysis  \\\n",
       "count  154.000000  154.000000  154.000000  154.000000    154.000000   \n",
       "mean    55.772727    0.194805    0.409091  118.165779      0.051948   \n",
       "std      9.036978    0.397343    0.493270   23.459274      0.222646   \n",
       "min     24.000000    0.000000    0.000000   80.500000      0.000000   \n",
       "25%     52.000000    0.000000    0.000000  100.625000      0.000000   \n",
       "50%     57.000000    0.000000    0.000000  120.700000      0.000000   \n",
       "75%     61.000000    0.000000    1.000000  130.800000      0.000000   \n",
       "max     77.000000    1.000000    1.000000  190.110000      1.000000   \n",
       "\n",
       "              BGR       BUrea         SCr     SSodium  SPotassium   SChloride  \\\n",
       "count  154.000000  154.000000  154.000000  154.000000  154.000000  154.000000   \n",
       "mean   227.948052   47.135714    1.490000  137.987013    4.194805  103.461039   \n",
       "std    141.137804   54.496293    3.079576    3.993437    0.369559    4.628885   \n",
       "min     60.000000    2.300000    0.600000  129.000000    3.300000   90.000000   \n",
       "25%    127.000000   28.000000    0.800000  135.000000    3.900000  100.000000   \n",
       "50%    165.000000   35.500000    0.900000  138.000000    4.200000  104.000000   \n",
       "75%    320.000000   42.000000    1.080000  140.750000    4.400000  106.000000   \n",
       "max    563.000000  394.000000   22.900000  146.000000    5.300000  112.000000   \n",
       "\n",
       "               CPK        CKMB         ESR           WBC         RBC  \\\n",
       "count   154.000000  154.000000  154.000000    154.000000  154.000000   \n",
       "mean    637.694805   69.396104   25.720779  11171.363636    5.115325   \n",
       "std    1085.768192  100.175233   28.377358   3360.261441    0.775705   \n",
       "min      52.000000   14.000000    5.000000   5800.000000    3.460000   \n",
       "25%     131.250000   22.000000   11.000000   7900.000000    4.410000   \n",
       "50%     192.000000   39.000000   16.000000  10400.000000    5.230000   \n",
       "75%     446.000000   52.000000   27.000000  13800.000000    5.650000   \n",
       "max    4289.000000  505.000000  154.000000  19590.000000    6.980000   \n",
       "\n",
       "       Hemoglobin         PCV         MCV         MCH        MCHC  \\\n",
       "count  154.000000  154.000000  154.000000  154.000000  154.000000   \n",
       "mean    13.840260    0.417208   81.033766   27.059740    0.326753   \n",
       "std      2.162319    0.065744    7.304875    3.330735    0.027839   \n",
       "min      9.100000    0.290000   60.000000   18.000000    0.220000   \n",
       "25%     12.300000    0.360000   78.000000   25.000000    0.320000   \n",
       "50%     14.100000    0.420000   82.100000   27.800000    0.330000   \n",
       "75%     15.500000    0.460000   86.000000   29.000000    0.340000   \n",
       "max     18.000000    0.540000   96.000000   33.000000    0.390000   \n",
       "\n",
       "       PLATELET_COUNT  NEUTROPHIL      LYMPHO    MONOCYTE      EOSINO  \\\n",
       "count      154.000000  154.000000  154.000000  154.000000  154.000000   \n",
       "mean    245792.207792    2.294286    0.249026    0.033117    2.214286   \n",
       "std      78208.509251   11.413506    0.117366    0.015946    0.877938   \n",
       "min      20000.000000    0.360000    0.050000    0.010000    1.000000   \n",
       "25%     187000.000000    0.600000    0.170000    0.020000    2.000000   \n",
       "50%     237000.000000    0.720000    0.210000    0.030000    2.000000   \n",
       "75%     284000.000000    0.797500    0.320000    0.040000    3.000000   \n",
       "max     459000.000000   83.000000    0.540000    0.080000    5.000000   \n",
       "\n",
       "               cp    trestbps        chol         fbs     restecg     thalach  \\\n",
       "count  154.000000  154.000000  154.000000  154.000000  154.000000  154.000000   \n",
       "mean     3.590909  133.396104  249.448052    0.149351    1.162338  139.993506   \n",
       "std      0.844928   18.592788   49.913133    0.357597    0.980001   22.523915   \n",
       "min      1.000000  100.000000  131.000000    0.000000    0.000000   71.000000   \n",
       "25%      4.000000  120.000000  213.000000    0.000000    0.000000  125.000000   \n",
       "50%      4.000000  130.000000  248.500000    0.000000    2.000000  142.000000   \n",
       "75%      4.000000  143.500000  283.000000    0.000000    2.000000  156.750000   \n",
       "max      4.000000  200.000000  409.000000    1.000000    2.000000  195.000000   \n",
       "\n",
       "            exang     oldpeak       slope          ca        thal         num  \\\n",
       "count  154.000000  154.000000  154.000000  154.000000  154.000000  154.000000   \n",
       "mean     0.551948    1.531169    1.818182    1.051948    5.896104    2.032468   \n",
       "std      0.498917    1.300403    0.565391    1.027671    1.715629    1.012464   \n",
       "min      0.000000    0.000000    1.000000    0.000000    3.000000    1.000000   \n",
       "25%      0.000000    0.225000    1.000000    0.000000    3.750000    1.000000   \n",
       "50%      1.000000    1.400000    2.000000    1.000000    7.000000    2.000000   \n",
       "75%      1.000000    2.475000    2.000000    2.000000    7.000000    3.000000   \n",
       "max      1.000000    6.200000    3.000000    3.000000    7.000000    4.000000   \n",
       "\n",
       "               SK    Reaction   Mortality    FollowUp  \n",
       "count  154.000000  154.000000  154.000000  154.000000  \n",
       "mean     0.974026    0.759740    0.175325   28.902597  \n",
       "std      0.159577    0.428635    0.381485   16.567457  \n",
       "min      0.000000    0.000000    0.000000    1.000000  \n",
       "25%      1.000000    1.000000    0.000000   15.000000  \n",
       "50%      1.000000    1.000000    0.000000   32.000000  \n",
       "75%      1.000000    1.000000    0.000000   36.000000  \n",
       "max      1.000000    1.000000    1.000000   60.000000  "
      ]
     },
     "execution_count": 128,
     "metadata": {},
     "output_type": "execute_result"
    }
   ],
   "source": [
    "df_c.describe() # now that duplicates are gone, let's see how our data looks"
   ]
  },
  {
   "cell_type": "code",
   "execution_count": 129,
   "id": "86dbb7ab-ebe0-4486-a67b-c640384bf9df",
   "metadata": {},
   "outputs": [],
   "source": [
    "def outliers(dataframe, column):\n",
    "    outliers = []\n",
    "    q1 = np.percentile(sorted(dataframe[column]), 25)\n",
    "    q3 = np.percentile(sorted(dataframe[column]), 75)\n",
    "    IQR = q3 - q1\n",
    "    lwr_bound = q1 - (1.5 * IQR)\n",
    "    upr_bound = q3 + (1.5 * IQR)\n",
    "    for i in sorted(dataframe[column]): \n",
    "        if (i < lwr_bound or i > upr_bound):\n",
    "            outliers.append(i)\n",
    "    return outliers, lwr_bound, upr_bound"
   ]
  },
  {
   "cell_type": "code",
   "execution_count": 130,
   "id": "6a68faea-18e3-4a5b-8175-98ee56103f1d",
   "metadata": {},
   "outputs": [
    {
     "name": "stdout",
     "output_type": "stream",
     "text": [
      "dict_keys(['Age', 'FHistory', 'BP', 'Thrombolysis', 'BUrea', 'SCr', 'SPotassium', 'SChloride', 'CPK', 'CKMB', 'ESR', 'MCV', 'MCH', 'MCHC', 'PLATELET_COUNT', 'NEUTROPHIL', 'MONOCYTE', 'EOSINO', 'cp', 'trestbps', 'chol', 'fbs', 'thalach', 'oldpeak', 'SK', 'Reaction', 'Mortality'])\n"
     ]
    }
   ],
   "source": [
    "# let's see how do the outliers look\n",
    "numeric_columns = df_c.select_dtypes(include=['int64', 'float64']).columns.tolist()\n",
    "outlier_dict = {}\n",
    "\n",
    "for c in numeric_columns:\n",
    "    empty = []\n",
    "    outlier = outliers(df_c, c)[0]\n",
    "    if outlier != empty:\n",
    "        outlier_dict[c] = outliers(df, c), len(outliers(df, c)[0])\n",
    "        \n",
    "print(outlier_dict.keys())"
   ]
  },
  {
   "cell_type": "markdown",
   "id": "605c6923-4650-4d26-bc63-649e00a0ec87",
   "metadata": {},
   "source": [
    "It seems there is a bit of outliers, but this should be examined by a medical professional.\n",
    "In my unprofessional opinion with help from google, all of those should slide, since these are possible to be observed. Some of these, especially really high or really low values might be correlated with the mortality of the heart failure. Also in some cases, like Mortality, majority of the results is `0`, which suggest the death of the patients, therefore any that are `1`, in other words alive, are the outliers.\n",
    "## Hypothesis testing\n",
    "Before we move on with hypothesis testing, it's best to clean up some of the columns in the dataset, so that the messiness does not affect the outcome."
   ]
  },
  {
   "cell_type": "code",
   "execution_count": 131,
   "id": "5eadd2ae-b814-454d-9de6-c30693d07e76",
   "metadata": {},
   "outputs": [
    {
     "name": "stderr",
     "output_type": "stream",
     "text": [
      "/var/folders/71/prqs97ps2_lg_s37pr_lsd1h0000gn/T/ipykernel_8025/1651634485.py:3: FutureWarning: The default value of regex will change from True to False in a future version.\n",
      "  .str.replace(r'central|chest pain,|day|to|hr|for|from|chest pain', '') \\\n"
     ]
    }
   ],
   "source": [
    "# Feature CO is very messy and all of the patients experience chest pain, so it can be removed\n",
    "df_c['CO'] = df_c['CO'].str.lower() \\\n",
    "                   .str.replace(r'central|chest pain,|day|to|hr|for|from|chest pain', '') \\\n",
    "                   .str.strip()\n",
    "\n",
    "# and filling in the empty spaces\n",
    "df_c['CO'].replace('', 'none', inplace=True)"
   ]
  },
  {
   "cell_type": "code",
   "execution_count": 132,
   "id": "b338c89f-2f1f-4bfb-b484-5af21aa04cc0",
   "metadata": {},
   "outputs": [],
   "source": [
    "# others column is also messy and requires clean up\n",
    "df_c['Others'] = df_c['Others'].replace(r',\\s*|,', ', ', regex=True)"
   ]
  },
  {
   "cell_type": "markdown",
   "id": "48ff97d6-c2ac-4eb7-995c-c171e8fbc2a2",
   "metadata": {},
   "source": [
    "When it comes to `Diagnosis`, I do not understand a letter in here. \n",
    "At work, I would ask someone with medical background to group these. Since I am doing this alone, I asked ChatGPT to group these and it distinuished a 5 types:\n",
    "- myocardial infarctions (MI)\n",
    "- NSTEMI (Atypical ST elevation during infarction)\n",
    "- STEMI (ST elevation during infarction)\n",
    "- other types of heart attacks\n",
    "- other diagnosis (not cardiac arrest)  \n",
    "\n",
    "Most of these are cardiac arrests, but in medical aspects are slighly different. "
   ]
  },
  {
   "cell_type": "code",
   "execution_count": 133,
   "id": "5a8e064f-a9f1-4409-ae5c-44e626d0ca4a",
   "metadata": {},
   "outputs": [],
   "source": [
    "# Let's group it\n",
    "for diagnosis in df_c['Diagnosis'].unique():\n",
    "    if \"M.I\" in diagnosis or \"ACUTE\" in diagnosis:\n",
    "        # myocardial infarctions (MI)\n",
    "        df.loc[df['Diagnosis'] == diagnosis, 'Diagnosis'] = 'MI'\n",
    "    elif \"NSTEMI\" in diagnosis:\n",
    "        # NSTEMI (Atypical ST elevation during infarction)\n",
    "        df.loc[df['Diagnosis'] == diagnosis, 'Diagnosis'] = 'NSTEMI'\n",
    "    elif \"STEMI\" in diagnosis:\n",
    "        # STEMI (ST elevation during infarction)\n",
    "        df.loc[df['Diagnosis'] == diagnosis, 'Diagnosis'] = 'STEMI'\n",
    "    elif \"CARDIOGENIC\" in diagnosis or \"MR\" in diagnosis or \"LBBB\" in diagnosis:\n",
    "        # other diagnosis (not cardiac arrest)\n",
    "        df.loc[df['Diagnosis'] == diagnosis, 'Diagnosis'] = 'OTHER'\n",
    "    else:\n",
    "        # other types of heart attacks\n",
    "        df.loc[df['Diagnosis'] == diagnosis, 'Diagnosis'] = 'OTHER MI'"
   ]
  },
  {
   "cell_type": "markdown",
   "id": "6ee73946-54eb-44e7-be7e-aeb0205ad84b",
   "metadata": {},
   "source": [
    "### Defining the hipothesis\n",
    "In this study, I will compare each column, one by one with Mortality, to determine, which of the data could give us more insight, on what really differenciates the individuals who survived their heart failure from those who did not. \n",
    "\n",
    "To begin, let's state our hipothesis:\n",
    "\n",
    "$H_{0}$ = There is no statistically significant difference between Mortality and other column.\n",
    "\n",
    "$H_{a}$ = There is a statistically significant difference between Mortality and other column.\n",
    "\n",
    "We will keep only the columns that reject the $H_{0}$, as those are the ones that most significantly affect the Mortality (at least, statistically and within our data). \n",
    "\n",
    "In this case, we are interested in a two-tailed tests, since we do not really care if each specific means are greater or lower from each other, but if they are significantly different.\n",
    "\n",
    "Upon earlier trials and errors, I decided that the significance level should be **0.1**, and therefore the confidence interval will be **90%**. Although in medical data we would rather aim at the greatest possible confidence interval to call a model successful, however this is also not the end of modeling.  \n",
    "\n",
    "For categorical data, we will conduct a chi-square test, to determine how different the spread is in those cases for mortality, and for numeric columns we will conduct a standard t-test."
   ]
  },
  {
   "cell_type": "code",
   "execution_count": 134,
   "id": "ea240e8e-fe26-4700-9a49-97b5ed1f22ec",
   "metadata": {},
   "outputs": [],
   "source": [
    "categorical_columns = df.select_dtypes(include=['object']).columns.tolist()\n",
    "\n",
    "# numeric columns were already created, but we need to remove the target\n",
    "numeric_columns.remove('Mortality')"
   ]
  },
  {
   "cell_type": "code",
   "execution_count": 135,
   "id": "61c0ceda-d7fe-41e2-b749-ceb5ed8f505e",
   "metadata": {},
   "outputs": [],
   "source": [
    "# let's define our chi_square test and t_test for faster processing\n",
    "def chi_square_test(dataframe, binary_column, categorical_column):\n",
    "    contingency_table = pd.crosstab(dataframe[binary_column], dataframe[categorical_column])\n",
    "    hi2_stat, p_value, dof, expected = chi2_contingency(contingency_table)\n",
    "    return p_value\n",
    "\n",
    "\n",
    "def t_test(dataframe, binary_column, numeric_column):\n",
    "    group0 = dataframe[dataframe[binary_column] == 0][numeric_column]\n",
    "    group1 = dataframe[dataframe[binary_column] == 1][numeric_column]\n",
    "\n",
    "    statistic, p_value = ttest_ind(group0, group1)\n",
    "\n",
    "    return p_value"
   ]
  },
  {
   "cell_type": "code",
   "execution_count": 136,
   "id": "af16aa17-a8b6-4878-b644-a490c6bd09ef",
   "metadata": {},
   "outputs": [
    {
     "name": "stderr",
     "output_type": "stream",
     "text": [
      "/var/folders/71/prqs97ps2_lg_s37pr_lsd1h0000gn/T/ipykernel_8025/1165978355.py:12: RuntimeWarning: Precision loss occurred in moment calculation due to catastrophic cancellation. This occurs when the data are nearly identical. Results may be unreliable.\n",
      "  statistic, p_value = ttest_ind(group0, group1)\n"
     ]
    }
   ],
   "source": [
    "significant_columns = [] #list of significant columns\n",
    "\n",
    "alpha = 0.1 # significance level\n",
    "\n",
    "for column in categorical_columns:\n",
    "    p_value = chi_square_test(df_c, 'Mortality', column)\n",
    "    if p_value <= alpha:\n",
    "        significant_columns.append(column)\n",
    "\n",
    "pvalues = []\n",
    "for column in numeric_columns:\n",
    "    p_value = t_test(df_c, 'Mortality', column)\n",
    "    if p_value <= alpha:\n",
    "        significant_columns.append(column)\n",
    "        pvalues.append([column, p_value])"
   ]
  },
  {
   "cell_type": "code",
   "execution_count": 137,
   "id": "303106f3-b4a2-497b-8247-95e32d21b150",
   "metadata": {},
   "outputs": [
    {
     "data": {
      "text/plain": [
       "['AgeGroup',\n",
       " 'Gender',\n",
       " 'Smoking',\n",
       " 'HTN',\n",
       " 'Others',\n",
       " 'SKReact',\n",
       " 'Age',\n",
       " 'FHistory',\n",
       " 'Diabetes',\n",
       " 'WBC',\n",
       " 'oldpeak',\n",
       " 'ca',\n",
       " 'Reaction',\n",
       " 'FollowUp']"
      ]
     },
     "execution_count": 137,
     "metadata": {},
     "output_type": "execute_result"
    }
   ],
   "source": [
    "significant_columns"
   ]
  },
  {
   "cell_type": "markdown",
   "id": "a5b33c02-e9f8-4ae8-823e-cca4f495143b",
   "metadata": {},
   "source": [
    "Now with `significant_columns` in mind, we understand, that these features are the most different ones between alive and dead patients (at least - statistically). Our confidence in it is 90%.\n",
    "\n",
    "To move forward, we will trim the dataset to only use these features, but we will use the dataset **with** duplicates - since we only have 154 unique records, this might be slightly to small number for our models to train on, but we also do not want to use skewed data.\n",
    "\n",
    "To ensure it is okay to use data with duplicates, we will follow up with additional hypothesis testing:\n",
    "\n",
    "$H_{0}$ = Mortality rate in dataset with and without duplicates is the same;\n",
    "\n",
    "$H_{a}$ = Mortality rate in dataset with and without duplicates is the same.\n",
    "\n",
    "Our significance level in this case will be **0.05** and therefore the confidence interval will be **95%**. We will take the results `1`, in other words `alive` as the defining one.\n",
    "\n",
    "If the $H_{0}$ shall be rejected, we won't be using the dataset with duplicates.\n",
    "\n",
    "In this case, I will be using proportions ztest, since the dataframes differ in sizes and slightly differ in proportions."
   ]
  },
  {
   "cell_type": "code",
   "execution_count": 138,
   "id": "6fca7bad-3ceb-490d-95cd-987d02831231",
   "metadata": {},
   "outputs": [],
   "source": [
    "# prepare data without duplicates\n",
    "mortality_rate = len(df_c[df_c['Mortality'] == 1])\n",
    "mortality_size = len(df_c['Mortality'])\n",
    "\n",
    "# prepare data with duplicates\n",
    "mortality_rate_dupes = len(df[df['Mortality'] == 1])\n",
    "mortality_size_dupes = len(df['Mortality'])"
   ]
  },
  {
   "cell_type": "code",
   "execution_count": 139,
   "id": "264aeeaf-810e-4453-972e-fc5463109128",
   "metadata": {},
   "outputs": [],
   "source": [
    "# for proportions_ztest we need to join our data into arrays\n",
    "n_alive = np.array([mortality_rate, mortality_rate_dupes])\n",
    "n_patients = np.array([mortality_size, mortality_size_dupes])"
   ]
  },
  {
   "cell_type": "code",
   "execution_count": 140,
   "id": "06bdccab-3767-42c9-8d36-4bd647d97d61",
   "metadata": {},
   "outputs": [
    {
     "name": "stdout",
     "output_type": "stream",
     "text": [
      "p-value: 0.2775769366445243\n"
     ]
    }
   ],
   "source": [
    "z_score, p_value = proportions_ztest(count=n_alive, \n",
    "                                     nobs=n_patients,\n",
    "                                     alternative='two-sided')\n",
    "print(f'p-value: {p_value}')"
   ]
  },
  {
   "cell_type": "markdown",
   "id": "e47de230-1002-48ed-a229-a912f8919388",
   "metadata": {},
   "source": [
    "Since the p-value is larger than our 5% significance level, hence we sustain the $H_{0}$.\n",
    "\n",
    "As a result, we can use the dataframe `df`, where we kept the duplicated values, so our models have more informations to learn from. Hurray!\n",
    "\n",
    "### Data preparation and encoding\n",
    "For any further analysis we need to encode all categorical data."
   ]
  },
  {
   "cell_type": "code",
   "execution_count": 141,
   "id": "aa5e661c-85aa-4047-855a-8ace84025a46",
   "metadata": {},
   "outputs": [
    {
     "data": {
      "text/html": [
       "<div>\n",
       "<style scoped>\n",
       "    .dataframe tbody tr th:only-of-type {\n",
       "        vertical-align: middle;\n",
       "    }\n",
       "\n",
       "    .dataframe tbody tr th {\n",
       "        vertical-align: top;\n",
       "    }\n",
       "\n",
       "    .dataframe thead th {\n",
       "        text-align: right;\n",
       "    }\n",
       "</style>\n",
       "<table border=\"1\" class=\"dataframe\">\n",
       "  <thead>\n",
       "    <tr style=\"text-align: right;\">\n",
       "      <th></th>\n",
       "      <th>AgeGroup</th>\n",
       "      <th>Gender</th>\n",
       "      <th>Smoking</th>\n",
       "      <th>HTN</th>\n",
       "      <th>Others</th>\n",
       "      <th>SKReact</th>\n",
       "      <th>Age</th>\n",
       "      <th>FHistory</th>\n",
       "      <th>Diabetes</th>\n",
       "      <th>WBC</th>\n",
       "      <th>oldpeak</th>\n",
       "      <th>ca</th>\n",
       "      <th>Reaction</th>\n",
       "      <th>FollowUp</th>\n",
       "      <th>Mortality</th>\n",
       "    </tr>\n",
       "  </thead>\n",
       "  <tbody>\n",
       "    <tr>\n",
       "      <th>139</th>\n",
       "      <td>21-30</td>\n",
       "      <td>Female</td>\n",
       "      <td>NO</td>\n",
       "      <td>YES</td>\n",
       "      <td>no</td>\n",
       "      <td>NO</td>\n",
       "      <td>24</td>\n",
       "      <td>0</td>\n",
       "      <td>1</td>\n",
       "      <td>10900</td>\n",
       "      <td>1.6</td>\n",
       "      <td>0</td>\n",
       "      <td>0</td>\n",
       "      <td>1</td>\n",
       "      <td>0</td>\n",
       "    </tr>\n",
       "    <tr>\n",
       "      <th>252</th>\n",
       "      <td>21-30</td>\n",
       "      <td>Male</td>\n",
       "      <td>NO</td>\n",
       "      <td>NO</td>\n",
       "      <td>no</td>\n",
       "      <td>COUGH.BLEEDING</td>\n",
       "      <td>24</td>\n",
       "      <td>0</td>\n",
       "      <td>0</td>\n",
       "      <td>7800</td>\n",
       "      <td>1.6</td>\n",
       "      <td>0</td>\n",
       "      <td>1</td>\n",
       "      <td>5</td>\n",
       "      <td>0</td>\n",
       "    </tr>\n",
       "    <tr>\n",
       "      <th>25</th>\n",
       "      <td>21-30</td>\n",
       "      <td>Male</td>\n",
       "      <td>NO</td>\n",
       "      <td>NO</td>\n",
       "      <td>no</td>\n",
       "      <td>COUGH.BLEEDING</td>\n",
       "      <td>24</td>\n",
       "      <td>0</td>\n",
       "      <td>0</td>\n",
       "      <td>7800</td>\n",
       "      <td>1.6</td>\n",
       "      <td>0</td>\n",
       "      <td>1</td>\n",
       "      <td>5</td>\n",
       "      <td>0</td>\n",
       "    </tr>\n",
       "    <tr>\n",
       "      <th>341</th>\n",
       "      <td>21-30</td>\n",
       "      <td>Male</td>\n",
       "      <td>NO</td>\n",
       "      <td>NO</td>\n",
       "      <td>no</td>\n",
       "      <td>COUGH.BLEEDING</td>\n",
       "      <td>24</td>\n",
       "      <td>0</td>\n",
       "      <td>0</td>\n",
       "      <td>7800</td>\n",
       "      <td>1.6</td>\n",
       "      <td>0</td>\n",
       "      <td>1</td>\n",
       "      <td>5</td>\n",
       "      <td>0</td>\n",
       "    </tr>\n",
       "    <tr>\n",
       "      <th>189</th>\n",
       "      <td>21-30</td>\n",
       "      <td>Male</td>\n",
       "      <td>NO</td>\n",
       "      <td>NO</td>\n",
       "      <td>no</td>\n",
       "      <td>COUGH.BLEEDING</td>\n",
       "      <td>24</td>\n",
       "      <td>0</td>\n",
       "      <td>0</td>\n",
       "      <td>7800</td>\n",
       "      <td>1.6</td>\n",
       "      <td>0</td>\n",
       "      <td>1</td>\n",
       "      <td>5</td>\n",
       "      <td>0</td>\n",
       "    </tr>\n",
       "  </tbody>\n",
       "</table>\n",
       "</div>"
      ],
      "text/plain": [
       "    AgeGroup  Gender Smoking  HTN Others         SKReact  Age  FHistory  \\\n",
       "139    21-30  Female      NO  YES     no              NO   24         0   \n",
       "252    21-30    Male      NO   NO     no  COUGH.BLEEDING   24         0   \n",
       "25     21-30    Male      NO   NO     no  COUGH.BLEEDING   24         0   \n",
       "341    21-30    Male      NO   NO     no  COUGH.BLEEDING   24         0   \n",
       "189    21-30    Male      NO   NO     no  COUGH.BLEEDING   24         0   \n",
       "\n",
       "     Diabetes    WBC  oldpeak  ca  Reaction  FollowUp  Mortality  \n",
       "139         1  10900      1.6   0         0         1          0  \n",
       "252         0   7800      1.6   0         1         5          0  \n",
       "25          0   7800      1.6   0         1         5          0  \n",
       "341         0   7800      1.6   0         1         5          0  \n",
       "189         0   7800      1.6   0         1         5          0  "
      ]
     },
     "execution_count": 141,
     "metadata": {},
     "output_type": "execute_result"
    }
   ],
   "source": [
    "# we cannot miss out target value\n",
    "significant_columns.append('Mortality')\n",
    "\n",
    "# since we want the age group to have good encoding, it will be best if we sort by 'Age'\n",
    "df = df[significant_columns].sort_values(by='Age')\n",
    "\n",
    "df.head()"
   ]
  },
  {
   "cell_type": "code",
   "execution_count": 142,
   "id": "5118be04-bbea-4542-94c7-c81ca1eb04d5",
   "metadata": {},
   "outputs": [],
   "source": [
    "binary_columns = ['Smoking', 'HTN']\n",
    "\n",
    "binary_map = {'NO': 0, 'YES': 1}\n",
    "\n",
    "label_enc_columns = ['AgeGroup', 'Gender', 'SKReact', 'Others']"
   ]
  },
  {
   "cell_type": "code",
   "execution_count": 143,
   "id": "9ffa42e4-c7be-4d55-b490-9510707400cd",
   "metadata": {},
   "outputs": [],
   "source": [
    "# encoding binary columns\n",
    "df[binary_columns] = df[binary_columns].replace(binary_map)"
   ]
  },
  {
   "cell_type": "code",
   "execution_count": 144,
   "id": "c868fb14-eaed-4d09-bbb3-0ac6d3ee348a",
   "metadata": {},
   "outputs": [],
   "source": [
    "labeler = LabelEncoder() # here we do not need to define anything inside\n",
    "labels_dict = {} # for the future reference\n",
    "\n",
    "for column in label_enc_columns:\n",
    "    df[column] = labeler.fit_transform(df[column])\n",
    "    if column not in labels_dict.keys():\n",
    "        labels_dict[column] = dict(zip(labeler.transform(labeler.classes_), labeler.classes_))"
   ]
  },
  {
   "cell_type": "code",
   "execution_count": 145,
   "id": "f49011ba-5e53-4095-9bcd-97a974efc45b",
   "metadata": {},
   "outputs": [
    {
     "data": {
      "text/html": [
       "<div>\n",
       "<style scoped>\n",
       "    .dataframe tbody tr th:only-of-type {\n",
       "        vertical-align: middle;\n",
       "    }\n",
       "\n",
       "    .dataframe tbody tr th {\n",
       "        vertical-align: top;\n",
       "    }\n",
       "\n",
       "    .dataframe thead th {\n",
       "        text-align: right;\n",
       "    }\n",
       "</style>\n",
       "<table border=\"1\" class=\"dataframe\">\n",
       "  <thead>\n",
       "    <tr style=\"text-align: right;\">\n",
       "      <th></th>\n",
       "      <th>AgeGroup</th>\n",
       "      <th>Gender</th>\n",
       "      <th>Smoking</th>\n",
       "      <th>HTN</th>\n",
       "      <th>Others</th>\n",
       "      <th>SKReact</th>\n",
       "      <th>Age</th>\n",
       "      <th>FHistory</th>\n",
       "      <th>Diabetes</th>\n",
       "      <th>WBC</th>\n",
       "      <th>oldpeak</th>\n",
       "      <th>ca</th>\n",
       "      <th>Reaction</th>\n",
       "      <th>FollowUp</th>\n",
       "      <th>Mortality</th>\n",
       "    </tr>\n",
       "  </thead>\n",
       "  <tbody>\n",
       "    <tr>\n",
       "      <th>0</th>\n",
       "      <td>2</td>\n",
       "      <td>0</td>\n",
       "      <td>0</td>\n",
       "      <td>0</td>\n",
       "      <td>16</td>\n",
       "      <td>4</td>\n",
       "      <td>45</td>\n",
       "      <td>0</td>\n",
       "      <td>1</td>\n",
       "      <td>9900</td>\n",
       "      <td>3.0</td>\n",
       "      <td>0</td>\n",
       "      <td>0</td>\n",
       "      <td>60</td>\n",
       "      <td>0</td>\n",
       "    </tr>\n",
       "    <tr>\n",
       "      <th>1</th>\n",
       "      <td>3</td>\n",
       "      <td>0</td>\n",
       "      <td>0</td>\n",
       "      <td>0</td>\n",
       "      <td>16</td>\n",
       "      <td>4</td>\n",
       "      <td>51</td>\n",
       "      <td>0</td>\n",
       "      <td>0</td>\n",
       "      <td>15800</td>\n",
       "      <td>1.2</td>\n",
       "      <td>0</td>\n",
       "      <td>0</td>\n",
       "      <td>15</td>\n",
       "      <td>0</td>\n",
       "    </tr>\n",
       "    <tr>\n",
       "      <th>2</th>\n",
       "      <td>3</td>\n",
       "      <td>0</td>\n",
       "      <td>0</td>\n",
       "      <td>1</td>\n",
       "      <td>11</td>\n",
       "      <td>4</td>\n",
       "      <td>55</td>\n",
       "      <td>0</td>\n",
       "      <td>1</td>\n",
       "      <td>7900</td>\n",
       "      <td>3.4</td>\n",
       "      <td>0</td>\n",
       "      <td>0</td>\n",
       "      <td>6</td>\n",
       "      <td>0</td>\n",
       "    </tr>\n",
       "    <tr>\n",
       "      <th>3</th>\n",
       "      <td>3</td>\n",
       "      <td>0</td>\n",
       "      <td>0</td>\n",
       "      <td>1</td>\n",
       "      <td>5</td>\n",
       "      <td>4</td>\n",
       "      <td>55</td>\n",
       "      <td>0</td>\n",
       "      <td>1</td>\n",
       "      <td>7900</td>\n",
       "      <td>2.0</td>\n",
       "      <td>1</td>\n",
       "      <td>0</td>\n",
       "      <td>52</td>\n",
       "      <td>0</td>\n",
       "    </tr>\n",
       "    <tr>\n",
       "      <th>4</th>\n",
       "      <td>3</td>\n",
       "      <td>0</td>\n",
       "      <td>0</td>\n",
       "      <td>1</td>\n",
       "      <td>16</td>\n",
       "      <td>4</td>\n",
       "      <td>56</td>\n",
       "      <td>0</td>\n",
       "      <td>1</td>\n",
       "      <td>6900</td>\n",
       "      <td>4.0</td>\n",
       "      <td>2</td>\n",
       "      <td>0</td>\n",
       "      <td>34</td>\n",
       "      <td>0</td>\n",
       "    </tr>\n",
       "  </tbody>\n",
       "</table>\n",
       "</div>"
      ],
      "text/plain": [
       "   AgeGroup  Gender  Smoking  HTN  Others  SKReact  Age  FHistory  Diabetes  \\\n",
       "0         2       0        0    0      16        4   45         0         1   \n",
       "1         3       0        0    0      16        4   51         0         0   \n",
       "2         3       0        0    1      11        4   55         0         1   \n",
       "3         3       0        0    1       5        4   55         0         1   \n",
       "4         3       0        0    1      16        4   56         0         1   \n",
       "\n",
       "     WBC  oldpeak  ca  Reaction  FollowUp  Mortality  \n",
       "0   9900      3.0   0         0        60          0  \n",
       "1  15800      1.2   0         0        15          0  \n",
       "2   7900      3.4   0         0         6          0  \n",
       "3   7900      2.0   1         0        52          0  \n",
       "4   6900      4.0   2         0        34          0  "
      ]
     },
     "execution_count": 145,
     "metadata": {},
     "output_type": "execute_result"
    }
   ],
   "source": [
    "# so we keep it originally sorted\n",
    "df = df.sort_index()\n",
    "df.head()"
   ]
  },
  {
   "cell_type": "markdown",
   "id": "1d257087-8180-4171-90ed-ef381ede3bc2",
   "metadata": {},
   "source": [
    "## Principal components analysis"
   ]
  },
  {
   "cell_type": "code",
   "execution_count": 89,
   "id": "627f3e7d-a9ae-4ec6-b6a1-98b95dbc0eab",
   "metadata": {},
   "outputs": [],
   "source": [
    "# for PCA we need to scale and center our data\n",
    "scaler = StandardScaler()\n",
    "\n",
    "# copying so not to scale all data at once\n",
    "dff = df.copy() \n",
    "\n",
    "# transformation\n",
    "dff = scaler.fit_transform(dff) "
   ]
  },
  {
   "cell_type": "code",
   "execution_count": 90,
   "id": "f5dd8a2f-f53f-498a-b4d1-52ad2cd1228d",
   "metadata": {},
   "outputs": [
    {
     "data": {
      "text/html": [
       "<style>#sk-container-id-2 {color: black;background-color: white;}#sk-container-id-2 pre{padding: 0;}#sk-container-id-2 div.sk-toggleable {background-color: white;}#sk-container-id-2 label.sk-toggleable__label {cursor: pointer;display: block;width: 100%;margin-bottom: 0;padding: 0.3em;box-sizing: border-box;text-align: center;}#sk-container-id-2 label.sk-toggleable__label-arrow:before {content: \"▸\";float: left;margin-right: 0.25em;color: #696969;}#sk-container-id-2 label.sk-toggleable__label-arrow:hover:before {color: black;}#sk-container-id-2 div.sk-estimator:hover label.sk-toggleable__label-arrow:before {color: black;}#sk-container-id-2 div.sk-toggleable__content {max-height: 0;max-width: 0;overflow: hidden;text-align: left;background-color: #f0f8ff;}#sk-container-id-2 div.sk-toggleable__content pre {margin: 0.2em;color: black;border-radius: 0.25em;background-color: #f0f8ff;}#sk-container-id-2 input.sk-toggleable__control:checked~div.sk-toggleable__content {max-height: 200px;max-width: 100%;overflow: auto;}#sk-container-id-2 input.sk-toggleable__control:checked~label.sk-toggleable__label-arrow:before {content: \"▾\";}#sk-container-id-2 div.sk-estimator input.sk-toggleable__control:checked~label.sk-toggleable__label {background-color: #d4ebff;}#sk-container-id-2 div.sk-label input.sk-toggleable__control:checked~label.sk-toggleable__label {background-color: #d4ebff;}#sk-container-id-2 input.sk-hidden--visually {border: 0;clip: rect(1px 1px 1px 1px);clip: rect(1px, 1px, 1px, 1px);height: 1px;margin: -1px;overflow: hidden;padding: 0;position: absolute;width: 1px;}#sk-container-id-2 div.sk-estimator {font-family: monospace;background-color: #f0f8ff;border: 1px dotted black;border-radius: 0.25em;box-sizing: border-box;margin-bottom: 0.5em;}#sk-container-id-2 div.sk-estimator:hover {background-color: #d4ebff;}#sk-container-id-2 div.sk-parallel-item::after {content: \"\";width: 100%;border-bottom: 1px solid gray;flex-grow: 1;}#sk-container-id-2 div.sk-label:hover label.sk-toggleable__label {background-color: #d4ebff;}#sk-container-id-2 div.sk-serial::before {content: \"\";position: absolute;border-left: 1px solid gray;box-sizing: border-box;top: 0;bottom: 0;left: 50%;z-index: 0;}#sk-container-id-2 div.sk-serial {display: flex;flex-direction: column;align-items: center;background-color: white;padding-right: 0.2em;padding-left: 0.2em;position: relative;}#sk-container-id-2 div.sk-item {position: relative;z-index: 1;}#sk-container-id-2 div.sk-parallel {display: flex;align-items: stretch;justify-content: center;background-color: white;position: relative;}#sk-container-id-2 div.sk-item::before, #sk-container-id-2 div.sk-parallel-item::before {content: \"\";position: absolute;border-left: 1px solid gray;box-sizing: border-box;top: 0;bottom: 0;left: 50%;z-index: -1;}#sk-container-id-2 div.sk-parallel-item {display: flex;flex-direction: column;z-index: 1;position: relative;background-color: white;}#sk-container-id-2 div.sk-parallel-item:first-child::after {align-self: flex-end;width: 50%;}#sk-container-id-2 div.sk-parallel-item:last-child::after {align-self: flex-start;width: 50%;}#sk-container-id-2 div.sk-parallel-item:only-child::after {width: 0;}#sk-container-id-2 div.sk-dashed-wrapped {border: 1px dashed gray;margin: 0 0.4em 0.5em 0.4em;box-sizing: border-box;padding-bottom: 0.4em;background-color: white;}#sk-container-id-2 div.sk-label label {font-family: monospace;font-weight: bold;display: inline-block;line-height: 1.2em;}#sk-container-id-2 div.sk-label-container {text-align: center;}#sk-container-id-2 div.sk-container {/* jupyter's `normalize.less` sets `[hidden] { display: none; }` but bootstrap.min.css set `[hidden] { display: none !important; }` so we also need the `!important` here to be able to override the default hidden behavior on the sphinx rendered scikit-learn.org. See: https://github.com/scikit-learn/scikit-learn/issues/21755 */display: inline-block !important;position: relative;}#sk-container-id-2 div.sk-text-repr-fallback {display: none;}</style><div id=\"sk-container-id-2\" class=\"sk-top-container\"><div class=\"sk-text-repr-fallback\"><pre>PCA()</pre><b>In a Jupyter environment, please rerun this cell to show the HTML representation or trust the notebook. <br />On GitHub, the HTML representation is unable to render, please try loading this page with nbviewer.org.</b></div><div class=\"sk-container\" hidden><div class=\"sk-item\"><div class=\"sk-estimator sk-toggleable\"><input class=\"sk-toggleable__control sk-hidden--visually\" id=\"sk-estimator-id-2\" type=\"checkbox\" checked><label for=\"sk-estimator-id-2\" class=\"sk-toggleable__label sk-toggleable__label-arrow\">PCA</label><div class=\"sk-toggleable__content\"><pre>PCA()</pre></div></div></div></div></div>"
      ],
      "text/plain": [
       "PCA()"
      ]
     },
     "execution_count": 90,
     "metadata": {},
     "output_type": "execute_result"
    }
   ],
   "source": [
    "pca = PCA()\n",
    "pca.fit(dff)"
   ]
  },
  {
   "cell_type": "code",
   "execution_count": 91,
   "id": "7b0e2479-9ffb-4bc9-aee9-008a8f1ea190",
   "metadata": {},
   "outputs": [
    {
     "data": {
      "text/plain": [
       "array([0.26026356, 0.39873149, 0.48970554, 0.57724492, 0.65380566,\n",
       "       0.71999535, 0.78089136, 0.83181495, 0.87661695, 0.91830453,\n",
       "       0.95160559, 0.97377413, 0.98956345, 0.9951497 , 1.        ])"
      ]
     },
     "execution_count": 91,
     "metadata": {},
     "output_type": "execute_result"
    }
   ],
   "source": [
    "threshold = 0.95\n",
    "\n",
    "cumulative_var = np.cumsum(pca.explained_variance_ratio_)\n",
    "cumulative_var"
   ]
  },
  {
   "cell_type": "code",
   "execution_count": 92,
   "id": "9e7ed704-ced3-4cb7-87a5-949a29791c11",
   "metadata": {},
   "outputs": [
    {
     "name": "stdout",
     "output_type": "stream",
     "text": [
      "The number of components explaining 95% of the variance: 10\n"
     ]
    }
   ],
   "source": [
    "components_number = np.argmax(cumulative_var > threshold)\n",
    "print(f'The number of components explaining {threshold:.0%} of the variance: {components_number}')"
   ]
  },
  {
   "cell_type": "code",
   "execution_count": 93,
   "id": "51d59121-3731-44d3-854b-11c2c735c27e",
   "metadata": {},
   "outputs": [
    {
     "name": "stdout",
     "output_type": "stream",
     "text": [
      "26.03% of the data variance has been preserved along the first principal component,\n",
      "13.85% of the data variance has been preserved along the second principal component, etc.\n"
     ]
    }
   ],
   "source": [
    "print(f'{pca.explained_variance_ratio_[0]:.2%} of the data variance has been preserved along the first principal component,')\n",
    "print(f'{pca.explained_variance_ratio_[1]:.2%} of the data variance has been preserved along the second principal component, etc.')"
   ]
  },
  {
   "cell_type": "code",
   "execution_count": 94,
   "id": "79888e85-7846-473f-ac2b-5be355b2472e",
   "metadata": {},
   "outputs": [
    {
     "data": {
      "image/png": "[encoded data removed]",
      "text/plain": [
       "<Figure size 1000x500 with 1 Axes>"
      ]
     },
     "metadata": {},
     "output_type": "display_data"
    }
   ],
   "source": [
    "plt.figure(figsize=[10,5])\n",
    "plt.title('Cumulative Explained Variance explained by the components')\n",
    "plt.ylabel('Cumulative Explained Variance')\n",
    "plt.xlabel('Number of components')\n",
    "plt.axvline(x=components_number, color=\"k\", linestyle=\"--\")\n",
    "plt.axhline(y=threshold, color=\"r\", linestyle=\"--\")\n",
    "plt.plot(cumulative_var, marker='o')\n",
    "plt.show()"
   ]
  },
  {
   "cell_type": "markdown",
   "id": "afc2523a-f6b4-4657-855f-bd44dec44b01",
   "metadata": {},
   "source": [
    "Based on the Principal Components Analysis we can conclude that statistically, we would get should get quite good reluts if we only take 10 features into consideration. \n",
    "\n",
    "However, since this dataset is already trimmed by a lot by using hypothesis testing, I will keep all the features when creating our model (or rather concoction of three models) and later decide if it could be trimmed further with feature importances. \n",
    "\n",
    "## Dealing with duplicates in Train/Test split\n",
    "Since there are some duplicates, we would like to avoid our model to see them, so we could better evaluate these. If we use a standard train test split, it is not given, that the models didn't see those data already.\n",
    "\n",
    "Therefore for the test set, we will create a separate subset from the data. To create this subset, we will need additional, temporary column (we will soon drop it), where we will have unique indexes. "
   ]
  },
  {
   "cell_type": "code",
   "execution_count": 100,
   "id": "6613ab38-ee9d-499b-8144-177ed13c4a9b",
   "metadata": {},
   "outputs": [],
   "source": [
    "df = df.drop_duplicates()"
   ]
  },
  {
   "cell_type": "markdown",
   "id": "e052f858-518f-47e4-ae79-5c6fde0cb794",
   "metadata": {
    "jupyter": {
     "outputs_hidden": true
    },
    "tags": []
   },
   "source": [
    "Now with the data splitted into train and test subsets, we can move onto the modeling!\n",
    "\n",
    "## Model creation"
   ]
  },
  {
   "cell_type": "code",
   "execution_count": 146,
   "id": "d56e82dc-1493-4bf8-a38c-0553287a125f",
   "metadata": {},
   "outputs": [],
   "source": [
    "# firstly let's create some useful functions\n",
    "\n",
    "def calculate_metrics(target, prediction, average='macro'):\n",
    "    '''\n",
    "    With this function we generate all metrics we want to check for classification problem\n",
    "    '''\n",
    "    accuracy = accuracy_score(target, prediction)\n",
    "    precision = precision_score(target, prediction, average=average, zero_division = 0)\n",
    "    recall = recall_score(target, prediction, average=average)\n",
    "    f1 = f1_score(target, prediction, average=average)\n",
    "    roc = roc_auc_score(target, prediction)\n",
    "    mislabeled = (target != prediction).sum()\n",
    "    total = len(target)\n",
    "    return accuracy, precision, recall, f1, roc, mislabeled, total\n",
    "\n",
    "def print_results(metrics, classifier_id='classifier'):\n",
    "    '''\n",
    "    With this function we are printing all the metrics\n",
    "    '''\n",
    "    print(f'Results for {classifier_id}')\n",
    "    print('----')\n",
    "    print(f'  Accuracy:  {metrics[0]}')\n",
    "    print(f'  Precision: {metrics[1]}')\n",
    "    print(f'  Recall:    {metrics[2]}')\n",
    "    print(f'  F1 score:  {metrics[3]}')\n",
    "    print(f'  ROC score: {metrics[4]}')\n",
    "    print(f'  Mislabeled {metrics[5]} out of {metrics[6]}')\n",
    "    \n",
    "    \n",
    "def get_binary_classes(y):\n",
    "    '''\n",
    "    With this function we print out the original proporions of 0 and 1 in the subset\n",
    "    '''\n",
    "    zeros = len([x for x in y if x == 0])\n",
    "    ones = len([x for x in y if x == 1])\n",
    "    print(f'Quantities are {zeros} for 0, {ones} for 1')\n",
    "    print('\\n')\n",
    "    \n",
    "def get_confusion_matrix(y, y_pred):\n",
    "    '''\n",
    "    This function returns a visualization of a confusion matrix\n",
    "    '''\n",
    "    fig, ax = plt.subplots(figsize=(3,3))\n",
    "    cm = confusion_matrix(y, y_pred)\n",
    "    ax = sns.heatmap(cm, annot = True, fmt = 'd')\n",
    "    plt.show()"
   ]
  },
  {
   "cell_type": "code",
   "execution_count": 147,
   "id": "9165de06-3b53-4f26-9ed4-b56d36855ea1",
   "metadata": {},
   "outputs": [],
   "source": [
    "y = df.pop('Mortality')\n",
    "X = df\n",
    "\n",
    "X_train, X_test, y_train, y_test = train_test_split(X, y,\n",
    "                                                   test_size=0.2,\n",
    "                                                   random_state=42,\n",
    "                                                   stratify=y \n",
    "                                                   )\n",
    "from imblearn.over_sampling import SMOTE\n",
    "sm = SMOTE(random_state=42,\n",
    "           sampling_strategy='auto',\n",
    "           k_neighbors=4 # choosing the amount od neighbours, 5 is default\n",
    "          )\n",
    "\n",
    "X_train_sm, y_train_sm = sm.fit_resample(X_train, y_train)"
   ]
  },
  {
   "cell_type": "code",
   "execution_count": 149,
   "id": "ba234b03-86be-4341-a812-fef4d90b0aed",
   "metadata": {
    "tags": []
   },
   "outputs": [
    {
     "name": "stdout",
     "output_type": "stream",
     "text": [
      "Results for 1\n",
      "----\n",
      "  Accuracy:  0.9782608695652174\n",
      "  Precision: 0.978219696969697\n",
      "  Recall:    0.978219696969697\n",
      "  F1 score:  0.978219696969697\n",
      "  ROC score: 0.9782196969696969\n",
      "  Mislabeled 2 out of 92\n",
      "Quantities are 44 for 0, 48 for 1\n",
      "\n",
      "\n"
     ]
    },
    {
     "data": {
      "image/png": "[encoded data removed]",
      "text/plain": [
       "<Figure size 300x300 with 2 Axes>"
      ]
     },
     "metadata": {},
     "output_type": "display_data"
    },
    {
     "name": "stdout",
     "output_type": "stream",
     "text": [
      "Results for 2\n",
      "----\n",
      "  Accuracy:  0.9782608695652174\n",
      "  Precision: 0.975609756097561\n",
      "  Recall:    0.9811320754716981\n",
      "  F1 score:  0.9778846153846154\n",
      "  ROC score: 0.9811320754716981\n",
      "  Mislabeled 2 out of 92\n",
      "Quantities are 53 for 0, 39 for 1\n",
      "\n",
      "\n"
     ]
    },
    {
     "data": {
      "image/png": "[encoded data removed]",
      "text/plain": [
       "<Figure size 300x300 with 2 Axes>"
      ]
     },
     "metadata": {},
     "output_type": "display_data"
    },
    {
     "name": "stdout",
     "output_type": "stream",
     "text": [
      "Results for 3\n",
      "----\n",
      "  Accuracy:  0.967391304347826\n",
      "  Precision: 0.9693877551020409\n",
      "  Recall:    0.9673913043478262\n",
      "  F1 score:  0.9673565937315198\n",
      "  ROC score: 0.9673913043478262\n",
      "  Mislabeled 3 out of 92\n",
      "Quantities are 46 for 0, 46 for 1\n",
      "\n",
      "\n"
     ]
    },
    {
     "data": {
      "image/png": "[encoded data removed]",
      "text/plain": [
       "<Figure size 300x300 with 2 Axes>"
      ]
     },
     "metadata": {},
     "output_type": "display_data"
    },
    {
     "name": "stdout",
     "output_type": "stream",
     "text": [
      "Results for 4\n",
      "----\n",
      "  Accuracy:  0.967391304347826\n",
      "  Precision: 0.9678030303030303\n",
      "  Recall:    0.9671394799054374\n",
      "  F1 score:  0.9673565937315198\n",
      "  ROC score: 0.9671394799054374\n",
      "  Mislabeled 3 out of 92\n",
      "Quantities are 45 for 0, 47 for 1\n",
      "\n",
      "\n"
     ]
    },
    {
     "data": {
      "image/png": "[encoded data removed]",
      "text/plain": [
       "<Figure size 300x300 with 2 Axes>"
      ]
     },
     "metadata": {},
     "output_type": "display_data"
    },
    {
     "name": "stdout",
     "output_type": "stream",
     "text": [
      "Results for 5\n",
      "----\n",
      "  Accuracy:  0.9891304347826086\n",
      "  Precision: 0.9883720930232558\n",
      "  Recall:    0.99\n",
      "  F1 score:  0.9890671420083185\n",
      "  ROC score: 0.99\n",
      "  Mislabeled 1 out of 92\n",
      "Quantities are 42 for 0, 50 for 1\n",
      "\n",
      "\n"
     ]
    },
    {
     "data": {
      "image/png": "[encoded data removed]",
      "text/plain": [
       "<Figure size 300x300 with 2 Axes>"
      ]
     },
     "metadata": {},
     "output_type": "display_data"
    }
   ],
   "source": [
    "kfoldcv = KFold(n_splits=5,\n",
    "                shuffle=True,\n",
    "                random_state=42\n",
    "               )\n",
    "\n",
    "# let's try on vanilla AdaBoost\n",
    "for n, (train, val) in enumerate(kfoldcv.split(X_train_sm, y_train_sm), 1):\n",
    "    X_train_fold, y_train_fold = X_train_sm.iloc[train], y_train_sm.iloc[train]\n",
    "    X_val_fold, y_val_fold = X_train_sm.iloc[val], y_train_sm.iloc[val]\n",
    "    \n",
    "    # X_train_scaled = scaler.fit_transform(X_train_fold)\n",
    "    # X_val_scaled = scaler.fit_transform(X_val_fold)\n",
    "    \n",
    "    abc = AdaBoostClassifier()\n",
    "    abc.fit(X_train_fold, y_train_fold)\n",
    "    y_pred = abc.predict(X_val_fold)\n",
    "    \n",
    "    print_results(calculate_metrics(y_val_fold, y_pred), classifier_id=n)\n",
    "    get_binary_classes(y_val_fold)\n",
    "    get_confusion_matrix(y_val_fold, y_pred)"
   ]
  },
  {
   "cell_type": "code",
   "execution_count": 150,
   "id": "fc90a061-6a09-4be7-95d5-69aaaae9722c",
   "metadata": {},
   "outputs": [
    {
     "name": "stdout",
     "output_type": "stream",
     "text": [
      "Results for classifier\n",
      "----\n",
      "  Accuracy:  0.9594594594594594\n",
      "  Precision: 0.9324045407636739\n",
      "  Recall:    0.9515086206896552\n",
      "  F1 score:  0.9415019762845849\n",
      "  ROC score: 0.9515086206896552\n",
      "  Mislabeled 3 out of 74\n",
      "Quantities are 58 for 0, 16 for 1\n",
      "\n",
      "\n"
     ]
    },
    {
     "data": {
      "image/png": "[encoded data removed]",
      "text/plain": [
       "<Figure size 300x300 with 2 Axes>"
      ]
     },
     "metadata": {},
     "output_type": "display_data"
    }
   ],
   "source": [
    "# let's test it on test data, which the model has not seen before\n",
    "# X_test_scaled = scaler.fit_transform(X_test)\n",
    "y_test_pred = abc.predict(X_test)\n",
    "\n",
    "print_results(calculate_metrics(y_test, y_test_pred))\n",
    "get_binary_classes(y_test)\n",
    "get_confusion_matrix(y_test, y_test_pred)"
   ]
  },
  {
   "cell_type": "markdown",
   "id": "1087c9aa-a5ef-4d3b-8f26-a82ee39e814a",
   "metadata": {},
   "source": [
    "I do use quite a lot of metrics here, however the ones that interest me the most are **ROC score**, **F1 score** and **Accuracy**. I am also analyzing the confusion matrices, to know where the mistakes are generated most often. \n",
    "\n",
    "This vanilla `AdaBoostClassifier` did quite a good job actually, better than I expected. Also, taking into consideration the results cross validation, it seems that the predictions in all cases are not random. This initial model's biggest problem is predicting false nevatives to often, which in out case is the worst scenario, as it indicates that a patient should live, but they die instead. Also, probably due to the duplicates, the test result might be due to overfitting.\n",
    "\n",
    "Now, let's use `OPTUNA`, to see if we can get a better scores with AdaBoost."
   ]
  },
  {
   "cell_type": "code",
   "execution_count": 152,
   "id": "8e975383-d451-4e2e-be07-30481481e6e6",
   "metadata": {
    "tags": []
   },
   "outputs": [
    {
     "name": "stderr",
     "output_type": "stream",
     "text": [
      "[I 2023-10-03 23:27:20,112] A new study created in memory with name: no-name-539e4865-5abd-40a0-bfa2-7dd7312c6409\n",
      "[I 2023-10-03 23:27:20,543] Trial 0 finished with value: 0.5258620689655172 and parameters: {'n_estimators': 485, 'learning_rate': 9.783809567262718}. Best is trial 0 with value: 0.5258620689655172.\n",
      "[I 2023-10-03 23:27:20,798] Trial 1 finished with value: 0.5258620689655172 and parameters: {'n_estimators': 291, 'learning_rate': 7.587316074114269}. Best is trial 0 with value: 0.5258620689655172.\n",
      "[I 2023-10-03 23:27:21,264] Trial 2 finished with value: 0.8616152450090744 and parameters: {'n_estimators': 534, 'learning_rate': 0.01256365096737857}. Best is trial 2 with value: 0.8616152450090744.\n",
      "[I 2023-10-03 23:27:21,982] Trial 3 finished with value: 0.9653660012099213 and parameters: {'n_estimators': 829, 'learning_rate': 1.0907581048108927}. Best is trial 3 with value: 0.9653660012099213.\n",
      "[I 2023-10-03 23:27:22,266] Trial 4 finished with value: 0.6764972776769509 and parameters: {'n_estimators': 323, 'learning_rate': 2.548364276260393}. Best is trial 3 with value: 0.9653660012099213.\n",
      "[I 2023-10-03 23:27:22,529] Trial 5 finished with value: 0.6598608590441621 and parameters: {'n_estimators': 302, 'learning_rate': 6.321312724215343}. Best is trial 3 with value: 0.9653660012099213.\n",
      "[I 2023-10-03 23:27:23,135] Trial 6 finished with value: 0.5258620689655172 and parameters: {'n_estimators': 701, 'learning_rate': 3.487563618763182}. Best is trial 3 with value: 0.9653660012099213.\n",
      "[I 2023-10-03 23:27:23,948] Trial 7 finished with value: 0.9653660012099213 and parameters: {'n_estimators': 938, 'learning_rate': 0.46066575592984393}. Best is trial 3 with value: 0.9653660012099213.\n",
      "[I 2023-10-03 23:27:24,409] Trial 8 finished with value: 0.5258620689655172 and parameters: {'n_estimators': 531, 'learning_rate': 7.910571625058654}. Best is trial 3 with value: 0.9653660012099213.\n",
      "[I 2023-10-03 23:27:25,199] Trial 9 finished with value: 0.5125529340592861 and parameters: {'n_estimators': 900, 'learning_rate': 2.3680640779469777}. Best is trial 3 with value: 0.9653660012099213.\n",
      "[I 2023-10-03 23:27:25,848] Trial 10 finished with value: 0.5258620689655172 and parameters: {'n_estimators': 745, 'learning_rate': 4.553009666197303}. Best is trial 3 with value: 0.9653660012099213.\n",
      "[I 2023-10-03 23:27:26,689] Trial 11 finished with value: 0.9653660012099213 and parameters: {'n_estimators': 949, 'learning_rate': 0.3254141761820357}. Best is trial 3 with value: 0.9653660012099213.\n",
      "[I 2023-10-03 23:27:27,374] Trial 12 finished with value: 0.9653660012099213 and parameters: {'n_estimators': 770, 'learning_rate': 0.8607422137859535}. Best is trial 3 with value: 0.9653660012099213.\n",
      "[I 2023-10-03 23:27:28,259] Trial 13 finished with value: 0.9653660012099213 and parameters: {'n_estimators': 991, 'learning_rate': 1.497291975863311}. Best is trial 3 with value: 0.9653660012099213.\n",
      "[I 2023-10-03 23:27:29,022] Trial 14 finished with value: 0.9739866908650938 and parameters: {'n_estimators': 846, 'learning_rate': 1.763355955584794}. Best is trial 14 with value: 0.9739866908650938.\n",
      "[I 2023-10-03 23:27:29,751] Trial 15 finished with value: 0.5388687235329703 and parameters: {'n_estimators': 818, 'learning_rate': 2.064639951361343}. Best is trial 14 with value: 0.9739866908650938.\n",
      "[I 2023-10-03 23:27:30,320] Trial 16 finished with value: 0.7831215970961887 and parameters: {'n_estimators': 652, 'learning_rate': 3.616795203420917}. Best is trial 14 with value: 0.9739866908650938.\n",
      "[I 2023-10-03 23:27:30,423] Trial 17 finished with value: 0.9653660012099213 and parameters: {'n_estimators': 108, 'learning_rate': 1.402884041587749}. Best is trial 14 with value: 0.9739866908650938.\n",
      "[I 2023-10-03 23:27:31,183] Trial 18 finished with value: 0.5258620689655172 and parameters: {'n_estimators': 855, 'learning_rate': 3.419401362084115}. Best is trial 14 with value: 0.9739866908650938.\n",
      "[I 2023-10-03 23:27:31,740] Trial 19 finished with value: 0.9653660012099213 and parameters: {'n_estimators': 619, 'learning_rate': 1.3367105705956077}. Best is trial 14 with value: 0.9739866908650938.\n",
      "[I 2023-10-03 23:27:32,469] Trial 20 finished with value: 0.5258620689655172 and parameters: {'n_estimators': 834, 'learning_rate': 4.866094758261228}. Best is trial 14 with value: 0.9739866908650938.\n",
      "[I 2023-10-03 23:27:33,259] Trial 21 finished with value: 0.9653660012099213 and parameters: {'n_estimators': 908, 'learning_rate': 0.1575114482913847}. Best is trial 14 with value: 0.9739866908650938.\n",
      "[I 2023-10-03 23:27:34,108] Trial 22 finished with value: 0.9653660012099213 and parameters: {'n_estimators': 979, 'learning_rate': 0.8254306076122505}. Best is trial 14 with value: 0.9739866908650938.\n",
      "[I 2023-10-03 23:27:34,792] Trial 23 finished with value: 0.9652147610405324 and parameters: {'n_estimators': 782, 'learning_rate': 1.8274514368925519}. Best is trial 14 with value: 0.9739866908650938.\n",
      "[I 2023-10-03 23:27:35,585] Trial 24 finished with value: 0.5125529340592861 and parameters: {'n_estimators': 887, 'learning_rate': 2.6718331750253768}. Best is trial 14 with value: 0.9739866908650938.\n",
      "[I 2023-10-03 23:27:36,201] Trial 25 finished with value: 0.9653660012099213 and parameters: {'n_estimators': 685, 'learning_rate': 0.8980133397706981}. Best is trial 14 with value: 0.9739866908650938.\n",
      "[I 2023-10-03 23:27:36,743] Trial 26 finished with value: 0.9051724137931034 and parameters: {'n_estimators': 607, 'learning_rate': 0.03339697859998547}. Best is trial 14 with value: 0.9739866908650938.\n",
      "[I 2023-10-03 23:27:37,570] Trial 27 finished with value: 0.9652147610405324 and parameters: {'n_estimators': 944, 'learning_rate': 1.834335119254615}. Best is trial 14 with value: 0.9739866908650938.\n",
      "[I 2023-10-03 23:27:37,962] Trial 28 finished with value: 0.9653660012099213 and parameters: {'n_estimators': 441, 'learning_rate': 0.9429044574376051}. Best is trial 14 with value: 0.9739866908650938.\n",
      "[I 2023-10-03 23:27:38,367] Trial 29 finished with value: 0.6414095583787054 and parameters: {'n_estimators': 445, 'learning_rate': 3.0467925484749854}. Best is trial 14 with value: 0.9739866908650938.\n",
      "[I 2023-10-03 23:27:39,013] Trial 30 finished with value: 0.9739866908650938 and parameters: {'n_estimators': 726, 'learning_rate': 1.767237045777485}. Best is trial 14 with value: 0.9739866908650938.\n",
      "[I 2023-10-03 23:27:39,646] Trial 31 finished with value: 0.6764972776769509 and parameters: {'n_estimators': 717, 'learning_rate': 2.0585301977924764}. Best is trial 14 with value: 0.9739866908650938.\n",
      "[I 2023-10-03 23:27:40,364] Trial 32 finished with value: 0.9653660012099213 and parameters: {'n_estimators': 803, 'learning_rate': 1.3171109453480905}. Best is trial 14 with value: 0.9739866908650938.\n",
      "[I 2023-10-03 23:27:41,133] Trial 33 finished with value: 0.9653660012099213 and parameters: {'n_estimators': 870, 'learning_rate': 0.48356917810148714}. Best is trial 14 with value: 0.9739866908650938.\n",
      "[I 2023-10-03 23:27:41,803] Trial 34 finished with value: 0.5125529340592861 and parameters: {'n_estimators': 756, 'learning_rate': 2.5823419118506696}. Best is trial 14 with value: 0.9739866908650938.\n",
      "[I 2023-10-03 23:27:42,602] Trial 35 finished with value: 0.9653660012099213 and parameters: {'n_estimators': 915, 'learning_rate': 0.5327580653089588}. Best is trial 14 with value: 0.9739866908650938.\n",
      "[I 2023-10-03 23:27:43,326] Trial 36 finished with value: 0.8529945553539019 and parameters: {'n_estimators': 821, 'learning_rate': 0.011296343614437099}. Best is trial 14 with value: 0.9739866908650938.\n",
      "[I 2023-10-03 23:27:43,916] Trial 37 finished with value: 0.9653660012099213 and parameters: {'n_estimators': 671, 'learning_rate': 1.571628374377572}. Best is trial 14 with value: 0.9739866908650938.\n",
      "[I 2023-10-03 23:27:44,454] Trial 38 finished with value: 0.5125529340592861 and parameters: {'n_estimators': 598, 'learning_rate': 2.4056919631063582}. Best is trial 14 with value: 0.9739866908650938.\n",
      "[I 2023-10-03 23:27:45,089] Trial 39 finished with value: 0.5258620689655172 and parameters: {'n_estimators': 724, 'learning_rate': 4.046669209414198}. Best is trial 14 with value: 0.9739866908650938.\n"
     ]
    }
   ],
   "source": [
    "X_train, X_test, y_train, y_test = train_test_split(X, y,\n",
    "                                                   test_size=0.2,\n",
    "                                                   random_state=42,\n",
    "                                                   stratify=y \n",
    "                                                   )\n",
    "from imblearn.over_sampling import SMOTE\n",
    "sm = SMOTE(random_state=42,\n",
    "           sampling_strategy='auto',\n",
    "           k_neighbors=4 # choosing the amount od neighbours, 5 is default\n",
    "          )\n",
    "\n",
    "X_train_sm, y_train_sm = sm.fit_resample(X_train, y_train)\n",
    "\n",
    "X_train, X_val, y_train, y_val = train_test_split(X_train_sm, y_train_sm,\n",
    "                                                      test_size=0.25,\n",
    "                                                      random_state=42,\n",
    "                                                      stratify=y_train_sm\n",
    "                                                     )\n",
    "\n",
    "def objective(trial):\n",
    "    # X_train_scaled = scaler.fit_transform(X_train)\n",
    "    # X_val_scaled = scaler.fit_transform(X_val)\n",
    "    \n",
    "\n",
    "    n_estimators = trial.suggest_int('n_estimators', 100,1000)\n",
    "    learning_rate = trial.suggest_float('learning_rate', 0.001,10)\n",
    " \n",
    "\n",
    "    xbg2 = AdaBoostClassifier(\n",
    "                               n_estimators=n_estimators,\n",
    "                               learning_rate=learning_rate\n",
    "                              )\n",
    "\n",
    "    xbg2.fit(X_train, y_train)\n",
    "    y_pred_val = xbg2.predict(X_val)\n",
    "    roc = roc_auc_score(y_val, y_pred_val)\n",
    "    return roc\n",
    "\n",
    "\n",
    "study = optuna.create_study(direction='maximize')\n",
    "study.optimize(objective, n_trials=40)"
   ]
  },
  {
   "cell_type": "code",
   "execution_count": 106,
   "id": "395b064f-7e9a-4776-bd16-88ca0490f638",
   "metadata": {},
   "outputs": [
    {
     "data": {
      "text/plain": [
       "{'n_estimators': 117, 'learning_rate': 1.8316368538336303}"
      ]
     },
     "execution_count": 106,
     "metadata": {},
     "output_type": "execute_result"
    }
   ],
   "source": [
    "best_params = study.best_params\n",
    "best_params"
   ]
  },
  {
   "cell_type": "code",
   "execution_count": 153,
   "id": "d1ae578a-fcf3-45fb-b3ae-aa36f088a56e",
   "metadata": {
    "tags": []
   },
   "outputs": [
    {
     "name": "stdout",
     "output_type": "stream",
     "text": [
      "Results for 1\n",
      "----\n",
      "  Accuracy:  1.0\n",
      "  Precision: 1.0\n",
      "  Recall:    1.0\n",
      "  F1 score:  1.0\n",
      "  ROC score: 1.0\n",
      "  Mislabeled 0 out of 92\n",
      "Quantities are 44 for 0, 48 for 1\n",
      "\n",
      "\n"
     ]
    },
    {
     "data": {
      "image/png": "[encoded data removed]",
      "text/plain": [
       "<Figure size 300x300 with 2 Axes>"
      ]
     },
     "metadata": {},
     "output_type": "display_data"
    },
    {
     "name": "stdout",
     "output_type": "stream",
     "text": [
      "Results for 2\n",
      "----\n",
      "  Accuracy:  0.9782608695652174\n",
      "  Precision: 0.975609756097561\n",
      "  Recall:    0.9811320754716981\n",
      "  F1 score:  0.9778846153846154\n",
      "  ROC score: 0.9811320754716981\n",
      "  Mislabeled 2 out of 92\n",
      "Quantities are 53 for 0, 39 for 1\n",
      "\n",
      "\n"
     ]
    },
    {
     "data": {
      "image/png": "[encoded data removed]",
      "text/plain": [
       "<Figure size 300x300 with 2 Axes>"
      ]
     },
     "metadata": {},
     "output_type": "display_data"
    },
    {
     "name": "stdout",
     "output_type": "stream",
     "text": [
      "Results for 3\n",
      "----\n",
      "  Accuracy:  0.9565217391304348\n",
      "  Precision: 0.96\n",
      "  Recall:    0.9565217391304348\n",
      "  F1 score:  0.9564393939393939\n",
      "  ROC score: 0.9565217391304348\n",
      "  Mislabeled 4 out of 92\n",
      "Quantities are 46 for 0, 46 for 1\n",
      "\n",
      "\n"
     ]
    },
    {
     "data": {
      "image/png": "[encoded data removed]",
      "text/plain": [
       "<Figure size 300x300 with 2 Axes>"
      ]
     },
     "metadata": {},
     "output_type": "display_data"
    },
    {
     "name": "stdout",
     "output_type": "stream",
     "text": [
      "Results for 4\n",
      "----\n",
      "  Accuracy:  0.9782608695652174\n",
      "  Precision: 0.9782505910165484\n",
      "  Recall:    0.9782505910165484\n",
      "  F1 score:  0.9782505910165484\n",
      "  ROC score: 0.9782505910165484\n",
      "  Mislabeled 2 out of 92\n",
      "Quantities are 45 for 0, 47 for 1\n",
      "\n",
      "\n"
     ]
    },
    {
     "data": {
      "image/png": "[encoded data removed]",
      "text/plain": [
       "<Figure size 300x300 with 2 Axes>"
      ]
     },
     "metadata": {},
     "output_type": "display_data"
    },
    {
     "name": "stdout",
     "output_type": "stream",
     "text": [
      "Results for 5\n",
      "----\n",
      "  Accuracy:  0.9565217391304348\n",
      "  Precision: 0.9561904761904761\n",
      "  Recall:    0.9561904761904761\n",
      "  F1 score:  0.9561904761904761\n",
      "  ROC score: 0.956190476190476\n",
      "  Mislabeled 4 out of 92\n",
      "Quantities are 42 for 0, 50 for 1\n",
      "\n",
      "\n"
     ]
    },
    {
     "data": {
      "image/png": "[encoded data removed]",
      "text/plain": [
       "<Figure size 300x300 with 2 Axes>"
      ]
     },
     "metadata": {},
     "output_type": "display_data"
    }
   ],
   "source": [
    "X_train, X_test, y_train, y_test = train_test_split(X, y,\n",
    "                                                   test_size=0.2,\n",
    "                                                   random_state=42,\n",
    "                                                   stratify=y \n",
    "                                                   )\n",
    "from imblearn.over_sampling import SMOTE\n",
    "sm = SMOTE(random_state=42,\n",
    "           sampling_strategy='auto',\n",
    "           k_neighbors=4 # choosing the amount od neighbours, 5 is default\n",
    "          )\n",
    "\n",
    "X_train_sm, y_train_sm = sm.fit_resample(X_train, y_train)\n",
    "\n",
    "for n, (train, val) in enumerate(kfoldcv.split(X_train_sm, y_train_sm), 1):\n",
    "    X_train_fold, y_train_fold = X_train_sm.iloc[train], y_train_sm.iloc[train]\n",
    "    X_val_fold, y_val_fold = X_train_sm.iloc[val], y_train_sm.iloc[val]\n",
    "    \n",
    "    # X_train_scaled = scaler.fit_transform(X_train_fold)\n",
    "    # X_val_scaled = scaler.fit_transform(X_val_fold)\n",
    "    \n",
    "    best_params = study.best_params\n",
    "    ada = AdaBoostClassifier(\n",
    "                         n_estimators=best_params['n_estimators'],\n",
    "                         learning_rate=best_params['learning_rate']\n",
    "                              )    \n",
    "                              \n",
    "    ada.fit(X_train_fold, y_train_fold)\n",
    "    y_pred = ada.predict(X_val_fold)\n",
    "    \n",
    "    print_results(calculate_metrics(y_val_fold, y_pred), classifier_id=n)\n",
    "    get_binary_classes(y_val_fold)\n",
    "    get_confusion_matrix(y_val_fold, y_pred)"
   ]
  },
  {
   "cell_type": "markdown",
   "id": "0a897a56-4e62-41b4-bcf1-cadead65fda1",
   "metadata": {},
   "source": [
    "Upon checking, it seems this time `OPTUNA` failed to find a better hyperparameters and the vanilla model works the best, which can we shown in cross validation above."
   ]
  },
  {
   "cell_type": "code",
   "execution_count": 154,
   "id": "b6819c4a-aa65-4728-9668-5b2326c5b644",
   "metadata": {},
   "outputs": [
    {
     "name": "stdout",
     "output_type": "stream",
     "text": [
      "Results for classifier\n",
      "----\n",
      "  Accuracy:  0.9324324324324325\n",
      "  Precision: 0.885645933014354\n",
      "  Recall:    0.9342672413793103\n",
      "  F1 score:  0.9064475347661188\n",
      "  ROC score: 0.9342672413793104\n",
      "  Mislabeled 5 out of 74\n",
      "Quantities are 58 for 0, 16 for 1\n",
      "\n",
      "\n"
     ]
    },
    {
     "data": {
      "image/png": "[encoded data removed]",
      "text/plain": [
       "<Figure size 300x300 with 2 Axes>"
      ]
     },
     "metadata": {},
     "output_type": "display_data"
    }
   ],
   "source": [
    "# let's test it on test data, which the model has not seen before\n",
    "# X_test_scaled = scaler.fit_transform(X_test)\n",
    "y_test_pred = ada.predict(X_test)\n",
    "\n",
    "print_results(calculate_metrics(y_test, y_test_pred))\n",
    "get_binary_classes(y_test)\n",
    "get_confusion_matrix(y_test, y_test_pred)"
   ]
  },
  {
   "cell_type": "code",
   "execution_count": 155,
   "id": "de21645e-7c60-4b4b-b83d-ed67253b2040",
   "metadata": {},
   "outputs": [
    {
     "name": "stdout",
     "output_type": "stream",
     "text": [
      "AdaBoost Feature Importance:\n",
      "     Feature  Importance\n",
      "10   oldpeak    0.250591\n",
      "6        Age    0.202128\n",
      "9        WBC    0.171395\n",
      "13  FollowUp    0.104019\n",
      "4     Others    0.094563\n",
      "11        ca    0.044917\n",
      "0   AgeGroup    0.027187\n",
      "1     Gender    0.027187\n",
      "5    SKReact    0.026005\n",
      "8   Diabetes    0.021277\n",
      "7   FHistory    0.011820\n",
      "3        HTN    0.010638\n",
      "12  Reaction    0.004728\n",
      "2    Smoking    0.003546\n"
     ]
    }
   ],
   "source": [
    "feat_importance_ada = ada.feature_importances_\n",
    "\n",
    "# Tworzenie DataFrame z ważnością cech\n",
    "feat_importance_ada_df = pd.DataFrame({'Feature': X_train.columns, 'Importance': feat_importance_ada})\n",
    "feat_importance_ada_df = feat_importance_ada_df.sort_values(by='Importance', ascending=False)\n",
    "\n",
    "print(\"AdaBoost Feature Importance:\")\n",
    "print(feat_importance_ada_df)"
   ]
  },
  {
   "cell_type": "code",
   "execution_count": 156,
   "id": "95f81131-6f4a-4e76-8d1e-74544fa66767",
   "metadata": {
    "tags": []
   },
   "outputs": [
    {
     "name": "stdout",
     "output_type": "stream",
     "text": [
      "Results for 1\n",
      "----\n",
      "  Accuracy:  1.0\n",
      "  Precision: 1.0\n",
      "  Recall:    1.0\n",
      "  F1 score:  1.0\n",
      "  ROC score: 1.0\n",
      "  Mislabeled 0 out of 92\n",
      "Quantities are 44 for 0, 48 for 1\n",
      "\n",
      "\n"
     ]
    },
    {
     "data": {
      "image/png": "[encoded data removed]",
      "text/plain": [
       "<Figure size 300x300 with 2 Axes>"
      ]
     },
     "metadata": {},
     "output_type": "display_data"
    },
    {
     "name": "stdout",
     "output_type": "stream",
     "text": [
      "Results for 2\n",
      "----\n",
      "  Accuracy:  0.9891304347826086\n",
      "  Precision: 0.9875\n",
      "  Recall:    0.9905660377358491\n",
      "  F1 score:  0.9889089813140446\n",
      "  ROC score: 0.9905660377358491\n",
      "  Mislabeled 1 out of 92\n",
      "Quantities are 53 for 0, 39 for 1\n",
      "\n",
      "\n"
     ]
    },
    {
     "data": {
      "image/png": "[encoded data removed]",
      "text/plain": [
       "<Figure size 300x300 with 2 Axes>"
      ]
     },
     "metadata": {},
     "output_type": "display_data"
    },
    {
     "name": "stdout",
     "output_type": "stream",
     "text": [
      "Results for 3\n",
      "----\n",
      "  Accuracy:  0.9565217391304348\n",
      "  Precision: 0.96\n",
      "  Recall:    0.9565217391304348\n",
      "  F1 score:  0.9564393939393939\n",
      "  ROC score: 0.9565217391304348\n",
      "  Mislabeled 4 out of 92\n",
      "Quantities are 46 for 0, 46 for 1\n",
      "\n",
      "\n"
     ]
    },
    {
     "data": {
      "image/png": "[encoded data removed]",
      "text/plain": [
       "<Figure size 300x300 with 2 Axes>"
      ]
     },
     "metadata": {},
     "output_type": "display_data"
    },
    {
     "name": "stdout",
     "output_type": "stream",
     "text": [
      "Results for 4\n",
      "----\n",
      "  Accuracy:  0.9891304347826086\n",
      "  Precision: 0.9895833333333333\n",
      "  Recall:    0.9888888888888889\n",
      "  F1 score:  0.9891188645771734\n",
      "  ROC score: 0.9888888888888888\n",
      "  Mislabeled 1 out of 92\n",
      "Quantities are 45 for 0, 47 for 1\n",
      "\n",
      "\n"
     ]
    },
    {
     "data": {
      "image/png": "[encoded data removed]",
      "text/plain": [
       "<Figure size 300x300 with 2 Axes>"
      ]
     },
     "metadata": {},
     "output_type": "display_data"
    },
    {
     "name": "stdout",
     "output_type": "stream",
     "text": [
      "Results for 5\n",
      "----\n",
      "  Accuracy:  0.9891304347826086\n",
      "  Precision: 0.9901960784313726\n",
      "  Recall:    0.9880952380952381\n",
      "  F1 score:  0.9890254085649528\n",
      "  ROC score: 0.988095238095238\n",
      "  Mislabeled 1 out of 92\n",
      "Quantities are 42 for 0, 50 for 1\n",
      "\n",
      "\n"
     ]
    },
    {
     "data": {
      "image/png": "[encoded data removed]",
      "text/plain": [
       "<Figure size 300x300 with 2 Axes>"
      ]
     },
     "metadata": {},
     "output_type": "display_data"
    }
   ],
   "source": [
    "X_train, X_test, y_train, y_test = train_test_split(X, y,\n",
    "                                                   test_size=0.2,\n",
    "                                                   random_state=42,\n",
    "                                                   stratify=y \n",
    "                                                   )\n",
    "from imblearn.over_sampling import SMOTE\n",
    "sm = SMOTE(random_state=42,\n",
    "           sampling_strategy='auto',\n",
    "           k_neighbors=4 # choosing the amount od neighbours, 5 is default\n",
    "          )\n",
    "\n",
    "X_train_sm, y_train_sm = sm.fit_resample(X_train, y_train)\n",
    "\n",
    "# let's try on vanilla AdaBoost\n",
    "for n, (train, val) in enumerate(kfoldcv.split(X_train_sm, y_train_sm), 1):\n",
    "    X_train_fold, y_train_fold = X_train_sm.iloc[train], y_train_sm.iloc[train]\n",
    "    X_val_fold, y_val_fold = X_train_sm.iloc[val], y_train_sm.iloc[val]\n",
    "    \n",
    "    # X_train_scaled = scaler.fit_transform(X_train_fold)\n",
    "    # X_val_scaled = scaler.fit_transform(X_val_fold)\n",
    "    \n",
    "    xgb = XGBClassifier()\n",
    "    xgb.fit(X_train_fold, y_train_fold)\n",
    "    y_pred = xgb.predict(X_val_fold)\n",
    "    \n",
    "    print_results(calculate_metrics(y_val_fold, y_pred), classifier_id=n)\n",
    "    get_binary_classes(y_val_fold)\n",
    "    get_confusion_matrix(y_val_fold, y_pred)"
   ]
  },
  {
   "cell_type": "code",
   "execution_count": 157,
   "id": "b37d0d22-411d-4d9a-a944-aadad18440fd",
   "metadata": {},
   "outputs": [
    {
     "name": "stdout",
     "output_type": "stream",
     "text": [
      "Results for classifier\n",
      "----\n",
      "  Accuracy:  0.9864864864864865\n",
      "  Precision: 0.9705882352941176\n",
      "  Recall:    0.9913793103448276\n",
      "  F1 score:  0.9805006587615284\n",
      "  ROC score: 0.9913793103448275\n",
      "  Mislabeled 1 out of 74\n",
      "Quantities are 58 for 0, 16 for 1\n",
      "\n",
      "\n"
     ]
    },
    {
     "data": {
      "image/png": "[encoded data removed]",
      "text/plain": [
       "<Figure size 300x300 with 2 Axes>"
      ]
     },
     "metadata": {},
     "output_type": "display_data"
    }
   ],
   "source": [
    "# let's test it on test data, which the model has not seen before\n",
    "# X_test_scaled = scaler.fit_transform(X_test)\n",
    "y_test_pred = xgb.predict(X_test)\n",
    "\n",
    "print_results(calculate_metrics(y_test, y_test_pred))\n",
    "get_binary_classes(y_test)\n",
    "get_confusion_matrix(y_test, y_test_pred)"
   ]
  },
  {
   "cell_type": "markdown",
   "id": "fda5b4bf-6aa0-43dd-b804-9a736a993c09",
   "metadata": {},
   "source": [
    "Vanilla XGBoost did better on the unseen data than AdaBoost. \n",
    "So let's try with Optuna!"
   ]
  },
  {
   "cell_type": "code",
   "execution_count": 158,
   "id": "29c37cea-6b39-45c5-bde9-5ab1d509e173",
   "metadata": {
    "tags": []
   },
   "outputs": [
    {
     "name": "stderr",
     "output_type": "stream",
     "text": [
      "[I 2023-10-03 23:29:48,795] A new study created in memory with name: no-name-fd158c5c-0a18-4a24-968b-402aa14a07aa\n",
      "[I 2023-10-03 23:29:49,063] Trial 0 finished with value: 0.8706896551724138 and parameters: {'booster': 'dart', 'lambda': 0.009182713547857425, 'alpha': 6.680617296688364, 'max_depth': 11, 'eta': 0.08025668386834561, 'gamma': 0.812916015597442, 'subsample': 0.7565742479599245, 'colsample_bytree': 0.3704192085532293}. Best is trial 0 with value: 0.8706896551724138.\n",
      "[I 2023-10-03 23:29:49,340] Trial 1 finished with value: 0.9308832425892317 and parameters: {'booster': 'dart', 'lambda': 0.00018760070572807605, 'alpha': 5.828377825095654e-05, 'max_depth': 12, 'eta': 0.05753696241705195, 'gamma': 0.38501457392939487, 'subsample': 0.34441523805458246, 'colsample_bytree': 0.6285874667436064}. Best is trial 1 with value: 0.9308832425892317.\n",
      "[I 2023-10-03 23:29:49,413] Trial 2 finished with value: 0.9134906231094978 and parameters: {'booster': 'gbtree', 'lambda': 0.0007292341431676473, 'alpha': 2.5280188641043235, 'max_depth': 8, 'eta': 0.20083493330353042, 'gamma': 0.9078359106002891, 'subsample': 0.4894404905563243, 'colsample_bytree': 0.6764813326998153}. Best is trial 1 with value: 0.9308832425892317.\n",
      "[I 2023-10-03 23:29:49,750] Trial 3 finished with value: 0.9653660012099213 and parameters: {'booster': 'dart', 'lambda': 0.003541294274921423, 'alpha': 0.00022680609953813652, 'max_depth': 16, 'eta': 0.29461516167044627, 'gamma': 0.22548207726204128, 'subsample': 0.8087136932292782, 'colsample_bytree': 0.8435227132611296}. Best is trial 3 with value: 0.9653660012099213.\n",
      "[I 2023-10-03 23:29:50,156] Trial 4 finished with value: 0.9310344827586207 and parameters: {'booster': 'dart', 'lambda': 0.22034781016484106, 'alpha': 0.5238860368536771, 'max_depth': 8, 'eta': 0.03135385581592587, 'gamma': 0.2996938459742331, 'subsample': 0.3394007403564242, 'colsample_bytree': 0.984473188478997}. Best is trial 3 with value: 0.9653660012099213.\n",
      "[I 2023-10-03 23:29:50,184] Trial 5 finished with value: 0.7126436781609194 and parameters: {'booster': 'gblinear', 'lambda': 0.3848106382247342, 'alpha': 0.029631327457039457, 'max_depth': 4, 'eta': 0.20988760988463215, 'gamma': 0.6950424685545163, 'subsample': 0.7453435333469721, 'colsample_bytree': 0.9830589522221828}. Best is trial 3 with value: 0.9653660012099213.\n",
      "[I 2023-10-03 23:29:50,211] Trial 6 finished with value: 0.6522988505747127 and parameters: {'booster': 'gblinear', 'lambda': 5.5322333435350615, 'alpha': 5.913402549602159e-05, 'max_depth': 6, 'eta': 0.08170571859261558, 'gamma': 0.24195567685090758, 'subsample': 0.6497559430241961, 'colsample_bytree': 0.8317314499870002}. Best is trial 3 with value: 0.9653660012099213.\n",
      "[I 2023-10-03 23:29:50,241] Trial 7 finished with value: 0.808529945553539 and parameters: {'booster': 'gblinear', 'lambda': 0.018471780194716556, 'alpha': 7.209235321279866e-05, 'max_depth': 15, 'eta': 0.019034763593683172, 'gamma': 0.8275409542829928, 'subsample': 0.760885608756115, 'colsample_bytree': 0.568881405108039}. Best is trial 3 with value: 0.9653660012099213.\n"
     ]
    },
    {
     "name": "stdout",
     "output_type": "stream",
     "text": [
      "[23:29:50] WARNING: /Users/runner/work/xgboost/xgboost/python-package/build/temp.macosx-11.0-arm64-cpython-38/xgboost/src/learner.cc:767: \n",
      "Parameters: { \"colsample_bytree\", \"gamma\", \"max_depth\", \"subsample\" } are not used.\n",
      "\n",
      "[23:29:50] WARNING: /Users/runner/work/xgboost/xgboost/python-package/build/temp.macosx-11.0-arm64-cpython-38/xgboost/src/learner.cc:767: \n",
      "Parameters: { \"colsample_bytree\", \"gamma\", \"max_depth\", \"subsample\" } are not used.\n",
      "\n",
      "[23:29:50] WARNING: /Users/runner/work/xgboost/xgboost/python-package/build/temp.macosx-11.0-arm64-cpython-38/xgboost/src/learner.cc:767: \n",
      "Parameters: { \"colsample_bytree\", \"gamma\", \"max_depth\", \"subsample\" } are not used.\n",
      "\n"
     ]
    },
    {
     "name": "stderr",
     "output_type": "stream",
     "text": [
      "[I 2023-10-03 23:29:50,682] Trial 8 finished with value: 0.9653660012099213 and parameters: {'booster': 'dart', 'lambda': 0.00028890803455531466, 'alpha': 0.000209227063052545, 'max_depth': 13, 'eta': 0.08809547288914965, 'gamma': 0.1968613643523327, 'subsample': 0.6922373864929637, 'colsample_bytree': 0.8563426875363335}. Best is trial 3 with value: 0.9653660012099213.\n",
      "[I 2023-10-03 23:29:51,075] Trial 9 finished with value: 0.956745311554749 and parameters: {'booster': 'dart', 'lambda': 0.45339179015615133, 'alpha': 0.01591320321585854, 'max_depth': 15, 'eta': 0.28746044569371515, 'gamma': 0.9602925754098856, 'subsample': 0.5247810450450894, 'colsample_bytree': 0.7309295949437747}. Best is trial 3 with value: 0.9653660012099213.\n",
      "[I 2023-10-03 23:29:51,176] Trial 10 finished with value: 0.9653660012099213 and parameters: {'booster': 'gbtree', 'lambda': 1.7897201514699135e-05, 'alpha': 0.0009352805126599976, 'max_depth': 20, 'eta': 0.2973112394752712, 'gamma': 0.005180963809070183, 'subsample': 0.9896610375684316, 'colsample_bytree': 0.23754651495905416}. Best is trial 3 with value: 0.9653660012099213.\n",
      "[I 2023-10-03 23:29:51,615] Trial 11 finished with value: 0.9655172413793103 and parameters: {'booster': 'dart', 'lambda': 0.0008223103085725598, 'alpha': 0.0011973254625686502, 'max_depth': 18, 'eta': 0.12887827249305112, 'gamma': 0.13403753785790054, 'subsample': 0.14028251119717644, 'colsample_bytree': 0.8280454259634826}. Best is trial 11 with value: 0.9655172413793103.\n",
      "[I 2023-10-03 23:29:52,046] Trial 12 finished with value: 0.9050211736237144 and parameters: {'booster': 'dart', 'lambda': 0.0028470031502789103, 'alpha': 1.0818267027357385e-05, 'max_depth': 20, 'eta': 0.13346757021292352, 'gamma': 0.06520823096647468, 'subsample': 0.1008515351302588, 'colsample_bytree': 0.47343083736353236}. Best is trial 11 with value: 0.9655172413793103.\n",
      "[I 2023-10-03 23:29:52,539] Trial 13 finished with value: 0.9482758620689655 and parameters: {'booster': 'dart', 'lambda': 0.0020792138775777565, 'alpha': 0.0019018571824847928, 'max_depth': 17, 'eta': 0.14807031642993246, 'gamma': 0.479863678728671, 'subsample': 0.11742318371423247, 'colsample_bytree': 0.7593697049177377}. Best is trial 11 with value: 0.9655172413793103.\n",
      "[I 2023-10-03 23:29:53,037] Trial 14 finished with value: 0.9653660012099213 and parameters: {'booster': 'dart', 'lambda': 3.748188054388909e-05, 'alpha': 0.0018600841577936032, 'max_depth': 17, 'eta': 0.24673918899339942, 'gamma': 0.1581453937227771, 'subsample': 0.9036433443040665, 'colsample_bytree': 0.8411526762541472}. Best is trial 11 with value: 0.9655172413793103.\n",
      "[I 2023-10-03 23:29:53,207] Trial 15 finished with value: 0.9653660012099213 and parameters: {'booster': 'gbtree', 'lambda': 0.00011312161740836746, 'alpha': 0.0005194499666757562, 'max_depth': 17, 'eta': 0.1814067588440657, 'gamma': 0.12914412481092577, 'subsample': 0.8940475047283842, 'colsample_bytree': 0.5157638783259951}. Best is trial 11 with value: 0.9655172413793103.\n",
      "[I 2023-10-03 23:29:53,603] Trial 16 finished with value: 0.9482758620689655 and parameters: {'booster': 'dart', 'lambda': 1.142090773202733e-05, 'alpha': 0.00509461775774372, 'max_depth': 18, 'eta': 0.24871385074559887, 'gamma': 0.316446495640907, 'subsample': 0.23023617710809074, 'colsample_bytree': 0.6641459616633354}. Best is trial 11 with value: 0.9655172413793103.\n",
      "[I 2023-10-03 23:29:54,074] Trial 17 finished with value: 0.9741379310344828 and parameters: {'booster': 'dart', 'lambda': 0.0009004265151209666, 'alpha': 0.04597809138355861, 'max_depth': 14, 'eta': 0.12484850387816859, 'gamma': 0.10581515724486083, 'subsample': 0.5948504323758117, 'colsample_bytree': 0.9256309697794173}. Best is trial 17 with value: 0.9741379310344828.\n",
      "[I 2023-10-03 23:29:54,249] Trial 18 finished with value: 0.9653660012099213 and parameters: {'booster': 'gbtree', 'lambda': 0.0006249153668683611, 'alpha': 0.06480220365966789, 'max_depth': 13, 'eta': 0.1174141456150245, 'gamma': 0.013177575970139174, 'subsample': 0.5956380882992794, 'colsample_bytree': 0.9923743325433825}. Best is trial 17 with value: 0.9741379310344828.\n",
      "[I 2023-10-03 23:29:54,310] Trial 19 finished with value: 0.6262855414398064 and parameters: {'booster': 'gblinear', 'lambda': 5.006500150263546e-05, 'alpha': 0.08770293204981107, 'max_depth': 9, 'eta': 0.1194113749052629, 'gamma': 0.10838080187691612, 'subsample': 0.44451002328602857, 'colsample_bytree': 0.9165777231221626}. Best is trial 17 with value: 0.9741379310344828.\n"
     ]
    },
    {
     "name": "stdout",
     "output_type": "stream",
     "text": [
      "[23:29:54] WARNING: /Users/runner/work/xgboost/xgboost/python-package/build/temp.macosx-11.0-arm64-cpython-38/xgboost/src/learner.cc:767: \n",
      "Parameters: { \"colsample_bytree\", \"gamma\", \"max_depth\", \"subsample\" } are not used.\n",
      "\n"
     ]
    },
    {
     "name": "stderr",
     "output_type": "stream",
     "text": [
      "[I 2023-10-03 23:29:54,773] Trial 20 finished with value: 0.9653660012099213 and parameters: {'booster': 'dart', 'lambda': 0.0007152542679274742, 'alpha': 0.005004912155524954, 'max_depth': 19, 'eta': 0.16213430150245714, 'gamma': 0.42912975998306907, 'subsample': 0.6007322747252117, 'colsample_bytree': 0.7480974435511694}. Best is trial 17 with value: 0.9741379310344828.\n",
      "[I 2023-10-03 23:29:55,169] Trial 21 finished with value: 0.9653660012099213 and parameters: {'booster': 'dart', 'lambda': 0.0032077276641721358, 'alpha': 0.005210472420381566, 'max_depth': 15, 'eta': 0.16749892533198224, 'gamma': 0.22872710167497223, 'subsample': 0.4279308282868672, 'colsample_bytree': 0.8881698077257187}. Best is trial 17 with value: 0.9741379310344828.\n",
      "[I 2023-10-03 23:29:55,638] Trial 22 finished with value: 0.9653660012099213 and parameters: {'booster': 'dart', 'lambda': 0.012416624397385057, 'alpha': 0.00045122437442804013, 'max_depth': 15, 'eta': 0.141240349796277, 'gamma': 0.16150121673352447, 'subsample': 0.5648202580868515, 'colsample_bytree': 0.8161303845479561}. Best is trial 17 with value: 0.9741379310344828.\n",
      "[I 2023-10-03 23:29:56,120] Trial 23 finished with value: 0.9653660012099213 and parameters: {'booster': 'dart', 'lambda': 0.00011343872579860574, 'alpha': 0.013871332341785182, 'max_depth': 16, 'eta': 0.11892155028410228, 'gamma': 0.07982233801432975, 'subsample': 0.6519263935795786, 'colsample_bytree': 0.9344181032815684}. Best is trial 17 with value: 0.9741379310344828.\n",
      "[I 2023-10-03 23:29:56,632] Trial 24 finished with value: 0.9827586206896552 and parameters: {'booster': 'dart', 'lambda': 0.0014541267657902266, 'alpha': 0.23705239367068007, 'max_depth': 13, 'eta': 0.1847737953786515, 'gamma': 0.2930542643929927, 'subsample': 0.18816630158298278, 'colsample_bytree': 0.7966541910512087}. Best is trial 24 with value: 0.9827586206896552.\n",
      "[I 2023-10-03 23:29:57,113] Trial 25 finished with value: 0.9568965517241379 and parameters: {'booster': 'dart', 'lambda': 0.0003767073462620782, 'alpha': 0.19662073988170312, 'max_depth': 11, 'eta': 0.17634545898790355, 'gamma': 0.3220241226594497, 'subsample': 0.2165469634729531, 'colsample_bytree': 0.7737903451432149}. Best is trial 24 with value: 0.9827586206896552.\n",
      "[I 2023-10-03 23:29:57,625] Trial 26 finished with value: 0.9655172413793103 and parameters: {'booster': 'dart', 'lambda': 0.001222383371689522, 'alpha': 0.37204739459601666, 'max_depth': 13, 'eta': 0.09919983556744806, 'gamma': 0.5683075942553172, 'subsample': 0.18522171744785026, 'colsample_bytree': 0.9071608096765529}. Best is trial 24 with value: 0.9827586206896552.\n",
      "[I 2023-10-03 23:29:58,132] Trial 27 finished with value: 0.9482758620689655 and parameters: {'booster': 'dart', 'lambda': 0.0003231611137670245, 'alpha': 0.041388567983908095, 'max_depth': 10, 'eta': 0.142556546683079, 'gamma': 0.06863550973706127, 'subsample': 0.2923980010750356, 'colsample_bytree': 0.7088420143930032}. Best is trial 24 with value: 0.9827586206896552.\n",
      "[I 2023-10-03 23:29:58,191] Trial 28 finished with value: 0.705232909860859 and parameters: {'booster': 'gblinear', 'lambda': 0.0007105031850377405, 'alpha': 0.13234255609447046, 'max_depth': 14, 'eta': 0.157228638488645, 'gamma': 0.270574973211432, 'subsample': 0.17883293502954017, 'colsample_bytree': 0.7940929917253547}. Best is trial 24 with value: 0.9827586206896552.\n",
      "[I 2023-10-03 23:29:58,292] Trial 29 finished with value: 0.9481246218995765 and parameters: {'booster': 'gbtree', 'lambda': 0.009610147895164142, 'alpha': 1.0893285314833994, 'max_depth': 12, 'eta': 0.10233216043350005, 'gamma': 0.17733462106019174, 'subsample': 0.25146332904036117, 'colsample_bytree': 0.6237111655132457}. Best is trial 24 with value: 0.9827586206896552.\n"
     ]
    },
    {
     "name": "stdout",
     "output_type": "stream",
     "text": [
      "[23:29:58] WARNING: /Users/runner/work/xgboost/xgboost/python-package/build/temp.macosx-11.0-arm64-cpython-38/xgboost/src/learner.cc:767: \n",
      "Parameters: { \"colsample_bytree\", \"gamma\", \"max_depth\", \"subsample\" } are not used.\n",
      "\n"
     ]
    },
    {
     "name": "stderr",
     "output_type": "stream",
     "text": [
      "[I 2023-10-03 23:29:58,726] Trial 30 finished with value: 0.9482758620689655 and parameters: {'booster': 'dart', 'lambda': 0.034836677863803185, 'alpha': 0.03169772584090433, 'max_depth': 10, 'eta': 0.19086753464439749, 'gamma': 0.34402876745934236, 'subsample': 0.37416057827681826, 'colsample_bytree': 0.9258224624736032}. Best is trial 24 with value: 0.9827586206896552.\n",
      "[I 2023-10-03 23:29:59,200] Trial 31 finished with value: 0.9221113127646703 and parameters: {'booster': 'dart', 'lambda': 0.0024161406170380676, 'alpha': 0.34180565499719906, 'max_depth': 13, 'eta': 0.10147914615080801, 'gamma': 0.6144971986237151, 'subsample': 0.1447778440888658, 'colsample_bytree': 0.8906151753398756}. Best is trial 24 with value: 0.9827586206896552.\n",
      "[I 2023-10-03 23:29:59,576] Trial 32 finished with value: 0.8182093163944344 and parameters: {'booster': 'dart', 'lambda': 0.0011104671107137537, 'alpha': 8.30812283648205, 'max_depth': 12, 'eta': 0.06424661592012886, 'gamma': 0.4037371493380939, 'subsample': 0.17523994562160067, 'colsample_bytree': 0.7930489372786984}. Best is trial 24 with value: 0.9827586206896552.\n",
      "[I 2023-10-03 23:30:00,013] Trial 33 finished with value: 0.8879310344827587 and parameters: {'booster': 'dart', 'lambda': 0.0013350508938716702, 'alpha': 2.02588906053662, 'max_depth': 14, 'eta': 0.13091454284788062, 'gamma': 0.5493689191872198, 'subsample': 0.1723819397181683, 'colsample_bytree': 0.9403249276010708}. Best is trial 24 with value: 0.9827586206896552.\n",
      "[I 2023-10-03 23:30:00,389] Trial 34 finished with value: 0.9568965517241379 and parameters: {'booster': 'dart', 'lambda': 0.004846570130872562, 'alpha': 0.2110395653977116, 'max_depth': 18, 'eta': 0.06754869128216748, 'gamma': 0.35709240471473924, 'subsample': 0.30394566991461036, 'colsample_bytree': 0.8661924841483264}. Best is trial 24 with value: 0.9827586206896552.\n",
      "[I 2023-10-03 23:30:00,844] Trial 35 finished with value: 0.8616152450090744 and parameters: {'booster': 'dart', 'lambda': 0.00016839700263411074, 'alpha': 0.5161084818787055, 'max_depth': 11, 'eta': 0.04271454821866848, 'gamma': 0.26371137436918185, 'subsample': 0.10016996307002637, 'colsample_bytree': 0.6867077379818631}. Best is trial 24 with value: 0.9827586206896552.\n",
      "[I 2023-10-03 23:30:01,364] Trial 36 finished with value: 0.956745311554749 and parameters: {'booster': 'dart', 'lambda': 0.0062104094659988715, 'alpha': 0.07887677037488872, 'max_depth': 14, 'eta': 0.10170043112674636, 'gamma': 0.21435073391842502, 'subsample': 0.2836806997549992, 'colsample_bytree': 0.8853763540917357}. Best is trial 24 with value: 0.9827586206896552.\n",
      "[I 2023-10-03 23:30:01,850] Trial 37 finished with value: 0.8706896551724138 and parameters: {'booster': 'dart', 'lambda': 0.0014176966624999674, 'alpha': 4.234680759254515, 'max_depth': 3, 'eta': 0.1523524251197338, 'gamma': 0.4094051103094585, 'subsample': 0.351817202737786, 'colsample_bytree': 0.9751679675513774}. Best is trial 24 with value: 0.9827586206896552.\n",
      "[I 2023-10-03 23:30:01,908] Trial 38 finished with value: 0.6076830006049607 and parameters: {'booster': 'gblinear', 'lambda': 0.0004936467543701908, 'alpha': 1.000230585837955, 'max_depth': 7, 'eta': 0.08793564079957138, 'gamma': 0.28868815660983677, 'subsample': 0.2583975430568965, 'colsample_bytree': 0.8148408076096662}. Best is trial 24 with value: 0.9827586206896552.\n",
      "[I 2023-10-03 23:30:02,006] Trial 39 finished with value: 0.956745311554749 and parameters: {'booster': 'gbtree', 'lambda': 0.0012770518775976603, 'alpha': 0.26675865223877304, 'max_depth': 16, 'eta': 0.07143879172116831, 'gamma': 0.13133534242082034, 'subsample': 0.22892932331257107, 'colsample_bytree': 0.9575366945552712}. Best is trial 24 with value: 0.9827586206896552.\n"
     ]
    },
    {
     "name": "stdout",
     "output_type": "stream",
     "text": [
      "[23:30:01] WARNING: /Users/runner/work/xgboost/xgboost/python-package/build/temp.macosx-11.0-arm64-cpython-38/xgboost/src/learner.cc:767: \n",
      "Parameters: { \"colsample_bytree\", \"gamma\", \"max_depth\", \"subsample\" } are not used.\n",
      "\n"
     ]
    }
   ],
   "source": [
    "X_train, X_test, y_train, y_test = train_test_split(X, y,\n",
    "                                                   test_size=0.2,\n",
    "                                                   random_state=42,\n",
    "                                                   stratify=y \n",
    "                                                   )\n",
    "from imblearn.over_sampling import SMOTE\n",
    "sm = SMOTE(random_state=42,\n",
    "           sampling_strategy='auto',\n",
    "           k_neighbors=4 # choosing the amount od neighbours, 5 is default\n",
    "          )\n",
    "\n",
    "X_train_sm, y_train_sm = sm.fit_resample(X_train, y_train)\n",
    "\n",
    "X_train, X_val, y_train, y_val = train_test_split(X_train_sm, y_train_sm,\n",
    "                                                      test_size=0.25,\n",
    "                                                      random_state=42,\n",
    "                                                      stratify=y_train_sm\n",
    "                                                     )\n",
    "\n",
    "def objective(trial):\n",
    "\n",
    "    params = {\n",
    "        'objective': 'binary:logistic',\n",
    "        'eval_metric': 'logloss',\n",
    "        'booster': trial.suggest_categorical('booster', ['gbtree', 'gblinear', 'dart']),\n",
    "        'lambda': trial.suggest_float('lambda', 1e-5, 10.0, log=True),\n",
    "        'alpha': trial.suggest_float('alpha', 1e-5, 10.0, log=True),\n",
    "        'max_depth': trial.suggest_int('max_depth', 3, 20),\n",
    "        'eta': trial.suggest_float('eta', 0.01, 0.3),\n",
    "        'gamma': trial.suggest_float('gamma', 0.0, 1.0),\n",
    "        'subsample': trial.suggest_float('subsample', 0.1, 1.0),\n",
    "        'colsample_bytree': trial.suggest_float('colsample_bytree', 0.1, 1.0)\n",
    "    }\n",
    "\n",
    "\n",
    "    xgb2 = XGBClassifier(**params, random_state=42)\n",
    "\n",
    "    xgb2.fit(X_train, y_train)\n",
    "    y_pred_val = xgb2.predict(X_val)\n",
    "    roc = roc_auc_score(y_val, y_pred_val)\n",
    "    return roc\n",
    "\n",
    "\n",
    "study = optuna.create_study(direction='maximize')\n",
    "study.optimize(objective, n_trials=40)"
   ]
  },
  {
   "cell_type": "code",
   "execution_count": 159,
   "id": "67516bc4-756b-4bda-b01c-448368607b23",
   "metadata": {},
   "outputs": [
    {
     "name": "stdout",
     "output_type": "stream",
     "text": [
      "Results for 1\n",
      "----\n",
      "  Accuracy:  0.9891304347826086\n",
      "  Precision: 0.9888888888888889\n",
      "  Recall:    0.9895833333333333\n",
      "  F1 score:  0.9891188645771734\n",
      "  ROC score: 0.9895833333333333\n",
      "  Mislabeled 1 out of 92\n",
      "Quantities are 44 for 0, 48 for 1\n",
      "\n",
      "\n"
     ]
    },
    {
     "data": {
      "image/png": "[encoded data removed]",
      "text/plain": [
       "<Figure size 300x300 with 2 Axes>"
      ]
     },
     "metadata": {},
     "output_type": "display_data"
    },
    {
     "name": "stdout",
     "output_type": "stream",
     "text": [
      "Results for 2\n",
      "----\n",
      "  Accuracy:  0.9565217391304348\n",
      "  Precision: 0.953610712577714\n",
      "  Recall:    0.9588776003870343\n",
      "  F1 score:  0.9557692307692308\n",
      "  ROC score: 0.9588776003870344\n",
      "  Mislabeled 4 out of 92\n",
      "Quantities are 53 for 0, 39 for 1\n",
      "\n",
      "\n"
     ]
    },
    {
     "data": {
      "image/png": "[encoded data removed]",
      "text/plain": [
       "<Figure size 300x300 with 2 Axes>"
      ]
     },
     "metadata": {},
     "output_type": "display_data"
    },
    {
     "name": "stdout",
     "output_type": "stream",
     "text": [
      "Results for 3\n",
      "----\n",
      "  Accuracy:  0.9130434782608695\n",
      "  Precision: 0.9259259259259259\n",
      "  Recall:    0.9130434782608696\n",
      "  F1 score:  0.9123809523809523\n",
      "  ROC score: 0.9130434782608696\n",
      "  Mislabeled 8 out of 92\n",
      "Quantities are 46 for 0, 46 for 1\n",
      "\n",
      "\n"
     ]
    },
    {
     "data": {
      "image/png": "[encoded data removed]",
      "text/plain": [
       "<Figure size 300x300 with 2 Axes>"
      ]
     },
     "metadata": {},
     "output_type": "display_data"
    },
    {
     "name": "stdout",
     "output_type": "stream",
     "text": [
      "Results for 4\n",
      "----\n",
      "  Accuracy:  0.9782608695652174\n",
      "  Precision: 0.9782505910165484\n",
      "  Recall:    0.9782505910165484\n",
      "  F1 score:  0.9782505910165484\n",
      "  ROC score: 0.9782505910165484\n",
      "  Mislabeled 2 out of 92\n",
      "Quantities are 45 for 0, 47 for 1\n",
      "\n",
      "\n"
     ]
    },
    {
     "data": {
      "image/png": "[encoded data removed]",
      "text/plain": [
       "<Figure size 300x300 with 2 Axes>"
      ]
     },
     "metadata": {},
     "output_type": "display_data"
    },
    {
     "name": "stdout",
     "output_type": "stream",
     "text": [
      "Results for 5\n",
      "----\n",
      "  Accuracy:  0.9347826086956522\n",
      "  Precision: 0.9405458089668617\n",
      "  Recall:    0.9304761904761905\n",
      "  F1 score:  0.9336538461538462\n",
      "  ROC score: 0.9304761904761905\n",
      "  Mislabeled 6 out of 92\n",
      "Quantities are 42 for 0, 50 for 1\n",
      "\n",
      "\n"
     ]
    },
    {
     "data": {
      "image/png": "[encoded data removed]",
      "text/plain": [
       "<Figure size 300x300 with 2 Axes>"
      ]
     },
     "metadata": {},
     "output_type": "display_data"
    }
   ],
   "source": [
    "X_train, X_test, y_train, y_test = train_test_split(X, y,\n",
    "                                                   test_size=0.2,\n",
    "                                                   random_state=42,\n",
    "                                                   stratify=y \n",
    "                                                   )\n",
    "from imblearn.over_sampling import SMOTE\n",
    "sm = SMOTE(random_state=42,\n",
    "           sampling_strategy='auto',\n",
    "           k_neighbors=4 # choosing the amount od neighbours, 5 is default\n",
    "          )\n",
    "\n",
    "X_train_sm, y_train_sm = sm.fit_resample(X_train, y_train)\n",
    "\n",
    "for n, (train, val) in enumerate(kfoldcv.split(X_train_sm, y_train_sm), 1):\n",
    "    X_train_fold, y_train_fold = X_train_sm.iloc[train], y_train_sm.iloc[train]\n",
    "    X_val_fold, y_val_fold = X_train_sm.iloc[val], y_train_sm.iloc[val]\n",
    "    \n",
    "    best_params = study.best_params\n",
    "\n",
    "\n",
    "    xgb = XGBClassifier(\n",
    "        booster=best_params['booster'],\n",
    "        alpha=best_params['alpha'],\n",
    "        max_depth=best_params['max_depth'],\n",
    "        eta=best_params['eta'],\n",
    "        gamma=best_params['gamma'],\n",
    "        subsample=best_params['subsample'],\n",
    "        colsample_bytree=best_params['colsample_bytree'],\n",
    "        objective='binary:logistic',\n",
    "        eval_metric='logloss',\n",
    "        random_state=42\n",
    "    )\n",
    "\n",
    "\n",
    "    xgb.fit(X_train_fold, y_train_fold)\n",
    "    y_pred = xgb.predict(X_val_fold)\n",
    "    \n",
    "    print_results(calculate_metrics(y_val_fold, y_pred), classifier_id=n)\n",
    "    get_binary_classes(y_val_fold)\n",
    "    get_confusion_matrix(y_val_fold, y_pred)"
   ]
  },
  {
   "cell_type": "code",
   "execution_count": 160,
   "id": "3d3177cd-39cc-400d-aa1f-45bb2c89493d",
   "metadata": {},
   "outputs": [
    {
     "name": "stdout",
     "output_type": "stream",
     "text": [
      "Results for classifier\n",
      "----\n",
      "  Accuracy:  0.9594594594594594\n",
      "  Precision: 0.9210526315789473\n",
      "  Recall:    0.9741379310344828\n",
      "  F1 score:  0.9438685208596713\n",
      "  ROC score: 0.9741379310344828\n",
      "  Mislabeled 3 out of 74\n",
      "Quantities are 58 for 0, 16 for 1\n",
      "\n",
      "\n"
     ]
    },
    {
     "data": {
      "image/png": "[encoded data removed]",
      "text/plain": [
       "<Figure size 300x300 with 2 Axes>"
      ]
     },
     "metadata": {},
     "output_type": "display_data"
    }
   ],
   "source": [
    "# let's test it on test data, which the model has not seen before\n",
    "# X_test_scaled = scaler.fit_transform(X_test)\n",
    "y_test_pred = xgb.predict(X_test)\n",
    "\n",
    "print_results(calculate_metrics(y_test, y_test_pred))\n",
    "get_binary_classes(y_test)\n",
    "get_confusion_matrix(y_test, y_test_pred)"
   ]
  },
  {
   "cell_type": "code",
   "execution_count": null,
   "id": "ff55f7ab-d73d-4a87-be15-167c5186de6d",
   "metadata": {},
   "outputs": [],
   "source": []
  },
  {
   "cell_type": "code",
   "execution_count": null,
   "id": "7c7c6b6e-adb1-47dc-933d-79b166d7c7e7",
   "metadata": {},
   "outputs": [],
   "source": []
  },
  {
   "cell_type": "code",
   "execution_count": null,
   "id": "a2ef2ec1-f524-4d49-95a9-f00b0c2276b9",
   "metadata": {},
   "outputs": [],
   "source": []
  },
  {
   "cell_type": "code",
   "execution_count": null,
   "id": "204c40ca-83b6-466a-a750-d3d18d84c597",
   "metadata": {},
   "outputs": [],
   "source": []
  },
  {
   "cell_type": "code",
   "execution_count": null,
   "id": "9ba6634e-f634-4127-83a1-83a4a6b10343",
   "metadata": {},
   "outputs": [],
   "source": []
  },
  {
   "cell_type": "code",
   "execution_count": null,
   "id": "77529660-1b22-48f3-8dd0-65478d3b7ddf",
   "metadata": {},
   "outputs": [],
   "source": []
  },
  {
   "cell_type": "code",
   "execution_count": null,
   "id": "098d32dd-f338-43d2-97d6-7b630ed2c04f",
   "metadata": {},
   "outputs": [],
   "source": []
  },
  {
   "cell_type": "code",
   "execution_count": null,
   "id": "7fcf30ca-7649-4930-a24f-09808f6abe6e",
   "metadata": {},
   "outputs": [],
   "source": []
  },
  {
   "cell_type": "code",
   "execution_count": 161,
   "id": "3f0fa4d9-0154-4c97-9e4d-7619d1ab8add",
   "metadata": {},
   "outputs": [
    {
     "name": "stdout",
     "output_type": "stream",
     "text": [
      "XGBoost Feature Importance:\n",
      "     Feature  Importance\n",
      "0   AgeGroup    0.145373\n",
      "1     Gender    0.141440\n",
      "11        ca    0.086488\n",
      "12  Reaction    0.084376\n",
      "13  FollowUp    0.075077\n",
      "8   Diabetes    0.070742\n",
      "7   FHistory    0.070686\n",
      "6        Age    0.068881\n",
      "10   oldpeak    0.058158\n",
      "9        WBC    0.050184\n",
      "3        HTN    0.045045\n",
      "4     Others    0.039405\n",
      "2    Smoking    0.032480\n",
      "5    SKReact    0.031665\n"
     ]
    }
   ],
   "source": [
    "feat_importance_xgb = xgb.feature_importances_\n",
    "\n",
    "# Tworzenie DataFrame z ważnością cech\n",
    "feat_importance_xgb_df = pd.DataFrame({'Feature': X_train.columns, 'Importance': feat_importance_xgb})\n",
    "feat_importance_xgb_df = feat_importance_xgb_df.sort_values(by='Importance', ascending=False)\n",
    "\n",
    "print(\"XGBoost Feature Importance:\")\n",
    "print(feat_importance_xgb_df)"
   ]
  },
  {
   "cell_type": "code",
   "execution_count": 158,
   "id": "8aa226b7-720e-48e2-a4ba-bdfce74678ae",
   "metadata": {},
   "outputs": [],
   "source": []
  },
  {
   "cell_type": "code",
   "execution_count": 1,
   "id": "edd7dd35-8bbe-437a-8e1b-ae9cf93c01e9",
   "metadata": {},
   "outputs": [
    {
     "name": "stdout",
     "output_type": "stream",
     "text": [
      "0.6611629851369315\n"
     ]
    }
   ],
   "source": []
  },
  {
   "cell_type": "code",
   "execution_count": null,
   "id": "6721bb8b-21f5-40e1-9a35-4ee77b94bf80",
   "metadata": {},
   "outputs": [],
   "source": []
  }
 ],
 "metadata": {
  "kernelspec": {
   "display_name": "Python 3 (ipykernel)",
   "language": "python",
   "name": "python3"
  },
  "language_info": {
   "codemirror_mode": {
    "name": "ipython",
    "version": 3
   },
   "file_extension": ".py",
   "mimetype": "text/x-python",
   "name": "python",
   "nbconvert_exporter": "python",
   "pygments_lexer": "ipython3",
   "version": "3.10.9"
  }
 },
 "nbformat": 4,
 "nbformat_minor": 5
}
