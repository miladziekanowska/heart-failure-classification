{
 "cells": [
  {
   "cell_type": "markdown",
   "id": "b4c54357-cff8-467d-821b-2e8ab3fbbff1",
   "metadata": {},
   "source": [
    "# Heart failure outcome classifier\n",
    "In this notebook we will take a dive into a [this](https://www.kaggle.com/datasets/asgharalikhan/mortality-rate-heart-patient-pakistan-hospital) dataset of heart failures in Pakistan.  \n",
    "While I am **not** a medical professional and know only slightly more about heart failures than an average person, I will try to create a model, that will predict the mortality of a heart failure in the Pakistani settings. This model might not work to predict the mortality in other countries, which are more or less medically advanced. \n",
    "\n",
    "> **Disclaimer!** This is not a medical study nor recommendation!\n",
    "\n",
    "## How will it work?\n",
    "With hypothesis testing, I will determine, which of the features of the patients attribute to the heart failure the most to mortality. Having the best features selected, I will create a model, that will predict the mortality for the given sample of patients. Once the model is created with best possible scores, I will check and determine, which of the features impact mortality the most. \n",
    "\n",
    "## How is this model useful?\n",
    "Knowing the most crucial features that might contribute to fatal heart failure, users of this model might check if in their current health, would they survive a heart failure in Pakistan. In another setting, if the model predicts fatality, whils the user is alive, it might be a suggestion to consult with their doctor the state of their health, to avoid heart failure in the future - this aspect might be useful in any different settings.\n",
    "\n",
    "## Good to know\n",
    "Data analized in this study does not touch on the accessability to the hospital or a doctor, time of diagnosis, CPR occurrecne and duration, threatment, how long did it take for the patient to receive firts aid, how far were they from the nearest hospital, chronic diseases, etc. While the dataset gives a good insight on the patients parameters, many life-saving aspects are not included, therefore any conclusions, especially resulting in death on a user of this model should not be taken too seriously. These might however suggest to schedule a check-up with the users doctor.\n",
    "\n",
    "# Exploratory data analysis"
   ]
  },
  {
   "cell_type": "code",
   "execution_count": 85,
   "id": "0efb81bf-6527-49b6-bbf2-d5c1cbb92dc8",
   "metadata": {},
   "outputs": [],
   "source": [
    "# all imports in one place\n",
    "import re\n",
    "import pickle\n",
    "import numpy as np\n",
    "import pandas as pd \n",
    "import matplotlib.pyplot as plt\n",
    "import seaborn as sns\n",
    "from scipy.stats import ttest_ind, chi2_contingency\n",
    "\n",
    "import optuna\n",
    "from imblearn.over_sampling import SMOTE\n",
    "from sklearn.decomposition import PCA\n",
    "from sklearn.preprocessing import StandardScaler, LabelEncoder\n",
    "from sklearn.metrics import (accuracy_score, precision_score, recall_score, \n",
    "                             f1_score, roc_auc_score, confusion_matrix)\n",
    "from sklearn.model_selection import train_test_split, KFold\n",
    "from sklearn.ensemble import AdaBoostClassifier, RandomForestClassifier\n",
    "from xgboost import XGBClassifier\n",
    "\n",
    "\n",
    "# there are many columns, I want to see them all\n",
    "pd.set_option('display.max_columns', 500)"
   ]
  },
  {
   "cell_type": "code",
   "execution_count": 86,
   "id": "2af093cd-70fd-4947-9471-513aec9fdce5",
   "metadata": {},
   "outputs": [
    {
     "data": {
      "text/html": [
       "<div>\n",
       "<style scoped>\n",
       "    .dataframe tbody tr th:only-of-type {\n",
       "        vertical-align: middle;\n",
       "    }\n",
       "\n",
       "    .dataframe tbody tr th {\n",
       "        vertical-align: top;\n",
       "    }\n",
       "\n",
       "    .dataframe thead th {\n",
       "        text-align: right;\n",
       "    }\n",
       "</style>\n",
       "<table border=\"1\" class=\"dataframe\">\n",
       "  <thead>\n",
       "    <tr style=\"text-align: right;\">\n",
       "      <th></th>\n",
       "      <th>Age</th>\n",
       "      <th>AgeGroup</th>\n",
       "      <th>Gender</th>\n",
       "      <th>Locality</th>\n",
       "      <th>Maritalstatus</th>\n",
       "      <th>LifeStyle</th>\n",
       "      <th>Sleep</th>\n",
       "      <th>Category</th>\n",
       "      <th>Depression</th>\n",
       "      <th>Hyperlipi</th>\n",
       "      <th>Smoking</th>\n",
       "      <th>FamilyHistory</th>\n",
       "      <th>FHistory</th>\n",
       "      <th>Diabetes</th>\n",
       "      <th>HTN</th>\n",
       "      <th>Allergies</th>\n",
       "      <th>BP</th>\n",
       "      <th>Thrombolysis</th>\n",
       "      <th>BGR</th>\n",
       "      <th>BUrea</th>\n",
       "      <th>SCr</th>\n",
       "      <th>SSodium</th>\n",
       "      <th>SPotassium</th>\n",
       "      <th>SChloride</th>\n",
       "      <th>CPK</th>\n",
       "      <th>CKMB</th>\n",
       "      <th>ESR</th>\n",
       "      <th>WBC</th>\n",
       "      <th>RBC</th>\n",
       "      <th>Hemoglobin</th>\n",
       "      <th>PCV</th>\n",
       "      <th>MCV</th>\n",
       "      <th>MCH</th>\n",
       "      <th>MCHC</th>\n",
       "      <th>PLATELET_COUNT</th>\n",
       "      <th>NEUTROPHIL</th>\n",
       "      <th>LYMPHO</th>\n",
       "      <th>MONOCYTE</th>\n",
       "      <th>EOSINO</th>\n",
       "      <th>Others</th>\n",
       "      <th>CO</th>\n",
       "      <th>Diagnosis</th>\n",
       "      <th>Hypersensitivity</th>\n",
       "      <th>cp</th>\n",
       "      <th>trestbps</th>\n",
       "      <th>chol</th>\n",
       "      <th>fbs</th>\n",
       "      <th>restecg</th>\n",
       "      <th>thalach</th>\n",
       "      <th>exang</th>\n",
       "      <th>oldpeak</th>\n",
       "      <th>slope</th>\n",
       "      <th>ca</th>\n",
       "      <th>thal</th>\n",
       "      <th>num</th>\n",
       "      <th>SK</th>\n",
       "      <th>SKReact</th>\n",
       "      <th>Reaction</th>\n",
       "      <th>Mortality</th>\n",
       "      <th>FollowUp</th>\n",
       "    </tr>\n",
       "  </thead>\n",
       "  <tbody>\n",
       "    <tr>\n",
       "      <th>0</th>\n",
       "      <td>45</td>\n",
       "      <td>41-50</td>\n",
       "      <td>Female</td>\n",
       "      <td>RURAL</td>\n",
       "      <td>MARRIED</td>\n",
       "      <td>NO</td>\n",
       "      <td>NO</td>\n",
       "      <td>FREE</td>\n",
       "      <td>YES</td>\n",
       "      <td>YES</td>\n",
       "      <td>NO</td>\n",
       "      <td>NO</td>\n",
       "      <td>0</td>\n",
       "      <td>1</td>\n",
       "      <td>NO</td>\n",
       "      <td>NO</td>\n",
       "      <td>100.6</td>\n",
       "      <td>0</td>\n",
       "      <td>84</td>\n",
       "      <td>28.0</td>\n",
       "      <td>0.9</td>\n",
       "      <td>138</td>\n",
       "      <td>3.3</td>\n",
       "      <td>107</td>\n",
       "      <td>130</td>\n",
       "      <td>30</td>\n",
       "      <td>11</td>\n",
       "      <td>9900</td>\n",
       "      <td>4.26</td>\n",
       "      <td>11.6</td>\n",
       "      <td>0.34</td>\n",
       "      <td>79.7</td>\n",
       "      <td>27.2</td>\n",
       "      <td>0.34</td>\n",
       "      <td>265000</td>\n",
       "      <td>0.70</td>\n",
       "      <td>0.25</td>\n",
       "      <td>0.03</td>\n",
       "      <td>2</td>\n",
       "      <td>no</td>\n",
       "      <td>Chest pain,</td>\n",
       "      <td>EXT. ACUTE WALL M.I</td>\n",
       "      <td>NO</td>\n",
       "      <td>4</td>\n",
       "      <td>132</td>\n",
       "      <td>341</td>\n",
       "      <td>1</td>\n",
       "      <td>2</td>\n",
       "      <td>136</td>\n",
       "      <td>1</td>\n",
       "      <td>3.0</td>\n",
       "      <td>2</td>\n",
       "      <td>0</td>\n",
       "      <td>7</td>\n",
       "      <td>2</td>\n",
       "      <td>1</td>\n",
       "      <td>NO</td>\n",
       "      <td>0</td>\n",
       "      <td>0</td>\n",
       "      <td>60</td>\n",
       "    </tr>\n",
       "    <tr>\n",
       "      <th>1</th>\n",
       "      <td>51</td>\n",
       "      <td>51-60</td>\n",
       "      <td>Female</td>\n",
       "      <td>URBAN</td>\n",
       "      <td>MARRIED</td>\n",
       "      <td>NO</td>\n",
       "      <td>NO</td>\n",
       "      <td>FREE</td>\n",
       "      <td>YES</td>\n",
       "      <td>YES</td>\n",
       "      <td>NO</td>\n",
       "      <td>NO</td>\n",
       "      <td>0</td>\n",
       "      <td>0</td>\n",
       "      <td>NO</td>\n",
       "      <td>NO</td>\n",
       "      <td>90.6</td>\n",
       "      <td>0</td>\n",
       "      <td>135</td>\n",
       "      <td>17.0</td>\n",
       "      <td>0.7</td>\n",
       "      <td>144</td>\n",
       "      <td>4.7</td>\n",
       "      <td>104</td>\n",
       "      <td>163</td>\n",
       "      <td>30</td>\n",
       "      <td>27</td>\n",
       "      <td>15800</td>\n",
       "      <td>5.74</td>\n",
       "      <td>14.5</td>\n",
       "      <td>0.44</td>\n",
       "      <td>78.0</td>\n",
       "      <td>25.0</td>\n",
       "      <td>0.32</td>\n",
       "      <td>287000</td>\n",
       "      <td>0.73</td>\n",
       "      <td>0.20</td>\n",
       "      <td>0.04</td>\n",
       "      <td>3</td>\n",
       "      <td>no</td>\n",
       "      <td>Central Chest pain,</td>\n",
       "      <td>A/W M.I</td>\n",
       "      <td>NO</td>\n",
       "      <td>4</td>\n",
       "      <td>130</td>\n",
       "      <td>305</td>\n",
       "      <td>0</td>\n",
       "      <td>0</td>\n",
       "      <td>142</td>\n",
       "      <td>1</td>\n",
       "      <td>1.2</td>\n",
       "      <td>2</td>\n",
       "      <td>0</td>\n",
       "      <td>7</td>\n",
       "      <td>2</td>\n",
       "      <td>1</td>\n",
       "      <td>NO</td>\n",
       "      <td>0</td>\n",
       "      <td>0</td>\n",
       "      <td>15</td>\n",
       "    </tr>\n",
       "    <tr>\n",
       "      <th>2</th>\n",
       "      <td>55</td>\n",
       "      <td>51-60</td>\n",
       "      <td>Female</td>\n",
       "      <td>RURAL</td>\n",
       "      <td>MARRIED</td>\n",
       "      <td>YES</td>\n",
       "      <td>YES</td>\n",
       "      <td>FREE</td>\n",
       "      <td>YES</td>\n",
       "      <td>YES</td>\n",
       "      <td>NO</td>\n",
       "      <td>NO</td>\n",
       "      <td>0</td>\n",
       "      <td>1</td>\n",
       "      <td>YES</td>\n",
       "      <td>NO</td>\n",
       "      <td>100.7</td>\n",
       "      <td>0</td>\n",
       "      <td>146</td>\n",
       "      <td>37.0</td>\n",
       "      <td>1.0</td>\n",
       "      <td>137</td>\n",
       "      <td>4.2</td>\n",
       "      <td>103</td>\n",
       "      <td>149</td>\n",
       "      <td>22</td>\n",
       "      <td>19</td>\n",
       "      <td>7900</td>\n",
       "      <td>4.83</td>\n",
       "      <td>14.1</td>\n",
       "      <td>0.42</td>\n",
       "      <td>87.0</td>\n",
       "      <td>29.0</td>\n",
       "      <td>0.33</td>\n",
       "      <td>183000</td>\n",
       "      <td>0.60</td>\n",
       "      <td>0.33</td>\n",
       "      <td>0.04</td>\n",
       "      <td>3</td>\n",
       "      <td>LV dysfunction</td>\n",
       "      <td>Chest pain,SOB, Cold sweating</td>\n",
       "      <td>AC I/W M.I (RV) RE. M.I</td>\n",
       "      <td>NO</td>\n",
       "      <td>4</td>\n",
       "      <td>180</td>\n",
       "      <td>327</td>\n",
       "      <td>0</td>\n",
       "      <td>1</td>\n",
       "      <td>117</td>\n",
       "      <td>1</td>\n",
       "      <td>3.4</td>\n",
       "      <td>2</td>\n",
       "      <td>0</td>\n",
       "      <td>3</td>\n",
       "      <td>2</td>\n",
       "      <td>1</td>\n",
       "      <td>NO</td>\n",
       "      <td>0</td>\n",
       "      <td>0</td>\n",
       "      <td>6</td>\n",
       "    </tr>\n",
       "    <tr>\n",
       "      <th>3</th>\n",
       "      <td>55</td>\n",
       "      <td>51-60</td>\n",
       "      <td>Female</td>\n",
       "      <td>RURAL</td>\n",
       "      <td>MARRIED</td>\n",
       "      <td>YES</td>\n",
       "      <td>YES</td>\n",
       "      <td>FREE</td>\n",
       "      <td>YES</td>\n",
       "      <td>YES</td>\n",
       "      <td>NO</td>\n",
       "      <td>NO</td>\n",
       "      <td>0</td>\n",
       "      <td>1</td>\n",
       "      <td>YES</td>\n",
       "      <td>NO</td>\n",
       "      <td>160.1</td>\n",
       "      <td>0</td>\n",
       "      <td>146</td>\n",
       "      <td>37.0</td>\n",
       "      <td>1.0</td>\n",
       "      <td>137</td>\n",
       "      <td>4.2</td>\n",
       "      <td>103</td>\n",
       "      <td>149</td>\n",
       "      <td>22</td>\n",
       "      <td>19</td>\n",
       "      <td>7900</td>\n",
       "      <td>4.83</td>\n",
       "      <td>14.1</td>\n",
       "      <td>0.42</td>\n",
       "      <td>87.0</td>\n",
       "      <td>29.0</td>\n",
       "      <td>0.33</td>\n",
       "      <td>183000</td>\n",
       "      <td>0.60</td>\n",
       "      <td>0.33</td>\n",
       "      <td>0.04</td>\n",
       "      <td>3</td>\n",
       "      <td>HTN</td>\n",
       "      <td>CENTRAL Chest pain,</td>\n",
       "      <td>I/W M.I</td>\n",
       "      <td>NO</td>\n",
       "      <td>4</td>\n",
       "      <td>128</td>\n",
       "      <td>205</td>\n",
       "      <td>0</td>\n",
       "      <td>1</td>\n",
       "      <td>130</td>\n",
       "      <td>1</td>\n",
       "      <td>2.0</td>\n",
       "      <td>2</td>\n",
       "      <td>1</td>\n",
       "      <td>7</td>\n",
       "      <td>3</td>\n",
       "      <td>1</td>\n",
       "      <td>NO</td>\n",
       "      <td>0</td>\n",
       "      <td>0</td>\n",
       "      <td>52</td>\n",
       "    </tr>\n",
       "    <tr>\n",
       "      <th>4</th>\n",
       "      <td>56</td>\n",
       "      <td>51-60</td>\n",
       "      <td>Female</td>\n",
       "      <td>RURAL</td>\n",
       "      <td>MARRIED</td>\n",
       "      <td>YES</td>\n",
       "      <td>NO</td>\n",
       "      <td>FREE</td>\n",
       "      <td>YES</td>\n",
       "      <td>YES</td>\n",
       "      <td>NO</td>\n",
       "      <td>NO</td>\n",
       "      <td>0</td>\n",
       "      <td>1</td>\n",
       "      <td>YES</td>\n",
       "      <td>NO</td>\n",
       "      <td>90.6</td>\n",
       "      <td>0</td>\n",
       "      <td>85</td>\n",
       "      <td>78.0</td>\n",
       "      <td>1.2</td>\n",
       "      <td>139</td>\n",
       "      <td>4.5</td>\n",
       "      <td>112</td>\n",
       "      <td>75</td>\n",
       "      <td>18</td>\n",
       "      <td>13</td>\n",
       "      <td>6900</td>\n",
       "      <td>4.41</td>\n",
       "      <td>12.3</td>\n",
       "      <td>0.36</td>\n",
       "      <td>82.0</td>\n",
       "      <td>27.0</td>\n",
       "      <td>0.33</td>\n",
       "      <td>211000</td>\n",
       "      <td>0.71</td>\n",
       "      <td>0.25</td>\n",
       "      <td>0.02</td>\n",
       "      <td>2</td>\n",
       "      <td>no</td>\n",
       "      <td>Chest pain,</td>\n",
       "      <td>A/W M.I</td>\n",
       "      <td>NO</td>\n",
       "      <td>4</td>\n",
       "      <td>200</td>\n",
       "      <td>288</td>\n",
       "      <td>1</td>\n",
       "      <td>2</td>\n",
       "      <td>133</td>\n",
       "      <td>1</td>\n",
       "      <td>4.0</td>\n",
       "      <td>3</td>\n",
       "      <td>2</td>\n",
       "      <td>7</td>\n",
       "      <td>3</td>\n",
       "      <td>1</td>\n",
       "      <td>NO</td>\n",
       "      <td>0</td>\n",
       "      <td>0</td>\n",
       "      <td>34</td>\n",
       "    </tr>\n",
       "  </tbody>\n",
       "</table>\n",
       "</div>"
      ],
      "text/plain": [
       "   Age AgeGroup  Gender Locality Maritalstatus LifeStyle Sleep Category  \\\n",
       "0   45    41-50  Female    RURAL       MARRIED        NO    NO     FREE   \n",
       "1   51    51-60  Female    URBAN       MARRIED        NO    NO     FREE   \n",
       "2   55    51-60  Female    RURAL       MARRIED       YES   YES     FREE   \n",
       "3   55    51-60  Female    RURAL       MARRIED       YES   YES     FREE   \n",
       "4   56    51-60  Female    RURAL       MARRIED       YES    NO     FREE   \n",
       "\n",
       "  Depression Hyperlipi Smoking FamilyHistory  FHistory  Diabetes  HTN  \\\n",
       "0        YES       YES      NO            NO         0         1   NO   \n",
       "1        YES       YES      NO            NO         0         0   NO   \n",
       "2        YES       YES      NO            NO         0         1  YES   \n",
       "3        YES       YES      NO            NO         0         1  YES   \n",
       "4        YES       YES      NO            NO         0         1  YES   \n",
       "\n",
       "  Allergies     BP  Thrombolysis  BGR  BUrea  SCr  SSodium  SPotassium  \\\n",
       "0        NO  100.6             0   84   28.0  0.9      138         3.3   \n",
       "1        NO   90.6             0  135   17.0  0.7      144         4.7   \n",
       "2        NO  100.7             0  146   37.0  1.0      137         4.2   \n",
       "3        NO  160.1             0  146   37.0  1.0      137         4.2   \n",
       "4        NO   90.6             0   85   78.0  1.2      139         4.5   \n",
       "\n",
       "   SChloride  CPK  CKMB  ESR    WBC   RBC  Hemoglobin   PCV   MCV   MCH  MCHC  \\\n",
       "0        107  130    30   11   9900  4.26        11.6  0.34  79.7  27.2  0.34   \n",
       "1        104  163    30   27  15800  5.74        14.5  0.44  78.0  25.0  0.32   \n",
       "2        103  149    22   19   7900  4.83        14.1  0.42  87.0  29.0  0.33   \n",
       "3        103  149    22   19   7900  4.83        14.1  0.42  87.0  29.0  0.33   \n",
       "4        112   75    18   13   6900  4.41        12.3  0.36  82.0  27.0  0.33   \n",
       "\n",
       "   PLATELET_COUNT  NEUTROPHIL  LYMPHO  MONOCYTE  EOSINO          Others  \\\n",
       "0          265000        0.70    0.25      0.03       2              no   \n",
       "1          287000        0.73    0.20      0.04       3              no   \n",
       "2          183000        0.60    0.33      0.04       3  LV dysfunction   \n",
       "3          183000        0.60    0.33      0.04       3             HTN   \n",
       "4          211000        0.71    0.25      0.02       2              no   \n",
       "\n",
       "                              CO                 Diagnosis Hypersensitivity  \\\n",
       "0                    Chest pain,       EXT. ACUTE WALL M.I               NO   \n",
       "1            Central Chest pain,                   A/W M.I               NO   \n",
       "2  Chest pain,SOB, Cold sweating  AC I/W M.I (RV) RE. M.I                NO   \n",
       "3            CENTRAL Chest pain,                   I/W M.I               NO   \n",
       "4                    Chest pain,                   A/W M.I               NO   \n",
       "\n",
       "   cp  trestbps  chol  fbs  restecg  thalach  exang  oldpeak  slope  ca  thal  \\\n",
       "0   4       132   341    1        2      136      1      3.0      2   0     7   \n",
       "1   4       130   305    0        0      142      1      1.2      2   0     7   \n",
       "2   4       180   327    0        1      117      1      3.4      2   0     3   \n",
       "3   4       128   205    0        1      130      1      2.0      2   1     7   \n",
       "4   4       200   288    1        2      133      1      4.0      3   2     7   \n",
       "\n",
       "   num  SK SKReact  Reaction  Mortality  FollowUp  \n",
       "0    2   1      NO         0          0        60  \n",
       "1    2   1      NO         0          0        15  \n",
       "2    2   1      NO         0          0         6  \n",
       "3    3   1      NO         0          0        52  \n",
       "4    3   1      NO         0          0        34  "
      ]
     },
     "execution_count": 86,
     "metadata": {},
     "output_type": "execute_result"
    }
   ],
   "source": [
    "df = pd.read_csv('data/heart_failure_dataset.csv')\n",
    "\n",
    "# column names are strangely formated, let's fix them quick\n",
    "replace_dict = {}\n",
    "\n",
    "for c in df.columns:\n",
    "    if c not in replace_dict.keys():\n",
    "        replace_dict[c] = c.replace(' ', '').replace('.', '')     \n",
    "                                    \n",
    "df = df.rename(columns=replace_dict)\n",
    "df.head()"
   ]
  },
  {
   "cell_type": "code",
   "execution_count": 87,
   "id": "f6df1d8c-3720-4916-b4a5-5a81ac81e2c8",
   "metadata": {},
   "outputs": [
    {
     "data": {
      "text/plain": [
       "(368, 60)"
      ]
     },
     "execution_count": 87,
     "metadata": {},
     "output_type": "execute_result"
    }
   ],
   "source": [
    "df.shape"
   ]
  },
  {
   "cell_type": "code",
   "execution_count": 88,
   "id": "54d93053-d647-4aff-9078-84bb3a2c8f54",
   "metadata": {
    "tags": []
   },
   "outputs": [
    {
     "name": "stdout",
     "output_type": "stream",
     "text": [
      "<class 'pandas.core.frame.DataFrame'>\n",
      "RangeIndex: 368 entries, 0 to 367\n",
      "Data columns (total 60 columns):\n",
      " #   Column            Non-Null Count  Dtype  \n",
      "---  ------            --------------  -----  \n",
      " 0   Age               368 non-null    int64  \n",
      " 1   AgeGroup          368 non-null    object \n",
      " 2   Gender            368 non-null    object \n",
      " 3   Locality          368 non-null    object \n",
      " 4   Maritalstatus     368 non-null    object \n",
      " 5   LifeStyle         368 non-null    object \n",
      " 6   Sleep             368 non-null    object \n",
      " 7   Category          368 non-null    object \n",
      " 8   Depression        368 non-null    object \n",
      " 9   Hyperlipi         368 non-null    object \n",
      " 10  Smoking           368 non-null    object \n",
      " 11  FamilyHistory     368 non-null    object \n",
      " 12  FHistory          368 non-null    int64  \n",
      " 13  Diabetes          368 non-null    int64  \n",
      " 14  HTN               368 non-null    object \n",
      " 15  Allergies         368 non-null    object \n",
      " 16  BP                368 non-null    float64\n",
      " 17  Thrombolysis      368 non-null    int64  \n",
      " 18  BGR               368 non-null    int64  \n",
      " 19  BUrea             368 non-null    float64\n",
      " 20  SCr               368 non-null    float64\n",
      " 21  SSodium           368 non-null    int64  \n",
      " 22  SPotassium        368 non-null    float64\n",
      " 23  SChloride         368 non-null    int64  \n",
      " 24  CPK               368 non-null    int64  \n",
      " 25  CKMB              368 non-null    int64  \n",
      " 26  ESR               368 non-null    int64  \n",
      " 27  WBC               368 non-null    int64  \n",
      " 28  RBC               368 non-null    float64\n",
      " 29  Hemoglobin        368 non-null    float64\n",
      " 30  PCV               368 non-null    float64\n",
      " 31  MCV               368 non-null    float64\n",
      " 32  MCH               368 non-null    float64\n",
      " 33  MCHC              368 non-null    float64\n",
      " 34  PLATELET_COUNT    368 non-null    int64  \n",
      " 35  NEUTROPHIL        368 non-null    float64\n",
      " 36  LYMPHO            368 non-null    float64\n",
      " 37  MONOCYTE          368 non-null    float64\n",
      " 38  EOSINO            368 non-null    int64  \n",
      " 39  Others            368 non-null    object \n",
      " 40  CO                368 non-null    object \n",
      " 41  Diagnosis         368 non-null    object \n",
      " 42  Hypersensitivity  368 non-null    object \n",
      " 43  cp                368 non-null    int64  \n",
      " 44  trestbps          368 non-null    int64  \n",
      " 45  chol              368 non-null    int64  \n",
      " 46  fbs               368 non-null    int64  \n",
      " 47  restecg           368 non-null    int64  \n",
      " 48  thalach           368 non-null    int64  \n",
      " 49  exang             368 non-null    int64  \n",
      " 50  oldpeak           368 non-null    float64\n",
      " 51  slope             368 non-null    int64  \n",
      " 52  ca                368 non-null    int64  \n",
      " 53  thal              368 non-null    int64  \n",
      " 54  num               368 non-null    int64  \n",
      " 55  SK                368 non-null    int64  \n",
      " 56  SKReact           368 non-null    object \n",
      " 57  Reaction          368 non-null    int64  \n",
      " 58  Mortality         368 non-null    int64  \n",
      " 59  FollowUp          368 non-null    int64  \n",
      "dtypes: float64(14), int64(28), object(18)\n",
      "memory usage: 172.6+ KB\n"
     ]
    }
   ],
   "source": [
    "df.info()"
   ]
  },
  {
   "cell_type": "code",
   "execution_count": 89,
   "id": "3644c707-0685-40ef-a25f-908aa3bc22b5",
   "metadata": {},
   "outputs": [
    {
     "data": {
      "text/plain": [
       "0"
      ]
     },
     "execution_count": 89,
     "metadata": {},
     "output_type": "execute_result"
    }
   ],
   "source": [
    "df.isna().sum().sum() # there are no NaN values in the dataset"
   ]
  },
  {
   "cell_type": "code",
   "execution_count": 90,
   "id": "669af523-47dd-47e0-aaf6-f509e6763bb6",
   "metadata": {},
   "outputs": [],
   "source": [
    "# FamilyHistory is the same as FHistory, just not encoded, let's drop it\n",
    "df = df.drop('FamilyHistory', axis=1)"
   ]
  },
  {
   "cell_type": "code",
   "execution_count": 91,
   "id": "a96dd3ce-baf4-4c85-930a-27f427c9167e",
   "metadata": {},
   "outputs": [
    {
     "data": {
      "text/plain": [
       "214"
      ]
     },
     "execution_count": 91,
     "metadata": {},
     "output_type": "execute_result"
    }
   ],
   "source": [
    "df.duplicated().sum() # seems there is a lot of duplicates"
   ]
  },
  {
   "cell_type": "code",
   "execution_count": 92,
   "id": "235cf2b4-b8f0-4ae9-9cc2-20396c5f8349",
   "metadata": {},
   "outputs": [
    {
     "data": {
      "text/plain": [
       "0    78.26087\n",
       "1    21.73913\n",
       "Name: Mortality, dtype: float64"
      ]
     },
     "execution_count": 92,
     "metadata": {},
     "output_type": "execute_result"
    }
   ],
   "source": [
    "mortality_percentage = df['Mortality'].value_counts(normalize=True) * 100\n",
    "mortality_percentage"
   ]
  },
  {
   "cell_type": "markdown",
   "id": "35f17aeb-a351-452a-820a-d4b0ffa42345",
   "metadata": {},
   "source": [
    "Upon further inspection of the dataset, majority of rows are duplicated, which is unfortunate, as this dataset it pretty small.\n",
    "\n",
    "The differences between the statistics of the dataset with and without the duplicates are similar, and with the duplicates the percentage of patients, who survided the heart failure is larger - this makes the data less unbalanced. \n",
    "\n",
    "I wanted to use the duplicates later for training the model. I did the hipothesis testig to check, if the different proportions of 0 and 1 i the `Mortality` would be okay - it would. During the training **however**, any model I used tend to get overfitted and the metrics on the testing subset vere significantly worse, to low for a predictions, where life could be at stake. \n",
    "\n",
    "Therefore I will remove the duplicates at this point."
   ]
  },
  {
   "cell_type": "code",
   "execution_count": 93,
   "id": "87c981f0-20ed-4594-ac57-5aef4ef373ec",
   "metadata": {},
   "outputs": [],
   "source": [
    "# let's create a copy - a clear dataset\n",
    "df = df.drop_duplicates()"
   ]
  },
  {
   "cell_type": "code",
   "execution_count": 94,
   "id": "30b287db-165f-46da-ba0b-3fd8a14fe1e7",
   "metadata": {},
   "outputs": [
    {
     "data": {
      "text/plain": [
       "0    82.467532\n",
       "1    17.532468\n",
       "Name: Mortality, dtype: float64"
      ]
     },
     "execution_count": 94,
     "metadata": {},
     "output_type": "execute_result"
    }
   ],
   "source": [
    "# let's check the mortality rate in clean dataset\n",
    "mortality_percentage = df['Mortality'].value_counts(normalize=True) * 100\n",
    "mortality_percentage"
   ]
  },
  {
   "cell_type": "code",
   "execution_count": 95,
   "id": "03f5f761-89e4-4dc0-bb0f-493d5f897b33",
   "metadata": {},
   "outputs": [
    {
     "data": {
      "text/html": [
       "<div>\n",
       "<style scoped>\n",
       "    .dataframe tbody tr th:only-of-type {\n",
       "        vertical-align: middle;\n",
       "    }\n",
       "\n",
       "    .dataframe tbody tr th {\n",
       "        vertical-align: top;\n",
       "    }\n",
       "\n",
       "    .dataframe thead th {\n",
       "        text-align: right;\n",
       "    }\n",
       "</style>\n",
       "<table border=\"1\" class=\"dataframe\">\n",
       "  <thead>\n",
       "    <tr style=\"text-align: right;\">\n",
       "      <th></th>\n",
       "      <th>Age</th>\n",
       "      <th>FHistory</th>\n",
       "      <th>Diabetes</th>\n",
       "      <th>BP</th>\n",
       "      <th>Thrombolysis</th>\n",
       "      <th>BGR</th>\n",
       "      <th>BUrea</th>\n",
       "      <th>SCr</th>\n",
       "      <th>SSodium</th>\n",
       "      <th>SPotassium</th>\n",
       "      <th>SChloride</th>\n",
       "      <th>CPK</th>\n",
       "      <th>CKMB</th>\n",
       "      <th>ESR</th>\n",
       "      <th>WBC</th>\n",
       "      <th>RBC</th>\n",
       "      <th>Hemoglobin</th>\n",
       "      <th>PCV</th>\n",
       "      <th>MCV</th>\n",
       "      <th>MCH</th>\n",
       "      <th>MCHC</th>\n",
       "      <th>PLATELET_COUNT</th>\n",
       "      <th>NEUTROPHIL</th>\n",
       "      <th>LYMPHO</th>\n",
       "      <th>MONOCYTE</th>\n",
       "      <th>EOSINO</th>\n",
       "      <th>cp</th>\n",
       "      <th>trestbps</th>\n",
       "      <th>chol</th>\n",
       "      <th>fbs</th>\n",
       "      <th>restecg</th>\n",
       "      <th>thalach</th>\n",
       "      <th>exang</th>\n",
       "      <th>oldpeak</th>\n",
       "      <th>slope</th>\n",
       "      <th>ca</th>\n",
       "      <th>thal</th>\n",
       "      <th>num</th>\n",
       "      <th>SK</th>\n",
       "      <th>Reaction</th>\n",
       "      <th>Mortality</th>\n",
       "      <th>FollowUp</th>\n",
       "    </tr>\n",
       "  </thead>\n",
       "  <tbody>\n",
       "    <tr>\n",
       "      <th>count</th>\n",
       "      <td>154.000000</td>\n",
       "      <td>154.000000</td>\n",
       "      <td>154.000000</td>\n",
       "      <td>154.000000</td>\n",
       "      <td>154.000000</td>\n",
       "      <td>154.000000</td>\n",
       "      <td>154.000000</td>\n",
       "      <td>154.000000</td>\n",
       "      <td>154.000000</td>\n",
       "      <td>154.000000</td>\n",
       "      <td>154.000000</td>\n",
       "      <td>154.000000</td>\n",
       "      <td>154.000000</td>\n",
       "      <td>154.000000</td>\n",
       "      <td>154.000000</td>\n",
       "      <td>154.000000</td>\n",
       "      <td>154.000000</td>\n",
       "      <td>154.000000</td>\n",
       "      <td>154.000000</td>\n",
       "      <td>154.000000</td>\n",
       "      <td>154.000000</td>\n",
       "      <td>154.000000</td>\n",
       "      <td>154.000000</td>\n",
       "      <td>154.000000</td>\n",
       "      <td>154.000000</td>\n",
       "      <td>154.000000</td>\n",
       "      <td>154.000000</td>\n",
       "      <td>154.000000</td>\n",
       "      <td>154.000000</td>\n",
       "      <td>154.000000</td>\n",
       "      <td>154.000000</td>\n",
       "      <td>154.000000</td>\n",
       "      <td>154.000000</td>\n",
       "      <td>154.000000</td>\n",
       "      <td>154.000000</td>\n",
       "      <td>154.000000</td>\n",
       "      <td>154.000000</td>\n",
       "      <td>154.000000</td>\n",
       "      <td>154.000000</td>\n",
       "      <td>154.000000</td>\n",
       "      <td>154.000000</td>\n",
       "      <td>154.000000</td>\n",
       "    </tr>\n",
       "    <tr>\n",
       "      <th>mean</th>\n",
       "      <td>55.772727</td>\n",
       "      <td>0.194805</td>\n",
       "      <td>0.409091</td>\n",
       "      <td>118.165779</td>\n",
       "      <td>0.051948</td>\n",
       "      <td>227.948052</td>\n",
       "      <td>47.135714</td>\n",
       "      <td>1.490000</td>\n",
       "      <td>137.987013</td>\n",
       "      <td>4.194805</td>\n",
       "      <td>103.461039</td>\n",
       "      <td>637.694805</td>\n",
       "      <td>69.396104</td>\n",
       "      <td>25.720779</td>\n",
       "      <td>11171.363636</td>\n",
       "      <td>5.115325</td>\n",
       "      <td>13.840260</td>\n",
       "      <td>0.417208</td>\n",
       "      <td>81.033766</td>\n",
       "      <td>27.059740</td>\n",
       "      <td>0.326753</td>\n",
       "      <td>245792.207792</td>\n",
       "      <td>2.294286</td>\n",
       "      <td>0.249026</td>\n",
       "      <td>0.033117</td>\n",
       "      <td>2.214286</td>\n",
       "      <td>3.590909</td>\n",
       "      <td>133.396104</td>\n",
       "      <td>249.448052</td>\n",
       "      <td>0.149351</td>\n",
       "      <td>1.162338</td>\n",
       "      <td>139.993506</td>\n",
       "      <td>0.551948</td>\n",
       "      <td>1.531169</td>\n",
       "      <td>1.818182</td>\n",
       "      <td>1.051948</td>\n",
       "      <td>5.896104</td>\n",
       "      <td>2.032468</td>\n",
       "      <td>0.974026</td>\n",
       "      <td>0.759740</td>\n",
       "      <td>0.175325</td>\n",
       "      <td>28.902597</td>\n",
       "    </tr>\n",
       "    <tr>\n",
       "      <th>std</th>\n",
       "      <td>9.036978</td>\n",
       "      <td>0.397343</td>\n",
       "      <td>0.493270</td>\n",
       "      <td>23.459274</td>\n",
       "      <td>0.222646</td>\n",
       "      <td>141.137804</td>\n",
       "      <td>54.496293</td>\n",
       "      <td>3.079576</td>\n",
       "      <td>3.993437</td>\n",
       "      <td>0.369559</td>\n",
       "      <td>4.628885</td>\n",
       "      <td>1085.768192</td>\n",
       "      <td>100.175233</td>\n",
       "      <td>28.377358</td>\n",
       "      <td>3360.261441</td>\n",
       "      <td>0.775705</td>\n",
       "      <td>2.162319</td>\n",
       "      <td>0.065744</td>\n",
       "      <td>7.304875</td>\n",
       "      <td>3.330735</td>\n",
       "      <td>0.027839</td>\n",
       "      <td>78208.509251</td>\n",
       "      <td>11.413506</td>\n",
       "      <td>0.117366</td>\n",
       "      <td>0.015946</td>\n",
       "      <td>0.877938</td>\n",
       "      <td>0.844928</td>\n",
       "      <td>18.592788</td>\n",
       "      <td>49.913133</td>\n",
       "      <td>0.357597</td>\n",
       "      <td>0.980001</td>\n",
       "      <td>22.523915</td>\n",
       "      <td>0.498917</td>\n",
       "      <td>1.300403</td>\n",
       "      <td>0.565391</td>\n",
       "      <td>1.027671</td>\n",
       "      <td>1.715629</td>\n",
       "      <td>1.012464</td>\n",
       "      <td>0.159577</td>\n",
       "      <td>0.428635</td>\n",
       "      <td>0.381485</td>\n",
       "      <td>16.567457</td>\n",
       "    </tr>\n",
       "    <tr>\n",
       "      <th>min</th>\n",
       "      <td>24.000000</td>\n",
       "      <td>0.000000</td>\n",
       "      <td>0.000000</td>\n",
       "      <td>80.500000</td>\n",
       "      <td>0.000000</td>\n",
       "      <td>60.000000</td>\n",
       "      <td>2.300000</td>\n",
       "      <td>0.600000</td>\n",
       "      <td>129.000000</td>\n",
       "      <td>3.300000</td>\n",
       "      <td>90.000000</td>\n",
       "      <td>52.000000</td>\n",
       "      <td>14.000000</td>\n",
       "      <td>5.000000</td>\n",
       "      <td>5800.000000</td>\n",
       "      <td>3.460000</td>\n",
       "      <td>9.100000</td>\n",
       "      <td>0.290000</td>\n",
       "      <td>60.000000</td>\n",
       "      <td>18.000000</td>\n",
       "      <td>0.220000</td>\n",
       "      <td>20000.000000</td>\n",
       "      <td>0.360000</td>\n",
       "      <td>0.050000</td>\n",
       "      <td>0.010000</td>\n",
       "      <td>1.000000</td>\n",
       "      <td>1.000000</td>\n",
       "      <td>100.000000</td>\n",
       "      <td>131.000000</td>\n",
       "      <td>0.000000</td>\n",
       "      <td>0.000000</td>\n",
       "      <td>71.000000</td>\n",
       "      <td>0.000000</td>\n",
       "      <td>0.000000</td>\n",
       "      <td>1.000000</td>\n",
       "      <td>0.000000</td>\n",
       "      <td>3.000000</td>\n",
       "      <td>1.000000</td>\n",
       "      <td>0.000000</td>\n",
       "      <td>0.000000</td>\n",
       "      <td>0.000000</td>\n",
       "      <td>1.000000</td>\n",
       "    </tr>\n",
       "    <tr>\n",
       "      <th>25%</th>\n",
       "      <td>52.000000</td>\n",
       "      <td>0.000000</td>\n",
       "      <td>0.000000</td>\n",
       "      <td>100.625000</td>\n",
       "      <td>0.000000</td>\n",
       "      <td>127.000000</td>\n",
       "      <td>28.000000</td>\n",
       "      <td>0.800000</td>\n",
       "      <td>135.000000</td>\n",
       "      <td>3.900000</td>\n",
       "      <td>100.000000</td>\n",
       "      <td>131.250000</td>\n",
       "      <td>22.000000</td>\n",
       "      <td>11.000000</td>\n",
       "      <td>7900.000000</td>\n",
       "      <td>4.410000</td>\n",
       "      <td>12.300000</td>\n",
       "      <td>0.360000</td>\n",
       "      <td>78.000000</td>\n",
       "      <td>25.000000</td>\n",
       "      <td>0.320000</td>\n",
       "      <td>187000.000000</td>\n",
       "      <td>0.600000</td>\n",
       "      <td>0.170000</td>\n",
       "      <td>0.020000</td>\n",
       "      <td>2.000000</td>\n",
       "      <td>4.000000</td>\n",
       "      <td>120.000000</td>\n",
       "      <td>213.000000</td>\n",
       "      <td>0.000000</td>\n",
       "      <td>0.000000</td>\n",
       "      <td>125.000000</td>\n",
       "      <td>0.000000</td>\n",
       "      <td>0.225000</td>\n",
       "      <td>1.000000</td>\n",
       "      <td>0.000000</td>\n",
       "      <td>3.750000</td>\n",
       "      <td>1.000000</td>\n",
       "      <td>1.000000</td>\n",
       "      <td>1.000000</td>\n",
       "      <td>0.000000</td>\n",
       "      <td>15.000000</td>\n",
       "    </tr>\n",
       "    <tr>\n",
       "      <th>50%</th>\n",
       "      <td>57.000000</td>\n",
       "      <td>0.000000</td>\n",
       "      <td>0.000000</td>\n",
       "      <td>120.700000</td>\n",
       "      <td>0.000000</td>\n",
       "      <td>165.000000</td>\n",
       "      <td>35.500000</td>\n",
       "      <td>0.900000</td>\n",
       "      <td>138.000000</td>\n",
       "      <td>4.200000</td>\n",
       "      <td>104.000000</td>\n",
       "      <td>192.000000</td>\n",
       "      <td>39.000000</td>\n",
       "      <td>16.000000</td>\n",
       "      <td>10400.000000</td>\n",
       "      <td>5.230000</td>\n",
       "      <td>14.100000</td>\n",
       "      <td>0.420000</td>\n",
       "      <td>82.100000</td>\n",
       "      <td>27.800000</td>\n",
       "      <td>0.330000</td>\n",
       "      <td>237000.000000</td>\n",
       "      <td>0.720000</td>\n",
       "      <td>0.210000</td>\n",
       "      <td>0.030000</td>\n",
       "      <td>2.000000</td>\n",
       "      <td>4.000000</td>\n",
       "      <td>130.000000</td>\n",
       "      <td>248.500000</td>\n",
       "      <td>0.000000</td>\n",
       "      <td>2.000000</td>\n",
       "      <td>142.000000</td>\n",
       "      <td>1.000000</td>\n",
       "      <td>1.400000</td>\n",
       "      <td>2.000000</td>\n",
       "      <td>1.000000</td>\n",
       "      <td>7.000000</td>\n",
       "      <td>2.000000</td>\n",
       "      <td>1.000000</td>\n",
       "      <td>1.000000</td>\n",
       "      <td>0.000000</td>\n",
       "      <td>32.000000</td>\n",
       "    </tr>\n",
       "    <tr>\n",
       "      <th>75%</th>\n",
       "      <td>61.000000</td>\n",
       "      <td>0.000000</td>\n",
       "      <td>1.000000</td>\n",
       "      <td>130.800000</td>\n",
       "      <td>0.000000</td>\n",
       "      <td>320.000000</td>\n",
       "      <td>42.000000</td>\n",
       "      <td>1.080000</td>\n",
       "      <td>140.750000</td>\n",
       "      <td>4.400000</td>\n",
       "      <td>106.000000</td>\n",
       "      <td>446.000000</td>\n",
       "      <td>52.000000</td>\n",
       "      <td>27.000000</td>\n",
       "      <td>13800.000000</td>\n",
       "      <td>5.650000</td>\n",
       "      <td>15.500000</td>\n",
       "      <td>0.460000</td>\n",
       "      <td>86.000000</td>\n",
       "      <td>29.000000</td>\n",
       "      <td>0.340000</td>\n",
       "      <td>284000.000000</td>\n",
       "      <td>0.797500</td>\n",
       "      <td>0.320000</td>\n",
       "      <td>0.040000</td>\n",
       "      <td>3.000000</td>\n",
       "      <td>4.000000</td>\n",
       "      <td>143.500000</td>\n",
       "      <td>283.000000</td>\n",
       "      <td>0.000000</td>\n",
       "      <td>2.000000</td>\n",
       "      <td>156.750000</td>\n",
       "      <td>1.000000</td>\n",
       "      <td>2.475000</td>\n",
       "      <td>2.000000</td>\n",
       "      <td>2.000000</td>\n",
       "      <td>7.000000</td>\n",
       "      <td>3.000000</td>\n",
       "      <td>1.000000</td>\n",
       "      <td>1.000000</td>\n",
       "      <td>0.000000</td>\n",
       "      <td>36.000000</td>\n",
       "    </tr>\n",
       "    <tr>\n",
       "      <th>max</th>\n",
       "      <td>77.000000</td>\n",
       "      <td>1.000000</td>\n",
       "      <td>1.000000</td>\n",
       "      <td>190.110000</td>\n",
       "      <td>1.000000</td>\n",
       "      <td>563.000000</td>\n",
       "      <td>394.000000</td>\n",
       "      <td>22.900000</td>\n",
       "      <td>146.000000</td>\n",
       "      <td>5.300000</td>\n",
       "      <td>112.000000</td>\n",
       "      <td>4289.000000</td>\n",
       "      <td>505.000000</td>\n",
       "      <td>154.000000</td>\n",
       "      <td>19590.000000</td>\n",
       "      <td>6.980000</td>\n",
       "      <td>18.000000</td>\n",
       "      <td>0.540000</td>\n",
       "      <td>96.000000</td>\n",
       "      <td>33.000000</td>\n",
       "      <td>0.390000</td>\n",
       "      <td>459000.000000</td>\n",
       "      <td>83.000000</td>\n",
       "      <td>0.540000</td>\n",
       "      <td>0.080000</td>\n",
       "      <td>5.000000</td>\n",
       "      <td>4.000000</td>\n",
       "      <td>200.000000</td>\n",
       "      <td>409.000000</td>\n",
       "      <td>1.000000</td>\n",
       "      <td>2.000000</td>\n",
       "      <td>195.000000</td>\n",
       "      <td>1.000000</td>\n",
       "      <td>6.200000</td>\n",
       "      <td>3.000000</td>\n",
       "      <td>3.000000</td>\n",
       "      <td>7.000000</td>\n",
       "      <td>4.000000</td>\n",
       "      <td>1.000000</td>\n",
       "      <td>1.000000</td>\n",
       "      <td>1.000000</td>\n",
       "      <td>60.000000</td>\n",
       "    </tr>\n",
       "  </tbody>\n",
       "</table>\n",
       "</div>"
      ],
      "text/plain": [
       "              Age    FHistory    Diabetes          BP  Thrombolysis  \\\n",
       "count  154.000000  154.000000  154.000000  154.000000    154.000000   \n",
       "mean    55.772727    0.194805    0.409091  118.165779      0.051948   \n",
       "std      9.036978    0.397343    0.493270   23.459274      0.222646   \n",
       "min     24.000000    0.000000    0.000000   80.500000      0.000000   \n",
       "25%     52.000000    0.000000    0.000000  100.625000      0.000000   \n",
       "50%     57.000000    0.000000    0.000000  120.700000      0.000000   \n",
       "75%     61.000000    0.000000    1.000000  130.800000      0.000000   \n",
       "max     77.000000    1.000000    1.000000  190.110000      1.000000   \n",
       "\n",
       "              BGR       BUrea         SCr     SSodium  SPotassium   SChloride  \\\n",
       "count  154.000000  154.000000  154.000000  154.000000  154.000000  154.000000   \n",
       "mean   227.948052   47.135714    1.490000  137.987013    4.194805  103.461039   \n",
       "std    141.137804   54.496293    3.079576    3.993437    0.369559    4.628885   \n",
       "min     60.000000    2.300000    0.600000  129.000000    3.300000   90.000000   \n",
       "25%    127.000000   28.000000    0.800000  135.000000    3.900000  100.000000   \n",
       "50%    165.000000   35.500000    0.900000  138.000000    4.200000  104.000000   \n",
       "75%    320.000000   42.000000    1.080000  140.750000    4.400000  106.000000   \n",
       "max    563.000000  394.000000   22.900000  146.000000    5.300000  112.000000   \n",
       "\n",
       "               CPK        CKMB         ESR           WBC         RBC  \\\n",
       "count   154.000000  154.000000  154.000000    154.000000  154.000000   \n",
       "mean    637.694805   69.396104   25.720779  11171.363636    5.115325   \n",
       "std    1085.768192  100.175233   28.377358   3360.261441    0.775705   \n",
       "min      52.000000   14.000000    5.000000   5800.000000    3.460000   \n",
       "25%     131.250000   22.000000   11.000000   7900.000000    4.410000   \n",
       "50%     192.000000   39.000000   16.000000  10400.000000    5.230000   \n",
       "75%     446.000000   52.000000   27.000000  13800.000000    5.650000   \n",
       "max    4289.000000  505.000000  154.000000  19590.000000    6.980000   \n",
       "\n",
       "       Hemoglobin         PCV         MCV         MCH        MCHC  \\\n",
       "count  154.000000  154.000000  154.000000  154.000000  154.000000   \n",
       "mean    13.840260    0.417208   81.033766   27.059740    0.326753   \n",
       "std      2.162319    0.065744    7.304875    3.330735    0.027839   \n",
       "min      9.100000    0.290000   60.000000   18.000000    0.220000   \n",
       "25%     12.300000    0.360000   78.000000   25.000000    0.320000   \n",
       "50%     14.100000    0.420000   82.100000   27.800000    0.330000   \n",
       "75%     15.500000    0.460000   86.000000   29.000000    0.340000   \n",
       "max     18.000000    0.540000   96.000000   33.000000    0.390000   \n",
       "\n",
       "       PLATELET_COUNT  NEUTROPHIL      LYMPHO    MONOCYTE      EOSINO  \\\n",
       "count      154.000000  154.000000  154.000000  154.000000  154.000000   \n",
       "mean    245792.207792    2.294286    0.249026    0.033117    2.214286   \n",
       "std      78208.509251   11.413506    0.117366    0.015946    0.877938   \n",
       "min      20000.000000    0.360000    0.050000    0.010000    1.000000   \n",
       "25%     187000.000000    0.600000    0.170000    0.020000    2.000000   \n",
       "50%     237000.000000    0.720000    0.210000    0.030000    2.000000   \n",
       "75%     284000.000000    0.797500    0.320000    0.040000    3.000000   \n",
       "max     459000.000000   83.000000    0.540000    0.080000    5.000000   \n",
       "\n",
       "               cp    trestbps        chol         fbs     restecg     thalach  \\\n",
       "count  154.000000  154.000000  154.000000  154.000000  154.000000  154.000000   \n",
       "mean     3.590909  133.396104  249.448052    0.149351    1.162338  139.993506   \n",
       "std      0.844928   18.592788   49.913133    0.357597    0.980001   22.523915   \n",
       "min      1.000000  100.000000  131.000000    0.000000    0.000000   71.000000   \n",
       "25%      4.000000  120.000000  213.000000    0.000000    0.000000  125.000000   \n",
       "50%      4.000000  130.000000  248.500000    0.000000    2.000000  142.000000   \n",
       "75%      4.000000  143.500000  283.000000    0.000000    2.000000  156.750000   \n",
       "max      4.000000  200.000000  409.000000    1.000000    2.000000  195.000000   \n",
       "\n",
       "            exang     oldpeak       slope          ca        thal         num  \\\n",
       "count  154.000000  154.000000  154.000000  154.000000  154.000000  154.000000   \n",
       "mean     0.551948    1.531169    1.818182    1.051948    5.896104    2.032468   \n",
       "std      0.498917    1.300403    0.565391    1.027671    1.715629    1.012464   \n",
       "min      0.000000    0.000000    1.000000    0.000000    3.000000    1.000000   \n",
       "25%      0.000000    0.225000    1.000000    0.000000    3.750000    1.000000   \n",
       "50%      1.000000    1.400000    2.000000    1.000000    7.000000    2.000000   \n",
       "75%      1.000000    2.475000    2.000000    2.000000    7.000000    3.000000   \n",
       "max      1.000000    6.200000    3.000000    3.000000    7.000000    4.000000   \n",
       "\n",
       "               SK    Reaction   Mortality    FollowUp  \n",
       "count  154.000000  154.000000  154.000000  154.000000  \n",
       "mean     0.974026    0.759740    0.175325   28.902597  \n",
       "std      0.159577    0.428635    0.381485   16.567457  \n",
       "min      0.000000    0.000000    0.000000    1.000000  \n",
       "25%      1.000000    1.000000    0.000000   15.000000  \n",
       "50%      1.000000    1.000000    0.000000   32.000000  \n",
       "75%      1.000000    1.000000    0.000000   36.000000  \n",
       "max      1.000000    1.000000    1.000000   60.000000  "
      ]
     },
     "execution_count": 95,
     "metadata": {},
     "output_type": "execute_result"
    }
   ],
   "source": [
    "df.describe() # now that duplicates are gone, let's see how our data looks"
   ]
  },
  {
   "cell_type": "code",
   "execution_count": 96,
   "id": "86dbb7ab-ebe0-4486-a67b-c640384bf9df",
   "metadata": {},
   "outputs": [],
   "source": [
    "def outliers(dataframe, column):\n",
    "    outliers = []\n",
    "    q1 = np.percentile(sorted(dataframe[column]), 25)\n",
    "    q3 = np.percentile(sorted(dataframe[column]), 75)\n",
    "    IQR = q3 - q1\n",
    "    lwr_bound = q1 - (1.5 * IQR)\n",
    "    upr_bound = q3 + (1.5 * IQR)\n",
    "    for i in sorted(dataframe[column]): \n",
    "        if (i < lwr_bound or i > upr_bound):\n",
    "            outliers.append(i)\n",
    "    return outliers, lwr_bound, upr_bound"
   ]
  },
  {
   "cell_type": "code",
   "execution_count": 97,
   "id": "6a68faea-18e3-4a5b-8175-98ee56103f1d",
   "metadata": {},
   "outputs": [
    {
     "name": "stdout",
     "output_type": "stream",
     "text": [
      "dict_keys(['Age', 'FHistory', 'BP', 'Thrombolysis', 'BUrea', 'SCr', 'SPotassium', 'SChloride', 'CPK', 'CKMB', 'ESR', 'MCV', 'MCH', 'MCHC', 'PLATELET_COUNT', 'NEUTROPHIL', 'MONOCYTE', 'EOSINO', 'cp', 'trestbps', 'chol', 'fbs', 'thalach', 'oldpeak', 'SK', 'Reaction', 'Mortality'])\n"
     ]
    }
   ],
   "source": [
    "# let's see how do the outliers look\n",
    "numeric_columns = df.select_dtypes(include=['int64', 'float64']).columns.tolist()\n",
    "outlier_dict = {}\n",
    "\n",
    "for c in numeric_columns:\n",
    "    empty = []\n",
    "    outlier = outliers(df, c)[0]\n",
    "    if outlier != empty:\n",
    "        outlier_dict[c] = outliers(df, c), len(outliers(df, c)[0])\n",
    "        \n",
    "print(outlier_dict.keys())"
   ]
  },
  {
   "cell_type": "markdown",
   "id": "605c6923-4650-4d26-bc63-649e00a0ec87",
   "metadata": {},
   "source": [
    "It seems there is a bit of outliers, but this should be examined by a medical professional.\n",
    "In my unprofessional opinion with help from google, all of those should slide, since these are possible to be observed. Some of these, especially really high or really low values might be correlated with the mortality of the heart failure. Also in some cases, like Mortality, majority of the results is `0`, which suggest the death of the patients, therefore any that are `1`, in other words alive, are the outliers.\n",
    "## Hypothesis testing\n",
    "Before we move on with hypothesis testing, it's best to clean up some of the columns in the dataset, so that the messiness does not affect the outcome."
   ]
  },
  {
   "cell_type": "code",
   "execution_count": 98,
   "id": "5eadd2ae-b814-454d-9de6-c30693d07e76",
   "metadata": {
    "tags": []
   },
   "outputs": [
    {
     "name": "stderr",
     "output_type": "stream",
     "text": [
      "/var/folders/71/prqs97ps2_lg_s37pr_lsd1h0000gn/T/ipykernel_33606/20299159.py:3: FutureWarning: The default value of regex will change from True to False in a future version.\n",
      "  .str.replace(r'central|chest pain,|day|to|hr|for|from|chest pain', '') \\\n"
     ]
    }
   ],
   "source": [
    "# Feature CO is very messy and all of the patients experience chest pain, so it can be removed\n",
    "df['CO'] = df['CO'].str.lower() \\\n",
    "                   .str.replace(r'central|chest pain,|day|to|hr|for|from|chest pain', '') \\\n",
    "                   .str.strip()\n",
    "\n",
    "# and filling in the empty spaces\n",
    "df['CO'].replace('', 'none', inplace=True)"
   ]
  },
  {
   "cell_type": "code",
   "execution_count": 99,
   "id": "b338c89f-2f1f-4bfb-b484-5af21aa04cc0",
   "metadata": {},
   "outputs": [],
   "source": [
    "# others column is also messy and requires clean up\n",
    "df['Others'] = df['Others'].replace(r',\\s*|,', ', ', regex=True)"
   ]
  },
  {
   "cell_type": "markdown",
   "id": "48ff97d6-c2ac-4eb7-995c-c171e8fbc2a2",
   "metadata": {},
   "source": [
    "When it comes to `Diagnosis`, I do not understand a letter in here. \n",
    "At work, I would ask someone with medical background to group these. Since I am doing this alone, I asked ChatGPT to group these and it distinuished a 5 types:\n",
    "- myocardial infarctions (MI)\n",
    "- NSTEMI (Atypical ST elevation during infarction)\n",
    "- STEMI (ST elevation during infarction)\n",
    "- other types of heart attacks\n",
    "- other diagnosis (not cardiac arrest)  \n",
    "\n",
    "Most of these are cardiac arrests, but in medical aspects are slighly different. "
   ]
  },
  {
   "cell_type": "code",
   "execution_count": 100,
   "id": "5a8e064f-a9f1-4409-ae5c-44e626d0ca4a",
   "metadata": {},
   "outputs": [],
   "source": [
    "# Let's group it\n",
    "for diagnosis in df['Diagnosis'].unique():\n",
    "    if \"M.I\" in diagnosis or \"ACUTE\" in diagnosis:\n",
    "        # myocardial infarctions (MI)\n",
    "        df.loc[df['Diagnosis'] == diagnosis, 'Diagnosis'] = 'MI'\n",
    "    elif \"NSTEMI\" in diagnosis:\n",
    "        # NSTEMI (Atypical ST elevation during infarction)\n",
    "        df.loc[df['Diagnosis'] == diagnosis, 'Diagnosis'] = 'NSTEMI'\n",
    "    elif \"STEMI\" in diagnosis:\n",
    "        # STEMI (ST elevation during infarction)\n",
    "        df.loc[df['Diagnosis'] == diagnosis, 'Diagnosis'] = 'STEMI'\n",
    "    elif \"CARDIOGENIC\" in diagnosis or \"MR\" in diagnosis or \"LBBB\" in diagnosis:\n",
    "        # other diagnosis (not cardiac arrest)\n",
    "        df.loc[df['Diagnosis'] == diagnosis, 'Diagnosis'] = 'OTHER'\n",
    "    else:\n",
    "        # other types of heart attacks\n",
    "        df.loc[df['Diagnosis'] == diagnosis, 'Diagnosis'] = 'OTHER MI'"
   ]
  },
  {
   "cell_type": "markdown",
   "id": "6ee73946-54eb-44e7-be7e-aeb0205ad84b",
   "metadata": {},
   "source": [
    "### Defining the hipothesis\n",
    "In this study, I will compare each column, one by one with Mortality, to determine, which of the data could give us more insight, on what really differenciates the individuals who survived their heart failure from those who did not. \n",
    "\n",
    "To begin, let's state our hipothesis:\n",
    "\n",
    "$H_{0}$ = There is no statistically significant difference between Mortality and other column.\n",
    "\n",
    "$H_{a}$ = There is a statistically significant difference between Mortality and other column.\n",
    "\n",
    "We will keep only the columns that reject the $H_{0}$, as those are the ones that most significantly affect the Mortality (at least, statistically and within our data). \n",
    "\n",
    "In this case, we are interested in a two-tailed tests, since we do not really care if each specific means are greater or lower from each other, but if they are significantly different.\n",
    "\n",
    "Upon earlier trials and errors, I decided that the significance level should be **0.1**, and therefore the confidence interval will be **90%**. Although in medical data we would rather aim at the greatest possible confidence interval to call a model successful, however this is also not the end of modeling.  \n",
    "\n",
    "For categorical data, we will conduct a chi-square test, to determine how different the spread is in those cases for mortality, and for numeric columns we will conduct a standard t-test."
   ]
  },
  {
   "cell_type": "code",
   "execution_count": 101,
   "id": "ea240e8e-fe26-4700-9a49-97b5ed1f22ec",
   "metadata": {},
   "outputs": [],
   "source": [
    "categorical_columns = df.select_dtypes(include=['object']).columns.tolist()\n",
    "\n",
    "# numeric columns were already created, but we need to remove the target\n",
    "numeric_columns.remove('Mortality')"
   ]
  },
  {
   "cell_type": "code",
   "execution_count": 102,
   "id": "61c0ceda-d7fe-41e2-b749-ceb5ed8f505e",
   "metadata": {},
   "outputs": [],
   "source": [
    "# let's define our chi_square test and t_test for faster processing\n",
    "def chi_square_test(dataframe, binary_column, categorical_column):\n",
    "    contingency_table = pd.crosstab(dataframe[binary_column], dataframe[categorical_column])\n",
    "    hi2_stat, p_value, dof, expected = chi2_contingency(contingency_table)\n",
    "    return p_value\n",
    "\n",
    "\n",
    "def t_test(dataframe, binary_column, numeric_column):\n",
    "    group0 = dataframe[dataframe[binary_column] == 0][numeric_column]\n",
    "    group1 = dataframe[dataframe[binary_column] == 1][numeric_column]\n",
    "\n",
    "    statistic, p_value = ttest_ind(group0, group1)\n",
    "\n",
    "    return p_value"
   ]
  },
  {
   "cell_type": "code",
   "execution_count": 103,
   "id": "af16aa17-a8b6-4878-b644-a490c6bd09ef",
   "metadata": {
    "tags": []
   },
   "outputs": [
    {
     "name": "stderr",
     "output_type": "stream",
     "text": [
      "/var/folders/71/prqs97ps2_lg_s37pr_lsd1h0000gn/T/ipykernel_33606/1165978355.py:12: RuntimeWarning: Precision loss occurred in moment calculation due to catastrophic cancellation. This occurs when the data are nearly identical. Results may be unreliable.\n",
      "  statistic, p_value = ttest_ind(group0, group1)\n"
     ]
    }
   ],
   "source": [
    "significant_columns = [] #list of significant columns\n",
    "\n",
    "alpha = 0.1 # significance level\n",
    "\n",
    "for column in categorical_columns:\n",
    "    p_value = chi_square_test(df, 'Mortality', column)\n",
    "    if p_value <= alpha:\n",
    "        significant_columns.append(column)\n",
    "\n",
    "pvalues = []\n",
    "for column in numeric_columns:\n",
    "    p_value = t_test(df, 'Mortality', column)\n",
    "    if p_value <= alpha:\n",
    "        significant_columns.append(column)\n",
    "        pvalues.append([column, p_value])"
   ]
  },
  {
   "cell_type": "code",
   "execution_count": 104,
   "id": "303106f3-b4a2-497b-8247-95e32d21b150",
   "metadata": {},
   "outputs": [
    {
     "data": {
      "text/plain": [
       "['AgeGroup',\n",
       " 'Gender',\n",
       " 'Smoking',\n",
       " 'HTN',\n",
       " 'Others',\n",
       " 'SKReact',\n",
       " 'Age',\n",
       " 'FHistory',\n",
       " 'Diabetes',\n",
       " 'WBC',\n",
       " 'oldpeak',\n",
       " 'ca',\n",
       " 'Reaction',\n",
       " 'FollowUp']"
      ]
     },
     "execution_count": 104,
     "metadata": {},
     "output_type": "execute_result"
    }
   ],
   "source": [
    "significant_columns"
   ]
  },
  {
   "cell_type": "markdown",
   "id": "e47de230-1002-48ed-a229-a912f8919388",
   "metadata": {},
   "source": [
    "Now with `significant_columns` in mind, we understand, that these features are the most different ones between alive and dead patients (at least - statistically). Our confidence interval in it is 90%.\n",
    "\n",
    "### Data preparation and encoding\n",
    "For any further analysis we need to encode all categorical data."
   ]
  },
  {
   "cell_type": "code",
   "execution_count": 105,
   "id": "aa5e661c-85aa-4047-855a-8ace84025a46",
   "metadata": {},
   "outputs": [
    {
     "data": {
      "text/html": [
       "<div>\n",
       "<style scoped>\n",
       "    .dataframe tbody tr th:only-of-type {\n",
       "        vertical-align: middle;\n",
       "    }\n",
       "\n",
       "    .dataframe tbody tr th {\n",
       "        vertical-align: top;\n",
       "    }\n",
       "\n",
       "    .dataframe thead th {\n",
       "        text-align: right;\n",
       "    }\n",
       "</style>\n",
       "<table border=\"1\" class=\"dataframe\">\n",
       "  <thead>\n",
       "    <tr style=\"text-align: right;\">\n",
       "      <th></th>\n",
       "      <th>AgeGroup</th>\n",
       "      <th>Gender</th>\n",
       "      <th>Smoking</th>\n",
       "      <th>HTN</th>\n",
       "      <th>Others</th>\n",
       "      <th>SKReact</th>\n",
       "      <th>Age</th>\n",
       "      <th>FHistory</th>\n",
       "      <th>Diabetes</th>\n",
       "      <th>WBC</th>\n",
       "      <th>oldpeak</th>\n",
       "      <th>ca</th>\n",
       "      <th>Reaction</th>\n",
       "      <th>FollowUp</th>\n",
       "      <th>Mortality</th>\n",
       "    </tr>\n",
       "  </thead>\n",
       "  <tbody>\n",
       "    <tr>\n",
       "      <th>25</th>\n",
       "      <td>21-30</td>\n",
       "      <td>Male</td>\n",
       "      <td>NO</td>\n",
       "      <td>NO</td>\n",
       "      <td>no</td>\n",
       "      <td>COUGH.BLEEDING</td>\n",
       "      <td>24</td>\n",
       "      <td>0</td>\n",
       "      <td>0</td>\n",
       "      <td>7800</td>\n",
       "      <td>1.6</td>\n",
       "      <td>0</td>\n",
       "      <td>1</td>\n",
       "      <td>5</td>\n",
       "      <td>0</td>\n",
       "    </tr>\n",
       "    <tr>\n",
       "      <th>139</th>\n",
       "      <td>21-30</td>\n",
       "      <td>Female</td>\n",
       "      <td>NO</td>\n",
       "      <td>YES</td>\n",
       "      <td>no</td>\n",
       "      <td>NO</td>\n",
       "      <td>24</td>\n",
       "      <td>0</td>\n",
       "      <td>1</td>\n",
       "      <td>10900</td>\n",
       "      <td>1.6</td>\n",
       "      <td>0</td>\n",
       "      <td>0</td>\n",
       "      <td>1</td>\n",
       "      <td>0</td>\n",
       "    </tr>\n",
       "    <tr>\n",
       "      <th>26</th>\n",
       "      <td>21-30</td>\n",
       "      <td>Male</td>\n",
       "      <td>YES</td>\n",
       "      <td>NO</td>\n",
       "      <td>no</td>\n",
       "      <td>SKIN.BLEEDING</td>\n",
       "      <td>25</td>\n",
       "      <td>1</td>\n",
       "      <td>0</td>\n",
       "      <td>6200</td>\n",
       "      <td>0.0</td>\n",
       "      <td>0</td>\n",
       "      <td>1</td>\n",
       "      <td>36</td>\n",
       "      <td>0</td>\n",
       "    </tr>\n",
       "    <tr>\n",
       "      <th>140</th>\n",
       "      <td>21-30</td>\n",
       "      <td>Male</td>\n",
       "      <td>YES</td>\n",
       "      <td>NO</td>\n",
       "      <td>PULMONARY ODEMA</td>\n",
       "      <td>NO</td>\n",
       "      <td>25</td>\n",
       "      <td>0</td>\n",
       "      <td>0</td>\n",
       "      <td>7600</td>\n",
       "      <td>0.0</td>\n",
       "      <td>0</td>\n",
       "      <td>0</td>\n",
       "      <td>4</td>\n",
       "      <td>0</td>\n",
       "    </tr>\n",
       "    <tr>\n",
       "      <th>27</th>\n",
       "      <td>31-40</td>\n",
       "      <td>Male</td>\n",
       "      <td>NO</td>\n",
       "      <td>YES</td>\n",
       "      <td>IHD, SOB</td>\n",
       "      <td>LUNGS</td>\n",
       "      <td>35</td>\n",
       "      <td>1</td>\n",
       "      <td>0</td>\n",
       "      <td>12200</td>\n",
       "      <td>3.8</td>\n",
       "      <td>0</td>\n",
       "      <td>1</td>\n",
       "      <td>32</td>\n",
       "      <td>0</td>\n",
       "    </tr>\n",
       "  </tbody>\n",
       "</table>\n",
       "</div>"
      ],
      "text/plain": [
       "    AgeGroup  Gender Smoking  HTN            Others         SKReact  Age  \\\n",
       "25     21-30    Male      NO   NO                no  COUGH.BLEEDING   24   \n",
       "139    21-30  Female      NO  YES                no              NO   24   \n",
       "26     21-30    Male     YES   NO                no   SKIN.BLEEDING   25   \n",
       "140    21-30    Male     YES   NO  PULMONARY ODEMA               NO   25   \n",
       "27     31-40    Male      NO  YES          IHD, SOB           LUNGS   35   \n",
       "\n",
       "     FHistory  Diabetes    WBC  oldpeak  ca  Reaction  FollowUp  Mortality  \n",
       "25          0         0   7800      1.6   0         1         5          0  \n",
       "139         0         1  10900      1.6   0         0         1          0  \n",
       "26          1         0   6200      0.0   0         1        36          0  \n",
       "140         0         0   7600      0.0   0         0         4          0  \n",
       "27          1         0  12200      3.8   0         1        32          0  "
      ]
     },
     "execution_count": 105,
     "metadata": {},
     "output_type": "execute_result"
    }
   ],
   "source": [
    "# we cannot miss out target value\n",
    "significant_columns.append('Mortality')\n",
    "\n",
    "# since we want the age group to have good encoding, it will be best if we sort by 'Age'\n",
    "df = df[significant_columns].sort_values(by='Age')\n",
    "\n",
    "df.head()"
   ]
  },
  {
   "cell_type": "code",
   "execution_count": 106,
   "id": "5118be04-bbea-4542-94c7-c81ca1eb04d5",
   "metadata": {},
   "outputs": [],
   "source": [
    "binary_columns = ['Smoking', 'HTN']\n",
    "\n",
    "binary_map = {'NO': 0, 'YES': 1}\n",
    "\n",
    "label_enc_columns = ['AgeGroup', 'Gender', 'SKReact', 'Others']"
   ]
  },
  {
   "cell_type": "code",
   "execution_count": 107,
   "id": "9ffa42e4-c7be-4d55-b490-9510707400cd",
   "metadata": {},
   "outputs": [],
   "source": [
    "# encoding binary columns\n",
    "df[binary_columns] = df[binary_columns].replace(binary_map)"
   ]
  },
  {
   "cell_type": "code",
   "execution_count": 108,
   "id": "c868fb14-eaed-4d09-bbb3-0ac6d3ee348a",
   "metadata": {},
   "outputs": [],
   "source": [
    "labeler = LabelEncoder() # here we do not need to define anything inside\n",
    "labels_dict = {} # for the future reference\n",
    "\n",
    "for column in label_enc_columns:\n",
    "    df[column] = labeler.fit_transform(df[column])\n",
    "    if column not in labels_dict.keys():\n",
    "        labels_dict[column] = dict(zip(labeler.transform(labeler.classes_), labeler.classes_))\n",
    "        \n",
    "with open('data/labeler.pkl', 'wb') as f:\n",
    "    pickle.dump((labels_dict), f)"
   ]
  },
  {
   "cell_type": "code",
   "execution_count": 109,
   "id": "f49011ba-5e53-4095-9bcd-97a974efc45b",
   "metadata": {},
   "outputs": [
    {
     "data": {
      "text/html": [
       "<div>\n",
       "<style scoped>\n",
       "    .dataframe tbody tr th:only-of-type {\n",
       "        vertical-align: middle;\n",
       "    }\n",
       "\n",
       "    .dataframe tbody tr th {\n",
       "        vertical-align: top;\n",
       "    }\n",
       "\n",
       "    .dataframe thead th {\n",
       "        text-align: right;\n",
       "    }\n",
       "</style>\n",
       "<table border=\"1\" class=\"dataframe\">\n",
       "  <thead>\n",
       "    <tr style=\"text-align: right;\">\n",
       "      <th></th>\n",
       "      <th>AgeGroup</th>\n",
       "      <th>Gender</th>\n",
       "      <th>Smoking</th>\n",
       "      <th>HTN</th>\n",
       "      <th>Others</th>\n",
       "      <th>SKReact</th>\n",
       "      <th>Age</th>\n",
       "      <th>FHistory</th>\n",
       "      <th>Diabetes</th>\n",
       "      <th>WBC</th>\n",
       "      <th>oldpeak</th>\n",
       "      <th>ca</th>\n",
       "      <th>Reaction</th>\n",
       "      <th>FollowUp</th>\n",
       "      <th>Mortality</th>\n",
       "    </tr>\n",
       "  </thead>\n",
       "  <tbody>\n",
       "    <tr>\n",
       "      <th>0</th>\n",
       "      <td>2</td>\n",
       "      <td>0</td>\n",
       "      <td>0</td>\n",
       "      <td>0</td>\n",
       "      <td>16</td>\n",
       "      <td>4</td>\n",
       "      <td>45</td>\n",
       "      <td>0</td>\n",
       "      <td>1</td>\n",
       "      <td>9900</td>\n",
       "      <td>3.0</td>\n",
       "      <td>0</td>\n",
       "      <td>0</td>\n",
       "      <td>60</td>\n",
       "      <td>0</td>\n",
       "    </tr>\n",
       "    <tr>\n",
       "      <th>1</th>\n",
       "      <td>3</td>\n",
       "      <td>0</td>\n",
       "      <td>0</td>\n",
       "      <td>0</td>\n",
       "      <td>16</td>\n",
       "      <td>4</td>\n",
       "      <td>51</td>\n",
       "      <td>0</td>\n",
       "      <td>0</td>\n",
       "      <td>15800</td>\n",
       "      <td>1.2</td>\n",
       "      <td>0</td>\n",
       "      <td>0</td>\n",
       "      <td>15</td>\n",
       "      <td>0</td>\n",
       "    </tr>\n",
       "    <tr>\n",
       "      <th>2</th>\n",
       "      <td>3</td>\n",
       "      <td>0</td>\n",
       "      <td>0</td>\n",
       "      <td>1</td>\n",
       "      <td>11</td>\n",
       "      <td>4</td>\n",
       "      <td>55</td>\n",
       "      <td>0</td>\n",
       "      <td>1</td>\n",
       "      <td>7900</td>\n",
       "      <td>3.4</td>\n",
       "      <td>0</td>\n",
       "      <td>0</td>\n",
       "      <td>6</td>\n",
       "      <td>0</td>\n",
       "    </tr>\n",
       "    <tr>\n",
       "      <th>3</th>\n",
       "      <td>3</td>\n",
       "      <td>0</td>\n",
       "      <td>0</td>\n",
       "      <td>1</td>\n",
       "      <td>5</td>\n",
       "      <td>4</td>\n",
       "      <td>55</td>\n",
       "      <td>0</td>\n",
       "      <td>1</td>\n",
       "      <td>7900</td>\n",
       "      <td>2.0</td>\n",
       "      <td>1</td>\n",
       "      <td>0</td>\n",
       "      <td>52</td>\n",
       "      <td>0</td>\n",
       "    </tr>\n",
       "    <tr>\n",
       "      <th>4</th>\n",
       "      <td>3</td>\n",
       "      <td>0</td>\n",
       "      <td>0</td>\n",
       "      <td>1</td>\n",
       "      <td>16</td>\n",
       "      <td>4</td>\n",
       "      <td>56</td>\n",
       "      <td>0</td>\n",
       "      <td>1</td>\n",
       "      <td>6900</td>\n",
       "      <td>4.0</td>\n",
       "      <td>2</td>\n",
       "      <td>0</td>\n",
       "      <td>34</td>\n",
       "      <td>0</td>\n",
       "    </tr>\n",
       "  </tbody>\n",
       "</table>\n",
       "</div>"
      ],
      "text/plain": [
       "   AgeGroup  Gender  Smoking  HTN  Others  SKReact  Age  FHistory  Diabetes  \\\n",
       "0         2       0        0    0      16        4   45         0         1   \n",
       "1         3       0        0    0      16        4   51         0         0   \n",
       "2         3       0        0    1      11        4   55         0         1   \n",
       "3         3       0        0    1       5        4   55         0         1   \n",
       "4         3       0        0    1      16        4   56         0         1   \n",
       "\n",
       "     WBC  oldpeak  ca  Reaction  FollowUp  Mortality  \n",
       "0   9900      3.0   0         0        60          0  \n",
       "1  15800      1.2   0         0        15          0  \n",
       "2   7900      3.4   0         0         6          0  \n",
       "3   7900      2.0   1         0        52          0  \n",
       "4   6900      4.0   2         0        34          0  "
      ]
     },
     "execution_count": 109,
     "metadata": {},
     "output_type": "execute_result"
    }
   ],
   "source": [
    "# so we keep it originally sorted\n",
    "df = df.sort_index()\n",
    "df.head()"
   ]
  },
  {
   "cell_type": "markdown",
   "id": "1d257087-8180-4171-90ed-ef381ede3bc2",
   "metadata": {},
   "source": [
    "## Principal components analysis"
   ]
  },
  {
   "cell_type": "code",
   "execution_count": 110,
   "id": "627f3e7d-a9ae-4ec6-b6a1-98b95dbc0eab",
   "metadata": {},
   "outputs": [],
   "source": [
    "# for PCA we need to scale and center our data\n",
    "scaler = StandardScaler()\n",
    "\n",
    "# copying so not to scale all data at once\n",
    "dff = df.copy() \n",
    "\n",
    "# transformation\n",
    "dff = scaler.fit_transform(dff) "
   ]
  },
  {
   "cell_type": "code",
   "execution_count": 111,
   "id": "f5dd8a2f-f53f-498a-b4d1-52ad2cd1228d",
   "metadata": {},
   "outputs": [
    {
     "data": {
      "text/html": [
       "<style>#sk-container-id-3 {color: black;background-color: white;}#sk-container-id-3 pre{padding: 0;}#sk-container-id-3 div.sk-toggleable {background-color: white;}#sk-container-id-3 label.sk-toggleable__label {cursor: pointer;display: block;width: 100%;margin-bottom: 0;padding: 0.3em;box-sizing: border-box;text-align: center;}#sk-container-id-3 label.sk-toggleable__label-arrow:before {content: \"▸\";float: left;margin-right: 0.25em;color: #696969;}#sk-container-id-3 label.sk-toggleable__label-arrow:hover:before {color: black;}#sk-container-id-3 div.sk-estimator:hover label.sk-toggleable__label-arrow:before {color: black;}#sk-container-id-3 div.sk-toggleable__content {max-height: 0;max-width: 0;overflow: hidden;text-align: left;background-color: #f0f8ff;}#sk-container-id-3 div.sk-toggleable__content pre {margin: 0.2em;color: black;border-radius: 0.25em;background-color: #f0f8ff;}#sk-container-id-3 input.sk-toggleable__control:checked~div.sk-toggleable__content {max-height: 200px;max-width: 100%;overflow: auto;}#sk-container-id-3 input.sk-toggleable__control:checked~label.sk-toggleable__label-arrow:before {content: \"▾\";}#sk-container-id-3 div.sk-estimator input.sk-toggleable__control:checked~label.sk-toggleable__label {background-color: #d4ebff;}#sk-container-id-3 div.sk-label input.sk-toggleable__control:checked~label.sk-toggleable__label {background-color: #d4ebff;}#sk-container-id-3 input.sk-hidden--visually {border: 0;clip: rect(1px 1px 1px 1px);clip: rect(1px, 1px, 1px, 1px);height: 1px;margin: -1px;overflow: hidden;padding: 0;position: absolute;width: 1px;}#sk-container-id-3 div.sk-estimator {font-family: monospace;background-color: #f0f8ff;border: 1px dotted black;border-radius: 0.25em;box-sizing: border-box;margin-bottom: 0.5em;}#sk-container-id-3 div.sk-estimator:hover {background-color: #d4ebff;}#sk-container-id-3 div.sk-parallel-item::after {content: \"\";width: 100%;border-bottom: 1px solid gray;flex-grow: 1;}#sk-container-id-3 div.sk-label:hover label.sk-toggleable__label {background-color: #d4ebff;}#sk-container-id-3 div.sk-serial::before {content: \"\";position: absolute;border-left: 1px solid gray;box-sizing: border-box;top: 0;bottom: 0;left: 50%;z-index: 0;}#sk-container-id-3 div.sk-serial {display: flex;flex-direction: column;align-items: center;background-color: white;padding-right: 0.2em;padding-left: 0.2em;position: relative;}#sk-container-id-3 div.sk-item {position: relative;z-index: 1;}#sk-container-id-3 div.sk-parallel {display: flex;align-items: stretch;justify-content: center;background-color: white;position: relative;}#sk-container-id-3 div.sk-item::before, #sk-container-id-3 div.sk-parallel-item::before {content: \"\";position: absolute;border-left: 1px solid gray;box-sizing: border-box;top: 0;bottom: 0;left: 50%;z-index: -1;}#sk-container-id-3 div.sk-parallel-item {display: flex;flex-direction: column;z-index: 1;position: relative;background-color: white;}#sk-container-id-3 div.sk-parallel-item:first-child::after {align-self: flex-end;width: 50%;}#sk-container-id-3 div.sk-parallel-item:last-child::after {align-self: flex-start;width: 50%;}#sk-container-id-3 div.sk-parallel-item:only-child::after {width: 0;}#sk-container-id-3 div.sk-dashed-wrapped {border: 1px dashed gray;margin: 0 0.4em 0.5em 0.4em;box-sizing: border-box;padding-bottom: 0.4em;background-color: white;}#sk-container-id-3 div.sk-label label {font-family: monospace;font-weight: bold;display: inline-block;line-height: 1.2em;}#sk-container-id-3 div.sk-label-container {text-align: center;}#sk-container-id-3 div.sk-container {/* jupyter's `normalize.less` sets `[hidden] { display: none; }` but bootstrap.min.css set `[hidden] { display: none !important; }` so we also need the `!important` here to be able to override the default hidden behavior on the sphinx rendered scikit-learn.org. See: https://github.com/scikit-learn/scikit-learn/issues/21755 */display: inline-block !important;position: relative;}#sk-container-id-3 div.sk-text-repr-fallback {display: none;}</style><div id=\"sk-container-id-3\" class=\"sk-top-container\"><div class=\"sk-text-repr-fallback\"><pre>PCA()</pre><b>In a Jupyter environment, please rerun this cell to show the HTML representation or trust the notebook. <br />On GitHub, the HTML representation is unable to render, please try loading this page with nbviewer.org.</b></div><div class=\"sk-container\" hidden><div class=\"sk-item\"><div class=\"sk-estimator sk-toggleable\"><input class=\"sk-toggleable__control sk-hidden--visually\" id=\"sk-estimator-id-3\" type=\"checkbox\" checked><label for=\"sk-estimator-id-3\" class=\"sk-toggleable__label sk-toggleable__label-arrow\">PCA</label><div class=\"sk-toggleable__content\"><pre>PCA()</pre></div></div></div></div></div>"
      ],
      "text/plain": [
       "PCA()"
      ]
     },
     "execution_count": 111,
     "metadata": {},
     "output_type": "execute_result"
    }
   ],
   "source": [
    "pca = PCA()\n",
    "pca.fit(dff)"
   ]
  },
  {
   "cell_type": "code",
   "execution_count": 112,
   "id": "7b0e2479-9ffb-4bc9-aee9-008a8f1ea190",
   "metadata": {},
   "outputs": [
    {
     "data": {
      "text/plain": [
       "array([0.20962193, 0.3685361 , 0.46969283, 0.55606332, 0.63310657,\n",
       "       0.69933036, 0.75616887, 0.8093511 , 0.85825972, 0.90093227,\n",
       "       0.93650735, 0.96308876, 0.98196473, 0.99194766, 1.        ])"
      ]
     },
     "execution_count": 112,
     "metadata": {},
     "output_type": "execute_result"
    }
   ],
   "source": [
    "threshold = 0.95\n",
    "\n",
    "cumulative_var = np.cumsum(pca.explained_variance_ratio_)\n",
    "cumulative_var"
   ]
  },
  {
   "cell_type": "code",
   "execution_count": 113,
   "id": "9e7ed704-ced3-4cb7-87a5-949a29791c11",
   "metadata": {},
   "outputs": [
    {
     "name": "stdout",
     "output_type": "stream",
     "text": [
      "The number of components explaining 95% of the variance: 11\n"
     ]
    }
   ],
   "source": [
    "components_number = np.argmax(cumulative_var > threshold)\n",
    "print(f'The number of components explaining {threshold:.0%} of the variance: {components_number}')"
   ]
  },
  {
   "cell_type": "code",
   "execution_count": 114,
   "id": "51d59121-3731-44d3-854b-11c2c735c27e",
   "metadata": {},
   "outputs": [
    {
     "name": "stdout",
     "output_type": "stream",
     "text": [
      "20.96% of the data variance has been preserved along the first principal component,\n",
      "15.89% of the data variance has been preserved along the second principal component, etc.\n"
     ]
    }
   ],
   "source": [
    "print(f'{pca.explained_variance_ratio_[0]:.2%} of the data variance has been preserved along the first principal component,')\n",
    "print(f'{pca.explained_variance_ratio_[1]:.2%} of the data variance has been preserved along the second principal component, etc.')"
   ]
  },
  {
   "cell_type": "code",
   "execution_count": 115,
   "id": "79888e85-7846-473f-ac2b-5be355b2472e",
   "metadata": {},
   "outputs": [
    {
     "data": {
      "image/png": "[encoded data removed]",
      "text/plain": [
       "<Figure size 1000x500 with 1 Axes>"
      ]
     },
     "metadata": {},
     "output_type": "display_data"
    }
   ],
   "source": [
    "plt.figure(figsize=[10,5])\n",
    "plt.title('Cumulative Explained Variance explained by the components')\n",
    "plt.ylabel('Cumulative Explained Variance')\n",
    "plt.xlabel('Number of components')\n",
    "plt.axvline(x=components_number, color=\"k\", linestyle=\"--\")\n",
    "plt.axhline(y=threshold, color=\"r\", linestyle=\"--\")\n",
    "plt.plot(cumulative_var, marker='o')\n",
    "plt.show()"
   ]
  },
  {
   "cell_type": "markdown",
   "id": "afc2523a-f6b4-4657-855f-bd44dec44b01",
   "metadata": {},
   "source": [
    "Based on the Principal Components Analysis we can conclude that statistically, we would get should get quite good reluts if we only take 11 features into consideration. \n",
    "\n",
    "However, since this dataset is already trimmed by a lot by using hypothesis testing, I will keep all the features when creating our model (or rather concoction of three models) and later decide if it could be trimmed further with feature importances. "
   ]
  },
  {
   "cell_type": "markdown",
   "id": "e052f858-518f-47e4-ae79-5c6fde0cb794",
   "metadata": {
    "jupyter": {
     "outputs_hidden": true
    },
    "tags": []
   },
   "source": [
    "Now with the data splitted into train and test subsets, we can move onto the modeling!\n",
    "\n",
    "## Model creation"
   ]
  },
  {
   "cell_type": "code",
   "execution_count": 116,
   "id": "d56e82dc-1493-4bf8-a38c-0553287a125f",
   "metadata": {},
   "outputs": [],
   "source": [
    "# firstly let's create some useful functions\n",
    "\n",
    "def calculate_metrics(target, prediction, average='macro'):\n",
    "    '''\n",
    "    With this function we generate all metrics we want to check for classification problem\n",
    "    '''\n",
    "    accuracy = accuracy_score(target, prediction)\n",
    "    precision = precision_score(target, prediction, average=average, zero_division = 0)\n",
    "    recall = recall_score(target, prediction, average=average)\n",
    "    f1 = f1_score(target, prediction, average=average)\n",
    "    roc = roc_auc_score(target, prediction)\n",
    "    mislabeled = (target != prediction).sum()\n",
    "    total = len(target)\n",
    "    return accuracy, precision, recall, f1, roc, mislabeled, total\n",
    "\n",
    "def print_results(metrics, classifier_id='classifier'):\n",
    "    '''\n",
    "    With this function we are printing all the metrics\n",
    "    '''\n",
    "    print(f'Results for {classifier_id}')\n",
    "    print('----')\n",
    "    print(f'  Accuracy:  {metrics[0]}')\n",
    "    print(f'  Precision: {metrics[1]}')\n",
    "    print(f'  Recall:    {metrics[2]}')\n",
    "    print(f'  F1 score:  {metrics[3]}')\n",
    "    print(f'  ROC score: {metrics[4]}')\n",
    "    print(f'  Mislabeled {metrics[5]} out of {metrics[6]}')\n",
    "    \n",
    "    \n",
    "def get_binary_classes(y):\n",
    "    '''\n",
    "    With this function we print out the original proporions of 0 and 1 in the subset\n",
    "    '''\n",
    "    zeros = len([x for x in y if x == 0])\n",
    "    ones = len([x for x in y if x == 1])\n",
    "    print(f'Quantities are {zeros} for 0, {ones} for 1')\n",
    "    print('\\n')\n",
    "    \n",
    "def get_confusion_matrix(y, y_pred):\n",
    "    '''\n",
    "    This function returns a visualization of a confusion matrix\n",
    "    '''\n",
    "    fig, ax = plt.subplots(figsize=(3,3))\n",
    "    cm = confusion_matrix(y, y_pred)\n",
    "    ax = sns.heatmap(cm, annot = True, fmt = 'd')\n",
    "    plt.show()"
   ]
  },
  {
   "cell_type": "code",
   "execution_count": null,
   "id": "5c511a34-1f80-482b-9efe-a4e997402832",
   "metadata": {},
   "outputs": [],
   "source": [
    "y = df.pop('Mortality')\n",
    "X = df"
   ]
  },
  {
   "cell_type": "code",
   "execution_count": 132,
   "id": "9165de06-3b53-4f26-9ed4-b56d36855ea1",
   "metadata": {},
   "outputs": [],
   "source": [
    "X_train, X_test, y_train, y_test = train_test_split(X, y,\n",
    "                                                   test_size=0.2,\n",
    "                                                   random_state=27,\n",
    "                                                   stratify=y \n",
    "                                                   )\n",
    "\n",
    "# to balance out the data, let's use SMOTE\n",
    "sm = SMOTE(random_state=42,\n",
    "           sampling_strategy='auto',\n",
    "           k_neighbors=4 \n",
    "          )\n",
    "\n",
    "X_train_sm, y_train_sm = sm.fit_resample(X_train, y_train)"
   ]
  },
  {
   "cell_type": "code",
   "execution_count": 133,
   "id": "ba234b03-86be-4341-a812-fef4d90b0aed",
   "metadata": {
    "tags": []
   },
   "outputs": [
    {
     "name": "stdout",
     "output_type": "stream",
     "text": [
      "Results for 1\n",
      "----\n",
      "  Accuracy:  0.8536585365853658\n",
      "  Precision: 0.857487922705314\n",
      "  Recall:    0.8523809523809525\n",
      "  F1 score:  0.8528708133971292\n",
      "  ROC score: 0.8523809523809524\n",
      "  Mislabeled 6 out of 41\n",
      "Quantities are 20 for 0, 21 for 1\n",
      "\n",
      "\n"
     ]
    },
    {
     "data": {
      "image/png": "[encoded data removed]",
      "text/plain": [
       "<Figure size 300x300 with 2 Axes>"
      ]
     },
     "metadata": {},
     "output_type": "display_data"
    },
    {
     "name": "stdout",
     "output_type": "stream",
     "text": [
      "Results for 2\n",
      "----\n",
      "  Accuracy:  0.8536585365853658\n",
      "  Precision: 0.8705128205128205\n",
      "  Recall:    0.8456937799043063\n",
      "  F1 score:  0.8492647058823529\n",
      "  ROC score: 0.8456937799043063\n",
      "  Mislabeled 6 out of 41\n",
      "Quantities are 19 for 0, 22 for 1\n",
      "\n",
      "\n"
     ]
    },
    {
     "data": {
      "image/png": "[encoded data removed]",
      "text/plain": [
       "<Figure size 300x300 with 2 Axes>"
      ]
     },
     "metadata": {},
     "output_type": "display_data"
    },
    {
     "name": "stdout",
     "output_type": "stream",
     "text": [
      "Results for 3\n",
      "----\n",
      "  Accuracy:  0.875\n",
      "  Precision: 0.875\n",
      "  Recall:    0.8759398496240601\n",
      "  F1 score:  0.8749218261413383\n",
      "  ROC score: 0.8759398496240601\n",
      "  Mislabeled 5 out of 40\n",
      "Quantities are 19 for 0, 21 for 1\n",
      "\n",
      "\n"
     ]
    },
    {
     "data": {
      "image/png": "[encoded data removed]",
      "text/plain": [
       "<Figure size 300x300 with 2 Axes>"
      ]
     },
     "metadata": {},
     "output_type": "display_data"
    },
    {
     "name": "stdout",
     "output_type": "stream",
     "text": [
      "Results for 4\n",
      "----\n",
      "  Accuracy:  0.825\n",
      "  Precision: 0.8333333333333334\n",
      "  Recall:    0.8156565656565656\n",
      "  F1 score:  0.819471308833011\n",
      "  ROC score: 0.8156565656565657\n",
      "  Mislabeled 7 out of 40\n",
      "Quantities are 22 for 0, 18 for 1\n",
      "\n",
      "\n"
     ]
    },
    {
     "data": {
      "image/png": "[encoded data removed]",
      "text/plain": [
       "<Figure size 300x300 with 2 Axes>"
      ]
     },
     "metadata": {},
     "output_type": "display_data"
    },
    {
     "name": "stdout",
     "output_type": "stream",
     "text": [
      "Results for 5\n",
      "----\n",
      "  Accuracy:  0.8\n",
      "  Precision: 0.80306905370844\n",
      "  Recall:    0.7969924812030075\n",
      "  F1 score:  0.797979797979798\n",
      "  ROC score: 0.7969924812030076\n",
      "  Mislabeled 8 out of 40\n",
      "Quantities are 21 for 0, 19 for 1\n",
      "\n",
      "\n"
     ]
    },
    {
     "data": {
      "image/png": "[encoded data removed]",
      "text/plain": [
       "<Figure size 300x300 with 2 Axes>"
      ]
     },
     "metadata": {},
     "output_type": "display_data"
    }
   ],
   "source": [
    "kfoldcv = KFold(n_splits=5,\n",
    "                shuffle=True,\n",
    "                random_state=27\n",
    "               )\n",
    "\n",
    "# let's try on vanilla AdaBoost\n",
    "for n, (train, val) in enumerate(kfoldcv.split(X_train_sm, y_train_sm), 1):\n",
    "    X_train_fold, y_train_fold = X_train_sm.iloc[train], y_train_sm.iloc[train]\n",
    "    X_val_fold, y_val_fold = X_train_sm.iloc[val], y_train_sm.iloc[val]\n",
    "    \n",
    "    # X_train_scaled = scaler.fit_transform(X_train_fold)\n",
    "    # X_val_scaled = scaler.fit_transform(X_val_fold)\n",
    "    \n",
    "    ada1 = AdaBoostClassifier()\n",
    "    ada1.fit(X_train_fold, y_train_fold)\n",
    "    y_pred = ada1.predict(X_val_fold)\n",
    "    \n",
    "    print_results(calculate_metrics(y_val_fold, y_pred), classifier_id=n)\n",
    "    get_binary_classes(y_val_fold)\n",
    "    get_confusion_matrix(y_val_fold, y_pred)"
   ]
  },
  {
   "cell_type": "code",
   "execution_count": 134,
   "id": "fc90a061-6a09-4be7-95d5-69aaaae9722c",
   "metadata": {},
   "outputs": [
    {
     "name": "stdout",
     "output_type": "stream",
     "text": [
      "Results for classifier\n",
      "----\n",
      "  Accuracy:  0.8387096774193549\n",
      "  Precision: 0.71\n",
      "  Recall:    0.7423076923076923\n",
      "  F1 score:  0.7237076648841355\n",
      "  ROC score: 0.7423076923076923\n",
      "  Mislabeled 5 out of 31\n",
      "Quantities are 26 for 0, 5 for 1\n",
      "\n",
      "\n"
     ]
    },
    {
     "data": {
      "image/png": "[encoded data removed]",
      "text/plain": [
       "<Figure size 300x300 with 2 Axes>"
      ]
     },
     "metadata": {},
     "output_type": "display_data"
    }
   ],
   "source": [
    "# let's test it on test data, which the model has not seen before\n",
    "# X_test_scaled = scaler.fit_transform(X_test)\n",
    "y_test_pred = ada1.predict(X_test)\n",
    "\n",
    "print_results(calculate_metrics(y_test, y_test_pred))\n",
    "get_binary_classes(y_test)\n",
    "get_confusion_matrix(y_test, y_test_pred)"
   ]
  },
  {
   "cell_type": "markdown",
   "id": "1087c9aa-a5ef-4d3b-8f26-a82ee39e814a",
   "metadata": {},
   "source": [
    "I do use quite a lot of metrics here, however the ones that interest me the most are **ROC score**, **F1 score** and **Accuracy**. I am also analyzing the confusion matrices, to know where the mistakes are generated most often. \n",
    "\n",
    "This vanilla `AdaBoostClassifier` did quite a good job actually, better than I expected. Also, taking into consideration the results cross validation, it seems that the predictions in all cases are not random. This initial model's biggest problem is predicting false nevatives to often, which in out case is the worst scenario, as it indicates that a patient should live, but they die instead. Also, probably due to the duplicates, the test result might be due to overfitting.\n",
    "\n",
    "Now, let's use `OPTUNA`, to see if we can get a better scores with AdaBoost."
   ]
  },
  {
   "cell_type": "code",
   "execution_count": 135,
   "id": "8e975383-d451-4e2e-be07-30481481e6e6",
   "metadata": {
    "tags": []
   },
   "outputs": [
    {
     "name": "stderr",
     "output_type": "stream",
     "text": [
      "[I 2023-10-05 23:54:49,011] A new study created in memory with name: no-name-a0f02867-1fbf-4f82-8c2f-ff360a654f79\n",
      "[I 2023-10-05 23:54:49,211] Trial 0 finished with value: 0.7461538461538462 and parameters: {'n_estimators': 244, 'learning_rate': 7.815663600709515}. Best is trial 0 with value: 0.7461538461538462.\n",
      "[I 2023-10-05 23:54:49,763] Trial 1 finished with value: 0.6653846153846155 and parameters: {'n_estimators': 709, 'learning_rate': 3.413578535009256}. Best is trial 0 with value: 0.7461538461538462.\n",
      "[I 2023-10-05 23:54:50,111] Trial 2 finished with value: 0.7461538461538462 and parameters: {'n_estimators': 430, 'learning_rate': 2.250347630711575}. Best is trial 0 with value: 0.7461538461538462.\n",
      "[I 2023-10-05 23:54:50,304] Trial 3 finished with value: 0.8607692307692308 and parameters: {'n_estimators': 219, 'learning_rate': 1.5141302128058782}. Best is trial 3 with value: 0.8607692307692308.\n",
      "[I 2023-10-05 23:54:50,478] Trial 4 finished with value: 0.7461538461538462 and parameters: {'n_estimators': 194, 'learning_rate': 3.425522780890001}. Best is trial 3 with value: 0.8607692307692308.\n",
      "[I 2023-10-05 23:54:50,772] Trial 5 finished with value: 0.6653846153846155 and parameters: {'n_estimators': 347, 'learning_rate': 3.72052013502526}. Best is trial 3 with value: 0.8607692307692308.\n",
      "[I 2023-10-05 23:54:50,923] Trial 6 finished with value: 0.7461538461538462 and parameters: {'n_estimators': 188, 'learning_rate': 2.572871122252885}. Best is trial 3 with value: 0.8607692307692308.\n",
      "[I 2023-10-05 23:54:51,136] Trial 7 finished with value: 0.8607692307692308 and parameters: {'n_estimators': 269, 'learning_rate': 1.573468035790615}. Best is trial 3 with value: 0.8607692307692308.\n",
      "[I 2023-10-05 23:54:51,720] Trial 8 finished with value: 0.6653846153846155 and parameters: {'n_estimators': 752, 'learning_rate': 6.061946702018751}. Best is trial 3 with value: 0.8607692307692308.\n",
      "[I 2023-10-05 23:54:52,078] Trial 9 finished with value: 0.6653846153846155 and parameters: {'n_estimators': 455, 'learning_rate': 7.771997402772101}. Best is trial 3 with value: 0.8607692307692308.\n",
      "[I 2023-10-05 23:54:52,549] Trial 10 finished with value: 0.8607692307692308 and parameters: {'n_estimators': 599, 'learning_rate': 0.31975861432495445}. Best is trial 3 with value: 0.8607692307692308.\n",
      "[I 2023-10-05 23:54:53,311] Trial 11 finished with value: 0.8407692307692307 and parameters: {'n_estimators': 977, 'learning_rate': 0.29267320217171644}. Best is trial 3 with value: 0.8607692307692308.\n",
      "[I 2023-10-05 23:54:53,414] Trial 12 finished with value: 0.8807692307692309 and parameters: {'n_estimators': 120, 'learning_rate': 1.5001143194860118}. Best is trial 12 with value: 0.8807692307692309.\n",
      "[I 2023-10-05 23:54:53,515] Trial 13 finished with value: 0.7461538461538462 and parameters: {'n_estimators': 114, 'learning_rate': 5.062030093531416}. Best is trial 12 with value: 0.8807692307692309.\n",
      "[I 2023-10-05 23:54:53,606] Trial 14 finished with value: 0.8807692307692309 and parameters: {'n_estimators': 104, 'learning_rate': 1.265748040214465}. Best is trial 12 with value: 0.8807692307692309.\n",
      "[I 2023-10-05 23:54:53,695] Trial 15 finished with value: 0.9007692307692308 and parameters: {'n_estimators': 100, 'learning_rate': 0.20419560176452034}. Best is trial 15 with value: 0.9007692307692308.\n",
      "[I 2023-10-05 23:54:53,977] Trial 16 finished with value: 0.8607692307692308 and parameters: {'n_estimators': 344, 'learning_rate': 0.47843223232796706}. Best is trial 15 with value: 0.9007692307692308.\n",
      "[I 2023-10-05 23:54:54,760] Trial 17 finished with value: 0.8407692307692307 and parameters: {'n_estimators': 995, 'learning_rate': 0.24144136882204936}. Best is trial 15 with value: 0.9007692307692308.\n",
      "[I 2023-10-05 23:54:55,196] Trial 18 finished with value: 0.6653846153846155 and parameters: {'n_estimators': 544, 'learning_rate': 9.775410185448973}. Best is trial 15 with value: 0.9007692307692308.\n",
      "[I 2023-10-05 23:54:55,458] Trial 19 finished with value: 0.7461538461538462 and parameters: {'n_estimators': 322, 'learning_rate': 2.3155782152361244}. Best is trial 15 with value: 0.9007692307692308.\n",
      "[I 2023-10-05 23:54:55,553] Trial 20 finished with value: 0.8615384615384616 and parameters: {'n_estimators': 108, 'learning_rate': 1.4320171969402025}. Best is trial 15 with value: 0.9007692307692308.\n",
      "[I 2023-10-05 23:54:55,648] Trial 21 finished with value: 0.8607692307692308 and parameters: {'n_estimators': 108, 'learning_rate': 1.083411705291965}. Best is trial 15 with value: 0.9007692307692308.\n",
      "[I 2023-10-05 23:54:55,791] Trial 22 finished with value: 0.8607692307692308 and parameters: {'n_estimators': 168, 'learning_rate': 1.0679198312364857}. Best is trial 15 with value: 0.9007692307692308.\n",
      "[I 2023-10-05 23:54:56,022] Trial 23 finished with value: 0.8607692307692308 and parameters: {'n_estimators': 284, 'learning_rate': 0.062047190637363414}. Best is trial 15 with value: 0.9007692307692308.\n",
      "[I 2023-10-05 23:54:56,364] Trial 24 finished with value: 0.6653846153846155 and parameters: {'n_estimators': 427, 'learning_rate': 2.167914377670546}. Best is trial 15 with value: 0.9007692307692308.\n",
      "[I 2023-10-05 23:54:56,503] Trial 25 finished with value: 0.8607692307692308 and parameters: {'n_estimators': 165, 'learning_rate': 0.9765826247210487}. Best is trial 15 with value: 0.9007692307692308.\n",
      "[I 2023-10-05 23:54:56,593] Trial 26 finished with value: 0.6538461538461539 and parameters: {'n_estimators': 102, 'learning_rate': 2.7388193891981967}. Best is trial 15 with value: 0.9007692307692308.\n",
      "[I 2023-10-05 23:54:57,254] Trial 27 finished with value: 0.8407692307692307 and parameters: {'n_estimators': 837, 'learning_rate': 1.0313239528081666}. Best is trial 15 with value: 0.9007692307692308.\n",
      "[I 2023-10-05 23:54:57,582] Trial 28 finished with value: 0.8607692307692308 and parameters: {'n_estimators': 389, 'learning_rate': 1.8130403483464708}. Best is trial 15 with value: 0.9007692307692308.\n",
      "[I 2023-10-05 23:54:57,787] Trial 29 finished with value: 0.7461538461538462 and parameters: {'n_estimators': 250, 'learning_rate': 2.9550350276639206}. Best is trial 15 with value: 0.9007692307692308.\n",
      "[I 2023-10-05 23:54:57,969] Trial 30 finished with value: 0.8607692307692308 and parameters: {'n_estimators': 218, 'learning_rate': 1.8783217114328359}. Best is trial 15 with value: 0.9007692307692308.\n",
      "[I 2023-10-05 23:54:58,058] Trial 31 finished with value: 0.8607692307692308 and parameters: {'n_estimators': 101, 'learning_rate': 0.9415492364845035}. Best is trial 15 with value: 0.9007692307692308.\n",
      "[I 2023-10-05 23:54:58,194] Trial 32 finished with value: 0.9007692307692308 and parameters: {'n_estimators': 149, 'learning_rate': 1.5869337714180134}. Best is trial 15 with value: 0.9007692307692308.\n",
      "[I 2023-10-05 23:54:58,348] Trial 33 finished with value: 0.84 and parameters: {'n_estimators': 166, 'learning_rate': 0.008305372181164117}. Best is trial 15 with value: 0.9007692307692308.\n",
      "[I 2023-10-05 23:54:58,584] Trial 34 finished with value: 0.8807692307692309 and parameters: {'n_estimators': 249, 'learning_rate': 1.8642331348091328}. Best is trial 15 with value: 0.9007692307692308.\n",
      "[I 2023-10-05 23:54:58,734] Trial 35 finished with value: 0.6653846153846155 and parameters: {'n_estimators': 169, 'learning_rate': 3.1362072640904968}. Best is trial 15 with value: 0.9007692307692308.\n",
      "[I 2023-10-05 23:54:58,983] Trial 36 finished with value: 0.6653846153846155 and parameters: {'n_estimators': 299, 'learning_rate': 3.6140884841349665}. Best is trial 15 with value: 0.9007692307692308.\n",
      "[I 2023-10-05 23:54:59,158] Trial 37 finished with value: 0.7461538461538462 and parameters: {'n_estimators': 210, 'learning_rate': 2.4388756185501346}. Best is trial 15 with value: 0.9007692307692308.\n",
      "[I 2023-10-05 23:54:59,288] Trial 38 finished with value: 0.8807692307692309 and parameters: {'n_estimators': 148, 'learning_rate': 0.6257879111899106}. Best is trial 15 with value: 0.9007692307692308.\n",
      "[I 2023-10-05 23:54:59,683] Trial 39 finished with value: 0.8807692307692309 and parameters: {'n_estimators': 489, 'learning_rate': 1.3540403790142035}. Best is trial 15 with value: 0.9007692307692308.\n"
     ]
    }
   ],
   "source": [
    "X_train, X_test, y_train, y_test = train_test_split(X, y,\n",
    "                                                   test_size=0.2,\n",
    "                                                   random_state=27,\n",
    "                                                   stratify=y \n",
    "                                                   )\n",
    "from imblearn.over_sampling import SMOTE\n",
    "sm = SMOTE(random_state=27,\n",
    "           sampling_strategy='auto',\n",
    "           k_neighbors=4 # choosing the amount od neighbours, 5 is default\n",
    "          )\n",
    "\n",
    "X_train_sm, y_train_sm = sm.fit_resample(X_train, y_train)\n",
    "\n",
    "X_train, X_val, y_train, y_val = train_test_split(X_train_sm, y_train_sm,\n",
    "                                                      test_size=0.25,\n",
    "                                                      random_state=27,\n",
    "                                                      stratify=y_train_sm\n",
    "                                                     )\n",
    "\n",
    "def objective(trial):\n",
    "    # X_train_scaled = scaler.fit_transform(X_train)\n",
    "    # X_val_scaled = scaler.fit_transform(X_val)\n",
    "    \n",
    "\n",
    "    n_estimators = trial.suggest_int('n_estimators', 100,1000)\n",
    "    learning_rate = trial.suggest_float('learning_rate', 0.001,10)\n",
    " \n",
    "\n",
    "    ada2 = AdaBoostClassifier(\n",
    "                               n_estimators=n_estimators,\n",
    "                               learning_rate=learning_rate\n",
    "                              )\n",
    "\n",
    "    ada2.fit(X_train, y_train)\n",
    "    y_pred_val = ada2.predict(X_val)\n",
    "    roc = roc_auc_score(y_val, y_pred_val)\n",
    "    return roc\n",
    "\n",
    "\n",
    "study = optuna.create_study(direction='maximize')\n",
    "study.optimize(objective, n_trials=40)"
   ]
  },
  {
   "cell_type": "code",
   "execution_count": 136,
   "id": "395b064f-7e9a-4776-bd16-88ca0490f638",
   "metadata": {},
   "outputs": [
    {
     "data": {
      "text/plain": [
       "{'n_estimators': 100, 'learning_rate': 0.20419560176452034}"
      ]
     },
     "execution_count": 136,
     "metadata": {},
     "output_type": "execute_result"
    }
   ],
   "source": [
    "best_params = study.best_params\n",
    "best_params"
   ]
  },
  {
   "cell_type": "code",
   "execution_count": 137,
   "id": "d1ae578a-fcf3-45fb-b3ae-aa36f088a56e",
   "metadata": {
    "tags": []
   },
   "outputs": [
    {
     "name": "stdout",
     "output_type": "stream",
     "text": [
      "Results for 1\n",
      "----\n",
      "  Accuracy:  0.8536585365853658\n",
      "  Precision: 0.857487922705314\n",
      "  Recall:    0.8523809523809525\n",
      "  F1 score:  0.8528708133971292\n",
      "  ROC score: 0.8523809523809524\n",
      "  Mislabeled 6 out of 41\n",
      "Quantities are 20 for 0, 21 for 1\n",
      "\n",
      "\n"
     ]
    },
    {
     "data": {
      "image/png": "[encoded data removed]",
      "text/plain": [
       "<Figure size 300x300 with 2 Axes>"
      ]
     },
     "metadata": {},
     "output_type": "display_data"
    },
    {
     "name": "stdout",
     "output_type": "stream",
     "text": [
      "Results for 2\n",
      "----\n",
      "  Accuracy:  0.9024390243902439\n",
      "  Precision: 0.8983253588516746\n",
      "  Recall:    0.9080882352941176\n",
      "  F1 score:  0.9009661835748792\n",
      "  ROC score: 0.9080882352941176\n",
      "  Mislabeled 4 out of 41\n",
      "Quantities are 17 for 0, 24 for 1\n",
      "\n",
      "\n"
     ]
    },
    {
     "data": {
      "image/png": "[encoded data removed]",
      "text/plain": [
       "<Figure size 300x300 with 2 Axes>"
      ]
     },
     "metadata": {},
     "output_type": "display_data"
    },
    {
     "name": "stdout",
     "output_type": "stream",
     "text": [
      "Results for 3\n",
      "----\n",
      "  Accuracy:  0.975\n",
      "  Precision: 0.9772727272727273\n",
      "  Recall:    0.9736842105263157\n",
      "  F1 score:  0.9748585795097424\n",
      "  ROC score: 0.9736842105263158\n",
      "  Mislabeled 1 out of 40\n",
      "Quantities are 19 for 0, 21 for 1\n",
      "\n",
      "\n"
     ]
    },
    {
     "data": {
      "image/png": "[encoded data removed]",
      "text/plain": [
       "<Figure size 300x300 with 2 Axes>"
      ]
     },
     "metadata": {},
     "output_type": "display_data"
    },
    {
     "name": "stdout",
     "output_type": "stream",
     "text": [
      "Results for 4\n",
      "----\n",
      "  Accuracy:  0.875\n",
      "  Precision: 0.8784461152882206\n",
      "  Recall:    0.8813131313131313\n",
      "  F1 score:  0.8749218261413383\n",
      "  ROC score: 0.8813131313131313\n",
      "  Mislabeled 5 out of 40\n",
      "Quantities are 22 for 0, 18 for 1\n",
      "\n",
      "\n"
     ]
    },
    {
     "data": {
      "image/png": "[encoded data removed]",
      "text/plain": [
       "<Figure size 300x300 with 2 Axes>"
      ]
     },
     "metadata": {},
     "output_type": "display_data"
    },
    {
     "name": "stdout",
     "output_type": "stream",
     "text": [
      "Results for 5\n",
      "----\n",
      "  Accuracy:  0.875\n",
      "  Precision: 0.875\n",
      "  Recall:    0.8682864450127876\n",
      "  F1 score:  0.871050934880722\n",
      "  ROC score: 0.8682864450127877\n",
      "  Mislabeled 5 out of 40\n",
      "Quantities are 23 for 0, 17 for 1\n",
      "\n",
      "\n"
     ]
    },
    {
     "data": {
      "image/png": "[encoded data removed]",
      "text/plain": [
       "<Figure size 300x300 with 2 Axes>"
      ]
     },
     "metadata": {},
     "output_type": "display_data"
    }
   ],
   "source": [
    "X_train, X_test, y_train, y_test = train_test_split(X, y,\n",
    "                                                   test_size=0.2,\n",
    "                                                   random_state=42,\n",
    "                                                   stratify=y \n",
    "                                                   )\n",
    "from imblearn.over_sampling import SMOTE\n",
    "sm = SMOTE(random_state=42,\n",
    "           sampling_strategy='auto',\n",
    "           k_neighbors=4 # choosing the amount od neighbours, 5 is default\n",
    "          )\n",
    "\n",
    "X_train_sm, y_train_sm = sm.fit_resample(X_train, y_train)\n",
    "\n",
    "for n, (train, val) in enumerate(kfoldcv.split(X_train_sm, y_train_sm), 1):\n",
    "    X_train_fold, y_train_fold = X_train_sm.iloc[train], y_train_sm.iloc[train]\n",
    "    X_val_fold, y_val_fold = X_train_sm.iloc[val], y_train_sm.iloc[val]\n",
    "    \n",
    "    # X_train_scaled = scaler.fit_transform(X_train_fold)\n",
    "    # X_val_scaled = scaler.fit_transform(X_val_fold)\n",
    "    \n",
    "    best_params = study.best_params\n",
    "    ada2 = AdaBoostClassifier(\n",
    "                         n_estimators=best_params['n_estimators'],\n",
    "                         learning_rate=best_params['learning_rate']\n",
    "                              )    \n",
    "                              \n",
    "    ada2.fit(X_train_fold, y_train_fold)\n",
    "    y_pred = ada2.predict(X_val_fold)\n",
    "    \n",
    "    print_results(calculate_metrics(y_val_fold, y_pred), classifier_id=n)\n",
    "    get_binary_classes(y_val_fold)\n",
    "    get_confusion_matrix(y_val_fold, y_pred)"
   ]
  },
  {
   "cell_type": "markdown",
   "id": "0a897a56-4e62-41b4-bcf1-cadead65fda1",
   "metadata": {},
   "source": [
    "Upon checking, it seems this time `OPTUNA` failed to find a better hyperparameters and the vanilla model works the best, which can we shown in cross validation above."
   ]
  },
  {
   "cell_type": "code",
   "execution_count": 138,
   "id": "b6819c4a-aa65-4728-9668-5b2326c5b644",
   "metadata": {},
   "outputs": [
    {
     "name": "stdout",
     "output_type": "stream",
     "text": [
      "Results for classifier\n",
      "----\n",
      "  Accuracy:  0.8387096774193549\n",
      "  Precision: 0.71\n",
      "  Recall:    0.7423076923076923\n",
      "  F1 score:  0.7237076648841355\n",
      "  ROC score: 0.7423076923076923\n",
      "  Mislabeled 5 out of 31\n",
      "Quantities are 26 for 0, 5 for 1\n",
      "\n",
      "\n"
     ]
    },
    {
     "data": {
      "image/png": "[encoded data removed]",
      "text/plain": [
       "<Figure size 300x300 with 2 Axes>"
      ]
     },
     "metadata": {},
     "output_type": "display_data"
    }
   ],
   "source": [
    "# let's test it on test data, which the model has not seen before\n",
    "# X_test_scaled = scaler.fit_transform(X_test)\n",
    "y_test_pred = ada2.predict(X_test)\n",
    "\n",
    "print_results(calculate_metrics(y_test, y_test_pred))\n",
    "get_binary_classes(y_test)\n",
    "get_confusion_matrix(y_test, y_test_pred)"
   ]
  },
  {
   "cell_type": "code",
   "execution_count": 139,
   "id": "de21645e-7c60-4b4b-b83d-ed67253b2040",
   "metadata": {},
   "outputs": [
    {
     "name": "stdout",
     "output_type": "stream",
     "text": [
      "AdaBoost Feature Importance:\n",
      "     Feature  Importance\n",
      "6        Age        0.26\n",
      "4     Others        0.13\n",
      "10   oldpeak        0.09\n",
      "12  Reaction        0.09\n",
      "2    Smoking        0.08\n",
      "11        ca        0.08\n",
      "0   AgeGroup        0.07\n",
      "9        WBC        0.07\n",
      "1     Gender        0.06\n",
      "13  FollowUp        0.06\n",
      "5    SKReact        0.01\n",
      "3        HTN        0.00\n",
      "7   FHistory        0.00\n",
      "8   Diabetes        0.00\n"
     ]
    }
   ],
   "source": [
    "feat_importance_ada = ada2.feature_importances_\n",
    "\n",
    "# Creating feature importance df\n",
    "feat_importance_ada_df = pd.DataFrame({'Feature': X_train.columns, 'Importance': feat_importance_ada})\n",
    "feat_importance_ada_df = feat_importance_ada_df.sort_values(by='Importance', ascending=False)\n",
    "\n",
    "print(\"AdaBoost Feature Importance:\")\n",
    "print(feat_importance_ada_df)"
   ]
  },
  {
   "cell_type": "markdown",
   "id": "4f6ffa85-66bd-46ba-b27a-7151a053ffca",
   "metadata": {},
   "source": [
    "Adaboost did well, but I want to try XGBoost as well."
   ]
  },
  {
   "cell_type": "code",
   "execution_count": 140,
   "id": "95f81131-6f4a-4e76-8d1e-74544fa66767",
   "metadata": {
    "tags": []
   },
   "outputs": [
    {
     "name": "stdout",
     "output_type": "stream",
     "text": [
      "Results for 1\n",
      "----\n",
      "  Accuracy:  0.9024390243902439\n",
      "  Precision: 0.9070048309178744\n",
      "  Recall:    0.9011904761904761\n",
      "  F1 score:  0.901913875598086\n",
      "  ROC score: 0.9011904761904761\n",
      "  Mislabeled 4 out of 41\n",
      "Quantities are 20 for 0, 21 for 1\n",
      "\n",
      "\n"
     ]
    },
    {
     "data": {
      "image/png": "[encoded data removed]",
      "text/plain": [
       "<Figure size 300x300 with 2 Axes>"
      ]
     },
     "metadata": {},
     "output_type": "display_data"
    },
    {
     "name": "stdout",
     "output_type": "stream",
     "text": [
      "Results for 2\n",
      "----\n",
      "  Accuracy:  0.8048780487804879\n",
      "  Precision: 0.8666666666666667\n",
      "  Recall:    0.7894736842105263\n",
      "  F1 score:  0.7897435897435897\n",
      "  ROC score: 0.7894736842105263\n",
      "  Mislabeled 8 out of 41\n",
      "Quantities are 19 for 0, 22 for 1\n",
      "\n",
      "\n"
     ]
    },
    {
     "data": {
      "image/png": "[encoded data removed]",
      "text/plain": [
       "<Figure size 300x300 with 2 Axes>"
      ]
     },
     "metadata": {},
     "output_type": "display_data"
    },
    {
     "name": "stdout",
     "output_type": "stream",
     "text": [
      "Results for 3\n",
      "----\n",
      "  Accuracy:  0.975\n",
      "  Precision: 0.9772727272727273\n",
      "  Recall:    0.9736842105263157\n",
      "  F1 score:  0.9748585795097424\n",
      "  ROC score: 0.9736842105263158\n",
      "  Mislabeled 1 out of 40\n",
      "Quantities are 19 for 0, 21 for 1\n",
      "\n",
      "\n"
     ]
    },
    {
     "data": {
      "image/png": "[encoded data removed]",
      "text/plain": [
       "<Figure size 300x300 with 2 Axes>"
      ]
     },
     "metadata": {},
     "output_type": "display_data"
    },
    {
     "name": "stdout",
     "output_type": "stream",
     "text": [
      "Results for 4\n",
      "----\n",
      "  Accuracy:  0.9\n",
      "  Precision: 0.8999999999999999\n",
      "  Recall:    0.904040404040404\n",
      "  F1 score:  0.899749373433584\n",
      "  ROC score: 0.904040404040404\n",
      "  Mislabeled 4 out of 40\n",
      "Quantities are 22 for 0, 18 for 1\n",
      "\n",
      "\n"
     ]
    },
    {
     "data": {
      "image/png": "[encoded data removed]",
      "text/plain": [
       "<Figure size 300x300 with 2 Axes>"
      ]
     },
     "metadata": {},
     "output_type": "display_data"
    },
    {
     "name": "stdout",
     "output_type": "stream",
     "text": [
      "Results for 5\n",
      "----\n",
      "  Accuracy:  0.9\n",
      "  Precision: 0.9053708439897699\n",
      "  Recall:    0.8972431077694235\n",
      "  F1 score:  0.8989898989898989\n",
      "  ROC score: 0.8972431077694235\n",
      "  Mislabeled 4 out of 40\n",
      "Quantities are 21 for 0, 19 for 1\n",
      "\n",
      "\n"
     ]
    },
    {
     "data": {
      "image/png": "[encoded data removed]",
      "text/plain": [
       "<Figure size 300x300 with 2 Axes>"
      ]
     },
     "metadata": {},
     "output_type": "display_data"
    }
   ],
   "source": [
    "X_train, X_test, y_train, y_test = train_test_split(X, y,\n",
    "                                                   test_size=0.2,\n",
    "                                                   random_state=27,\n",
    "                                                   stratify=y \n",
    "                                                   )\n",
    "from imblearn.over_sampling import SMOTE\n",
    "sm = SMOTE(random_state=27,\n",
    "           sampling_strategy='auto',\n",
    "           k_neighbors=4 # choosing the amount od neighbours, 5 is default\n",
    "          )\n",
    "\n",
    "X_train_sm, y_train_sm = sm.fit_resample(X_train, y_train)\n",
    "\n",
    "# let's try on vanilla AdaBoost\n",
    "for n, (train, val) in enumerate(kfoldcv.split(X_train_sm, y_train_sm), 1):\n",
    "    X_train_fold, y_train_fold = X_train_sm.iloc[train], y_train_sm.iloc[train]\n",
    "    X_val_fold, y_val_fold = X_train_sm.iloc[val], y_train_sm.iloc[val]\n",
    "    \n",
    "    # X_train_scaled = scaler.fit_transform(X_train_fold)\n",
    "    # X_val_scaled = scaler.fit_transform(X_val_fold)\n",
    "    \n",
    "    xgb = XGBClassifier()\n",
    "    xgb.fit(X_train_fold, y_train_fold)\n",
    "    y_pred = xgb.predict(X_val_fold)\n",
    "    \n",
    "    print_results(calculate_metrics(y_val_fold, y_pred), classifier_id=n)\n",
    "    get_binary_classes(y_val_fold)\n",
    "    get_confusion_matrix(y_val_fold, y_pred)"
   ]
  },
  {
   "cell_type": "code",
   "execution_count": 141,
   "id": "b37d0d22-411d-4d9a-a944-aadad18440fd",
   "metadata": {},
   "outputs": [
    {
     "name": "stdout",
     "output_type": "stream",
     "text": [
      "Results for classifier\n",
      "----\n",
      "  Accuracy:  0.8387096774193549\n",
      "  Precision: 0.71\n",
      "  Recall:    0.7423076923076923\n",
      "  F1 score:  0.7237076648841355\n",
      "  ROC score: 0.7423076923076923\n",
      "  Mislabeled 5 out of 31\n",
      "Quantities are 26 for 0, 5 for 1\n",
      "\n",
      "\n"
     ]
    },
    {
     "data": {
      "image/png": "[encoded data removed]",
      "text/plain": [
       "<Figure size 300x300 with 2 Axes>"
      ]
     },
     "metadata": {},
     "output_type": "display_data"
    }
   ],
   "source": [
    "# let's test it on test data, which the model has not seen before\n",
    "# X_test_scaled = scaler.fit_transform(X_test)\n",
    "y_test_pred = xgb.predict(X_test)\n",
    "\n",
    "print_results(calculate_metrics(y_test, y_test_pred))\n",
    "get_binary_classes(y_test)\n",
    "get_confusion_matrix(y_test, y_test_pred)"
   ]
  },
  {
   "cell_type": "markdown",
   "id": "fda5b4bf-6aa0-43dd-b804-9a736a993c09",
   "metadata": {},
   "source": [
    "Vanilla XGBoost did better on the unseen data than AdaBoost. \n",
    "So let's try with Optuna!"
   ]
  },
  {
   "cell_type": "code",
   "execution_count": 142,
   "id": "29c37cea-6b39-45c5-bde9-5ab1d509e173",
   "metadata": {
    "tags": []
   },
   "outputs": [
    {
     "name": "stderr",
     "output_type": "stream",
     "text": [
      "[I 2023-10-05 23:56:11,218] A new study created in memory with name: no-name-8ed40070-3941-4037-9b05-928d9debdc34\n",
      "[I 2023-10-05 23:56:11,427] Trial 0 finished with value: 0.84 and parameters: {'booster': 'dart', 'lambda': 2.0763103869306296, 'alpha': 0.007709991345527624, 'max_depth': 7, 'eta': 0.23216659611466264, 'gamma': 0.6607889153296604, 'subsample': 0.87699607230817, 'colsample_bytree': 0.37567875897596814}. Best is trial 0 with value: 0.84.\n",
      "[I 2023-10-05 23:56:11,447] Trial 1 finished with value: 0.6269230769230769 and parameters: {'booster': 'gblinear', 'lambda': 0.00016039266969861482, 'alpha': 1.5788452607740866, 'max_depth': 16, 'eta': 0.22153652904014848, 'gamma': 0.7600264666368561, 'subsample': 0.190155706660145, 'colsample_bytree': 0.19856652703792516}. Best is trial 0 with value: 0.84.\n",
      "[I 2023-10-05 23:56:11,468] Trial 2 finished with value: 0.6469230769230768 and parameters: {'booster': 'gblinear', 'lambda': 6.499127463489234, 'alpha': 0.000548924043224585, 'max_depth': 15, 'eta': 0.16209060189341548, 'gamma': 0.3500604137303197, 'subsample': 0.8855639984285607, 'colsample_bytree': 0.19657521306250822}. Best is trial 0 with value: 0.84.\n",
      "[I 2023-10-05 23:56:11,514] Trial 3 finished with value: 0.86 and parameters: {'booster': 'gbtree', 'lambda': 0.12687495956579622, 'alpha': 0.013684520368008723, 'max_depth': 8, 'eta': 0.20182749030084074, 'gamma': 0.6430954711756374, 'subsample': 0.9083328919479914, 'colsample_bytree': 0.7126638265093735}. Best is trial 3 with value: 0.86.\n",
      "[I 2023-10-05 23:56:11,565] Trial 4 finished with value: 0.8607692307692308 and parameters: {'booster': 'gbtree', 'lambda': 2.2620635543898223e-05, 'alpha': 1.007011839957897, 'max_depth': 16, 'eta': 0.09716094439027666, 'gamma': 0.7548463163897756, 'subsample': 0.6010029200626823, 'colsample_bytree': 0.6251979366625204}. Best is trial 4 with value: 0.8607692307692308.\n",
      "[I 2023-10-05 23:56:11,583] Trial 5 finished with value: 0.686153846153846 and parameters: {'booster': 'gblinear', 'lambda': 2.364864906232528, 'alpha': 0.018608842726082698, 'max_depth': 11, 'eta': 0.1578083698079683, 'gamma': 0.06393850627009212, 'subsample': 0.20643525213043426, 'colsample_bytree': 0.5537267465170285}. Best is trial 4 with value: 0.8607692307692308.\n",
      "[I 2023-10-05 23:56:11,614] Trial 6 finished with value: 0.8607692307692308 and parameters: {'booster': 'gbtree', 'lambda': 0.055058445785503, 'alpha': 0.008361176557001668, 'max_depth': 11, 'eta': 0.27919888715426067, 'gamma': 0.6457186068189128, 'subsample': 0.14603461926355957, 'colsample_bytree': 0.7012303100374968}. Best is trial 4 with value: 0.8607692307692308.\n"
     ]
    },
    {
     "name": "stdout",
     "output_type": "stream",
     "text": [
      "[23:56:11] WARNING: /Users/runner/work/xgboost/xgboost/python-package/build/temp.macosx-11.0-arm64-cpython-38/xgboost/src/learner.cc:767: \n",
      "Parameters: { \"colsample_bytree\", \"gamma\", \"max_depth\", \"subsample\" } are not used.\n",
      "\n",
      "[23:56:11] WARNING: /Users/runner/work/xgboost/xgboost/python-package/build/temp.macosx-11.0-arm64-cpython-38/xgboost/src/learner.cc:767: \n",
      "Parameters: { \"colsample_bytree\", \"gamma\", \"max_depth\", \"subsample\" } are not used.\n",
      "\n",
      "[23:56:11] WARNING: /Users/runner/work/xgboost/xgboost/python-package/build/temp.macosx-11.0-arm64-cpython-38/xgboost/src/learner.cc:767: \n",
      "Parameters: { \"colsample_bytree\", \"gamma\", \"max_depth\", \"subsample\" } are not used.\n",
      "\n"
     ]
    },
    {
     "name": "stderr",
     "output_type": "stream",
     "text": [
      "[I 2023-10-05 23:56:11,810] Trial 7 finished with value: 0.84 and parameters: {'booster': 'dart', 'lambda': 3.623442744936379e-05, 'alpha': 1.7526056777617736, 'max_depth': 12, 'eta': 0.09717445557615934, 'gamma': 0.5179077338466279, 'subsample': 0.8150097709807066, 'colsample_bytree': 0.4161948816508774}. Best is trial 4 with value: 0.8607692307692308.\n",
      "[I 2023-10-05 23:56:12,069] Trial 8 finished with value: 0.86 and parameters: {'booster': 'dart', 'lambda': 0.07845032669995083, 'alpha': 0.006806173808654247, 'max_depth': 3, 'eta': 0.0795269630568306, 'gamma': 0.5190557407287203, 'subsample': 0.5541766741768259, 'colsample_bytree': 0.6882829831676928}. Best is trial 4 with value: 0.8607692307692308.\n",
      "[I 2023-10-05 23:56:12,095] Trial 9 finished with value: 0.8023076923076923 and parameters: {'booster': 'gblinear', 'lambda': 0.00031714185138130574, 'alpha': 0.0374373595479859, 'max_depth': 13, 'eta': 0.2559635755827649, 'gamma': 0.14545861809021765, 'subsample': 0.3482099987933825, 'colsample_bytree': 0.2101302743783651}. Best is trial 4 with value: 0.8607692307692308.\n",
      "[I 2023-10-05 23:56:12,208] Trial 10 finished with value: 0.84 and parameters: {'booster': 'gbtree', 'lambda': 1.74127147984701e-05, 'alpha': 1.7779285365564865e-05, 'max_depth': 20, 'eta': 0.011427092766117225, 'gamma': 0.9940807947272474, 'subsample': 0.6100608993111487, 'colsample_bytree': 0.9360023370672362}. Best is trial 4 with value: 0.8607692307692308.\n"
     ]
    },
    {
     "name": "stdout",
     "output_type": "stream",
     "text": [
      "[23:56:12] WARNING: /Users/runner/work/xgboost/xgboost/python-package/build/temp.macosx-11.0-arm64-cpython-38/xgboost/src/learner.cc:767: \n",
      "Parameters: { \"colsample_bytree\", \"gamma\", \"max_depth\", \"subsample\" } are not used.\n",
      "\n"
     ]
    },
    {
     "name": "stderr",
     "output_type": "stream",
     "text": [
      "[I 2023-10-05 23:56:12,292] Trial 11 finished with value: 0.86 and parameters: {'booster': 'gbtree', 'lambda': 0.0029247306421860994, 'alpha': 0.3037848458692136, 'max_depth': 19, 'eta': 0.2689825222499968, 'gamma': 0.8708552874860142, 'subsample': 0.37667146472607305, 'colsample_bytree': 0.7771942273988917}. Best is trial 4 with value: 0.8607692307692308.\n",
      "[I 2023-10-05 23:56:12,367] Trial 12 finished with value: 0.84 and parameters: {'booster': 'gbtree', 'lambda': 0.003135315047196213, 'alpha': 7.797185154917421, 'max_depth': 17, 'eta': 0.2957263037706554, 'gamma': 0.810053613184279, 'subsample': 0.6623763957342785, 'colsample_bytree': 0.5788086797610759}. Best is trial 4 with value: 0.8607692307692308.\n",
      "[I 2023-10-05 23:56:12,446] Trial 13 finished with value: 0.8415384615384616 and parameters: {'booster': 'gbtree', 'lambda': 0.02294715910659859, 'alpha': 0.14937438684501037, 'max_depth': 9, 'eta': 0.1903048415473913, 'gamma': 0.6768290071905535, 'subsample': 0.10733371397469949, 'colsample_bytree': 0.8650069707404471}. Best is trial 4 with value: 0.8607692307692308.\n",
      "[I 2023-10-05 23:56:12,543] Trial 14 finished with value: 0.86 and parameters: {'booster': 'gbtree', 'lambda': 0.0001700656755237745, 'alpha': 0.0008443644468731426, 'max_depth': 14, 'eta': 0.29399607900244973, 'gamma': 0.9827534702603178, 'subsample': 0.41758041477010016, 'colsample_bytree': 0.645977532852084}. Best is trial 4 with value: 0.8607692307692308.\n",
      "[I 2023-10-05 23:56:12,645] Trial 15 finished with value: 0.86 and parameters: {'booster': 'gbtree', 'lambda': 1.0235693729597897e-05, 'alpha': 0.2636994995131949, 'max_depth': 10, 'eta': 0.11800777883895108, 'gamma': 0.39053788731517414, 'subsample': 0.7127438769989861, 'colsample_bytree': 0.8327953894729594}. Best is trial 4 with value: 0.8607692307692308.\n",
      "[I 2023-10-05 23:56:12,749] Trial 16 finished with value: 0.88 and parameters: {'booster': 'gbtree', 'lambda': 0.001289478426316866, 'alpha': 0.08190868527407191, 'max_depth': 6, 'eta': 0.11828157907630181, 'gamma': 0.8251087396254396, 'subsample': 0.46372211500180655, 'colsample_bytree': 0.9969295553632538}. Best is trial 16 with value: 0.88.\n",
      "[I 2023-10-05 23:56:12,846] Trial 17 finished with value: 0.84 and parameters: {'booster': 'gbtree', 'lambda': 0.0005987093222365636, 'alpha': 1.321578659121393, 'max_depth': 5, 'eta': 0.12594722096891098, 'gamma': 0.8765797669183906, 'subsample': 0.47365402403776985, 'colsample_bytree': 0.9592200860772178}. Best is trial 16 with value: 0.88.\n",
      "[I 2023-10-05 23:56:12,930] Trial 18 finished with value: 0.84 and parameters: {'booster': 'gbtree', 'lambda': 5.3747641095351724e-05, 'alpha': 7.910633232820149, 'max_depth': 6, 'eta': 0.06902351330182507, 'gamma': 0.775579028800011, 'subsample': 0.48955012141773147, 'colsample_bytree': 0.9974877901811712}. Best is trial 16 with value: 0.88.\n",
      "[I 2023-10-05 23:56:13,217] Trial 19 finished with value: 0.86 and parameters: {'booster': 'dart', 'lambda': 0.00102437912638298, 'alpha': 0.0892072378076465, 'max_depth': 3, 'eta': 0.04372935219181767, 'gamma': 0.8980102998949363, 'subsample': 0.759042708083904, 'colsample_bytree': 0.8528171555207917}. Best is trial 16 with value: 0.88.\n",
      "[I 2023-10-05 23:56:13,317] Trial 20 finished with value: 0.86 and parameters: {'booster': 'gbtree', 'lambda': 7.773162687248642e-05, 'alpha': 0.402787867182908, 'max_depth': 5, 'eta': 0.1267579612830064, 'gamma': 0.7414294553723517, 'subsample': 0.9796151112992226, 'colsample_bytree': 0.7928834112939054}. Best is trial 16 with value: 0.88.\n",
      "[I 2023-10-05 23:56:13,396] Trial 21 finished with value: 0.8415384615384616 and parameters: {'booster': 'gbtree', 'lambda': 0.011661893622274891, 'alpha': 0.05163097097088025, 'max_depth': 18, 'eta': 0.17280320225699064, 'gamma': 0.6152537987895781, 'subsample': 0.30557456361668384, 'colsample_bytree': 0.7400319411153712}. Best is trial 16 with value: 0.88.\n",
      "[I 2023-10-05 23:56:13,476] Trial 22 finished with value: 0.86 and parameters: {'booster': 'gbtree', 'lambda': 0.0006515064679250133, 'alpha': 0.06260230885232305, 'max_depth': 12, 'eta': 0.14151585499928573, 'gamma': 0.7193265428433454, 'subsample': 0.5910753468405576, 'colsample_bytree': 0.6311805415802225}. Best is trial 16 with value: 0.88.\n",
      "[I 2023-10-05 23:56:13,583] Trial 23 finished with value: 0.86 and parameters: {'booster': 'gbtree', 'lambda': 0.003008867888658807, 'alpha': 0.556484377345525, 'max_depth': 15, 'eta': 0.10496142975029636, 'gamma': 0.8175526366895541, 'subsample': 0.505888854043694, 'colsample_bytree': 0.9053066808442953}. Best is trial 16 with value: 0.88.\n",
      "[I 2023-10-05 23:56:13,679] Trial 24 finished with value: 0.86 and parameters: {'booster': 'gbtree', 'lambda': 2.492060504432924e-05, 'alpha': 0.003959070716090161, 'max_depth': 10, 'eta': 0.14127970526672873, 'gamma': 0.5933033987512124, 'subsample': 0.2919477847237215, 'colsample_bytree': 0.7685618290093338}. Best is trial 16 with value: 0.88.\n",
      "[I 2023-10-05 23:56:13,786] Trial 25 finished with value: 0.88 and parameters: {'booster': 'gbtree', 'lambda': 9.874220196066134e-05, 'alpha': 0.13962744377903227, 'max_depth': 8, 'eta': 0.17664904762609265, 'gamma': 0.692719232462261, 'subsample': 0.4351310158275245, 'colsample_bytree': 0.9001133621768979}. Best is trial 16 with value: 0.88.\n",
      "[I 2023-10-05 23:56:13,884] Trial 26 finished with value: 0.86 and parameters: {'booster': 'gbtree', 'lambda': 9.15697908050153e-05, 'alpha': 0.10432154188310461, 'max_depth': 8, 'eta': 0.1860731811798499, 'gamma': 0.7193629354837785, 'subsample': 0.420190604910112, 'colsample_bytree': 0.9051550813994517}. Best is trial 16 with value: 0.88.\n",
      "[I 2023-10-05 23:56:13,996] Trial 27 finished with value: 0.88 and parameters: {'booster': 'gbtree', 'lambda': 1.0786486904921147e-05, 'alpha': 0.5095121528576965, 'max_depth': 6, 'eta': 0.1440932226388525, 'gamma': 0.9285889480264533, 'subsample': 0.6140787374380758, 'colsample_bytree': 0.9985670867602563}. Best is trial 16 with value: 0.88.\n",
      "[I 2023-10-05 23:56:14,446] Trial 28 finished with value: 0.86 and parameters: {'booster': 'dart', 'lambda': 1.0829982417052427e-05, 'alpha': 0.15077805174178444, 'max_depth': 5, 'eta': 0.1504252501952411, 'gamma': 0.8986460259944774, 'subsample': 0.5353994721823585, 'colsample_bytree': 0.9789103252125054}. Best is trial 16 with value: 0.88.\n",
      "[I 2023-10-05 23:56:14,503] Trial 29 finished with value: 0.8223076923076923 and parameters: {'booster': 'gblinear', 'lambda': 5.0291888153336815e-05, 'alpha': 0.03959448852473179, 'max_depth': 7, 'eta': 0.22882034853590022, 'gamma': 0.999467748070933, 'subsample': 0.6605794782194178, 'colsample_bytree': 0.9968245013925535}. Best is trial 16 with value: 0.88.\n"
     ]
    },
    {
     "name": "stdout",
     "output_type": "stream",
     "text": [
      "[23:56:14] WARNING: /Users/runner/work/xgboost/xgboost/python-package/build/temp.macosx-11.0-arm64-cpython-38/xgboost/src/learner.cc:767: \n",
      "Parameters: { \"colsample_bytree\", \"gamma\", \"max_depth\", \"subsample\" } are not used.\n",
      "\n"
     ]
    },
    {
     "name": "stderr",
     "output_type": "stream",
     "text": [
      "[I 2023-10-05 23:56:14,864] Trial 30 finished with value: 0.84 and parameters: {'booster': 'dart', 'lambda': 0.00021334304368181563, 'alpha': 3.410150783014721, 'max_depth': 7, 'eta': 0.1724999327329158, 'gamma': 0.8291301626189493, 'subsample': 0.4511939882520771, 'colsample_bytree': 0.9059674738758501}. Best is trial 16 with value: 0.88.\n",
      "[I 2023-10-05 23:56:14,954] Trial 31 finished with value: 0.86 and parameters: {'booster': 'gbtree', 'lambda': 2.575410567455203e-05, 'alpha': 0.6974199552996626, 'max_depth': 4, 'eta': 0.138387734178379, 'gamma': 0.9101103551663042, 'subsample': 0.546596236380197, 'colsample_bytree': 0.8222442043868124}. Best is trial 16 with value: 0.88.\n",
      "[I 2023-10-05 23:56:15,060] Trial 32 finished with value: 0.86 and parameters: {'booster': 'gbtree', 'lambda': 0.00010945275278195096, 'alpha': 1.1847046778337087, 'max_depth': 6, 'eta': 0.10359483491898647, 'gamma': 0.783997415735589, 'subsample': 0.6388942199798786, 'colsample_bytree': 0.9339460339907764}. Best is trial 16 with value: 0.88.\n",
      "[I 2023-10-05 23:56:15,169] Trial 33 finished with value: 0.86 and parameters: {'booster': 'gbtree', 'lambda': 3.0809906897496454e-05, 'alpha': 0.23753344820441555, 'max_depth': 8, 'eta': 0.2031427938086255, 'gamma': 0.7249539978292052, 'subsample': 0.5861541063227947, 'colsample_bytree': 0.8599000807057379}. Best is trial 16 with value: 0.88.\n",
      "[I 2023-10-05 23:56:15,264] Trial 34 finished with value: 0.8607692307692308 and parameters: {'booster': 'gbtree', 'lambda': 1.0629974680826516e-05, 'alpha': 0.6650189909780392, 'max_depth': 9, 'eta': 0.16216551622400793, 'gamma': 0.8301431674381083, 'subsample': 0.4812516117756319, 'colsample_bytree': 0.954572171592217}. Best is trial 16 with value: 0.88.\n",
      "[I 2023-10-05 23:56:15,322] Trial 35 finished with value: 0.7053846153846154 and parameters: {'booster': 'gblinear', 'lambda': 7.782578369401865e-05, 'alpha': 2.923058717840122, 'max_depth': 6, 'eta': 0.12029381743628287, 'gamma': 0.9395235778925364, 'subsample': 0.5435578819387004, 'colsample_bytree': 0.9024873213007958}. Best is trial 16 with value: 0.88.\n",
      "[I 2023-10-05 23:56:15,436] Trial 36 finished with value: 0.8607692307692308 and parameters: {'booster': 'gbtree', 'lambda': 0.00031691770545563407, 'alpha': 0.1356627132005421, 'max_depth': 9, 'eta': 0.15617687145384224, 'gamma': 0.6880315761049387, 'subsample': 0.6965153637374379, 'colsample_bytree': 0.49135254571217574}. Best is trial 16 with value: 0.88.\n",
      "[I 2023-10-05 23:56:15,502] Trial 37 finished with value: 0.5115384615384615 and parameters: {'booster': 'gblinear', 'lambda': 4.4648596831016395e-05, 'alpha': 0.679057172636689, 'max_depth': 16, 'eta': 0.08540509116799919, 'gamma': 0.7685325234168674, 'subsample': 0.611019456536019, 'colsample_bytree': 0.813582256710273}. Best is trial 16 with value: 0.88.\n"
     ]
    },
    {
     "name": "stdout",
     "output_type": "stream",
     "text": [
      "[23:56:15] WARNING: /Users/runner/work/xgboost/xgboost/python-package/build/temp.macosx-11.0-arm64-cpython-38/xgboost/src/learner.cc:767: \n",
      "Parameters: { \"colsample_bytree\", \"gamma\", \"max_depth\", \"subsample\" } are not used.\n",
      "\n",
      "[23:56:15] WARNING: /Users/runner/work/xgboost/xgboost/python-package/build/temp.macosx-11.0-arm64-cpython-38/xgboost/src/learner.cc:767: \n",
      "Parameters: { \"colsample_bytree\", \"gamma\", \"max_depth\", \"subsample\" } are not used.\n",
      "\n"
     ]
    },
    {
     "name": "stderr",
     "output_type": "stream",
     "text": [
      "[I 2023-10-05 23:56:15,606] Trial 38 finished with value: 0.86 and parameters: {'booster': 'gbtree', 'lambda': 2.114619275345866e-05, 'alpha': 0.24372351316447305, 'max_depth': 7, 'eta': 0.11317241023068424, 'gamma': 0.8446664903139405, 'subsample': 0.43126051705528573, 'colsample_bytree': 0.9885288173313097}. Best is trial 16 with value: 0.88.\n",
      "[I 2023-10-05 23:56:15,713] Trial 39 finished with value: 0.86 and parameters: {'booster': 'gbtree', 'lambda': 0.00014391863695442764, 'alpha': 0.03430127300480199, 'max_depth': 4, 'eta': 0.13512034641150125, 'gamma': 0.9325427279839642, 'subsample': 0.5169950048394404, 'colsample_bytree': 0.8647738630792947}. Best is trial 16 with value: 0.88.\n"
     ]
    }
   ],
   "source": [
    "X_train, X_test, y_train, y_test = train_test_split(X, y,\n",
    "                                                   test_size=0.2,\n",
    "                                                   random_state=27,\n",
    "                                                   stratify=y \n",
    "                                                   )\n",
    "from imblearn.over_sampling import SMOTE\n",
    "sm = SMOTE(random_state=27,\n",
    "           sampling_strategy='auto',\n",
    "           k_neighbors=4 # choosing the amount od neighbours, 5 is default\n",
    "          )\n",
    "\n",
    "X_train_sm, y_train_sm = sm.fit_resample(X_train, y_train)\n",
    "\n",
    "X_train, X_val, y_train, y_val = train_test_split(X_train_sm, y_train_sm,\n",
    "                                                      test_size=0.25,\n",
    "                                                      random_state=27,\n",
    "                                                      stratify=y_train_sm\n",
    "                                                     )\n",
    "\n",
    "def objective(trial):\n",
    "\n",
    "    params = {\n",
    "        'objective': 'binary:logistic',\n",
    "        'eval_metric': 'logloss',\n",
    "        'booster': trial.suggest_categorical('booster', ['gbtree', 'gblinear', 'dart']),\n",
    "        'lambda': trial.suggest_float('lambda', 1e-5, 10.0, log=True),\n",
    "        'alpha': trial.suggest_float('alpha', 1e-5, 10.0, log=True),\n",
    "        'max_depth': trial.suggest_int('max_depth', 3, 20),\n",
    "        'eta': trial.suggest_float('eta', 0.01, 0.3),\n",
    "        'gamma': trial.suggest_float('gamma', 0.0, 1.0),\n",
    "        'subsample': trial.suggest_float('subsample', 0.1, 1.0),\n",
    "        'colsample_bytree': trial.suggest_float('colsample_bytree', 0.1, 1.0)\n",
    "    }\n",
    "\n",
    "\n",
    "    xgb2 = XGBClassifier(**params, random_state=42)\n",
    "\n",
    "    xgb2.fit(X_train, y_train)\n",
    "    y_pred_val = xgb2.predict(X_val)\n",
    "    roc = roc_auc_score(y_val, y_pred_val)\n",
    "    return roc\n",
    "\n",
    "\n",
    "study = optuna.create_study(direction='maximize')\n",
    "study.optimize(objective, n_trials=40)"
   ]
  },
  {
   "cell_type": "code",
   "execution_count": 143,
   "id": "67516bc4-756b-4bda-b01c-448368607b23",
   "metadata": {},
   "outputs": [
    {
     "name": "stdout",
     "output_type": "stream",
     "text": [
      "Results for 1\n",
      "----\n",
      "  Accuracy:  0.9024390243902439\n",
      "  Precision: 0.9070048309178744\n",
      "  Recall:    0.9011904761904761\n",
      "  F1 score:  0.901913875598086\n",
      "  ROC score: 0.9011904761904761\n",
      "  Mislabeled 4 out of 41\n",
      "Quantities are 20 for 0, 21 for 1\n",
      "\n",
      "\n"
     ]
    },
    {
     "data": {
      "image/png": "[encoded data removed]",
      "text/plain": [
       "<Figure size 300x300 with 2 Axes>"
      ]
     },
     "metadata": {},
     "output_type": "display_data"
    },
    {
     "name": "stdout",
     "output_type": "stream",
     "text": [
      "Results for 2\n",
      "----\n",
      "  Accuracy:  0.8048780487804879\n",
      "  Precision: 0.8666666666666667\n",
      "  Recall:    0.7894736842105263\n",
      "  F1 score:  0.7897435897435897\n",
      "  ROC score: 0.7894736842105263\n",
      "  Mislabeled 8 out of 41\n",
      "Quantities are 19 for 0, 22 for 1\n",
      "\n",
      "\n"
     ]
    },
    {
     "data": {
      "image/png": "[encoded data removed]",
      "text/plain": [
       "<Figure size 300x300 with 2 Axes>"
      ]
     },
     "metadata": {},
     "output_type": "display_data"
    },
    {
     "name": "stdout",
     "output_type": "stream",
     "text": [
      "Results for 3\n",
      "----\n",
      "  Accuracy:  0.975\n",
      "  Precision: 0.9772727272727273\n",
      "  Recall:    0.9736842105263157\n",
      "  F1 score:  0.9748585795097424\n",
      "  ROC score: 0.9736842105263158\n",
      "  Mislabeled 1 out of 40\n",
      "Quantities are 19 for 0, 21 for 1\n",
      "\n",
      "\n"
     ]
    },
    {
     "data": {
      "image/png": "[encoded data removed]",
      "text/plain": [
       "<Figure size 300x300 with 2 Axes>"
      ]
     },
     "metadata": {},
     "output_type": "display_data"
    },
    {
     "name": "stdout",
     "output_type": "stream",
     "text": [
      "Results for 4\n",
      "----\n",
      "  Accuracy:  0.875\n",
      "  Precision: 0.8784461152882206\n",
      "  Recall:    0.8813131313131313\n",
      "  F1 score:  0.8749218261413383\n",
      "  ROC score: 0.8813131313131313\n",
      "  Mislabeled 5 out of 40\n",
      "Quantities are 22 for 0, 18 for 1\n",
      "\n",
      "\n"
     ]
    },
    {
     "data": {
      "image/png": "[encoded data removed]",
      "text/plain": [
       "<Figure size 300x300 with 2 Axes>"
      ]
     },
     "metadata": {},
     "output_type": "display_data"
    },
    {
     "name": "stdout",
     "output_type": "stream",
     "text": [
      "Results for 5\n",
      "----\n",
      "  Accuracy:  0.875\n",
      "  Precision: 0.875\n",
      "  Recall:    0.8759398496240601\n",
      "  F1 score:  0.8749218261413383\n",
      "  ROC score: 0.8759398496240602\n",
      "  Mislabeled 5 out of 40\n",
      "Quantities are 21 for 0, 19 for 1\n",
      "\n",
      "\n"
     ]
    },
    {
     "data": {
      "image/png": "[encoded data removed]",
      "text/plain": [
       "<Figure size 300x300 with 2 Axes>"
      ]
     },
     "metadata": {},
     "output_type": "display_data"
    }
   ],
   "source": [
    "X_train, X_test, y_train, y_test = train_test_split(X, y,\n",
    "                                                   test_size=0.2,\n",
    "                                                   random_state=27,\n",
    "                                                   stratify=y \n",
    "                                                   )\n",
    "from imblearn.over_sampling import SMOTE\n",
    "sm = SMOTE(random_state=27,\n",
    "           sampling_strategy='auto',\n",
    "           k_neighbors=4 # choosing the amount od neighbours, 5 is default\n",
    "          )\n",
    "\n",
    "X_train_sm, y_train_sm = sm.fit_resample(X_train, y_train)\n",
    "\n",
    "for n, (train, val) in enumerate(kfoldcv.split(X_train_sm, y_train_sm), 1):\n",
    "    X_train_fold, y_train_fold = X_train_sm.iloc[train], y_train_sm.iloc[train]\n",
    "    X_val_fold, y_val_fold = X_train_sm.iloc[val], y_train_sm.iloc[val]\n",
    "    \n",
    "    best_params = study.best_params\n",
    "\n",
    "\n",
    "    xgb = XGBClassifier(\n",
    "        booster=best_params['booster'],\n",
    "        alpha=best_params['alpha'],\n",
    "        max_depth=best_params['max_depth'],\n",
    "        eta=best_params['eta'],\n",
    "        gamma=best_params['gamma'],\n",
    "        subsample=best_params['subsample'],\n",
    "        colsample_bytree=best_params['colsample_bytree'],\n",
    "        objective='binary:logistic',\n",
    "        eval_metric='logloss',\n",
    "        random_state=42\n",
    "    )\n",
    "\n",
    "\n",
    "    xgb.fit(X_train_fold, y_train_fold)\n",
    "    y_pred = xgb.predict(X_val_fold)\n",
    "    \n",
    "    print_results(calculate_metrics(y_val_fold, y_pred), classifier_id=n)\n",
    "    get_binary_classes(y_val_fold)\n",
    "    get_confusion_matrix(y_val_fold, y_pred)"
   ]
  },
  {
   "cell_type": "code",
   "execution_count": 145,
   "id": "3d3177cd-39cc-400d-aa1f-45bb2c89493d",
   "metadata": {},
   "outputs": [
    {
     "name": "stdout",
     "output_type": "stream",
     "text": [
      "Results for classifier\n",
      "----\n",
      "  Accuracy:  0.8709677419354839\n",
      "  Precision: 0.7615384615384615\n",
      "  Recall:    0.7615384615384615\n",
      "  F1 score:  0.7615384615384615\n",
      "  ROC score: 0.7615384615384616\n",
      "  Mislabeled 4 out of 31\n",
      "Quantities are 26 for 0, 5 for 1\n",
      "\n",
      "\n"
     ]
    },
    {
     "data": {
      "image/png": "[encoded data removed]",
      "text/plain": [
       "<Figure size 300x300 with 2 Axes>"
      ]
     },
     "metadata": {},
     "output_type": "display_data"
    }
   ],
   "source": [
    "# let's test it on test data, which the model has not seen before\n",
    "# X_test_scaled = scaler.fit_transform(X_test)\n",
    "y_test_pred = xgb.predict(X_test)\n",
    "\n",
    "print_results(calculate_metrics(y_test, y_test_pred))\n",
    "get_binary_classes(y_test)\n",
    "get_confusion_matrix(y_test, y_test_pred)"
   ]
  },
  {
   "cell_type": "code",
   "execution_count": 146,
   "id": "ff55f7ab-d73d-4a87-be15-167c5186de6d",
   "metadata": {},
   "outputs": [
    {
     "name": "stdout",
     "output_type": "stream",
     "text": [
      "XGBoost Feature Importance:\n",
      "     Feature  Importance\n",
      "12  Reaction    0.226614\n",
      "0   AgeGroup    0.132141\n",
      "7   FHistory    0.089735\n",
      "8   Diabetes    0.083282\n",
      "6        Age    0.066851\n",
      "1     Gender    0.066045\n",
      "11        ca    0.060311\n",
      "2    Smoking    0.056663\n",
      "13  FollowUp    0.054378\n",
      "10   oldpeak    0.047214\n",
      "5    SKReact    0.042033\n",
      "9        WBC    0.037593\n",
      "4     Others    0.037142\n",
      "3        HTN    0.000000\n"
     ]
    }
   ],
   "source": [
    "feat_importance_xgb = xgb.feature_importances_\n",
    "\n",
    "# Tworzenie DataFrame z ważnością cech\n",
    "feat_importance_xgb_df = pd.DataFrame({'Feature': X_train.columns, 'Importance': feat_importance_xgb})\n",
    "feat_importance_xgb_df = feat_importance_xgb_df.sort_values(by='Importance', ascending=False)\n",
    "\n",
    "print(\"XGBoost Feature Importance:\")\n",
    "print(feat_importance_xgb_df)"
   ]
  },
  {
   "cell_type": "code",
   "execution_count": null,
   "id": "77529660-1b22-48f3-8dd0-65478d3b7ddf",
   "metadata": {},
   "outputs": [],
   "source": []
  },
  {
   "cell_type": "code",
   "execution_count": null,
   "id": "098d32dd-f338-43d2-97d6-7b630ed2c04f",
   "metadata": {},
   "outputs": [],
   "source": []
  },
  {
   "cell_type": "code",
   "execution_count": 147,
   "id": "6721bb8b-21f5-40e1-9a35-4ee77b94bf80",
   "metadata": {},
   "outputs": [],
   "source": [
    "with open('data/model.pkl', 'wb') as f:\n",
    "    pickle.dump((xgb), f)"
   ]
  },
  {
   "cell_type": "code",
   "execution_count": null,
   "id": "7fcf30ca-7649-4930-a24f-09808f6abe6e",
   "metadata": {},
   "outputs": [],
   "source": []
  }
 ],
 "metadata": {
  "kernelspec": {
   "display_name": "Python 3 (ipykernel)",
   "language": "python",
   "name": "python3"
  },
  "language_info": {
   "codemirror_mode": {
    "name": "ipython",
    "version": 3
   },
   "file_extension": ".py",
   "mimetype": "text/x-python",
   "name": "python",
   "nbconvert_exporter": "python",
   "pygments_lexer": "ipython3",
   "version": "3.10.9"
  }
 },
 "nbformat": 4,
 "nbformat_minor": 5
}
