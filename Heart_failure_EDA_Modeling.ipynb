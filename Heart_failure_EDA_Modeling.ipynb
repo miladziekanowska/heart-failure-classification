{
 "cells": [
  {
   "cell_type": "markdown",
   "id": "b4c54357-cff8-467d-821b-2e8ab3fbbff1",
   "metadata": {},
   "source": [
    "# Heart failure outcome classifier\n",
    "In this notebook we will take a dive into a [this](https://www.kaggle.com/datasets/asgharalikhan/mortality-rate-heart-patient-pakistan-hospital) dataset of heart failures in Pakistan.  \n",
    "While I am **not** a medical professional and know only slightly more about heart failures than an average person, I will try to create a model, that will predict the mortality of a heart failure in the Pakistani settings. This model might not work to predict the mortality in other countries, which are more or less medically advanced. \n",
    "\n",
    "> **Disclaimer!** This is not a medical study nor recommendation!\n",
    "\n",
    "## How will it work?\n",
    "With hypothesis testing, I will determine, which of the features of the patients attribute to the heart failure the most to mortality. Having the best features selected, I will create a model, that will predict the mortality for the given sample of patients. Once the model is created with best possible scores, I will check and determine, which of the features impact mortality the most. \n",
    "\n",
    "## How is this model useful?\n",
    "Knowing the most crucial features that might contribute to fatal heart failure, users of this model might check if in their current health, would they survive a heart failure in Pakistan. In another setting, if the model predicts fatality, whils the user is alive, it might be a suggestion to consult with their doctor the state of their health, to avoid heart failure in the future - this aspect might be useful in any different settings.\n",
    "\n",
    "## Good to know\n",
    "Data analized in this study does not touch on the accessability to the hospital or a doctor, time of diagnosis, CPR occurrecne and duration, threatment, how long did it take for the patient to receive firts aid, how far were they from the nearest hospital, chronic diseases, etc. While the dataset gives a good insight on the patients parameters, many life-saving aspects are not included, therefore any conclusions, especially resulting in death on a user of this model should not be taken too seriously. These might however suggest to schedule a check-up with the users doctor.\n",
    "\n",
    "# Exploratory data analysis"
   ]
  },
  {
   "cell_type": "code",
   "execution_count": 77,
   "id": "0efb81bf-6527-49b6-bbf2-d5c1cbb92dc8",
   "metadata": {},
   "outputs": [],
   "source": [
    "# all imports in one place\n",
    "import re\n",
    "import pickle\n",
    "import statistics as s\n",
    "import numpy as np\n",
    "import pandas as pd \n",
    "import matplotlib.pyplot as plt\n",
    "import seaborn as sns\n",
    "from scipy.stats import ttest_ind, chi2_contingency\n",
    "from ydata_profiling import ProfileReport\n",
    "\n",
    "import optuna\n",
    "from imblearn.over_sampling import SMOTE\n",
    "from sklearn.decomposition import PCA\n",
    "from sklearn.preprocessing import StandardScaler, LabelEncoder\n",
    "from sklearn.metrics import (accuracy_score, precision_score, recall_score, \n",
    "                             f1_score, roc_auc_score, confusion_matrix, roc_curve)\n",
    "from sklearn.model_selection import train_test_split, KFold\n",
    "from sklearn.ensemble import RandomForestClassifier\n",
    "from xgboost import XGBClassifier\n",
    "from catboost import CatBoostClassifier\n",
    "\n",
    "\n",
    "# there are many columns, I want to see them all\n",
    "pd.set_option('display.max_columns', 500)"
   ]
  },
  {
   "cell_type": "code",
   "execution_count": 109,
   "id": "2af093cd-70fd-4947-9471-513aec9fdce5",
   "metadata": {},
   "outputs": [
    {
     "data": {
      "text/html": [
       "<div>\n",
       "<style scoped>\n",
       "    .dataframe tbody tr th:only-of-type {\n",
       "        vertical-align: middle;\n",
       "    }\n",
       "\n",
       "    .dataframe tbody tr th {\n",
       "        vertical-align: top;\n",
       "    }\n",
       "\n",
       "    .dataframe thead th {\n",
       "        text-align: right;\n",
       "    }\n",
       "</style>\n",
       "<table border=\"1\" class=\"dataframe\">\n",
       "  <thead>\n",
       "    <tr style=\"text-align: right;\">\n",
       "      <th></th>\n",
       "      <th>Age</th>\n",
       "      <th>AgeGroup</th>\n",
       "      <th>Gender</th>\n",
       "      <th>Locality</th>\n",
       "      <th>Maritalstatus</th>\n",
       "      <th>LifeStyle</th>\n",
       "      <th>Sleep</th>\n",
       "      <th>Category</th>\n",
       "      <th>Depression</th>\n",
       "      <th>Hyperlipi</th>\n",
       "      <th>Smoking</th>\n",
       "      <th>FamilyHistory</th>\n",
       "      <th>FHistory</th>\n",
       "      <th>Diabetes</th>\n",
       "      <th>HTN</th>\n",
       "      <th>Allergies</th>\n",
       "      <th>BP</th>\n",
       "      <th>Thrombolysis</th>\n",
       "      <th>BGR</th>\n",
       "      <th>BUrea</th>\n",
       "      <th>SCr</th>\n",
       "      <th>SSodium</th>\n",
       "      <th>SPotassium</th>\n",
       "      <th>SChloride</th>\n",
       "      <th>CPK</th>\n",
       "      <th>CKMB</th>\n",
       "      <th>ESR</th>\n",
       "      <th>WBC</th>\n",
       "      <th>RBC</th>\n",
       "      <th>Hemoglobin</th>\n",
       "      <th>PCV</th>\n",
       "      <th>MCV</th>\n",
       "      <th>MCH</th>\n",
       "      <th>MCHC</th>\n",
       "      <th>PLATELET_COUNT</th>\n",
       "      <th>NEUTROPHIL</th>\n",
       "      <th>LYMPHO</th>\n",
       "      <th>MONOCYTE</th>\n",
       "      <th>EOSINO</th>\n",
       "      <th>Others</th>\n",
       "      <th>CO</th>\n",
       "      <th>Diagnosis</th>\n",
       "      <th>Hypersensitivity</th>\n",
       "      <th>cp</th>\n",
       "      <th>trestbps</th>\n",
       "      <th>chol</th>\n",
       "      <th>fbs</th>\n",
       "      <th>restecg</th>\n",
       "      <th>thalach</th>\n",
       "      <th>exang</th>\n",
       "      <th>oldpeak</th>\n",
       "      <th>slope</th>\n",
       "      <th>ca</th>\n",
       "      <th>thal</th>\n",
       "      <th>num</th>\n",
       "      <th>SK</th>\n",
       "      <th>SKReact</th>\n",
       "      <th>Reaction</th>\n",
       "      <th>Mortality</th>\n",
       "      <th>FollowUp</th>\n",
       "    </tr>\n",
       "  </thead>\n",
       "  <tbody>\n",
       "    <tr>\n",
       "      <th>0</th>\n",
       "      <td>45</td>\n",
       "      <td>41-50</td>\n",
       "      <td>Female</td>\n",
       "      <td>RURAL</td>\n",
       "      <td>MARRIED</td>\n",
       "      <td>NO</td>\n",
       "      <td>NO</td>\n",
       "      <td>FREE</td>\n",
       "      <td>YES</td>\n",
       "      <td>YES</td>\n",
       "      <td>NO</td>\n",
       "      <td>NO</td>\n",
       "      <td>0</td>\n",
       "      <td>1</td>\n",
       "      <td>NO</td>\n",
       "      <td>NO</td>\n",
       "      <td>100.6</td>\n",
       "      <td>0</td>\n",
       "      <td>84</td>\n",
       "      <td>28.0</td>\n",
       "      <td>0.9</td>\n",
       "      <td>138</td>\n",
       "      <td>3.3</td>\n",
       "      <td>107</td>\n",
       "      <td>130</td>\n",
       "      <td>30</td>\n",
       "      <td>11</td>\n",
       "      <td>9900</td>\n",
       "      <td>4.26</td>\n",
       "      <td>11.6</td>\n",
       "      <td>0.34</td>\n",
       "      <td>79.7</td>\n",
       "      <td>27.2</td>\n",
       "      <td>0.34</td>\n",
       "      <td>265000</td>\n",
       "      <td>0.70</td>\n",
       "      <td>0.25</td>\n",
       "      <td>0.03</td>\n",
       "      <td>2</td>\n",
       "      <td>no</td>\n",
       "      <td>Chest pain,</td>\n",
       "      <td>EXT. ACUTE WALL M.I</td>\n",
       "      <td>NO</td>\n",
       "      <td>4</td>\n",
       "      <td>132</td>\n",
       "      <td>341</td>\n",
       "      <td>1</td>\n",
       "      <td>2</td>\n",
       "      <td>136</td>\n",
       "      <td>1</td>\n",
       "      <td>3.0</td>\n",
       "      <td>2</td>\n",
       "      <td>0</td>\n",
       "      <td>7</td>\n",
       "      <td>2</td>\n",
       "      <td>1</td>\n",
       "      <td>NO</td>\n",
       "      <td>0</td>\n",
       "      <td>0</td>\n",
       "      <td>60</td>\n",
       "    </tr>\n",
       "    <tr>\n",
       "      <th>1</th>\n",
       "      <td>51</td>\n",
       "      <td>51-60</td>\n",
       "      <td>Female</td>\n",
       "      <td>URBAN</td>\n",
       "      <td>MARRIED</td>\n",
       "      <td>NO</td>\n",
       "      <td>NO</td>\n",
       "      <td>FREE</td>\n",
       "      <td>YES</td>\n",
       "      <td>YES</td>\n",
       "      <td>NO</td>\n",
       "      <td>NO</td>\n",
       "      <td>0</td>\n",
       "      <td>0</td>\n",
       "      <td>NO</td>\n",
       "      <td>NO</td>\n",
       "      <td>90.6</td>\n",
       "      <td>0</td>\n",
       "      <td>135</td>\n",
       "      <td>17.0</td>\n",
       "      <td>0.7</td>\n",
       "      <td>144</td>\n",
       "      <td>4.7</td>\n",
       "      <td>104</td>\n",
       "      <td>163</td>\n",
       "      <td>30</td>\n",
       "      <td>27</td>\n",
       "      <td>15800</td>\n",
       "      <td>5.74</td>\n",
       "      <td>14.5</td>\n",
       "      <td>0.44</td>\n",
       "      <td>78.0</td>\n",
       "      <td>25.0</td>\n",
       "      <td>0.32</td>\n",
       "      <td>287000</td>\n",
       "      <td>0.73</td>\n",
       "      <td>0.20</td>\n",
       "      <td>0.04</td>\n",
       "      <td>3</td>\n",
       "      <td>no</td>\n",
       "      <td>Central Chest pain,</td>\n",
       "      <td>A/W M.I</td>\n",
       "      <td>NO</td>\n",
       "      <td>4</td>\n",
       "      <td>130</td>\n",
       "      <td>305</td>\n",
       "      <td>0</td>\n",
       "      <td>0</td>\n",
       "      <td>142</td>\n",
       "      <td>1</td>\n",
       "      <td>1.2</td>\n",
       "      <td>2</td>\n",
       "      <td>0</td>\n",
       "      <td>7</td>\n",
       "      <td>2</td>\n",
       "      <td>1</td>\n",
       "      <td>NO</td>\n",
       "      <td>0</td>\n",
       "      <td>0</td>\n",
       "      <td>15</td>\n",
       "    </tr>\n",
       "    <tr>\n",
       "      <th>2</th>\n",
       "      <td>55</td>\n",
       "      <td>51-60</td>\n",
       "      <td>Female</td>\n",
       "      <td>RURAL</td>\n",
       "      <td>MARRIED</td>\n",
       "      <td>YES</td>\n",
       "      <td>YES</td>\n",
       "      <td>FREE</td>\n",
       "      <td>YES</td>\n",
       "      <td>YES</td>\n",
       "      <td>NO</td>\n",
       "      <td>NO</td>\n",
       "      <td>0</td>\n",
       "      <td>1</td>\n",
       "      <td>YES</td>\n",
       "      <td>NO</td>\n",
       "      <td>100.7</td>\n",
       "      <td>0</td>\n",
       "      <td>146</td>\n",
       "      <td>37.0</td>\n",
       "      <td>1.0</td>\n",
       "      <td>137</td>\n",
       "      <td>4.2</td>\n",
       "      <td>103</td>\n",
       "      <td>149</td>\n",
       "      <td>22</td>\n",
       "      <td>19</td>\n",
       "      <td>7900</td>\n",
       "      <td>4.83</td>\n",
       "      <td>14.1</td>\n",
       "      <td>0.42</td>\n",
       "      <td>87.0</td>\n",
       "      <td>29.0</td>\n",
       "      <td>0.33</td>\n",
       "      <td>183000</td>\n",
       "      <td>0.60</td>\n",
       "      <td>0.33</td>\n",
       "      <td>0.04</td>\n",
       "      <td>3</td>\n",
       "      <td>LV dysfunction</td>\n",
       "      <td>Chest pain,SOB, Cold sweating</td>\n",
       "      <td>AC I/W M.I (RV) RE. M.I</td>\n",
       "      <td>NO</td>\n",
       "      <td>4</td>\n",
       "      <td>180</td>\n",
       "      <td>327</td>\n",
       "      <td>0</td>\n",
       "      <td>1</td>\n",
       "      <td>117</td>\n",
       "      <td>1</td>\n",
       "      <td>3.4</td>\n",
       "      <td>2</td>\n",
       "      <td>0</td>\n",
       "      <td>3</td>\n",
       "      <td>2</td>\n",
       "      <td>1</td>\n",
       "      <td>NO</td>\n",
       "      <td>0</td>\n",
       "      <td>0</td>\n",
       "      <td>6</td>\n",
       "    </tr>\n",
       "    <tr>\n",
       "      <th>3</th>\n",
       "      <td>55</td>\n",
       "      <td>51-60</td>\n",
       "      <td>Female</td>\n",
       "      <td>RURAL</td>\n",
       "      <td>MARRIED</td>\n",
       "      <td>YES</td>\n",
       "      <td>YES</td>\n",
       "      <td>FREE</td>\n",
       "      <td>YES</td>\n",
       "      <td>YES</td>\n",
       "      <td>NO</td>\n",
       "      <td>NO</td>\n",
       "      <td>0</td>\n",
       "      <td>1</td>\n",
       "      <td>YES</td>\n",
       "      <td>NO</td>\n",
       "      <td>160.1</td>\n",
       "      <td>0</td>\n",
       "      <td>146</td>\n",
       "      <td>37.0</td>\n",
       "      <td>1.0</td>\n",
       "      <td>137</td>\n",
       "      <td>4.2</td>\n",
       "      <td>103</td>\n",
       "      <td>149</td>\n",
       "      <td>22</td>\n",
       "      <td>19</td>\n",
       "      <td>7900</td>\n",
       "      <td>4.83</td>\n",
       "      <td>14.1</td>\n",
       "      <td>0.42</td>\n",
       "      <td>87.0</td>\n",
       "      <td>29.0</td>\n",
       "      <td>0.33</td>\n",
       "      <td>183000</td>\n",
       "      <td>0.60</td>\n",
       "      <td>0.33</td>\n",
       "      <td>0.04</td>\n",
       "      <td>3</td>\n",
       "      <td>HTN</td>\n",
       "      <td>CENTRAL Chest pain,</td>\n",
       "      <td>I/W M.I</td>\n",
       "      <td>NO</td>\n",
       "      <td>4</td>\n",
       "      <td>128</td>\n",
       "      <td>205</td>\n",
       "      <td>0</td>\n",
       "      <td>1</td>\n",
       "      <td>130</td>\n",
       "      <td>1</td>\n",
       "      <td>2.0</td>\n",
       "      <td>2</td>\n",
       "      <td>1</td>\n",
       "      <td>7</td>\n",
       "      <td>3</td>\n",
       "      <td>1</td>\n",
       "      <td>NO</td>\n",
       "      <td>0</td>\n",
       "      <td>0</td>\n",
       "      <td>52</td>\n",
       "    </tr>\n",
       "    <tr>\n",
       "      <th>4</th>\n",
       "      <td>56</td>\n",
       "      <td>51-60</td>\n",
       "      <td>Female</td>\n",
       "      <td>RURAL</td>\n",
       "      <td>MARRIED</td>\n",
       "      <td>YES</td>\n",
       "      <td>NO</td>\n",
       "      <td>FREE</td>\n",
       "      <td>YES</td>\n",
       "      <td>YES</td>\n",
       "      <td>NO</td>\n",
       "      <td>NO</td>\n",
       "      <td>0</td>\n",
       "      <td>1</td>\n",
       "      <td>YES</td>\n",
       "      <td>NO</td>\n",
       "      <td>90.6</td>\n",
       "      <td>0</td>\n",
       "      <td>85</td>\n",
       "      <td>78.0</td>\n",
       "      <td>1.2</td>\n",
       "      <td>139</td>\n",
       "      <td>4.5</td>\n",
       "      <td>112</td>\n",
       "      <td>75</td>\n",
       "      <td>18</td>\n",
       "      <td>13</td>\n",
       "      <td>6900</td>\n",
       "      <td>4.41</td>\n",
       "      <td>12.3</td>\n",
       "      <td>0.36</td>\n",
       "      <td>82.0</td>\n",
       "      <td>27.0</td>\n",
       "      <td>0.33</td>\n",
       "      <td>211000</td>\n",
       "      <td>0.71</td>\n",
       "      <td>0.25</td>\n",
       "      <td>0.02</td>\n",
       "      <td>2</td>\n",
       "      <td>no</td>\n",
       "      <td>Chest pain,</td>\n",
       "      <td>A/W M.I</td>\n",
       "      <td>NO</td>\n",
       "      <td>4</td>\n",
       "      <td>200</td>\n",
       "      <td>288</td>\n",
       "      <td>1</td>\n",
       "      <td>2</td>\n",
       "      <td>133</td>\n",
       "      <td>1</td>\n",
       "      <td>4.0</td>\n",
       "      <td>3</td>\n",
       "      <td>2</td>\n",
       "      <td>7</td>\n",
       "      <td>3</td>\n",
       "      <td>1</td>\n",
       "      <td>NO</td>\n",
       "      <td>0</td>\n",
       "      <td>0</td>\n",
       "      <td>34</td>\n",
       "    </tr>\n",
       "  </tbody>\n",
       "</table>\n",
       "</div>"
      ],
      "text/plain": [
       "   Age AgeGroup  Gender Locality Maritalstatus LifeStyle Sleep Category  \\\n",
       "0   45    41-50  Female    RURAL       MARRIED        NO    NO     FREE   \n",
       "1   51    51-60  Female    URBAN       MARRIED        NO    NO     FREE   \n",
       "2   55    51-60  Female    RURAL       MARRIED       YES   YES     FREE   \n",
       "3   55    51-60  Female    RURAL       MARRIED       YES   YES     FREE   \n",
       "4   56    51-60  Female    RURAL       MARRIED       YES    NO     FREE   \n",
       "\n",
       "  Depression Hyperlipi Smoking FamilyHistory  FHistory  Diabetes  HTN  \\\n",
       "0        YES       YES      NO            NO         0         1   NO   \n",
       "1        YES       YES      NO            NO         0         0   NO   \n",
       "2        YES       YES      NO            NO         0         1  YES   \n",
       "3        YES       YES      NO            NO         0         1  YES   \n",
       "4        YES       YES      NO            NO         0         1  YES   \n",
       "\n",
       "  Allergies     BP  Thrombolysis  BGR  BUrea  SCr  SSodium  SPotassium  \\\n",
       "0        NO  100.6             0   84   28.0  0.9      138         3.3   \n",
       "1        NO   90.6             0  135   17.0  0.7      144         4.7   \n",
       "2        NO  100.7             0  146   37.0  1.0      137         4.2   \n",
       "3        NO  160.1             0  146   37.0  1.0      137         4.2   \n",
       "4        NO   90.6             0   85   78.0  1.2      139         4.5   \n",
       "\n",
       "   SChloride  CPK  CKMB  ESR    WBC   RBC  Hemoglobin   PCV   MCV   MCH  MCHC  \\\n",
       "0        107  130    30   11   9900  4.26        11.6  0.34  79.7  27.2  0.34   \n",
       "1        104  163    30   27  15800  5.74        14.5  0.44  78.0  25.0  0.32   \n",
       "2        103  149    22   19   7900  4.83        14.1  0.42  87.0  29.0  0.33   \n",
       "3        103  149    22   19   7900  4.83        14.1  0.42  87.0  29.0  0.33   \n",
       "4        112   75    18   13   6900  4.41        12.3  0.36  82.0  27.0  0.33   \n",
       "\n",
       "   PLATELET_COUNT  NEUTROPHIL  LYMPHO  MONOCYTE  EOSINO          Others  \\\n",
       "0          265000        0.70    0.25      0.03       2              no   \n",
       "1          287000        0.73    0.20      0.04       3              no   \n",
       "2          183000        0.60    0.33      0.04       3  LV dysfunction   \n",
       "3          183000        0.60    0.33      0.04       3             HTN   \n",
       "4          211000        0.71    0.25      0.02       2              no   \n",
       "\n",
       "                              CO                 Diagnosis Hypersensitivity  \\\n",
       "0                    Chest pain,       EXT. ACUTE WALL M.I               NO   \n",
       "1            Central Chest pain,                   A/W M.I               NO   \n",
       "2  Chest pain,SOB, Cold sweating  AC I/W M.I (RV) RE. M.I                NO   \n",
       "3            CENTRAL Chest pain,                   I/W M.I               NO   \n",
       "4                    Chest pain,                   A/W M.I               NO   \n",
       "\n",
       "   cp  trestbps  chol  fbs  restecg  thalach  exang  oldpeak  slope  ca  thal  \\\n",
       "0   4       132   341    1        2      136      1      3.0      2   0     7   \n",
       "1   4       130   305    0        0      142      1      1.2      2   0     7   \n",
       "2   4       180   327    0        1      117      1      3.4      2   0     3   \n",
       "3   4       128   205    0        1      130      1      2.0      2   1     7   \n",
       "4   4       200   288    1        2      133      1      4.0      3   2     7   \n",
       "\n",
       "   num  SK SKReact  Reaction  Mortality  FollowUp  \n",
       "0    2   1      NO         0          0        60  \n",
       "1    2   1      NO         0          0        15  \n",
       "2    2   1      NO         0          0         6  \n",
       "3    3   1      NO         0          0        52  \n",
       "4    3   1      NO         0          0        34  "
      ]
     },
     "execution_count": 109,
     "metadata": {},
     "output_type": "execute_result"
    }
   ],
   "source": [
    "df = pd.read_csv('data/heart_failure_dataset.csv')\n",
    "\n",
    "# column names are strangely formated, let's fix them quick\n",
    "replace_dict = {}\n",
    "\n",
    "for c in df.columns:\n",
    "    if c not in replace_dict.keys():\n",
    "        replace_dict[c] = c.replace(' ', '').replace('.', '')     \n",
    "                                    \n",
    "df = df.rename(columns=replace_dict)\n",
    "df.head()"
   ]
  },
  {
   "cell_type": "code",
   "execution_count": 110,
   "id": "f6df1d8c-3720-4916-b4a5-5a81ac81e2c8",
   "metadata": {},
   "outputs": [
    {
     "data": {
      "text/plain": [
       "(368, 60)"
      ]
     },
     "execution_count": 110,
     "metadata": {},
     "output_type": "execute_result"
    }
   ],
   "source": [
    "df.shape"
   ]
  },
  {
   "cell_type": "code",
   "execution_count": 111,
   "id": "54d93053-d647-4aff-9078-84bb3a2c8f54",
   "metadata": {
    "tags": []
   },
   "outputs": [
    {
     "name": "stdout",
     "output_type": "stream",
     "text": [
      "<class 'pandas.core.frame.DataFrame'>\n",
      "RangeIndex: 368 entries, 0 to 367\n",
      "Data columns (total 60 columns):\n",
      " #   Column            Non-Null Count  Dtype  \n",
      "---  ------            --------------  -----  \n",
      " 0   Age               368 non-null    int64  \n",
      " 1   AgeGroup          368 non-null    object \n",
      " 2   Gender            368 non-null    object \n",
      " 3   Locality          368 non-null    object \n",
      " 4   Maritalstatus     368 non-null    object \n",
      " 5   LifeStyle         368 non-null    object \n",
      " 6   Sleep             368 non-null    object \n",
      " 7   Category          368 non-null    object \n",
      " 8   Depression        368 non-null    object \n",
      " 9   Hyperlipi         368 non-null    object \n",
      " 10  Smoking           368 non-null    object \n",
      " 11  FamilyHistory     368 non-null    object \n",
      " 12  FHistory          368 non-null    int64  \n",
      " 13  Diabetes          368 non-null    int64  \n",
      " 14  HTN               368 non-null    object \n",
      " 15  Allergies         368 non-null    object \n",
      " 16  BP                368 non-null    float64\n",
      " 17  Thrombolysis      368 non-null    int64  \n",
      " 18  BGR               368 non-null    int64  \n",
      " 19  BUrea             368 non-null    float64\n",
      " 20  SCr               368 non-null    float64\n",
      " 21  SSodium           368 non-null    int64  \n",
      " 22  SPotassium        368 non-null    float64\n",
      " 23  SChloride         368 non-null    int64  \n",
      " 24  CPK               368 non-null    int64  \n",
      " 25  CKMB              368 non-null    int64  \n",
      " 26  ESR               368 non-null    int64  \n",
      " 27  WBC               368 non-null    int64  \n",
      " 28  RBC               368 non-null    float64\n",
      " 29  Hemoglobin        368 non-null    float64\n",
      " 30  PCV               368 non-null    float64\n",
      " 31  MCV               368 non-null    float64\n",
      " 32  MCH               368 non-null    float64\n",
      " 33  MCHC              368 non-null    float64\n",
      " 34  PLATELET_COUNT    368 non-null    int64  \n",
      " 35  NEUTROPHIL        368 non-null    float64\n",
      " 36  LYMPHO            368 non-null    float64\n",
      " 37  MONOCYTE          368 non-null    float64\n",
      " 38  EOSINO            368 non-null    int64  \n",
      " 39  Others            368 non-null    object \n",
      " 40  CO                368 non-null    object \n",
      " 41  Diagnosis         368 non-null    object \n",
      " 42  Hypersensitivity  368 non-null    object \n",
      " 43  cp                368 non-null    int64  \n",
      " 44  trestbps          368 non-null    int64  \n",
      " 45  chol              368 non-null    int64  \n",
      " 46  fbs               368 non-null    int64  \n",
      " 47  restecg           368 non-null    int64  \n",
      " 48  thalach           368 non-null    int64  \n",
      " 49  exang             368 non-null    int64  \n",
      " 50  oldpeak           368 non-null    float64\n",
      " 51  slope             368 non-null    int64  \n",
      " 52  ca                368 non-null    int64  \n",
      " 53  thal              368 non-null    int64  \n",
      " 54  num               368 non-null    int64  \n",
      " 55  SK                368 non-null    int64  \n",
      " 56  SKReact           368 non-null    object \n",
      " 57  Reaction          368 non-null    int64  \n",
      " 58  Mortality         368 non-null    int64  \n",
      " 59  FollowUp          368 non-null    int64  \n",
      "dtypes: float64(14), int64(28), object(18)\n",
      "memory usage: 172.6+ KB\n"
     ]
    }
   ],
   "source": [
    "df.info()"
   ]
  },
  {
   "cell_type": "code",
   "execution_count": 5,
   "id": "3644c707-0685-40ef-a25f-908aa3bc22b5",
   "metadata": {},
   "outputs": [
    {
     "data": {
      "text/plain": [
       "0"
      ]
     },
     "execution_count": 5,
     "metadata": {},
     "output_type": "execute_result"
    }
   ],
   "source": [
    "df.isna().sum().sum() # there are no NaN values in the dataset"
   ]
  },
  {
   "cell_type": "code",
   "execution_count": 6,
   "id": "669af523-47dd-47e0-aaf6-f509e6763bb6",
   "metadata": {},
   "outputs": [],
   "source": [
    "# FamilyHistory is the same as FHistory, just not encoded, let's drop it\n",
    "df = df.drop('FamilyHistory', axis=1)"
   ]
  },
  {
   "cell_type": "code",
   "execution_count": 7,
   "id": "a96dd3ce-baf4-4c85-930a-27f427c9167e",
   "metadata": {},
   "outputs": [
    {
     "data": {
      "text/plain": [
       "214"
      ]
     },
     "execution_count": 7,
     "metadata": {},
     "output_type": "execute_result"
    }
   ],
   "source": [
    "df.duplicated().sum() # seems there is a lot of duplicates"
   ]
  },
  {
   "cell_type": "code",
   "execution_count": 8,
   "id": "235cf2b4-b8f0-4ae9-9cc2-20396c5f8349",
   "metadata": {},
   "outputs": [
    {
     "data": {
      "text/plain": [
       "0    78.26087\n",
       "1    21.73913\n",
       "Name: Mortality, dtype: float64"
      ]
     },
     "execution_count": 8,
     "metadata": {},
     "output_type": "execute_result"
    }
   ],
   "source": [
    "mortality_percentage = df['Mortality'].value_counts(normalize=True) * 100\n",
    "mortality_percentage"
   ]
  },
  {
   "cell_type": "markdown",
   "id": "35f17aeb-a351-452a-820a-d4b0ffa42345",
   "metadata": {},
   "source": [
    "Upon further inspection of the dataset, majority of rows are duplicated, which is unfortunate, as this dataset it pretty small.\n",
    "\n",
    "The differences between the statistics of the dataset with and without the duplicates are similar, and with the duplicates the percentage of patients, who survided the heart failure is larger - this makes the data less unbalanced. \n",
    "\n",
    "I wanted to use the duplicates later for training the model. I did the hipothesis testig to check, if the different proportions of 0 and 1 i the `Mortality` would be okay - it would. During the training **however**, any model I used tend to get overfitted and the metrics on the testing subset vere significantly worse, to low for a predictions, where life could be at stake. \n",
    "\n",
    "Therefore I will remove the duplicates at this point."
   ]
  },
  {
   "cell_type": "code",
   "execution_count": 112,
   "id": "87c981f0-20ed-4594-ac57-5aef4ef373ec",
   "metadata": {},
   "outputs": [],
   "source": [
    "# let's create a copy - a clear dataset\n",
    "df = df.drop_duplicates()"
   ]
  },
  {
   "cell_type": "code",
   "execution_count": 10,
   "id": "30b287db-165f-46da-ba0b-3fd8a14fe1e7",
   "metadata": {},
   "outputs": [
    {
     "data": {
      "text/plain": [
       "0    82.467532\n",
       "1    17.532468\n",
       "Name: Mortality, dtype: float64"
      ]
     },
     "execution_count": 10,
     "metadata": {},
     "output_type": "execute_result"
    }
   ],
   "source": [
    "# let's check the mortality rate in clean dataset\n",
    "mortality_percentage = df['Mortality'].value_counts(normalize=True) * 100\n",
    "mortality_percentage"
   ]
  },
  {
   "cell_type": "code",
   "execution_count": 11,
   "id": "03f5f761-89e4-4dc0-bb0f-493d5f897b33",
   "metadata": {},
   "outputs": [
    {
     "data": {
      "text/html": [
       "<div>\n",
       "<style scoped>\n",
       "    .dataframe tbody tr th:only-of-type {\n",
       "        vertical-align: middle;\n",
       "    }\n",
       "\n",
       "    .dataframe tbody tr th {\n",
       "        vertical-align: top;\n",
       "    }\n",
       "\n",
       "    .dataframe thead th {\n",
       "        text-align: right;\n",
       "    }\n",
       "</style>\n",
       "<table border=\"1\" class=\"dataframe\">\n",
       "  <thead>\n",
       "    <tr style=\"text-align: right;\">\n",
       "      <th></th>\n",
       "      <th>Age</th>\n",
       "      <th>FHistory</th>\n",
       "      <th>Diabetes</th>\n",
       "      <th>BP</th>\n",
       "      <th>Thrombolysis</th>\n",
       "      <th>BGR</th>\n",
       "      <th>BUrea</th>\n",
       "      <th>SCr</th>\n",
       "      <th>SSodium</th>\n",
       "      <th>SPotassium</th>\n",
       "      <th>SChloride</th>\n",
       "      <th>CPK</th>\n",
       "      <th>CKMB</th>\n",
       "      <th>ESR</th>\n",
       "      <th>WBC</th>\n",
       "      <th>RBC</th>\n",
       "      <th>Hemoglobin</th>\n",
       "      <th>PCV</th>\n",
       "      <th>MCV</th>\n",
       "      <th>MCH</th>\n",
       "      <th>MCHC</th>\n",
       "      <th>PLATELET_COUNT</th>\n",
       "      <th>NEUTROPHIL</th>\n",
       "      <th>LYMPHO</th>\n",
       "      <th>MONOCYTE</th>\n",
       "      <th>EOSINO</th>\n",
       "      <th>cp</th>\n",
       "      <th>trestbps</th>\n",
       "      <th>chol</th>\n",
       "      <th>fbs</th>\n",
       "      <th>restecg</th>\n",
       "      <th>thalach</th>\n",
       "      <th>exang</th>\n",
       "      <th>oldpeak</th>\n",
       "      <th>slope</th>\n",
       "      <th>ca</th>\n",
       "      <th>thal</th>\n",
       "      <th>num</th>\n",
       "      <th>SK</th>\n",
       "      <th>Reaction</th>\n",
       "      <th>Mortality</th>\n",
       "      <th>FollowUp</th>\n",
       "    </tr>\n",
       "  </thead>\n",
       "  <tbody>\n",
       "    <tr>\n",
       "      <th>count</th>\n",
       "      <td>154.000000</td>\n",
       "      <td>154.000000</td>\n",
       "      <td>154.000000</td>\n",
       "      <td>154.000000</td>\n",
       "      <td>154.000000</td>\n",
       "      <td>154.000000</td>\n",
       "      <td>154.000000</td>\n",
       "      <td>154.000000</td>\n",
       "      <td>154.000000</td>\n",
       "      <td>154.000000</td>\n",
       "      <td>154.000000</td>\n",
       "      <td>154.000000</td>\n",
       "      <td>154.000000</td>\n",
       "      <td>154.000000</td>\n",
       "      <td>154.000000</td>\n",
       "      <td>154.000000</td>\n",
       "      <td>154.000000</td>\n",
       "      <td>154.000000</td>\n",
       "      <td>154.000000</td>\n",
       "      <td>154.000000</td>\n",
       "      <td>154.000000</td>\n",
       "      <td>154.000000</td>\n",
       "      <td>154.000000</td>\n",
       "      <td>154.000000</td>\n",
       "      <td>154.000000</td>\n",
       "      <td>154.000000</td>\n",
       "      <td>154.000000</td>\n",
       "      <td>154.000000</td>\n",
       "      <td>154.000000</td>\n",
       "      <td>154.000000</td>\n",
       "      <td>154.000000</td>\n",
       "      <td>154.000000</td>\n",
       "      <td>154.000000</td>\n",
       "      <td>154.000000</td>\n",
       "      <td>154.000000</td>\n",
       "      <td>154.000000</td>\n",
       "      <td>154.000000</td>\n",
       "      <td>154.000000</td>\n",
       "      <td>154.000000</td>\n",
       "      <td>154.000000</td>\n",
       "      <td>154.000000</td>\n",
       "      <td>154.000000</td>\n",
       "    </tr>\n",
       "    <tr>\n",
       "      <th>mean</th>\n",
       "      <td>55.772727</td>\n",
       "      <td>0.194805</td>\n",
       "      <td>0.409091</td>\n",
       "      <td>118.165779</td>\n",
       "      <td>0.051948</td>\n",
       "      <td>227.948052</td>\n",
       "      <td>47.135714</td>\n",
       "      <td>1.490000</td>\n",
       "      <td>137.987013</td>\n",
       "      <td>4.194805</td>\n",
       "      <td>103.461039</td>\n",
       "      <td>637.694805</td>\n",
       "      <td>69.396104</td>\n",
       "      <td>25.720779</td>\n",
       "      <td>11171.363636</td>\n",
       "      <td>5.115325</td>\n",
       "      <td>13.840260</td>\n",
       "      <td>0.417208</td>\n",
       "      <td>81.033766</td>\n",
       "      <td>27.059740</td>\n",
       "      <td>0.326753</td>\n",
       "      <td>245792.207792</td>\n",
       "      <td>2.294286</td>\n",
       "      <td>0.249026</td>\n",
       "      <td>0.033117</td>\n",
       "      <td>2.214286</td>\n",
       "      <td>3.590909</td>\n",
       "      <td>133.396104</td>\n",
       "      <td>249.448052</td>\n",
       "      <td>0.149351</td>\n",
       "      <td>1.162338</td>\n",
       "      <td>139.993506</td>\n",
       "      <td>0.551948</td>\n",
       "      <td>1.531169</td>\n",
       "      <td>1.818182</td>\n",
       "      <td>1.051948</td>\n",
       "      <td>5.896104</td>\n",
       "      <td>2.032468</td>\n",
       "      <td>0.974026</td>\n",
       "      <td>0.759740</td>\n",
       "      <td>0.175325</td>\n",
       "      <td>28.902597</td>\n",
       "    </tr>\n",
       "    <tr>\n",
       "      <th>std</th>\n",
       "      <td>9.036978</td>\n",
       "      <td>0.397343</td>\n",
       "      <td>0.493270</td>\n",
       "      <td>23.459274</td>\n",
       "      <td>0.222646</td>\n",
       "      <td>141.137804</td>\n",
       "      <td>54.496293</td>\n",
       "      <td>3.079576</td>\n",
       "      <td>3.993437</td>\n",
       "      <td>0.369559</td>\n",
       "      <td>4.628885</td>\n",
       "      <td>1085.768192</td>\n",
       "      <td>100.175233</td>\n",
       "      <td>28.377358</td>\n",
       "      <td>3360.261441</td>\n",
       "      <td>0.775705</td>\n",
       "      <td>2.162319</td>\n",
       "      <td>0.065744</td>\n",
       "      <td>7.304875</td>\n",
       "      <td>3.330735</td>\n",
       "      <td>0.027839</td>\n",
       "      <td>78208.509251</td>\n",
       "      <td>11.413506</td>\n",
       "      <td>0.117366</td>\n",
       "      <td>0.015946</td>\n",
       "      <td>0.877938</td>\n",
       "      <td>0.844928</td>\n",
       "      <td>18.592788</td>\n",
       "      <td>49.913133</td>\n",
       "      <td>0.357597</td>\n",
       "      <td>0.980001</td>\n",
       "      <td>22.523915</td>\n",
       "      <td>0.498917</td>\n",
       "      <td>1.300403</td>\n",
       "      <td>0.565391</td>\n",
       "      <td>1.027671</td>\n",
       "      <td>1.715629</td>\n",
       "      <td>1.012464</td>\n",
       "      <td>0.159577</td>\n",
       "      <td>0.428635</td>\n",
       "      <td>0.381485</td>\n",
       "      <td>16.567457</td>\n",
       "    </tr>\n",
       "    <tr>\n",
       "      <th>min</th>\n",
       "      <td>24.000000</td>\n",
       "      <td>0.000000</td>\n",
       "      <td>0.000000</td>\n",
       "      <td>80.500000</td>\n",
       "      <td>0.000000</td>\n",
       "      <td>60.000000</td>\n",
       "      <td>2.300000</td>\n",
       "      <td>0.600000</td>\n",
       "      <td>129.000000</td>\n",
       "      <td>3.300000</td>\n",
       "      <td>90.000000</td>\n",
       "      <td>52.000000</td>\n",
       "      <td>14.000000</td>\n",
       "      <td>5.000000</td>\n",
       "      <td>5800.000000</td>\n",
       "      <td>3.460000</td>\n",
       "      <td>9.100000</td>\n",
       "      <td>0.290000</td>\n",
       "      <td>60.000000</td>\n",
       "      <td>18.000000</td>\n",
       "      <td>0.220000</td>\n",
       "      <td>20000.000000</td>\n",
       "      <td>0.360000</td>\n",
       "      <td>0.050000</td>\n",
       "      <td>0.010000</td>\n",
       "      <td>1.000000</td>\n",
       "      <td>1.000000</td>\n",
       "      <td>100.000000</td>\n",
       "      <td>131.000000</td>\n",
       "      <td>0.000000</td>\n",
       "      <td>0.000000</td>\n",
       "      <td>71.000000</td>\n",
       "      <td>0.000000</td>\n",
       "      <td>0.000000</td>\n",
       "      <td>1.000000</td>\n",
       "      <td>0.000000</td>\n",
       "      <td>3.000000</td>\n",
       "      <td>1.000000</td>\n",
       "      <td>0.000000</td>\n",
       "      <td>0.000000</td>\n",
       "      <td>0.000000</td>\n",
       "      <td>1.000000</td>\n",
       "    </tr>\n",
       "    <tr>\n",
       "      <th>25%</th>\n",
       "      <td>52.000000</td>\n",
       "      <td>0.000000</td>\n",
       "      <td>0.000000</td>\n",
       "      <td>100.625000</td>\n",
       "      <td>0.000000</td>\n",
       "      <td>127.000000</td>\n",
       "      <td>28.000000</td>\n",
       "      <td>0.800000</td>\n",
       "      <td>135.000000</td>\n",
       "      <td>3.900000</td>\n",
       "      <td>100.000000</td>\n",
       "      <td>131.250000</td>\n",
       "      <td>22.000000</td>\n",
       "      <td>11.000000</td>\n",
       "      <td>7900.000000</td>\n",
       "      <td>4.410000</td>\n",
       "      <td>12.300000</td>\n",
       "      <td>0.360000</td>\n",
       "      <td>78.000000</td>\n",
       "      <td>25.000000</td>\n",
       "      <td>0.320000</td>\n",
       "      <td>187000.000000</td>\n",
       "      <td>0.600000</td>\n",
       "      <td>0.170000</td>\n",
       "      <td>0.020000</td>\n",
       "      <td>2.000000</td>\n",
       "      <td>4.000000</td>\n",
       "      <td>120.000000</td>\n",
       "      <td>213.000000</td>\n",
       "      <td>0.000000</td>\n",
       "      <td>0.000000</td>\n",
       "      <td>125.000000</td>\n",
       "      <td>0.000000</td>\n",
       "      <td>0.225000</td>\n",
       "      <td>1.000000</td>\n",
       "      <td>0.000000</td>\n",
       "      <td>3.750000</td>\n",
       "      <td>1.000000</td>\n",
       "      <td>1.000000</td>\n",
       "      <td>1.000000</td>\n",
       "      <td>0.000000</td>\n",
       "      <td>15.000000</td>\n",
       "    </tr>\n",
       "    <tr>\n",
       "      <th>50%</th>\n",
       "      <td>57.000000</td>\n",
       "      <td>0.000000</td>\n",
       "      <td>0.000000</td>\n",
       "      <td>120.700000</td>\n",
       "      <td>0.000000</td>\n",
       "      <td>165.000000</td>\n",
       "      <td>35.500000</td>\n",
       "      <td>0.900000</td>\n",
       "      <td>138.000000</td>\n",
       "      <td>4.200000</td>\n",
       "      <td>104.000000</td>\n",
       "      <td>192.000000</td>\n",
       "      <td>39.000000</td>\n",
       "      <td>16.000000</td>\n",
       "      <td>10400.000000</td>\n",
       "      <td>5.230000</td>\n",
       "      <td>14.100000</td>\n",
       "      <td>0.420000</td>\n",
       "      <td>82.100000</td>\n",
       "      <td>27.800000</td>\n",
       "      <td>0.330000</td>\n",
       "      <td>237000.000000</td>\n",
       "      <td>0.720000</td>\n",
       "      <td>0.210000</td>\n",
       "      <td>0.030000</td>\n",
       "      <td>2.000000</td>\n",
       "      <td>4.000000</td>\n",
       "      <td>130.000000</td>\n",
       "      <td>248.500000</td>\n",
       "      <td>0.000000</td>\n",
       "      <td>2.000000</td>\n",
       "      <td>142.000000</td>\n",
       "      <td>1.000000</td>\n",
       "      <td>1.400000</td>\n",
       "      <td>2.000000</td>\n",
       "      <td>1.000000</td>\n",
       "      <td>7.000000</td>\n",
       "      <td>2.000000</td>\n",
       "      <td>1.000000</td>\n",
       "      <td>1.000000</td>\n",
       "      <td>0.000000</td>\n",
       "      <td>32.000000</td>\n",
       "    </tr>\n",
       "    <tr>\n",
       "      <th>75%</th>\n",
       "      <td>61.000000</td>\n",
       "      <td>0.000000</td>\n",
       "      <td>1.000000</td>\n",
       "      <td>130.800000</td>\n",
       "      <td>0.000000</td>\n",
       "      <td>320.000000</td>\n",
       "      <td>42.000000</td>\n",
       "      <td>1.080000</td>\n",
       "      <td>140.750000</td>\n",
       "      <td>4.400000</td>\n",
       "      <td>106.000000</td>\n",
       "      <td>446.000000</td>\n",
       "      <td>52.000000</td>\n",
       "      <td>27.000000</td>\n",
       "      <td>13800.000000</td>\n",
       "      <td>5.650000</td>\n",
       "      <td>15.500000</td>\n",
       "      <td>0.460000</td>\n",
       "      <td>86.000000</td>\n",
       "      <td>29.000000</td>\n",
       "      <td>0.340000</td>\n",
       "      <td>284000.000000</td>\n",
       "      <td>0.797500</td>\n",
       "      <td>0.320000</td>\n",
       "      <td>0.040000</td>\n",
       "      <td>3.000000</td>\n",
       "      <td>4.000000</td>\n",
       "      <td>143.500000</td>\n",
       "      <td>283.000000</td>\n",
       "      <td>0.000000</td>\n",
       "      <td>2.000000</td>\n",
       "      <td>156.750000</td>\n",
       "      <td>1.000000</td>\n",
       "      <td>2.475000</td>\n",
       "      <td>2.000000</td>\n",
       "      <td>2.000000</td>\n",
       "      <td>7.000000</td>\n",
       "      <td>3.000000</td>\n",
       "      <td>1.000000</td>\n",
       "      <td>1.000000</td>\n",
       "      <td>0.000000</td>\n",
       "      <td>36.000000</td>\n",
       "    </tr>\n",
       "    <tr>\n",
       "      <th>max</th>\n",
       "      <td>77.000000</td>\n",
       "      <td>1.000000</td>\n",
       "      <td>1.000000</td>\n",
       "      <td>190.110000</td>\n",
       "      <td>1.000000</td>\n",
       "      <td>563.000000</td>\n",
       "      <td>394.000000</td>\n",
       "      <td>22.900000</td>\n",
       "      <td>146.000000</td>\n",
       "      <td>5.300000</td>\n",
       "      <td>112.000000</td>\n",
       "      <td>4289.000000</td>\n",
       "      <td>505.000000</td>\n",
       "      <td>154.000000</td>\n",
       "      <td>19590.000000</td>\n",
       "      <td>6.980000</td>\n",
       "      <td>18.000000</td>\n",
       "      <td>0.540000</td>\n",
       "      <td>96.000000</td>\n",
       "      <td>33.000000</td>\n",
       "      <td>0.390000</td>\n",
       "      <td>459000.000000</td>\n",
       "      <td>83.000000</td>\n",
       "      <td>0.540000</td>\n",
       "      <td>0.080000</td>\n",
       "      <td>5.000000</td>\n",
       "      <td>4.000000</td>\n",
       "      <td>200.000000</td>\n",
       "      <td>409.000000</td>\n",
       "      <td>1.000000</td>\n",
       "      <td>2.000000</td>\n",
       "      <td>195.000000</td>\n",
       "      <td>1.000000</td>\n",
       "      <td>6.200000</td>\n",
       "      <td>3.000000</td>\n",
       "      <td>3.000000</td>\n",
       "      <td>7.000000</td>\n",
       "      <td>4.000000</td>\n",
       "      <td>1.000000</td>\n",
       "      <td>1.000000</td>\n",
       "      <td>1.000000</td>\n",
       "      <td>60.000000</td>\n",
       "    </tr>\n",
       "  </tbody>\n",
       "</table>\n",
       "</div>"
      ],
      "text/plain": [
       "              Age    FHistory    Diabetes          BP  Thrombolysis  \\\n",
       "count  154.000000  154.000000  154.000000  154.000000    154.000000   \n",
       "mean    55.772727    0.194805    0.409091  118.165779      0.051948   \n",
       "std      9.036978    0.397343    0.493270   23.459274      0.222646   \n",
       "min     24.000000    0.000000    0.000000   80.500000      0.000000   \n",
       "25%     52.000000    0.000000    0.000000  100.625000      0.000000   \n",
       "50%     57.000000    0.000000    0.000000  120.700000      0.000000   \n",
       "75%     61.000000    0.000000    1.000000  130.800000      0.000000   \n",
       "max     77.000000    1.000000    1.000000  190.110000      1.000000   \n",
       "\n",
       "              BGR       BUrea         SCr     SSodium  SPotassium   SChloride  \\\n",
       "count  154.000000  154.000000  154.000000  154.000000  154.000000  154.000000   \n",
       "mean   227.948052   47.135714    1.490000  137.987013    4.194805  103.461039   \n",
       "std    141.137804   54.496293    3.079576    3.993437    0.369559    4.628885   \n",
       "min     60.000000    2.300000    0.600000  129.000000    3.300000   90.000000   \n",
       "25%    127.000000   28.000000    0.800000  135.000000    3.900000  100.000000   \n",
       "50%    165.000000   35.500000    0.900000  138.000000    4.200000  104.000000   \n",
       "75%    320.000000   42.000000    1.080000  140.750000    4.400000  106.000000   \n",
       "max    563.000000  394.000000   22.900000  146.000000    5.300000  112.000000   \n",
       "\n",
       "               CPK        CKMB         ESR           WBC         RBC  \\\n",
       "count   154.000000  154.000000  154.000000    154.000000  154.000000   \n",
       "mean    637.694805   69.396104   25.720779  11171.363636    5.115325   \n",
       "std    1085.768192  100.175233   28.377358   3360.261441    0.775705   \n",
       "min      52.000000   14.000000    5.000000   5800.000000    3.460000   \n",
       "25%     131.250000   22.000000   11.000000   7900.000000    4.410000   \n",
       "50%     192.000000   39.000000   16.000000  10400.000000    5.230000   \n",
       "75%     446.000000   52.000000   27.000000  13800.000000    5.650000   \n",
       "max    4289.000000  505.000000  154.000000  19590.000000    6.980000   \n",
       "\n",
       "       Hemoglobin         PCV         MCV         MCH        MCHC  \\\n",
       "count  154.000000  154.000000  154.000000  154.000000  154.000000   \n",
       "mean    13.840260    0.417208   81.033766   27.059740    0.326753   \n",
       "std      2.162319    0.065744    7.304875    3.330735    0.027839   \n",
       "min      9.100000    0.290000   60.000000   18.000000    0.220000   \n",
       "25%     12.300000    0.360000   78.000000   25.000000    0.320000   \n",
       "50%     14.100000    0.420000   82.100000   27.800000    0.330000   \n",
       "75%     15.500000    0.460000   86.000000   29.000000    0.340000   \n",
       "max     18.000000    0.540000   96.000000   33.000000    0.390000   \n",
       "\n",
       "       PLATELET_COUNT  NEUTROPHIL      LYMPHO    MONOCYTE      EOSINO  \\\n",
       "count      154.000000  154.000000  154.000000  154.000000  154.000000   \n",
       "mean    245792.207792    2.294286    0.249026    0.033117    2.214286   \n",
       "std      78208.509251   11.413506    0.117366    0.015946    0.877938   \n",
       "min      20000.000000    0.360000    0.050000    0.010000    1.000000   \n",
       "25%     187000.000000    0.600000    0.170000    0.020000    2.000000   \n",
       "50%     237000.000000    0.720000    0.210000    0.030000    2.000000   \n",
       "75%     284000.000000    0.797500    0.320000    0.040000    3.000000   \n",
       "max     459000.000000   83.000000    0.540000    0.080000    5.000000   \n",
       "\n",
       "               cp    trestbps        chol         fbs     restecg     thalach  \\\n",
       "count  154.000000  154.000000  154.000000  154.000000  154.000000  154.000000   \n",
       "mean     3.590909  133.396104  249.448052    0.149351    1.162338  139.993506   \n",
       "std      0.844928   18.592788   49.913133    0.357597    0.980001   22.523915   \n",
       "min      1.000000  100.000000  131.000000    0.000000    0.000000   71.000000   \n",
       "25%      4.000000  120.000000  213.000000    0.000000    0.000000  125.000000   \n",
       "50%      4.000000  130.000000  248.500000    0.000000    2.000000  142.000000   \n",
       "75%      4.000000  143.500000  283.000000    0.000000    2.000000  156.750000   \n",
       "max      4.000000  200.000000  409.000000    1.000000    2.000000  195.000000   \n",
       "\n",
       "            exang     oldpeak       slope          ca        thal         num  \\\n",
       "count  154.000000  154.000000  154.000000  154.000000  154.000000  154.000000   \n",
       "mean     0.551948    1.531169    1.818182    1.051948    5.896104    2.032468   \n",
       "std      0.498917    1.300403    0.565391    1.027671    1.715629    1.012464   \n",
       "min      0.000000    0.000000    1.000000    0.000000    3.000000    1.000000   \n",
       "25%      0.000000    0.225000    1.000000    0.000000    3.750000    1.000000   \n",
       "50%      1.000000    1.400000    2.000000    1.000000    7.000000    2.000000   \n",
       "75%      1.000000    2.475000    2.000000    2.000000    7.000000    3.000000   \n",
       "max      1.000000    6.200000    3.000000    3.000000    7.000000    4.000000   \n",
       "\n",
       "               SK    Reaction   Mortality    FollowUp  \n",
       "count  154.000000  154.000000  154.000000  154.000000  \n",
       "mean     0.974026    0.759740    0.175325   28.902597  \n",
       "std      0.159577    0.428635    0.381485   16.567457  \n",
       "min      0.000000    0.000000    0.000000    1.000000  \n",
       "25%      1.000000    1.000000    0.000000   15.000000  \n",
       "50%      1.000000    1.000000    0.000000   32.000000  \n",
       "75%      1.000000    1.000000    0.000000   36.000000  \n",
       "max      1.000000    1.000000    1.000000   60.000000  "
      ]
     },
     "execution_count": 11,
     "metadata": {},
     "output_type": "execute_result"
    }
   ],
   "source": [
    "df.describe() # now that duplicates are gone, let's see how our data looks"
   ]
  },
  {
   "cell_type": "code",
   "execution_count": 12,
   "id": "86dbb7ab-ebe0-4486-a67b-c640384bf9df",
   "metadata": {},
   "outputs": [],
   "source": [
    "def outliers(dataframe, column):\n",
    "    outliers = []\n",
    "    q1 = np.percentile(sorted(dataframe[column]), 25)\n",
    "    q3 = np.percentile(sorted(dataframe[column]), 75)\n",
    "    IQR = q3 - q1\n",
    "    lwr_bound = q1 - (1.5 * IQR)\n",
    "    upr_bound = q3 + (1.5 * IQR)\n",
    "    for i in sorted(dataframe[column]): \n",
    "        if (i < lwr_bound or i > upr_bound):\n",
    "            outliers.append(i)\n",
    "    return outliers, lwr_bound, upr_bound"
   ]
  },
  {
   "cell_type": "code",
   "execution_count": 13,
   "id": "6a68faea-18e3-4a5b-8175-98ee56103f1d",
   "metadata": {},
   "outputs": [
    {
     "name": "stdout",
     "output_type": "stream",
     "text": [
      "dict_keys(['Age', 'FHistory', 'BP', 'Thrombolysis', 'BUrea', 'SCr', 'SPotassium', 'SChloride', 'CPK', 'CKMB', 'ESR', 'MCV', 'MCH', 'MCHC', 'PLATELET_COUNT', 'NEUTROPHIL', 'MONOCYTE', 'EOSINO', 'cp', 'trestbps', 'chol', 'fbs', 'thalach', 'oldpeak', 'SK', 'Reaction', 'Mortality'])\n"
     ]
    }
   ],
   "source": [
    "# let's see how do the outliers look\n",
    "numeric_columns = df.select_dtypes(include=['int64', 'float64']).columns.tolist()\n",
    "outlier_dict = {}\n",
    "\n",
    "for c in numeric_columns:\n",
    "    empty = []\n",
    "    outlier = outliers(df, c)[0]\n",
    "    if outlier != empty:\n",
    "        outlier_dict[c] = outliers(df, c), len(outliers(df, c)[0])\n",
    "        \n",
    "print(outlier_dict.keys())"
   ]
  },
  {
   "cell_type": "markdown",
   "id": "8b33181a-6ce8-4c11-aad8-6baa5d660492",
   "metadata": {},
   "source": [
    "For the rest analysis, I will generate a file using Pandas Profiling, to not prolong this notebook."
   ]
  },
  {
   "cell_type": "code",
   "execution_count": 113,
   "id": "2644fd80-b2ed-40ab-a374-f3e9759c5509",
   "metadata": {},
   "outputs": [
    {
     "data": {
      "application/vnd.jupyter.widget-view+json": {
       "model_id": "2dcaa929666b46579b6ae9d6fa5fdf8b",
       "version_major": 2,
       "version_minor": 0
      },
      "text/plain": [
       "Summarize dataset:   0%|          | 0/5 [00:00<?, ?it/s]"
      ]
     },
     "metadata": {},
     "output_type": "display_data"
    },
    {
     "data": {
      "application/vnd.jupyter.widget-view+json": {
       "model_id": "012f2c71025d43cab47fb3b7ecf3d3a7",
       "version_major": 2,
       "version_minor": 0
      },
      "text/plain": [
       "Generate report structure:   0%|          | 0/1 [00:00<?, ?it/s]"
      ]
     },
     "metadata": {},
     "output_type": "display_data"
    },
    {
     "data": {
      "application/vnd.jupyter.widget-view+json": {
       "model_id": "ba3e6509efcc4602b5154675a873f85d",
       "version_major": 2,
       "version_minor": 0
      },
      "text/plain": [
       "Render HTML:   0%|          | 0/1 [00:00<?, ?it/s]"
      ]
     },
     "metadata": {},
     "output_type": "display_data"
    },
    {
     "data": {
      "application/vnd.jupyter.widget-view+json": {
       "model_id": "f5cc7e4c0b644003906c99bb96b04f37",
       "version_major": 2,
       "version_minor": 0
      },
      "text/plain": [
       "Export report to file:   0%|          | 0/1 [00:00<?, ?it/s]"
      ]
     },
     "metadata": {},
     "output_type": "display_data"
    }
   ],
   "source": [
    "profile = ProfileReport(df, title='Heart Failures Profiling')\n",
    "profile.to_file(output_file='heart_failure_profiling.html')"
   ]
  },
  {
   "cell_type": "markdown",
   "id": "605c6923-4650-4d26-bc63-649e00a0ec87",
   "metadata": {},
   "source": [
    "It seems there is a bit of outliers, but this should be examined by a medical professional.\n",
    "In my unprofessional opinion with help from google, all of those should slide, since these are possible to be observed. Some of these, especially really high or really low values might be correlated with the mortality of the heart failure. Also in some cases, like Mortality, majority of the results is `0`, which suggest the death of the patients, therefore any that are `1`, in other words alive, are the outliers.\n",
    "## Hypothesis testing\n",
    "Before we move on with hypothesis testing, it's best to clean up some of the columns in the dataset, so that the messiness does not affect the outcome."
   ]
  },
  {
   "cell_type": "code",
   "execution_count": 15,
   "id": "5eadd2ae-b814-454d-9de6-c30693d07e76",
   "metadata": {
    "tags": []
   },
   "outputs": [
    {
     "name": "stderr",
     "output_type": "stream",
     "text": [
      "/var/folders/71/prqs97ps2_lg_s37pr_lsd1h0000gn/T/ipykernel_40469/20299159.py:3: FutureWarning: The default value of regex will change from True to False in a future version.\n",
      "  .str.replace(r'central|chest pain,|day|to|hr|for|from|chest pain', '') \\\n"
     ]
    }
   ],
   "source": [
    "# Feature CO is very messy and all of the patients experience chest pain, so it can be removed\n",
    "df['CO'] = df['CO'].str.lower() \\\n",
    "                   .str.replace(r'central|chest pain,|day|to|hr|for|from|chest pain', '') \\\n",
    "                   .str.strip()\n",
    "\n",
    "# and filling in the empty spaces\n",
    "df['CO'].replace('', 'none', inplace=True)"
   ]
  },
  {
   "cell_type": "code",
   "execution_count": 16,
   "id": "b338c89f-2f1f-4bfb-b484-5af21aa04cc0",
   "metadata": {},
   "outputs": [],
   "source": [
    "# others column is also messy and requires clean up\n",
    "df['Others'] = df['Others'].replace(r',\\s*|,', ', ', regex=True)"
   ]
  },
  {
   "cell_type": "code",
   "execution_count": 17,
   "id": "16ae9a81-e410-4314-8579-88a907a9bd13",
   "metadata": {},
   "outputs": [],
   "source": [
    "df['SKReact'] = df['SKReact'].str.lower() \\\n",
    "                             .str.strip()"
   ]
  },
  {
   "cell_type": "markdown",
   "id": "48ff97d6-c2ac-4eb7-995c-c171e8fbc2a2",
   "metadata": {},
   "source": [
    "When it comes to `Diagnosis`, I do not understand a letter in here. \n",
    "At work, I would ask someone with medical background to group these. Since I am doing this alone, I asked ChatGPT to group these and it distinuished a 5 types:\n",
    "- myocardial infarctions (MI)\n",
    "- NSTEMI (Atypical ST elevation during infarction)\n",
    "- STEMI (ST elevation during infarction)\n",
    "- other types of heart attacks\n",
    "- other diagnosis (not cardiac arrest)  \n",
    "\n",
    "Most of these are cardiac arrests, but in medical aspects are slighly different. "
   ]
  },
  {
   "cell_type": "code",
   "execution_count": 18,
   "id": "5a8e064f-a9f1-4409-ae5c-44e626d0ca4a",
   "metadata": {},
   "outputs": [],
   "source": [
    "# Let's group it\n",
    "for diagnosis in df['Diagnosis'].unique():\n",
    "    if \"M.I\" in diagnosis or \"ACUTE\" in diagnosis:\n",
    "        # myocardial infarctions (MI)\n",
    "        df.loc[df['Diagnosis'] == diagnosis, 'Diagnosis'] = 'MI'\n",
    "    elif \"NSTEMI\" in diagnosis:\n",
    "        # NSTEMI (Atypical ST elevation during infarction)\n",
    "        df.loc[df['Diagnosis'] == diagnosis, 'Diagnosis'] = 'NSTEMI'\n",
    "    elif \"STEMI\" in diagnosis:\n",
    "        # STEMI (ST elevation during infarction)\n",
    "        df.loc[df['Diagnosis'] == diagnosis, 'Diagnosis'] = 'STEMI'\n",
    "    elif \"CARDIOGENIC\" in diagnosis or \"MR\" in diagnosis or \"LBBB\" in diagnosis:\n",
    "        # other diagnosis (not cardiac arrest)\n",
    "        df.loc[df['Diagnosis'] == diagnosis, 'Diagnosis'] = 'OTHER'\n",
    "    else:\n",
    "        # other types of heart attacks\n",
    "        df.loc[df['Diagnosis'] == diagnosis, 'Diagnosis'] = 'OTHER MI'"
   ]
  },
  {
   "cell_type": "markdown",
   "id": "6ee73946-54eb-44e7-be7e-aeb0205ad84b",
   "metadata": {},
   "source": [
    "### Defining the hipothesis\n",
    "In this study, I will compare each column, one by one with Mortality, to determine, which of the data could give us more insight, on what really differenciates the individuals who survived their heart failure from those who did not. \n",
    "\n",
    "To begin, let's state our hipothesis:\n",
    "\n",
    "$H_{0}$ = There is no statistically significant difference between Mortality and other column.\n",
    "\n",
    "$H_{a}$ = There is a statistically significant difference between Mortality and other column.\n",
    "\n",
    "We will keep only the columns that reject the $H_{0}$, as those are the ones that most significantly affect the Mortality (at least, statistically and within our data). \n",
    "\n",
    "In this case, we are interested in a two-tailed tests, since we do not really care if each specific means are greater or lower from each other, but if they are significantly different.\n",
    "\n",
    "Upon earlier trials and errors, I decided that the significance level should be **0.1**, and therefore the confidence interval will be **90%**. Although in medical data we would rather aim at the greatest possible confidence interval to call a model successful, however this is also not the end of modeling.  \n",
    "\n",
    "For categorical data, we will conduct a chi-square test, to determine how different the spread is in those cases for mortality, and for numeric columns we will conduct a standard t-test."
   ]
  },
  {
   "cell_type": "code",
   "execution_count": 19,
   "id": "ea240e8e-fe26-4700-9a49-97b5ed1f22ec",
   "metadata": {},
   "outputs": [],
   "source": [
    "categorical_columns = df.select_dtypes(include=['object']).columns.tolist()\n",
    "\n",
    "# numeric columns were already created, but we need to remove the target\n",
    "numeric_columns.remove('Mortality')"
   ]
  },
  {
   "cell_type": "code",
   "execution_count": 20,
   "id": "61c0ceda-d7fe-41e2-b749-ceb5ed8f505e",
   "metadata": {},
   "outputs": [],
   "source": [
    "# let's define our chi_square test and t_test for faster processing\n",
    "def chi_square_test(dataframe, binary_column, categorical_column):\n",
    "    contingency_table = pd.crosstab(dataframe[binary_column], dataframe[categorical_column])\n",
    "    hi2_stat, p_value, dof, expected = chi2_contingency(contingency_table)\n",
    "    return p_value\n",
    "\n",
    "\n",
    "def t_test(dataframe, binary_column, numeric_column):\n",
    "    group0 = dataframe[dataframe[binary_column] == 0][numeric_column]\n",
    "    group1 = dataframe[dataframe[binary_column] == 1][numeric_column]\n",
    "\n",
    "    statistic, p_value = ttest_ind(group0, group1)\n",
    "\n",
    "    return p_value"
   ]
  },
  {
   "cell_type": "code",
   "execution_count": 21,
   "id": "af16aa17-a8b6-4878-b644-a490c6bd09ef",
   "metadata": {
    "tags": []
   },
   "outputs": [
    {
     "name": "stderr",
     "output_type": "stream",
     "text": [
      "/var/folders/71/prqs97ps2_lg_s37pr_lsd1h0000gn/T/ipykernel_40469/1165978355.py:12: RuntimeWarning: Precision loss occurred in moment calculation due to catastrophic cancellation. This occurs when the data are nearly identical. Results may be unreliable.\n",
      "  statistic, p_value = ttest_ind(group0, group1)\n"
     ]
    }
   ],
   "source": [
    "significant_columns = [] #list of significant columns\n",
    "\n",
    "alpha = 0.1 # significance level\n",
    "\n",
    "for column in categorical_columns:\n",
    "    p_value = chi_square_test(df, 'Mortality', column)\n",
    "    if p_value <= alpha:\n",
    "        significant_columns.append(column)\n",
    "\n",
    "pvalues = []\n",
    "for column in numeric_columns:\n",
    "    p_value = t_test(df, 'Mortality', column)\n",
    "    if p_value <= alpha:\n",
    "        significant_columns.append(column)\n",
    "        pvalues.append([column, p_value])"
   ]
  },
  {
   "cell_type": "code",
   "execution_count": 22,
   "id": "303106f3-b4a2-497b-8247-95e32d21b150",
   "metadata": {},
   "outputs": [
    {
     "data": {
      "text/plain": [
       "['AgeGroup',\n",
       " 'Gender',\n",
       " 'Smoking',\n",
       " 'HTN',\n",
       " 'Others',\n",
       " 'SKReact',\n",
       " 'Age',\n",
       " 'FHistory',\n",
       " 'Diabetes',\n",
       " 'WBC',\n",
       " 'oldpeak',\n",
       " 'ca',\n",
       " 'Reaction',\n",
       " 'FollowUp']"
      ]
     },
     "execution_count": 22,
     "metadata": {},
     "output_type": "execute_result"
    }
   ],
   "source": [
    "significant_columns"
   ]
  },
  {
   "cell_type": "markdown",
   "id": "e47de230-1002-48ed-a229-a912f8919388",
   "metadata": {},
   "source": [
    "Now with `significant_columns` in mind, we understand, that these features are the most different ones between alive and dead patients (at least - statistically). Our confidence interval in it is 90%.\n",
    "\n",
    "### Data preparation and encoding\n",
    "For any further analysis we need to encode all categorical data."
   ]
  },
  {
   "cell_type": "code",
   "execution_count": 23,
   "id": "aa5e661c-85aa-4047-855a-8ace84025a46",
   "metadata": {},
   "outputs": [
    {
     "data": {
      "text/html": [
       "<div>\n",
       "<style scoped>\n",
       "    .dataframe tbody tr th:only-of-type {\n",
       "        vertical-align: middle;\n",
       "    }\n",
       "\n",
       "    .dataframe tbody tr th {\n",
       "        vertical-align: top;\n",
       "    }\n",
       "\n",
       "    .dataframe thead th {\n",
       "        text-align: right;\n",
       "    }\n",
       "</style>\n",
       "<table border=\"1\" class=\"dataframe\">\n",
       "  <thead>\n",
       "    <tr style=\"text-align: right;\">\n",
       "      <th></th>\n",
       "      <th>AgeGroup</th>\n",
       "      <th>Gender</th>\n",
       "      <th>Smoking</th>\n",
       "      <th>HTN</th>\n",
       "      <th>Others</th>\n",
       "      <th>SKReact</th>\n",
       "      <th>Age</th>\n",
       "      <th>FHistory</th>\n",
       "      <th>Diabetes</th>\n",
       "      <th>WBC</th>\n",
       "      <th>oldpeak</th>\n",
       "      <th>ca</th>\n",
       "      <th>Reaction</th>\n",
       "      <th>FollowUp</th>\n",
       "      <th>Mortality</th>\n",
       "    </tr>\n",
       "  </thead>\n",
       "  <tbody>\n",
       "    <tr>\n",
       "      <th>25</th>\n",
       "      <td>21-30</td>\n",
       "      <td>Male</td>\n",
       "      <td>NO</td>\n",
       "      <td>NO</td>\n",
       "      <td>no</td>\n",
       "      <td>cough.bleeding</td>\n",
       "      <td>24</td>\n",
       "      <td>0</td>\n",
       "      <td>0</td>\n",
       "      <td>7800</td>\n",
       "      <td>1.6</td>\n",
       "      <td>0</td>\n",
       "      <td>1</td>\n",
       "      <td>5</td>\n",
       "      <td>0</td>\n",
       "    </tr>\n",
       "    <tr>\n",
       "      <th>139</th>\n",
       "      <td>21-30</td>\n",
       "      <td>Female</td>\n",
       "      <td>NO</td>\n",
       "      <td>YES</td>\n",
       "      <td>no</td>\n",
       "      <td>no</td>\n",
       "      <td>24</td>\n",
       "      <td>0</td>\n",
       "      <td>1</td>\n",
       "      <td>10900</td>\n",
       "      <td>1.6</td>\n",
       "      <td>0</td>\n",
       "      <td>0</td>\n",
       "      <td>1</td>\n",
       "      <td>0</td>\n",
       "    </tr>\n",
       "    <tr>\n",
       "      <th>26</th>\n",
       "      <td>21-30</td>\n",
       "      <td>Male</td>\n",
       "      <td>YES</td>\n",
       "      <td>NO</td>\n",
       "      <td>no</td>\n",
       "      <td>skin.bleeding</td>\n",
       "      <td>25</td>\n",
       "      <td>1</td>\n",
       "      <td>0</td>\n",
       "      <td>6200</td>\n",
       "      <td>0.0</td>\n",
       "      <td>0</td>\n",
       "      <td>1</td>\n",
       "      <td>36</td>\n",
       "      <td>0</td>\n",
       "    </tr>\n",
       "    <tr>\n",
       "      <th>140</th>\n",
       "      <td>21-30</td>\n",
       "      <td>Male</td>\n",
       "      <td>YES</td>\n",
       "      <td>NO</td>\n",
       "      <td>PULMONARY ODEMA</td>\n",
       "      <td>no</td>\n",
       "      <td>25</td>\n",
       "      <td>0</td>\n",
       "      <td>0</td>\n",
       "      <td>7600</td>\n",
       "      <td>0.0</td>\n",
       "      <td>0</td>\n",
       "      <td>0</td>\n",
       "      <td>4</td>\n",
       "      <td>0</td>\n",
       "    </tr>\n",
       "    <tr>\n",
       "      <th>27</th>\n",
       "      <td>31-40</td>\n",
       "      <td>Male</td>\n",
       "      <td>NO</td>\n",
       "      <td>YES</td>\n",
       "      <td>IHD, SOB</td>\n",
       "      <td>lungs</td>\n",
       "      <td>35</td>\n",
       "      <td>1</td>\n",
       "      <td>0</td>\n",
       "      <td>12200</td>\n",
       "      <td>3.8</td>\n",
       "      <td>0</td>\n",
       "      <td>1</td>\n",
       "      <td>32</td>\n",
       "      <td>0</td>\n",
       "    </tr>\n",
       "  </tbody>\n",
       "</table>\n",
       "</div>"
      ],
      "text/plain": [
       "    AgeGroup  Gender Smoking  HTN            Others         SKReact  Age  \\\n",
       "25     21-30    Male      NO   NO                no  cough.bleeding   24   \n",
       "139    21-30  Female      NO  YES                no              no   24   \n",
       "26     21-30    Male     YES   NO                no   skin.bleeding   25   \n",
       "140    21-30    Male     YES   NO  PULMONARY ODEMA               no   25   \n",
       "27     31-40    Male      NO  YES          IHD, SOB           lungs   35   \n",
       "\n",
       "     FHistory  Diabetes    WBC  oldpeak  ca  Reaction  FollowUp  Mortality  \n",
       "25          0         0   7800      1.6   0         1         5          0  \n",
       "139         0         1  10900      1.6   0         0         1          0  \n",
       "26          1         0   6200      0.0   0         1        36          0  \n",
       "140         0         0   7600      0.0   0         0         4          0  \n",
       "27          1         0  12200      3.8   0         1        32          0  "
      ]
     },
     "execution_count": 23,
     "metadata": {},
     "output_type": "execute_result"
    }
   ],
   "source": [
    "# we cannot miss out target value\n",
    "significant_columns.append('Mortality')\n",
    "\n",
    "# since we want the age group to have good encoding, it will be best if we sort by 'Age'\n",
    "df = df[significant_columns].sort_values(by='Age')\n",
    "\n",
    "df.head()"
   ]
  },
  {
   "cell_type": "code",
   "execution_count": 24,
   "id": "5118be04-bbea-4542-94c7-c81ca1eb04d5",
   "metadata": {},
   "outputs": [],
   "source": [
    "binary_columns = ['Smoking', 'HTN']\n",
    "\n",
    "binary_map = {'NO': 0, 'YES': 1}\n",
    "\n",
    "label_enc_columns = ['AgeGroup', 'Gender', 'SKReact', 'Others']"
   ]
  },
  {
   "cell_type": "code",
   "execution_count": 25,
   "id": "9ffa42e4-c7be-4d55-b490-9510707400cd",
   "metadata": {},
   "outputs": [],
   "source": [
    "# encoding binary columns\n",
    "df[binary_columns] = df[binary_columns].replace(binary_map)"
   ]
  },
  {
   "cell_type": "code",
   "execution_count": 26,
   "id": "c868fb14-eaed-4d09-bbb3-0ac6d3ee348a",
   "metadata": {},
   "outputs": [],
   "source": [
    "labeler = LabelEncoder() # here we do not need to define anything inside\n",
    "labels_dict = {} # for the future reference\n",
    "\n",
    "for column in label_enc_columns:\n",
    "    df[column] = labeler.fit_transform(df[column])\n",
    "    if column not in labels_dict.keys():\n",
    "        labels_dict[column] = dict(zip(labeler.transform(labeler.classes_), labeler.classes_))\n",
    "        \n",
    "with open('data/labeler.pkl', 'wb') as f:\n",
    "    pickle.dump((labels_dict), f)"
   ]
  },
  {
   "cell_type": "code",
   "execution_count": 27,
   "id": "f49011ba-5e53-4095-9bcd-97a974efc45b",
   "metadata": {},
   "outputs": [
    {
     "data": {
      "text/html": [
       "<div>\n",
       "<style scoped>\n",
       "    .dataframe tbody tr th:only-of-type {\n",
       "        vertical-align: middle;\n",
       "    }\n",
       "\n",
       "    .dataframe tbody tr th {\n",
       "        vertical-align: top;\n",
       "    }\n",
       "\n",
       "    .dataframe thead th {\n",
       "        text-align: right;\n",
       "    }\n",
       "</style>\n",
       "<table border=\"1\" class=\"dataframe\">\n",
       "  <thead>\n",
       "    <tr style=\"text-align: right;\">\n",
       "      <th></th>\n",
       "      <th>AgeGroup</th>\n",
       "      <th>Gender</th>\n",
       "      <th>Smoking</th>\n",
       "      <th>HTN</th>\n",
       "      <th>Others</th>\n",
       "      <th>SKReact</th>\n",
       "      <th>Age</th>\n",
       "      <th>FHistory</th>\n",
       "      <th>Diabetes</th>\n",
       "      <th>WBC</th>\n",
       "      <th>oldpeak</th>\n",
       "      <th>ca</th>\n",
       "      <th>Reaction</th>\n",
       "      <th>FollowUp</th>\n",
       "      <th>Mortality</th>\n",
       "    </tr>\n",
       "  </thead>\n",
       "  <tbody>\n",
       "    <tr>\n",
       "      <th>0</th>\n",
       "      <td>2</td>\n",
       "      <td>0</td>\n",
       "      <td>0</td>\n",
       "      <td>0</td>\n",
       "      <td>16</td>\n",
       "      <td>4</td>\n",
       "      <td>45</td>\n",
       "      <td>0</td>\n",
       "      <td>1</td>\n",
       "      <td>9900</td>\n",
       "      <td>3.0</td>\n",
       "      <td>0</td>\n",
       "      <td>0</td>\n",
       "      <td>60</td>\n",
       "      <td>0</td>\n",
       "    </tr>\n",
       "    <tr>\n",
       "      <th>1</th>\n",
       "      <td>3</td>\n",
       "      <td>0</td>\n",
       "      <td>0</td>\n",
       "      <td>0</td>\n",
       "      <td>16</td>\n",
       "      <td>4</td>\n",
       "      <td>51</td>\n",
       "      <td>0</td>\n",
       "      <td>0</td>\n",
       "      <td>15800</td>\n",
       "      <td>1.2</td>\n",
       "      <td>0</td>\n",
       "      <td>0</td>\n",
       "      <td>15</td>\n",
       "      <td>0</td>\n",
       "    </tr>\n",
       "    <tr>\n",
       "      <th>2</th>\n",
       "      <td>3</td>\n",
       "      <td>0</td>\n",
       "      <td>0</td>\n",
       "      <td>1</td>\n",
       "      <td>11</td>\n",
       "      <td>4</td>\n",
       "      <td>55</td>\n",
       "      <td>0</td>\n",
       "      <td>1</td>\n",
       "      <td>7900</td>\n",
       "      <td>3.4</td>\n",
       "      <td>0</td>\n",
       "      <td>0</td>\n",
       "      <td>6</td>\n",
       "      <td>0</td>\n",
       "    </tr>\n",
       "    <tr>\n",
       "      <th>3</th>\n",
       "      <td>3</td>\n",
       "      <td>0</td>\n",
       "      <td>0</td>\n",
       "      <td>1</td>\n",
       "      <td>5</td>\n",
       "      <td>4</td>\n",
       "      <td>55</td>\n",
       "      <td>0</td>\n",
       "      <td>1</td>\n",
       "      <td>7900</td>\n",
       "      <td>2.0</td>\n",
       "      <td>1</td>\n",
       "      <td>0</td>\n",
       "      <td>52</td>\n",
       "      <td>0</td>\n",
       "    </tr>\n",
       "    <tr>\n",
       "      <th>4</th>\n",
       "      <td>3</td>\n",
       "      <td>0</td>\n",
       "      <td>0</td>\n",
       "      <td>1</td>\n",
       "      <td>16</td>\n",
       "      <td>4</td>\n",
       "      <td>56</td>\n",
       "      <td>0</td>\n",
       "      <td>1</td>\n",
       "      <td>6900</td>\n",
       "      <td>4.0</td>\n",
       "      <td>2</td>\n",
       "      <td>0</td>\n",
       "      <td>34</td>\n",
       "      <td>0</td>\n",
       "    </tr>\n",
       "  </tbody>\n",
       "</table>\n",
       "</div>"
      ],
      "text/plain": [
       "   AgeGroup  Gender  Smoking  HTN  Others  SKReact  Age  FHistory  Diabetes  \\\n",
       "0         2       0        0    0      16        4   45         0         1   \n",
       "1         3       0        0    0      16        4   51         0         0   \n",
       "2         3       0        0    1      11        4   55         0         1   \n",
       "3         3       0        0    1       5        4   55         0         1   \n",
       "4         3       0        0    1      16        4   56         0         1   \n",
       "\n",
       "     WBC  oldpeak  ca  Reaction  FollowUp  Mortality  \n",
       "0   9900      3.0   0         0        60          0  \n",
       "1  15800      1.2   0         0        15          0  \n",
       "2   7900      3.4   0         0         6          0  \n",
       "3   7900      2.0   1         0        52          0  \n",
       "4   6900      4.0   2         0        34          0  "
      ]
     },
     "execution_count": 27,
     "metadata": {},
     "output_type": "execute_result"
    }
   ],
   "source": [
    "# so we keep it originally sorted\n",
    "df = df.sort_index()\n",
    "df.head()"
   ]
  },
  {
   "cell_type": "markdown",
   "id": "1d257087-8180-4171-90ed-ef381ede3bc2",
   "metadata": {},
   "source": [
    "## Principal components analysis"
   ]
  },
  {
   "cell_type": "code",
   "execution_count": 28,
   "id": "627f3e7d-a9ae-4ec6-b6a1-98b95dbc0eab",
   "metadata": {},
   "outputs": [],
   "source": [
    "# for PCA we need to scale and center our data\n",
    "scaler = StandardScaler()\n",
    "\n",
    "# copying so not to scale all data at once\n",
    "dff = df.copy() \n",
    "\n",
    "# transformation\n",
    "dff = scaler.fit_transform(dff) "
   ]
  },
  {
   "cell_type": "code",
   "execution_count": 29,
   "id": "f5dd8a2f-f53f-498a-b4d1-52ad2cd1228d",
   "metadata": {},
   "outputs": [
    {
     "data": {
      "text/html": [
       "<style>#sk-container-id-1 {color: black;background-color: white;}#sk-container-id-1 pre{padding: 0;}#sk-container-id-1 div.sk-toggleable {background-color: white;}#sk-container-id-1 label.sk-toggleable__label {cursor: pointer;display: block;width: 100%;margin-bottom: 0;padding: 0.3em;box-sizing: border-box;text-align: center;}#sk-container-id-1 label.sk-toggleable__label-arrow:before {content: \"▸\";float: left;margin-right: 0.25em;color: #696969;}#sk-container-id-1 label.sk-toggleable__label-arrow:hover:before {color: black;}#sk-container-id-1 div.sk-estimator:hover label.sk-toggleable__label-arrow:before {color: black;}#sk-container-id-1 div.sk-toggleable__content {max-height: 0;max-width: 0;overflow: hidden;text-align: left;background-color: #f0f8ff;}#sk-container-id-1 div.sk-toggleable__content pre {margin: 0.2em;color: black;border-radius: 0.25em;background-color: #f0f8ff;}#sk-container-id-1 input.sk-toggleable__control:checked~div.sk-toggleable__content {max-height: 200px;max-width: 100%;overflow: auto;}#sk-container-id-1 input.sk-toggleable__control:checked~label.sk-toggleable__label-arrow:before {content: \"▾\";}#sk-container-id-1 div.sk-estimator input.sk-toggleable__control:checked~label.sk-toggleable__label {background-color: #d4ebff;}#sk-container-id-1 div.sk-label input.sk-toggleable__control:checked~label.sk-toggleable__label {background-color: #d4ebff;}#sk-container-id-1 input.sk-hidden--visually {border: 0;clip: rect(1px 1px 1px 1px);clip: rect(1px, 1px, 1px, 1px);height: 1px;margin: -1px;overflow: hidden;padding: 0;position: absolute;width: 1px;}#sk-container-id-1 div.sk-estimator {font-family: monospace;background-color: #f0f8ff;border: 1px dotted black;border-radius: 0.25em;box-sizing: border-box;margin-bottom: 0.5em;}#sk-container-id-1 div.sk-estimator:hover {background-color: #d4ebff;}#sk-container-id-1 div.sk-parallel-item::after {content: \"\";width: 100%;border-bottom: 1px solid gray;flex-grow: 1;}#sk-container-id-1 div.sk-label:hover label.sk-toggleable__label {background-color: #d4ebff;}#sk-container-id-1 div.sk-serial::before {content: \"\";position: absolute;border-left: 1px solid gray;box-sizing: border-box;top: 0;bottom: 0;left: 50%;z-index: 0;}#sk-container-id-1 div.sk-serial {display: flex;flex-direction: column;align-items: center;background-color: white;padding-right: 0.2em;padding-left: 0.2em;position: relative;}#sk-container-id-1 div.sk-item {position: relative;z-index: 1;}#sk-container-id-1 div.sk-parallel {display: flex;align-items: stretch;justify-content: center;background-color: white;position: relative;}#sk-container-id-1 div.sk-item::before, #sk-container-id-1 div.sk-parallel-item::before {content: \"\";position: absolute;border-left: 1px solid gray;box-sizing: border-box;top: 0;bottom: 0;left: 50%;z-index: -1;}#sk-container-id-1 div.sk-parallel-item {display: flex;flex-direction: column;z-index: 1;position: relative;background-color: white;}#sk-container-id-1 div.sk-parallel-item:first-child::after {align-self: flex-end;width: 50%;}#sk-container-id-1 div.sk-parallel-item:last-child::after {align-self: flex-start;width: 50%;}#sk-container-id-1 div.sk-parallel-item:only-child::after {width: 0;}#sk-container-id-1 div.sk-dashed-wrapped {border: 1px dashed gray;margin: 0 0.4em 0.5em 0.4em;box-sizing: border-box;padding-bottom: 0.4em;background-color: white;}#sk-container-id-1 div.sk-label label {font-family: monospace;font-weight: bold;display: inline-block;line-height: 1.2em;}#sk-container-id-1 div.sk-label-container {text-align: center;}#sk-container-id-1 div.sk-container {/* jupyter's `normalize.less` sets `[hidden] { display: none; }` but bootstrap.min.css set `[hidden] { display: none !important; }` so we also need the `!important` here to be able to override the default hidden behavior on the sphinx rendered scikit-learn.org. See: https://github.com/scikit-learn/scikit-learn/issues/21755 */display: inline-block !important;position: relative;}#sk-container-id-1 div.sk-text-repr-fallback {display: none;}</style><div id=\"sk-container-id-1\" class=\"sk-top-container\"><div class=\"sk-text-repr-fallback\"><pre>PCA()</pre><b>In a Jupyter environment, please rerun this cell to show the HTML representation or trust the notebook. <br />On GitHub, the HTML representation is unable to render, please try loading this page with nbviewer.org.</b></div><div class=\"sk-container\" hidden><div class=\"sk-item\"><div class=\"sk-estimator sk-toggleable\"><input class=\"sk-toggleable__control sk-hidden--visually\" id=\"sk-estimator-id-1\" type=\"checkbox\" checked><label for=\"sk-estimator-id-1\" class=\"sk-toggleable__label sk-toggleable__label-arrow\">PCA</label><div class=\"sk-toggleable__content\"><pre>PCA()</pre></div></div></div></div></div>"
      ],
      "text/plain": [
       "PCA()"
      ]
     },
     "execution_count": 29,
     "metadata": {},
     "output_type": "execute_result"
    }
   ],
   "source": [
    "pca = PCA()\n",
    "pca.fit(dff)"
   ]
  },
  {
   "cell_type": "code",
   "execution_count": 30,
   "id": "7b0e2479-9ffb-4bc9-aee9-008a8f1ea190",
   "metadata": {},
   "outputs": [
    {
     "data": {
      "text/plain": [
       "array([0.20962193, 0.3685361 , 0.46969283, 0.55606332, 0.63310657,\n",
       "       0.69933036, 0.75616887, 0.8093511 , 0.85825972, 0.90093227,\n",
       "       0.93650735, 0.96308876, 0.98196473, 0.99194766, 1.        ])"
      ]
     },
     "execution_count": 30,
     "metadata": {},
     "output_type": "execute_result"
    }
   ],
   "source": [
    "threshold = 0.95\n",
    "\n",
    "cumulative_var = np.cumsum(pca.explained_variance_ratio_)\n",
    "cumulative_var"
   ]
  },
  {
   "cell_type": "code",
   "execution_count": 31,
   "id": "9e7ed704-ced3-4cb7-87a5-949a29791c11",
   "metadata": {},
   "outputs": [
    {
     "name": "stdout",
     "output_type": "stream",
     "text": [
      "The number of components explaining 95% of the variance: 11\n"
     ]
    }
   ],
   "source": [
    "components_number = np.argmax(cumulative_var > threshold)\n",
    "print(f'The number of components explaining {threshold:.0%} of the variance: {components_number}')"
   ]
  },
  {
   "cell_type": "code",
   "execution_count": 32,
   "id": "51d59121-3731-44d3-854b-11c2c735c27e",
   "metadata": {},
   "outputs": [
    {
     "name": "stdout",
     "output_type": "stream",
     "text": [
      "20.96% of the data variance has been preserved along the first principal component,\n",
      "15.89% of the data variance has been preserved along the second principal component, etc.\n"
     ]
    }
   ],
   "source": [
    "print(f'{pca.explained_variance_ratio_[0]:.2%} of the data variance has been preserved along the first principal component,')\n",
    "print(f'{pca.explained_variance_ratio_[1]:.2%} of the data variance has been preserved along the second principal component, etc.')"
   ]
  },
  {
   "cell_type": "code",
   "execution_count": 33,
   "id": "79888e85-7846-473f-ac2b-5be355b2472e",
   "metadata": {},
   "outputs": [
    {
     "data": {
      "image/png": "[encoded data removed]",
      "text/plain": [
       "<Figure size 1000x500 with 1 Axes>"
      ]
     },
     "metadata": {},
     "output_type": "display_data"
    }
   ],
   "source": [
    "plt.figure(figsize=[10,5])\n",
    "plt.title('Cumulative Explained Variance explained by the components')\n",
    "plt.ylabel('Cumulative Explained Variance')\n",
    "plt.xlabel('Number of components')\n",
    "plt.axvline(x=components_number, color=\"k\", linestyle=\"--\")\n",
    "plt.axhline(y=threshold, color=\"r\", linestyle=\"--\")\n",
    "plt.plot(cumulative_var, marker='o')\n",
    "plt.show()"
   ]
  },
  {
   "cell_type": "markdown",
   "id": "afc2523a-f6b4-4657-855f-bd44dec44b01",
   "metadata": {},
   "source": [
    "Based on the Principal Components Analysis we can conclude that statistically, we would get should get quite good reluts if we only take 11 features into consideration. \n",
    "\n",
    "However, since this dataset is already trimmed by a lot by using hypothesis testing, I will keep all the features when creating our model (or rather concoction of three models) and later decide if it could be trimmed further with feature importances. "
   ]
  },
  {
   "cell_type": "markdown",
   "id": "e052f858-518f-47e4-ae79-5c6fde0cb794",
   "metadata": {
    "jupyter": {
     "outputs_hidden": true
    },
    "tags": []
   },
   "source": [
    "Now with the data splitted into train and test subsets, we can move onto the modeling!\n",
    "\n",
    "## Model creation\n",
    "For this modeling I will test three models - RandomForest, XGBoost and CatBoost. All of these are less prone to overfitting and are much better on imbalanced data. \n",
    "\n",
    "### Metrics\n",
    "In evaluating the performance of the model, I will focus on several key metrics, each offering unique insights - accuracy, f1 score and roc score.\n",
    "\n",
    "**Accuracy** reveals the proportion of accurately classified records. It provides a broad understanding of the model's overall performance.\n",
    "\n",
    "**F1 score**, on the other hand, combines both precision and recall, offering a balanced assessment of the model's predictive power. It is particularly valuable when dealing with imbalanced datasets - just like the one I am working on.\n",
    "\n",
    "**ROC score** is another crucial metric. It evaluates the model's ability to distinguish between classes, making it vital for binary classification tasks. As with all these metrics - the higher the better.\n",
    "\n",
    "By examining these metrics, I can thoroughly evaluate the model's performance and make informed decisions about its effectiveness.\n",
    "\n",
    "### Other issues\n",
    "The data set is not evenly distributed, hence I will use `SMOTE` on the training and validating sets, to ensure that both outcome are well represented in training. Of course, the testing data will be only the original from the set."
   ]
  },
  {
   "cell_type": "code",
   "execution_count": 46,
   "id": "d56e82dc-1493-4bf8-a38c-0553287a125f",
   "metadata": {},
   "outputs": [],
   "source": [
    "# firstly let's create some useful functions\n",
    "\n",
    "def calculate_metrics(target, prediction, average='macro'):\n",
    "    '''\n",
    "    With this function we generate all metrics we want to check for classification problem\n",
    "    '''\n",
    "    accuracy = accuracy_score(target, prediction)\n",
    "    f1 = f1_score(target, prediction, average=average)\n",
    "    roc = roc_auc_score(target, prediction)\n",
    "    mislabeled = (target != prediction).sum()\n",
    "    total = len(target)\n",
    "    return accuracy, f1, roc, mislabeled, total\n",
    "\n",
    "def cross_val_metrics(dictionary, target, prediction):\n",
    "    '''\n",
    "    This function gathers all most important metrics in a cross validation\n",
    "    '''\n",
    "    dictionary['accuracy'].append(accuracy_score(target, prediction))\n",
    "    dictionary['f1 score'].append(f1_score(target, prediction))\n",
    "    dictionary['roc score'].append(roc_auc_score(target, prediction))\n",
    "    mean_accuracy = s.mean(dictionary['accuracy'])\n",
    "    mean_fscore = s.mean(dictionary['f1 score'])\n",
    "    mean_roc = s.mean(dictionary['roc score'])\n",
    "    print(f'Accuracy: {mean_accuracy}, F1 score: {mean_fscore}, ROC: {mean_roc}')\n",
    "    \n",
    "\n",
    "def print_results(metrics, classifier_id='classifier'):\n",
    "    '''\n",
    "    With this function we are printing all the metrics\n",
    "    '''\n",
    "    print(f'Results for {classifier_id}')\n",
    "    print('----')\n",
    "    print(f'  Accuracy:  {metrics[0]}')\n",
    "    print(f'  F1 score:  {metrics[1]}')\n",
    "    print(f'  ROC score: {metrics[2]}')\n",
    "    print(f'  Mislabeled {metrics[3]} out of {metrics[4]}')\n",
    "    \n",
    "    \n",
    "def get_binary_classes(y):\n",
    "    '''\n",
    "    With this function we print out the original proporions of 0 and 1 in the subset\n",
    "    '''\n",
    "    zeros = len([x for x in y if x == 0])\n",
    "    ones = len([x for x in y if x == 1])\n",
    "    print(f'Quantities are {zeros} for 0, {ones} for 1')\n",
    "    print('\\n')\n",
    "    \n",
    "def get_confusion_matrix(y, y_pred):\n",
    "    '''\n",
    "    This function returns a visualization of a confusion matrix\n",
    "    '''\n",
    "    fig, ax = plt.subplots(figsize=(3,3))\n",
    "    cm = confusion_matrix(y, y_pred)\n",
    "    ax = sns.heatmap(cm, annot = True, fmt = 'd')\n",
    "    plt.show()"
   ]
  },
  {
   "cell_type": "code",
   "execution_count": 35,
   "id": "5c511a34-1f80-482b-9efe-a4e997402832",
   "metadata": {},
   "outputs": [],
   "source": [
    "y = df.pop('Mortality')\n",
    "X = df"
   ]
  },
  {
   "cell_type": "code",
   "execution_count": 38,
   "id": "9165de06-3b53-4f26-9ed4-b56d36855ea1",
   "metadata": {},
   "outputs": [],
   "source": [
    "X_train, X_test, y_train, y_test = train_test_split(X, y,\n",
    "                                                    test_size=0.2,\n",
    "                                                    stratify=y,\n",
    "                                                    random_state=42\n",
    "                                                   )\n",
    "\n",
    "# to balance out the data, let's use SMOTE\n",
    "sm = SMOTE(random_state=42,\n",
    "           sampling_strategy='auto',\n",
    "           k_neighbors=4 \n",
    "          )\n",
    "\n",
    "X_train_sm, y_train_sm = sm.fit_resample(X_train, y_train)"
   ]
  },
  {
   "cell_type": "code",
   "execution_count": 47,
   "id": "ba234b03-86be-4341-a812-fef4d90b0aed",
   "metadata": {
    "tags": []
   },
   "outputs": [
    {
     "name": "stdout",
     "output_type": "stream",
     "text": [
      "Accuracy: 0.9024390243902439, F1 score: 0.9259259259259259, ROC: 0.875\n",
      "Accuracy: 0.9146341463414634, F1 score: 0.9245014245014245, ROC: 0.901614832535885\n",
      "Accuracy: 0.8930894308943089, F1 score: 0.9020485687152354, ROC: 0.8889553429027113\n",
      "Accuracy: 0.8948170731707317, F1 score: 0.9015364265364265, ROC: 0.8939892344497608\n",
      "Accuracy: 0.8808536585365854, F1 score: 0.8853317053317054, ROC: 0.883222078096893\n"
     ]
    }
   ],
   "source": [
    "kfoldcv = KFold(n_splits=5,\n",
    "                shuffle=True,\n",
    "                random_state=42\n",
    "               )\n",
    "rfc_vanilla_dict = {'accuracy': [],\n",
    "                    'f1 score': [],\n",
    "                    'roc score': []}\n",
    "\n",
    "# let's try on vanilla RandomForest\n",
    "for n, (train, val) in enumerate(kfoldcv.split(X_train_sm, y_train_sm), 1):\n",
    "    X_train_fold, y_train_fold = X_train_sm.iloc[train], y_train_sm.iloc[train]\n",
    "    X_val_fold, y_val_fold = X_train_sm.iloc[val], y_train_sm.iloc[val]\n",
    "    \n",
    "    # X_train_scaled = scaler.fit_transform(X_train_fold)\n",
    "    # X_val_scaled = scaler.fit_transform(X_val_fold)\n",
    "    \n",
    "    rfc_vanilla = RandomForestClassifier()\n",
    "    rfc_vanilla.fit(X_train_fold, y_train_fold)\n",
    "    y_pred = rfc_vanilla.predict(X_val_fold)\n",
    "    \n",
    "    cross_val_metrics(rfc_vanilla_dict, y_val_fold, y_pred)"
   ]
  },
  {
   "cell_type": "code",
   "execution_count": 48,
   "id": "fc90a061-6a09-4be7-95d5-69aaaae9722c",
   "metadata": {},
   "outputs": [
    {
     "name": "stdout",
     "output_type": "stream",
     "text": [
      "Results for classifier\n",
      "----\n",
      "  Accuracy:  0.8387096774193549\n",
      "  F1 score:  0.7801418439716312\n",
      "  ROC score: 0.9038461538461539\n",
      "  Mislabeled 5 out of 31\n",
      "Quantities are 26 for 0, 5 for 1\n",
      "\n",
      "\n"
     ]
    },
    {
     "data": {
      "image/png": "[encoded data removed]",
      "text/plain": [
       "<Figure size 300x300 with 2 Axes>"
      ]
     },
     "metadata": {},
     "output_type": "display_data"
    }
   ],
   "source": [
    "# let's test it on test data, which the model has not seen before\n",
    "# X_test_scaled = scaler.fit_transform(X_test)\n",
    "y_test_pred = rfc_vanilla.predict(X_test)\n",
    "\n",
    "print_results(calculate_metrics(y_test, y_test_pred))\n",
    "get_binary_classes(y_test)\n",
    "get_confusion_matrix(y_test, y_test_pred)"
   ]
  },
  {
   "cell_type": "markdown",
   "id": "1087c9aa-a5ef-4d3b-8f26-a82ee39e814a",
   "metadata": {},
   "source": [
    "This vanilla `RandomForest` did quite a good job actually, better than I expected. Also, taking into consideration the results cross validation, it seems that the predictions in all cases are not random and all the average metrics are near 90%, which is not bad.\n",
    "\n",
    "In the **testing** part, it seem the model recognised well all the patients who survived, but wrongly assigned survival for 5 patients who unfortunately passed. This is the worse outcome, since we give predict the better outcome than the reality.\n",
    "\n",
    "Now, let's use `OPTUNA`, to see if we can get a better scores with RandomForest."
   ]
  },
  {
   "cell_type": "code",
   "execution_count": 50,
   "id": "8e975383-d451-4e2e-be07-30481481e6e6",
   "metadata": {
    "collapsed": true,
    "jupyter": {
     "outputs_hidden": true
    },
    "tags": []
   },
   "outputs": [
    {
     "name": "stderr",
     "output_type": "stream",
     "text": [
      "[I 2023-10-08 20:32:54,011] A new study created in memory with name: no-name-cce60fa9-130d-48b4-a2f0-c4b593ab84f0\n",
      "[I 2023-10-08 20:32:54,055] Trial 0 finished with value: 0.9199999999999999 and parameters: {'max_depth': 19, 'n_estimators': 49}. Best is trial 0 with value: 0.9199999999999999.\n",
      "[I 2023-10-08 20:32:54,141] Trial 1 finished with value: 0.8200000000000001 and parameters: {'max_depth': 3, 'n_estimators': 106}. Best is trial 0 with value: 0.9199999999999999.\n",
      "[I 2023-10-08 20:32:54,267] Trial 2 finished with value: 0.8200000000000001 and parameters: {'max_depth': 2, 'n_estimators': 164}. Best is trial 0 with value: 0.9199999999999999.\n",
      "[I 2023-10-08 20:32:54,303] Trial 3 finished with value: 0.86 and parameters: {'max_depth': 4, 'n_estimators': 42}. Best is trial 0 with value: 0.9199999999999999.\n",
      "[I 2023-10-08 20:32:54,412] Trial 4 finished with value: 0.86 and parameters: {'max_depth': 26, 'n_estimators': 135}. Best is trial 0 with value: 0.9199999999999999.\n",
      "[I 2023-10-08 20:32:54,464] Trial 5 finished with value: 0.88 and parameters: {'max_depth': 16, 'n_estimators': 63}. Best is trial 0 with value: 0.9199999999999999.\n",
      "[I 2023-10-08 20:32:54,520] Trial 6 finished with value: 0.86 and parameters: {'max_depth': 4, 'n_estimators': 67}. Best is trial 0 with value: 0.9199999999999999.\n",
      "[I 2023-10-08 20:32:54,591] Trial 7 finished with value: 0.86 and parameters: {'max_depth': 25, 'n_estimators': 87}. Best is trial 0 with value: 0.9199999999999999.\n",
      "[I 2023-10-08 20:32:54,738] Trial 8 finished with value: 0.8200000000000001 and parameters: {'max_depth': 2, 'n_estimators': 193}. Best is trial 0 with value: 0.9199999999999999.\n",
      "[I 2023-10-08 20:32:54,750] Trial 9 finished with value: 0.9199999999999999 and parameters: {'max_depth': 20, 'n_estimators': 10}. Best is trial 0 with value: 0.9199999999999999.\n",
      "[I 2023-10-08 20:32:54,775] Trial 10 finished with value: 0.9199999999999999 and parameters: {'max_depth': 10, 'n_estimators': 18}. Best is trial 0 with value: 0.9199999999999999.\n",
      "[I 2023-10-08 20:32:54,792] Trial 11 finished with value: 0.8615384615384616 and parameters: {'max_depth': 12, 'n_estimators': 10}. Best is trial 0 with value: 0.9199999999999999.\n",
      "[I 2023-10-08 20:32:54,833] Trial 12 finished with value: 0.9 and parameters: {'max_depth': 16, 'n_estimators': 39}. Best is trial 0 with value: 0.9199999999999999.\n",
      "[I 2023-10-08 20:32:54,870] Trial 13 finished with value: 0.9 and parameters: {'max_depth': 30, 'n_estimators': 34}. Best is trial 0 with value: 0.9199999999999999.\n",
      "[I 2023-10-08 20:32:54,932] Trial 14 finished with value: 0.9 and parameters: {'max_depth': 18, 'n_estimators': 67}. Best is trial 0 with value: 0.9199999999999999.\n",
      "[I 2023-10-08 20:32:55,026] Trial 15 finished with value: 0.9 and parameters: {'max_depth': 8, 'n_estimators': 108}. Best is trial 0 with value: 0.9199999999999999.\n",
      "[I 2023-10-08 20:32:55,044] Trial 16 finished with value: 0.9 and parameters: {'max_depth': 7, 'n_estimators': 12}. Best is trial 0 with value: 0.9199999999999999.\n",
      "[I 2023-10-08 20:32:55,094] Trial 17 finished with value: 0.88 and parameters: {'max_depth': 32, 'n_estimators': 51}. Best is trial 0 with value: 0.9199999999999999.\n",
      "[I 2023-10-08 20:32:55,170] Trial 18 finished with value: 0.88 and parameters: {'max_depth': 20, 'n_estimators': 86}. Best is trial 0 with value: 0.9199999999999999.\n",
      "[I 2023-10-08 20:32:55,281] Trial 19 finished with value: 0.9 and parameters: {'max_depth': 14, 'n_estimators': 131}. Best is trial 0 with value: 0.9199999999999999.\n",
      "[I 2023-10-08 20:32:55,312] Trial 20 finished with value: 0.9007692307692308 and parameters: {'max_depth': 21, 'n_estimators': 28}. Best is trial 0 with value: 0.9199999999999999.\n",
      "[I 2023-10-08 20:32:55,337] Trial 21 finished with value: 0.9207692307692309 and parameters: {'max_depth': 11, 'n_estimators': 20}. Best is trial 21 with value: 0.9207692307692309.\n",
      "[I 2023-10-08 20:32:55,368] Trial 22 finished with value: 0.9199999999999999 and parameters: {'max_depth': 11, 'n_estimators': 27}. Best is trial 21 with value: 0.9207692307692309.\n",
      "[I 2023-10-08 20:32:55,420] Trial 23 finished with value: 0.9 and parameters: {'max_depth': 13, 'n_estimators': 53}. Best is trial 21 with value: 0.9207692307692309.\n",
      "[I 2023-10-08 20:32:55,497] Trial 24 finished with value: 0.9199999999999999 and parameters: {'max_depth': 21, 'n_estimators': 85}. Best is trial 21 with value: 0.9207692307692309.\n",
      "[I 2023-10-08 20:32:55,528] Trial 25 finished with value: 0.9 and parameters: {'max_depth': 9, 'n_estimators': 27}. Best is trial 21 with value: 0.9207692307692309.\n",
      "[I 2023-10-08 20:32:55,575] Trial 26 finished with value: 0.88 and parameters: {'max_depth': 14, 'n_estimators': 48}. Best is trial 21 with value: 0.9207692307692309.\n",
      "[I 2023-10-08 20:32:55,601] Trial 27 finished with value: 0.9 and parameters: {'max_depth': 9, 'n_estimators': 20}. Best is trial 21 with value: 0.9207692307692309.\n",
      "[I 2023-10-08 20:32:55,671] Trial 28 finished with value: 0.9 and parameters: {'max_depth': 17, 'n_estimators': 75}. Best is trial 21 with value: 0.9207692307692309.\n",
      "[I 2023-10-08 20:32:55,766] Trial 29 finished with value: 0.94 and parameters: {'max_depth': 23, 'n_estimators': 108}. Best is trial 29 with value: 0.94.\n",
      "[I 2023-10-08 20:32:55,863] Trial 30 finished with value: 0.9 and parameters: {'max_depth': 25, 'n_estimators': 111}. Best is trial 29 with value: 0.94.\n",
      "[I 2023-10-08 20:32:55,970] Trial 31 finished with value: 0.9 and parameters: {'max_depth': 21, 'n_estimators': 123}. Best is trial 29 with value: 0.94.\n",
      "[I 2023-10-08 20:32:56,100] Trial 32 finished with value: 0.9 and parameters: {'max_depth': 12, 'n_estimators': 154}. Best is trial 29 with value: 0.94.\n",
      "[I 2023-10-08 20:32:56,185] Trial 33 finished with value: 0.9 and parameters: {'max_depth': 15, 'n_estimators': 97}. Best is trial 29 with value: 0.94.\n",
      "[I 2023-10-08 20:32:56,227] Trial 34 finished with value: 0.88 and parameters: {'max_depth': 18, 'n_estimators': 40}. Best is trial 29 with value: 0.94.\n",
      "[I 2023-10-08 20:32:56,355] Trial 35 finished with value: 0.9 and parameters: {'max_depth': 26, 'n_estimators': 152}. Best is trial 29 with value: 0.94.\n",
      "[I 2023-10-08 20:32:56,410] Trial 36 finished with value: 0.9199999999999999 and parameters: {'max_depth': 11, 'n_estimators': 58}. Best is trial 29 with value: 0.94.\n",
      "[I 2023-10-08 20:32:56,513] Trial 37 finished with value: 0.88 and parameters: {'max_depth': 14, 'n_estimators': 118}. Best is trial 29 with value: 0.94.\n",
      "[I 2023-10-08 20:32:56,597] Trial 38 finished with value: 0.9199999999999999 and parameters: {'max_depth': 24, 'n_estimators': 95}. Best is trial 29 with value: 0.94.\n",
      "[I 2023-10-08 20:32:56,666] Trial 39 finished with value: 0.9199999999999999 and parameters: {'max_depth': 30, 'n_estimators': 74}. Best is trial 29 with value: 0.94.\n"
     ]
    }
   ],
   "source": [
    "X_train, X_test, y_train, y_test = train_test_split(X, y,\n",
    "                                                   test_size=0.2,\n",
    "                                                   stratify=y \n",
    "                                                   )\n",
    "from imblearn.over_sampling import SMOTE\n",
    "sm = SMOTE(sampling_strategy='auto',\n",
    "           k_neighbors=4 # choosing the amount od neighbours, 5 is default\n",
    "          )\n",
    "\n",
    "X_train_sm, y_train_sm = sm.fit_resample(X_train, y_train)\n",
    "\n",
    "X_train, X_val, y_train, y_val = train_test_split(X_train_sm, y_train_sm,\n",
    "                                                      test_size=0.25,\n",
    "                                                      stratify=y_train_sm\n",
    "                                                     )\n",
    "\n",
    "def objective(trial):\n",
    "    # X_train_scaled = scaler.fit_transform(X_train)\n",
    "    # X_val_scaled = scaler.fit_transform(X_val)\n",
    "    \n",
    "\n",
    "    max_depth = trial.suggest_int('max_depth', 2, 32, log=True)\n",
    "    n_estimators = trial.suggest_int('n_estimators', 10, 200)\n",
    " \n",
    "\n",
    "    rfc_opt = RandomForestClassifier(max_depth=max_depth, \n",
    "                                     n_estimators=n_estimators\n",
    "                                    )\n",
    "\n",
    "\n",
    "    rfc_opt.fit(X_train, y_train)\n",
    "    y_pred_val = rfc_opt.predict(X_val)\n",
    "    roc = roc_auc_score(y_val, y_pred_val)\n",
    "    return roc\n",
    "\n",
    "\n",
    "study = optuna.create_study(direction='maximize')\n",
    "study.optimize(objective, n_trials=40)"
   ]
  },
  {
   "cell_type": "code",
   "execution_count": 51,
   "id": "395b064f-7e9a-4776-bd16-88ca0490f638",
   "metadata": {},
   "outputs": [
    {
     "data": {
      "text/plain": [
       "{'max_depth': 23, 'n_estimators': 108}"
      ]
     },
     "execution_count": 51,
     "metadata": {},
     "output_type": "execute_result"
    }
   ],
   "source": [
    "best_params = study.best_params\n",
    "best_params"
   ]
  },
  {
   "cell_type": "code",
   "execution_count": 53,
   "id": "d1ae578a-fcf3-45fb-b3ae-aa36f088a56e",
   "metadata": {
    "tags": []
   },
   "outputs": [
    {
     "name": "stdout",
     "output_type": "stream",
     "text": [
      "Accuracy: 0.9024390243902439, F1 score: 0.9130434782608696, ROC: 0.9\n",
      "Accuracy: 0.8658536585365854, F1 score: 0.8565217391304348, ROC: 0.8756410256410256\n",
      "Accuracy: 0.8689024390243902, F1 score: 0.8655881361644759, ROC: 0.8774114774114774\n",
      "Accuracy: 0.8766768292682927, F1 score: 0.8753815783138331, ROC: 0.883058608058608\n",
      "Accuracy: 0.8813414634146342, F1 score: 0.8843052626510665, ROC: 0.8877655677655677\n"
     ]
    }
   ],
   "source": [
    "X_train, X_test, y_train, y_test = train_test_split(X, y,\n",
    "                                                   test_size=0.2,\n",
    "                                                   stratify=y,\n",
    "                                                    random_state=42\n",
    "                                                   )\n",
    "from imblearn.over_sampling import SMOTE\n",
    "sm = SMOTE(sampling_strategy='auto',\n",
    "           k_neighbors=4,\n",
    "           random_state=42\n",
    "          )\n",
    "\n",
    "X_train_sm, y_train_sm = sm.fit_resample(X_train, y_train)\n",
    "\n",
    "rfc_dict = {'accuracy': [],\n",
    "                    'f1 score': [],\n",
    "                    'roc score': []}\n",
    "\n",
    "for n, (train, val) in enumerate(kfoldcv.split(X_train_sm, y_train_sm), 1):\n",
    "    X_train_fold, y_train_fold = X_train_sm.iloc[train], y_train_sm.iloc[train]\n",
    "    X_val_fold, y_val_fold = X_train_sm.iloc[val], y_train_sm.iloc[val]\n",
    "    \n",
    "    # X_train_scaled = scaler.fit_transform(X_train_fold)\n",
    "    # X_val_scaled = scaler.fit_transform(X_val_fold)\n",
    "    \n",
    "    best_params = study.best_params\n",
    "    rfc = RandomForestClassifier(max_depth=best_params['max_depth'], \n",
    "                                     n_estimators=best_params['n_estimators']\n",
    "                                    )   \n",
    "                              \n",
    "    rfc.fit(X_train_fold, y_train_fold)\n",
    "    y_pred = rfc.predict(X_val_fold)\n",
    "    \n",
    "    cross_val_metrics(rfc_dict, y_val_fold, y_pred)"
   ]
  },
  {
   "cell_type": "code",
   "execution_count": 80,
   "id": "b6819c4a-aa65-4728-9668-5b2326c5b644",
   "metadata": {},
   "outputs": [
    {
     "name": "stdout",
     "output_type": "stream",
     "text": [
      "Results for Random Forest\n",
      "----\n",
      "  Accuracy:  0.9032258064516129\n",
      "  F1 score:  0.8342245989304813\n",
      "  ROC score: 0.8615384615384616\n",
      "  Mislabeled 3 out of 31\n",
      "Quantities are 26 for 0, 5 for 1\n",
      "\n",
      "\n"
     ]
    },
    {
     "data": {
      "image/png": "[encoded data removed]",
      "text/plain": [
       "<Figure size 300x300 with 2 Axes>"
      ]
     },
     "metadata": {},
     "output_type": "display_data"
    }
   ],
   "source": [
    "# let's test it on test data, which the model has not seen before\n",
    "# X_test_scaled = scaler.fit_transform(X_test)\n",
    "y_test_pred = rfc.predict(X_test)\n",
    "\n",
    "print_results(calculate_metrics(y_test, y_test_pred), classifier_id='Random Forest')\n",
    "get_binary_classes(y_test)\n",
    "get_confusion_matrix(y_test, y_test_pred)\n",
    "\n",
    "models_metrics = {}\n",
    "\n",
    "models_metrics['Random Forest'] = calculate_metrics(y_test, y_test_pred)"
   ]
  },
  {
   "cell_type": "code",
   "execution_count": 78,
   "id": "bb932a11-edc4-4b7e-82d2-c478b3222ac2",
   "metadata": {},
   "outputs": [
    {
     "data": {
      "image/png": "[encoded data removed]",
      "text/plain": [
       "<Figure size 1000x600 with 1 Axes>"
      ]
     },
     "metadata": {},
     "output_type": "display_data"
    }
   ],
   "source": [
    "y_probabilities = rfc.predict_proba(X_test)[:, 1] \n",
    "\n",
    "fpr, tpr, _ = roc_curve(y_test, y_probabilities)\n",
    "\n",
    "# ROC curve for RandomForest\n",
    "plt.figure(figsize=(10, 6))\n",
    "plt.plot(fpr, tpr, color='darkorange', lw=2, label='ROC curve')\n",
    "plt.plot([0, 1], [0, 1], color='navy', linestyle='--')\n",
    "plt.xlim([0.0, 1.0])\n",
    "plt.ylim([0.0, 1.05])\n",
    "plt.xlabel('False Positive Rate')\n",
    "plt.ylabel('True Positive Rate')\n",
    "plt.title('Receiver Operating Characteristic (ROC)')\n",
    "plt.legend(loc='lower right')\n",
    "plt.show()"
   ]
  },
  {
   "cell_type": "markdown",
   "id": "0a897a56-4e62-41b4-bcf1-cadead65fda1",
   "metadata": {},
   "source": [
    "Upon checking, it seems this time `OPTUNA` didn't help us with creating a much better model - what is good, this time less of the false survivals were generated, which is not the worse outcome as well. \n",
    "\n",
    "At the end, I will compare the outcomes of all the models, so we will pick the best one.\n",
    "Let's also check the feature importances in the instance of Random Forest."
   ]
  },
  {
   "cell_type": "code",
   "execution_count": 57,
   "id": "de21645e-7c60-4b4b-b83d-ed67253b2040",
   "metadata": {},
   "outputs": [
    {
     "name": "stdout",
     "output_type": "stream",
     "text": [
      "AdaBoost Feature Importance:\n",
      "     Feature  Importance\n",
      "12  Reaction    0.182386\n",
      "6        Age    0.176981\n",
      "0   AgeGroup    0.150527\n",
      "13  FollowUp    0.081668\n",
      "9        WBC    0.071624\n",
      "10   oldpeak    0.066461\n",
      "1     Gender    0.056762\n",
      "2    Smoking    0.046232\n",
      "4     Others    0.045365\n",
      "5    SKReact    0.043307\n",
      "11        ca    0.041853\n",
      "8   Diabetes    0.015132\n",
      "3        HTN    0.011500\n",
      "7   FHistory    0.010203\n"
     ]
    }
   ],
   "source": [
    "feat_importance_ada = rfc.feature_importances_\n",
    "\n",
    "# Creating feature importance df\n",
    "feat_importance_rfc_df = pd.DataFrame({'Feature': X_train.columns, 'Importance': feat_importance_ada})\n",
    "feat_importance_rfc_df = feat_importance_rfc_df.sort_values(by='Importance', ascending=False)\n",
    "\n",
    "print(\"Random Forest Feature Importance:\")\n",
    "print(feat_importance_rfc_df)"
   ]
  },
  {
   "cell_type": "markdown",
   "id": "4f6ffa85-66bd-46ba-b27a-7151a053ffca",
   "metadata": {},
   "source": [
    "RandomForest did well overall, but I would not settle on the first trained model with pretty good outcomes.\n",
    "\n",
    "Now, let's try with XGBoost, which is also very popular and well fitted for the study problem."
   ]
  },
  {
   "cell_type": "code",
   "execution_count": 81,
   "id": "95f81131-6f4a-4e76-8d1e-74544fa66767",
   "metadata": {
    "tags": []
   },
   "outputs": [
    {
     "name": "stdout",
     "output_type": "stream",
     "text": [
      "Accuracy: 0.9024390243902439, F1 score: 0.8947368421052632, ROC: 0.9070048309178744\n",
      "Accuracy: 0.8902439024390244, F1 score: 0.886392811296534, ROC: 0.8927881297446515\n",
      "Accuracy: 0.8768292682926829, F1 score: 0.8807836133281242, ROC: 0.8785254198297676\n",
      "Accuracy: 0.8763719512195122, F1 score: 0.8815179425542327, ROC: 0.8779597214379823\n",
      "Accuracy: 0.8910975609756098, F1 score: 0.8956905445195765, ROC: 0.8923677771503858\n"
     ]
    }
   ],
   "source": [
    "X_train, X_test, y_train, y_test = train_test_split(X, y,\n",
    "                                                   test_size=0.2,\n",
    "                                                   stratify=y,\n",
    "                                                    random_state=42\n",
    "                                                   )\n",
    "from imblearn.over_sampling import SMOTE\n",
    "sm = SMOTE(sampling_strategy='auto',\n",
    "           k_neighbors=4,\n",
    "           random_state=42\n",
    "          )\n",
    "\n",
    "X_train_sm, y_train_sm = sm.fit_resample(X_train, y_train)\n",
    "\n",
    "xgb_vanilla_dict = {'accuracy': [],\n",
    "                    'f1 score': [],\n",
    "                    'roc score': []}\n",
    "\n",
    "\n",
    "for n, (train, val) in enumerate(kfoldcv.split(X_train_sm, y_train_sm), 1):\n",
    "    X_train_fold, y_train_fold = X_train_sm.iloc[train], y_train_sm.iloc[train]\n",
    "    X_val_fold, y_val_fold = X_train_sm.iloc[val], y_train_sm.iloc[val]\n",
    "\n",
    "    xgb_vanilla = XGBClassifier()\n",
    "    xgb_vanilla.fit(X_train_fold, y_train_fold)\n",
    "    y_pred = xgb_vanilla.predict(X_val_fold)\n",
    "    \n",
    "    cross_val_metrics(xgb_vanilla_dict, y_val_fold, y_pred)"
   ]
  },
  {
   "cell_type": "code",
   "execution_count": 82,
   "id": "b37d0d22-411d-4d9a-a944-aadad18440fd",
   "metadata": {},
   "outputs": [
    {
     "name": "stdout",
     "output_type": "stream",
     "text": [
      "Results for classifier\n",
      "----\n",
      "  Accuracy:  0.8387096774193549\n",
      "  F1 score:  0.7566718995290425\n",
      "  ROC score: 0.823076923076923\n",
      "  Mislabeled 5 out of 31\n",
      "Quantities are 26 for 0, 5 for 1\n",
      "\n",
      "\n"
     ]
    },
    {
     "data": {
      "image/png": "[encoded data removed]",
      "text/plain": [
       "<Figure size 300x300 with 2 Axes>"
      ]
     },
     "metadata": {},
     "output_type": "display_data"
    }
   ],
   "source": [
    "# testing\n",
    "y_test_pred = xgb_vanilla.predict(X_test)\n",
    "\n",
    "print_results(calculate_metrics(y_test, y_test_pred))\n",
    "get_binary_classes(y_test)\n",
    "get_confusion_matrix(y_test, y_test_pred)"
   ]
  },
  {
   "cell_type": "markdown",
   "id": "e8cd48de-b88a-4b09-a98c-0e32c32e5960",
   "metadata": {},
   "source": [
    "When comparing `XGBoost` to `RandomForest`, it worked better on the training sets and slightly worse on the testing set. This might be slight ovefitting the model, but the difference in overal values is not extreme. Not the best model though.\n",
    "\n",
    "Let's try to optimize it."
   ]
  },
  {
   "cell_type": "code",
   "execution_count": 83,
   "id": "29c37cea-6b39-45c5-bde9-5ab1d509e173",
   "metadata": {
    "collapsed": true,
    "jupyter": {
     "outputs_hidden": true
    },
    "tags": []
   },
   "outputs": [
    {
     "name": "stderr",
     "output_type": "stream",
     "text": [
      "[I 2023-10-08 22:15:14,421] A new study created in memory with name: no-name-e55910be-76a1-4e0f-9be8-e928f61f147c\n",
      "[I 2023-10-08 22:15:14,660] Trial 0 finished with value: 0.8423076923076922 and parameters: {'booster': 'dart', 'lambda': 0.003025537770321111, 'alpha': 7.990333474110461e-05, 'max_depth': 20, 'eta': 0.12017056951694793, 'gamma': 0.8592394445160404, 'subsample': 0.9368814648161563, 'colsample_bytree': 0.15343772870327718}. Best is trial 0 with value: 0.8423076923076922.\n",
      "[I 2023-10-08 22:15:14,679] Trial 1 finished with value: 0.7223076923076923 and parameters: {'booster': 'gblinear', 'lambda': 0.00011097289536330961, 'alpha': 0.003875274638598633, 'max_depth': 7, 'eta': 0.29909908409340014, 'gamma': 0.8659890214182511, 'subsample': 0.12138745789797256, 'colsample_bytree': 0.846343156798428}. Best is trial 0 with value: 0.8423076923076922.\n",
      "[I 2023-10-08 22:15:14,710] Trial 2 finished with value: 0.7446153846153846 and parameters: {'booster': 'gbtree', 'lambda': 0.37247774554192037, 'alpha': 5.04613665124071e-05, 'max_depth': 3, 'eta': 0.21976828977910431, 'gamma': 0.6654485637770217, 'subsample': 0.14720563055320096, 'colsample_bytree': 0.19825800327746193}. Best is trial 0 with value: 0.8423076923076922.\n",
      "[I 2023-10-08 22:15:14,731] Trial 3 finished with value: 0.7030769230769232 and parameters: {'booster': 'gblinear', 'lambda': 0.1072027521125426, 'alpha': 0.003799355946792018, 'max_depth': 18, 'eta': 0.020671799855153643, 'gamma': 0.09400046878767832, 'subsample': 0.23659324438270524, 'colsample_bytree': 0.9017199425159109}. Best is trial 0 with value: 0.8423076923076922.\n",
      "[I 2023-10-08 22:15:14,752] Trial 4 finished with value: 0.48769230769230765 and parameters: {'booster': 'gblinear', 'lambda': 0.036003389745434926, 'alpha': 1.3531452378930828, 'max_depth': 9, 'eta': 0.043858865308115405, 'gamma': 0.9794925375304615, 'subsample': 0.48190388679831603, 'colsample_bytree': 0.9538453773627523}. Best is trial 0 with value: 0.8423076923076922.\n",
      "[I 2023-10-08 22:15:14,813] Trial 5 finished with value: 0.8423076923076922 and parameters: {'booster': 'gbtree', 'lambda': 1.830920917579721, 'alpha': 0.0001340044928754612, 'max_depth': 11, 'eta': 0.08194578051289955, 'gamma': 0.1697071515367401, 'subsample': 0.6572151865554323, 'colsample_bytree': 0.8037685549212816}. Best is trial 0 with value: 0.8423076923076922.\n",
      "[I 2023-10-08 22:15:14,850] Trial 6 finished with value: 0.8415384615384617 and parameters: {'booster': 'gbtree', 'lambda': 0.00011379898633707992, 'alpha': 0.00042663986622298053, 'max_depth': 17, 'eta': 0.2029167533375739, 'gamma': 0.8075219825884302, 'subsample': 0.24458246250359658, 'colsample_bytree': 0.4340422701924818}. Best is trial 0 with value: 0.8423076923076922.\n"
     ]
    },
    {
     "name": "stdout",
     "output_type": "stream",
     "text": [
      "[22:15:14] WARNING: /Users/runner/work/xgboost/xgboost/python-package/build/temp.macosx-11.0-arm64-cpython-38/xgboost/src/learner.cc:767: \n",
      "Parameters: { \"colsample_bytree\", \"gamma\", \"max_depth\", \"subsample\" } are not used.\n",
      "\n",
      "[22:15:14] WARNING: /Users/runner/work/xgboost/xgboost/python-package/build/temp.macosx-11.0-arm64-cpython-38/xgboost/src/learner.cc:767: \n",
      "Parameters: { \"colsample_bytree\", \"gamma\", \"max_depth\", \"subsample\" } are not used.\n",
      "\n",
      "[22:15:14] WARNING: /Users/runner/work/xgboost/xgboost/python-package/build/temp.macosx-11.0-arm64-cpython-38/xgboost/src/learner.cc:767: \n",
      "Parameters: { \"colsample_bytree\", \"gamma\", \"max_depth\", \"subsample\" } are not used.\n",
      "\n"
     ]
    },
    {
     "name": "stderr",
     "output_type": "stream",
     "text": [
      "[I 2023-10-08 22:15:15,167] Trial 7 finished with value: 0.8038461538461539 and parameters: {'booster': 'dart', 'lambda': 0.14447286172718085, 'alpha': 1.6980759400639435e-05, 'max_depth': 8, 'eta': 0.06978866567706314, 'gamma': 0.9258211451772068, 'subsample': 0.19828428209784157, 'colsample_bytree': 0.8402100786959706}. Best is trial 0 with value: 0.8423076923076922.\n",
      "[I 2023-10-08 22:15:15,242] Trial 8 finished with value: 0.8623076923076922 and parameters: {'booster': 'gbtree', 'lambda': 1.8343473834731943e-05, 'alpha': 5.947066013643422e-05, 'max_depth': 8, 'eta': 0.106254902557136, 'gamma': 0.348064939827883, 'subsample': 0.6301516690832094, 'colsample_bytree': 0.5058611357023342}. Best is trial 8 with value: 0.8623076923076922.\n",
      "[I 2023-10-08 22:15:15,498] Trial 9 finished with value: 0.7838461538461539 and parameters: {'booster': 'dart', 'lambda': 0.003026277655402616, 'alpha': 7.61289077147047, 'max_depth': 13, 'eta': 0.03187979056320864, 'gamma': 0.9238377000030435, 'subsample': 0.9418061280031236, 'colsample_bytree': 0.2616585125776901}. Best is trial 8 with value: 0.8623076923076922.\n",
      "[I 2023-10-08 22:15:15,577] Trial 10 finished with value: 0.8815384615384615 and parameters: {'booster': 'gbtree', 'lambda': 1.3971191709028827e-05, 'alpha': 1.1232545224053546e-05, 'max_depth': 3, 'eta': 0.1335042864282929, 'gamma': 0.37342988404199695, 'subsample': 0.608666987141272, 'colsample_bytree': 0.5850370465227475}. Best is trial 10 with value: 0.8815384615384615.\n",
      "[I 2023-10-08 22:15:15,670] Trial 11 finished with value: 0.8630769230769231 and parameters: {'booster': 'gbtree', 'lambda': 1.218773541896519e-05, 'alpha': 1.4590333720351896e-05, 'max_depth': 3, 'eta': 0.12983985697888617, 'gamma': 0.3680003397977924, 'subsample': 0.6452149265204731, 'colsample_bytree': 0.6011578829947084}. Best is trial 10 with value: 0.8815384615384615.\n",
      "[I 2023-10-08 22:15:15,766] Trial 12 finished with value: 0.9023076923076923 and parameters: {'booster': 'gbtree', 'lambda': 1.0188642999918575e-05, 'alpha': 1.0551888742083768e-05, 'max_depth': 3, 'eta': 0.14447702978736826, 'gamma': 0.4383303312149157, 'subsample': 0.7575468920077524, 'colsample_bytree': 0.6576746480749877}. Best is trial 12 with value: 0.9023076923076923.\n",
      "[I 2023-10-08 22:15:15,875] Trial 13 finished with value: 0.8630769230769231 and parameters: {'booster': 'gbtree', 'lambda': 0.00017855539824330246, 'alpha': 1.0051283211061774e-05, 'max_depth': 5, 'eta': 0.15405695598781907, 'gamma': 0.5228152441689718, 'subsample': 0.7734654423417109, 'colsample_bytree': 0.6667965641717495}. Best is trial 12 with value: 0.9023076923076923.\n",
      "[I 2023-10-08 22:15:15,965] Trial 14 finished with value: 0.8623076923076922 and parameters: {'booster': 'gbtree', 'lambda': 0.0006022083793307965, 'alpha': 0.00041833122719240397, 'max_depth': 5, 'eta': 0.1722274136604458, 'gamma': 0.4746638280860101, 'subsample': 0.4163518988559797, 'colsample_bytree': 0.6826286761807348}. Best is trial 12 with value: 0.9023076923076923.\n",
      "[I 2023-10-08 22:15:16,063] Trial 15 finished with value: 0.8623076923076922 and parameters: {'booster': 'gbtree', 'lambda': 1.0058474964591326e-05, 'alpha': 0.03817546715258316, 'max_depth': 13, 'eta': 0.08903744605059011, 'gamma': 0.23389928620327471, 'subsample': 0.8057914615440123, 'colsample_bytree': 0.415953621531152}. Best is trial 12 with value: 0.9023076923076923.\n",
      "[I 2023-10-08 22:15:16,147] Trial 16 finished with value: 0.9015384615384615 and parameters: {'booster': 'gbtree', 'lambda': 4.088525678180834e-05, 'alpha': 0.00048001158142292063, 'max_depth': 5, 'eta': 0.14554031047841004, 'gamma': 0.0027746556206754702, 'subsample': 0.5539585539085724, 'colsample_bytree': 0.7309297900846424}. Best is trial 12 with value: 0.9023076923076923.\n",
      "[I 2023-10-08 22:15:16,235] Trial 17 finished with value: 0.8623076923076922 and parameters: {'booster': 'gbtree', 'lambda': 0.00040305430312901627, 'alpha': 0.0004517195522937505, 'max_depth': 6, 'eta': 0.1516720519656254, 'gamma': 0.05874517601907048, 'subsample': 0.42950910159306244, 'colsample_bytree': 0.7406277557800232}. Best is trial 12 with value: 0.9023076923076923.\n",
      "[I 2023-10-08 22:15:16,292] Trial 18 finished with value: 0.7223076923076923 and parameters: {'booster': 'gblinear', 'lambda': 5.1356016704929765e-05, 'alpha': 0.0013782910010136683, 'max_depth': 10, 'eta': 0.18283122321437262, 'gamma': 0.01728988721362122, 'subsample': 0.7761488127644544, 'colsample_bytree': 0.7629994754316637}. Best is trial 12 with value: 0.9023076923076923.\n"
     ]
    },
    {
     "name": "stdout",
     "output_type": "stream",
     "text": [
      "[22:15:16] WARNING: /Users/runner/work/xgboost/xgboost/python-package/build/temp.macosx-11.0-arm64-cpython-38/xgboost/src/learner.cc:767: \n",
      "Parameters: { \"colsample_bytree\", \"gamma\", \"max_depth\", \"subsample\" } are not used.\n",
      "\n"
     ]
    },
    {
     "name": "stderr",
     "output_type": "stream",
     "text": [
      "[I 2023-10-08 22:15:16,671] Trial 19 finished with value: 0.8823076923076922 and parameters: {'booster': 'dart', 'lambda': 5.4172492893732105e-05, 'alpha': 0.020947820092002575, 'max_depth': 5, 'eta': 0.06554629275884306, 'gamma': 0.1994227275959453, 'subsample': 0.5242389387776456, 'colsample_bytree': 0.941933468590065}. Best is trial 12 with value: 0.9023076923076923.\n",
      "[I 2023-10-08 22:15:16,749] Trial 20 finished with value: 0.823076923076923 and parameters: {'booster': 'gbtree', 'lambda': 0.0010440546188951506, 'alpha': 0.00012522822936657992, 'max_depth': 13, 'eta': 0.09576035521373691, 'gamma': 0.0013708160083907548, 'subsample': 0.3295535524862162, 'colsample_bytree': 0.7052558027557292}. Best is trial 12 with value: 0.9023076923076923.\n",
      "[I 2023-10-08 22:15:17,119] Trial 21 finished with value: 0.8430769230769231 and parameters: {'booster': 'dart', 'lambda': 4.720886448166318e-05, 'alpha': 0.02642708976359977, 'max_depth': 5, 'eta': 0.06314792290849362, 'gamma': 0.15933335816599647, 'subsample': 0.5031473693103703, 'colsample_bytree': 0.9977183513560439}. Best is trial 12 with value: 0.9023076923076923.\n",
      "[I 2023-10-08 22:15:17,406] Trial 22 finished with value: 0.823076923076923 and parameters: {'booster': 'dart', 'lambda': 6.08691813790463e-05, 'alpha': 0.02170327140956007, 'max_depth': 4, 'eta': 0.05277206462107022, 'gamma': 0.24438905641581732, 'subsample': 0.5149946176703627, 'colsample_bytree': 0.8792023441893706}. Best is trial 12 with value: 0.9023076923076923.\n",
      "[I 2023-10-08 22:15:17,744] Trial 23 finished with value: 0.9023076923076923 and parameters: {'booster': 'dart', 'lambda': 0.00023488089408199851, 'alpha': 0.07534497195629186, 'max_depth': 7, 'eta': 0.10967358611168479, 'gamma': 0.12048450032789038, 'subsample': 0.7165289397424609, 'colsample_bytree': 0.7864996318366458}. Best is trial 12 with value: 0.9023076923076923.\n",
      "[I 2023-10-08 22:15:18,045] Trial 24 finished with value: 0.9023076923076923 and parameters: {'booster': 'dart', 'lambda': 0.000365547193348816, 'alpha': 0.10478933138636397, 'max_depth': 7, 'eta': 0.1119563478570733, 'gamma': 0.08266163830271814, 'subsample': 0.6971520284141378, 'colsample_bytree': 0.7867531267766534}. Best is trial 12 with value: 0.9023076923076923.\n",
      "[I 2023-10-08 22:15:18,358] Trial 25 finished with value: 0.9023076923076923 and parameters: {'booster': 'dart', 'lambda': 0.00023623948185128228, 'alpha': 0.20709097058371098, 'max_depth': 7, 'eta': 0.11060894482317568, 'gamma': 0.12261827869618278, 'subsample': 0.7209488931388783, 'colsample_bytree': 0.7798512405628362}. Best is trial 12 with value: 0.9023076923076923.\n",
      "[I 2023-10-08 22:15:18,646] Trial 26 finished with value: 0.8623076923076922 and parameters: {'booster': 'dart', 'lambda': 0.0011191699246479692, 'alpha': 0.11747913918658433, 'max_depth': 10, 'eta': 0.11119350044802132, 'gamma': 0.27610988116000823, 'subsample': 0.8446274238388651, 'colsample_bytree': 0.8156261162279336}. Best is trial 12 with value: 0.9023076923076923.\n",
      "[I 2023-10-08 22:15:18,954] Trial 27 finished with value: 0.8630769230769231 and parameters: {'booster': 'dart', 'lambda': 0.0002534005201964571, 'alpha': 0.0811990799547616, 'max_depth': 7, 'eta': 0.09087491515235172, 'gamma': 0.08738197625662575, 'subsample': 0.7047682957397783, 'colsample_bytree': 0.6604693889947794}. Best is trial 12 with value: 0.9023076923076923.\n",
      "[I 2023-10-08 22:15:19,252] Trial 28 finished with value: 0.823076923076923 and parameters: {'booster': 'dart', 'lambda': 0.004418246066001948, 'alpha': 0.39853397559096637, 'max_depth': 15, 'eta': 0.010666283172130142, 'gamma': 0.14443653826145625, 'subsample': 0.8911876130728528, 'colsample_bytree': 0.6517857332007183}. Best is trial 12 with value: 0.9023076923076923.\n",
      "[I 2023-10-08 22:15:19,544] Trial 29 finished with value: 0.8630769230769231 and parameters: {'booster': 'dart', 'lambda': 0.005150234411397462, 'alpha': 0.008983703312947488, 'max_depth': 8, 'eta': 0.12443665087572996, 'gamma': 0.27816981426598075, 'subsample': 0.9971885786961183, 'colsample_bytree': 0.737986007718992}. Best is trial 12 with value: 0.9023076923076923.\n",
      "[I 2023-10-08 22:15:19,882] Trial 30 finished with value: 0.8823076923076922 and parameters: {'booster': 'dart', 'lambda': 0.0004745902700506827, 'alpha': 0.48634491452969114, 'max_depth': 20, 'eta': 0.12358329753663261, 'gamma': 0.08007353716723986, 'subsample': 0.722672279710457, 'colsample_bytree': 0.8640536726859231}. Best is trial 12 with value: 0.9023076923076923.\n",
      "[I 2023-10-08 22:15:20,143] Trial 31 finished with value: 0.8823076923076922 and parameters: {'booster': 'dart', 'lambda': 0.0014128380632168972, 'alpha': 0.11859183309306083, 'max_depth': 7, 'eta': 0.1123324418435236, 'gamma': 0.13099546735862674, 'subsample': 0.7069016083197981, 'colsample_bytree': 0.7808681897928845}. Best is trial 12 with value: 0.9023076923076923.\n",
      "[I 2023-10-08 22:15:20,457] Trial 32 finished with value: 0.8823076923076922 and parameters: {'booster': 'dart', 'lambda': 0.00019243870443810837, 'alpha': 0.007686172644208963, 'max_depth': 9, 'eta': 0.10760968840779014, 'gamma': 0.20006916338640124, 'subsample': 0.8471942761130731, 'colsample_bytree': 0.7988356243269163}. Best is trial 12 with value: 0.9023076923076923.\n",
      "[I 2023-10-08 22:15:20,863] Trial 33 finished with value: 0.8823076923076922 and parameters: {'booster': 'dart', 'lambda': 0.00011688915794662408, 'alpha': 0.0495971255267409, 'max_depth': 6, 'eta': 0.07991392985132062, 'gamma': 0.13586019559643095, 'subsample': 0.7429050322565391, 'colsample_bytree': 0.7739023426178182}. Best is trial 12 with value: 0.9023076923076923.\n",
      "[I 2023-10-08 22:15:20,910] Trial 34 finished with value: 0.5284615384615384 and parameters: {'booster': 'gblinear', 'lambda': 0.0003614654590221429, 'alpha': 0.24432344367226408, 'max_depth': 4, 'eta': 0.13655101363269234, 'gamma': 0.08024013118274778, 'subsample': 0.6947657018840036, 'colsample_bytree': 0.8935016913568543}. Best is trial 12 with value: 0.9023076923076923.\n"
     ]
    },
    {
     "name": "stdout",
     "output_type": "stream",
     "text": [
      "[22:15:20] WARNING: /Users/runner/work/xgboost/xgboost/python-package/build/temp.macosx-11.0-arm64-cpython-38/xgboost/src/learner.cc:767: \n",
      "Parameters: { \"colsample_bytree\", \"gamma\", \"max_depth\", \"subsample\" } are not used.\n",
      "\n"
     ]
    },
    {
     "name": "stderr",
     "output_type": "stream",
     "text": [
      "[I 2023-10-08 22:15:21,149] Trial 35 finished with value: 0.9015384615384615 and parameters: {'booster': 'dart', 'lambda': 0.010828862143407872, 'alpha': 0.004723141356751496, 'max_depth': 7, 'eta': 0.1705523453468562, 'gamma': 0.29285070591082196, 'subsample': 0.5741901330291717, 'colsample_bytree': 0.8352680650113201}. Best is trial 12 with value: 0.9023076923076923.\n",
      "[I 2023-10-08 22:15:21,215] Trial 36 finished with value: 0.7230769230769232 and parameters: {'booster': 'gblinear', 'lambda': 2.3297326737456983e-05, 'alpha': 0.014756607704644712, 'max_depth': 11, 'eta': 0.09896711245445126, 'gamma': 0.20841946324810057, 'subsample': 0.7597571450884996, 'colsample_bytree': 0.7099808632669955}. Best is trial 12 with value: 0.9023076923076923.\n"
     ]
    },
    {
     "name": "stdout",
     "output_type": "stream",
     "text": [
      "[22:15:21] WARNING: /Users/runner/work/xgboost/xgboost/python-package/build/temp.macosx-11.0-arm64-cpython-38/xgboost/src/learner.cc:767: \n",
      "Parameters: { \"colsample_bytree\", \"gamma\", \"max_depth\", \"subsample\" } are not used.\n",
      "\n"
     ]
    },
    {
     "name": "stderr",
     "output_type": "stream",
     "text": [
      "[I 2023-10-08 22:15:21,606] Trial 37 finished with value: 0.9215384615384615 and parameters: {'booster': 'dart', 'lambda': 0.00010842428416010336, 'alpha': 0.06070554841161349, 'max_depth': 9, 'eta': 0.14135311778012288, 'gamma': 0.05111187297815902, 'subsample': 0.6717542379292349, 'colsample_bytree': 0.9267493684594311}. Best is trial 37 with value: 0.9215384615384615.\n",
      "[I 2023-10-08 22:15:21,892] Trial 38 finished with value: 0.9015384615384615 and parameters: {'booster': 'dart', 'lambda': 9.667291453242722e-05, 'alpha': 0.05362047984071164, 'max_depth': 9, 'eta': 0.15892746597997284, 'gamma': 0.062028891500302566, 'subsample': 0.6661995127771101, 'colsample_bytree': 0.9019453443073229}. Best is trial 37 with value: 0.9215384615384615.\n",
      "[I 2023-10-08 22:15:21,947] Trial 39 finished with value: 0.7223076923076923 and parameters: {'booster': 'gblinear', 'lambda': 3.784930837983945e-05, 'alpha': 0.0029729710831323526, 'max_depth': 12, 'eta': 0.14143444252831294, 'gamma': 0.04734856522636352, 'subsample': 0.6267009870252493, 'colsample_bytree': 0.9454222671614272}. Best is trial 37 with value: 0.9215384615384615.\n"
     ]
    },
    {
     "name": "stdout",
     "output_type": "stream",
     "text": [
      "[22:15:21] WARNING: /Users/runner/work/xgboost/xgboost/python-package/build/temp.macosx-11.0-arm64-cpython-38/xgboost/src/learner.cc:767: \n",
      "Parameters: { \"colsample_bytree\", \"gamma\", \"max_depth\", \"subsample\" } are not used.\n",
      "\n"
     ]
    }
   ],
   "source": [
    "X_train, X_test, y_train, y_test = train_test_split(X, y,\n",
    "                                                   test_size=0.2,\n",
    "                                                   stratify=y,\n",
    "                                                    random_state=42\n",
    "                                                   )\n",
    "from imblearn.over_sampling import SMOTE\n",
    "sm = SMOTE(sampling_strategy='auto',\n",
    "           k_neighbors=4,\n",
    "           random_state=42\n",
    "          )\n",
    "\n",
    "X_train_sm, y_train_sm = sm.fit_resample(X_train, y_train)\n",
    "\n",
    "X_train, X_val, y_train, y_val = train_test_split(X_train_sm, y_train_sm,\n",
    "                                                  test_size=0.25,\n",
    "                                                  stratify=y_train_sm,\n",
    "                                                  random_state=42\n",
    "                                                 )\n",
    "\n",
    "def objective(trial):\n",
    "\n",
    "    params = {\n",
    "        'objective': 'binary:logistic',\n",
    "        'eval_metric': 'logloss',\n",
    "        'booster': trial.suggest_categorical('booster', ['gbtree', 'gblinear', 'dart']),\n",
    "        'lambda': trial.suggest_float('lambda', 1e-5, 10.0, log=True),\n",
    "        'alpha': trial.suggest_float('alpha', 1e-5, 10.0, log=True),\n",
    "        'max_depth': trial.suggest_int('max_depth', 3, 20),\n",
    "        'eta': trial.suggest_float('eta', 0.01, 0.3),\n",
    "        'gamma': trial.suggest_float('gamma', 0.0, 1.0),\n",
    "        'subsample': trial.suggest_float('subsample', 0.1, 1.0),\n",
    "        'colsample_bytree': trial.suggest_float('colsample_bytree', 0.1, 1.0)\n",
    "    }\n",
    "\n",
    "\n",
    "    xgb_opt = XGBClassifier(**params, random_state=42)\n",
    "\n",
    "    xgb_opt.fit(X_train, y_train)\n",
    "    y_pred_val = xgb_opt.predict(X_val)\n",
    "    roc = roc_auc_score(y_val, y_pred_val)\n",
    "    return roc\n",
    "\n",
    "\n",
    "study = optuna.create_study(direction='maximize')\n",
    "study.optimize(objective, n_trials=40)"
   ]
  },
  {
   "cell_type": "code",
   "execution_count": 84,
   "id": "67516bc4-756b-4bda-b01c-448368607b23",
   "metadata": {},
   "outputs": [
    {
     "name": "stdout",
     "output_type": "stream",
     "text": [
      "Accuracy: 0.9024390243902439, F1 score: 0.9, ROC: 0.9130434782608696\n",
      "Accuracy: 0.8780487804878049, F1 score: 0.875, ROC: 0.8940217391304348\n",
      "Accuracy: 0.8936991869918699, F1 score: 0.8934108527131783, ROC: 0.9049370516761821\n",
      "Accuracy: 0.8890243902439025, F1 score: 0.8895703346568349, ROC: 0.8983143175791917\n",
      "Accuracy: 0.886219512195122, F1 score: 0.8912481044601618, ROC: 0.89331812073002\n"
     ]
    }
   ],
   "source": [
    "X_train, X_test, y_train, y_test = train_test_split(X, y,\n",
    "                                                   test_size=0.2,\n",
    "                                                   stratify=y,\n",
    "                                                    random_state=42\n",
    "                                                   )\n",
    "from imblearn.over_sampling import SMOTE\n",
    "sm = SMOTE(sampling_strategy='auto',\n",
    "           k_neighbors=4,\n",
    "           random_state=42\n",
    "          )\n",
    "\n",
    "X_train_sm, y_train_sm = sm.fit_resample(X_train, y_train)\n",
    "\n",
    "    \n",
    "xgb_dict = {'accuracy': [],\n",
    "                    'f1 score': [],\n",
    "                    'roc score': []}\n",
    "\n",
    "for n, (train, val) in enumerate(kfoldcv.split(X_train_sm, y_train_sm), 1):\n",
    "    X_train_fold, y_train_fold = X_train_sm.iloc[train], y_train_sm.iloc[train]\n",
    "    X_val_fold, y_val_fold = X_train_sm.iloc[val], y_train_sm.iloc[val]\n",
    "    \n",
    "    best_params = study.best_params\n",
    "\n",
    "\n",
    "    xgb = XGBClassifier(\n",
    "        booster=best_params['booster'],\n",
    "        alpha=best_params['alpha'],\n",
    "        max_depth=best_params['max_depth'],\n",
    "        eta=best_params['eta'],\n",
    "        gamma=best_params['gamma'],\n",
    "        subsample=best_params['subsample'],\n",
    "        colsample_bytree=best_params['colsample_bytree'],\n",
    "        objective='binary:logistic',\n",
    "        eval_metric='logloss',\n",
    "        random_state=42\n",
    "    )\n",
    "\n",
    "\n",
    "    xgb.fit(X_train_fold, y_train_fold)\n",
    "    y_pred = xgb.predict(X_val_fold)\n",
    "\n",
    "\n",
    "    cross_val_metrics(xgb_dict, y_val_fold, y_pred)"
   ]
  },
  {
   "cell_type": "code",
   "execution_count": 87,
   "id": "3d3177cd-39cc-400d-aa1f-45bb2c89493d",
   "metadata": {},
   "outputs": [
    {
     "name": "stdout",
     "output_type": "stream",
     "text": [
      "Results for classifier\n",
      "----\n",
      "  Accuracy:  0.8387096774193549\n",
      "  F1 score:  0.7566718995290425\n",
      "  ROC score: 0.823076923076923\n",
      "  Mislabeled 5 out of 31\n",
      "Quantities are 26 for 0, 5 for 1\n",
      "\n",
      "\n"
     ]
    },
    {
     "data": {
      "image/png": "[encoded data removed]",
      "text/plain": [
       "<Figure size 300x300 with 2 Axes>"
      ]
     },
     "metadata": {},
     "output_type": "display_data"
    }
   ],
   "source": [
    "# testing\n",
    "y_test_pred = xgb.predict(X_test)\n",
    "\n",
    "print_results(calculate_metrics(y_test, y_test_pred))\n",
    "get_binary_classes(y_test)\n",
    "get_confusion_matrix(y_test, y_test_pred)\n",
    "\n",
    "models_metrics['XGBoost'] = calculate_metrics(y_test, y_test_pred)"
   ]
  },
  {
   "cell_type": "code",
   "execution_count": 86,
   "id": "05c65f9f-ecc9-45f8-9f11-5e854f5c8527",
   "metadata": {},
   "outputs": [
    {
     "data": {
      "image/png": "[encoded data removed]",
      "text/plain": [
       "<Figure size 1000x600 with 1 Axes>"
      ]
     },
     "metadata": {},
     "output_type": "display_data"
    }
   ],
   "source": [
    "y_probabilities = xgb.predict_proba(X_test)[:, 1] \n",
    "\n",
    "fpr, tpr, _ = roc_curve(y_test, y_probabilities)\n",
    "\n",
    "# ROC curve for RandomForest\n",
    "plt.figure(figsize=(10, 6))\n",
    "plt.plot(fpr, tpr, color='darkorange', lw=2, label='ROC curve')\n",
    "plt.plot([0, 1], [0, 1], color='navy', linestyle='--')\n",
    "plt.xlim([0.0, 1.0])\n",
    "plt.ylim([0.0, 1.05])\n",
    "plt.xlabel('False Positive Rate')\n",
    "plt.ylabel('True Positive Rate')\n",
    "plt.title('Receiver Operating Characteristic (ROC)')\n",
    "plt.legend(loc='lower right')\n",
    "plt.show()"
   ]
  },
  {
   "cell_type": "markdown",
   "id": "d1bac82b-a319-46d5-aa7c-8a4467209520",
   "metadata": {},
   "source": [
    "With the metrics in XGBoost we can conclude, that it worked worse than Random Forest. ROC curve also seems less curvy, which is not good. \n",
    "\n",
    "To keep the concept, I will check features importances, but at this point, Random Forest wins."
   ]
  },
  {
   "cell_type": "code",
   "execution_count": 88,
   "id": "ff55f7ab-d73d-4a87-be15-167c5186de6d",
   "metadata": {},
   "outputs": [
    {
     "name": "stdout",
     "output_type": "stream",
     "text": [
      "XGBoost Feature Importance:\n",
      "     Feature  Importance\n",
      "12  Reaction    0.242413\n",
      "1     Gender    0.182482\n",
      "0   AgeGroup    0.169006\n",
      "6        Age    0.090916\n",
      "8   Diabetes    0.047545\n",
      "2    Smoking    0.045646\n",
      "10   oldpeak    0.042106\n",
      "5    SKReact    0.039568\n",
      "4     Others    0.036168\n",
      "9        WBC    0.032983\n",
      "13  FollowUp    0.032555\n",
      "3        HTN    0.022368\n",
      "11        ca    0.016245\n",
      "7   FHistory    0.000000\n"
     ]
    }
   ],
   "source": [
    "feat_importance_xgb = xgb.feature_importances_\n",
    "\n",
    "# Tworzenie DataFrame z ważnością cech\n",
    "feat_importance_xgb_df = pd.DataFrame({'Feature': X_train.columns, 'Importance': feat_importance_xgb})\n",
    "feat_importance_xgb_df = feat_importance_xgb_df.sort_values(by='Importance', ascending=False)\n",
    "\n",
    "print(\"XGBoost Feature Importance:\")\n",
    "print(feat_importance_xgb_df)"
   ]
  },
  {
   "cell_type": "markdown",
   "id": "1bc53f58-f968-4035-ab28-138d7e29a778",
   "metadata": {},
   "source": [
    "The last model I will train is `CatBoost`. As per usuall, let's begin with a vanilla case."
   ]
  },
  {
   "cell_type": "code",
   "execution_count": 89,
   "id": "77529660-1b22-48f3-8dd0-65478d3b7ddf",
   "metadata": {},
   "outputs": [
    {
     "name": "stdout",
     "output_type": "stream",
     "text": [
      "Accuracy: 0.9512195121951219, F1 score: 0.9500000000000001, ROC: 0.9511904761904761\n",
      "Accuracy: 0.9512195121951219, F1 score: 0.9541666666666667, ROC: 0.9478174603174603\n",
      "Accuracy: 0.9591463414634146, F1 score: 0.9604354354354355, ROC: 0.9576358826358826\n",
      "Accuracy: 0.938109756097561, F1 score: 0.9412568091347162, ROC: 0.936976911976912\n",
      "Accuracy: 0.9054878048780488, F1 score: 0.9147075749673474, ROC: 0.9045815295815296\n"
     ]
    }
   ],
   "source": [
    "from catboost import CatBoostClassifier\n",
    "X_train, X_test, y_train, y_test = train_test_split(X, y,\n",
    "                                                   test_size=0.2,\n",
    "                                                   stratify=y,\n",
    "                                                    random_state=42\n",
    "                                                   )\n",
    "from imblearn.over_sampling import SMOTE\n",
    "sm = SMOTE(sampling_strategy='auto',\n",
    "           k_neighbors=4,\n",
    "           random_state=42\n",
    "          )\n",
    "\n",
    "X_train_sm, y_train_sm = sm.fit_resample(X_train, y_train)\n",
    "\n",
    "cat_vanilla_dict = {'accuracy': [],\n",
    "                    'f1 score': [],\n",
    "                    'roc score': []}\n",
    "\n",
    "# let's try on vanilla AdaBoost\n",
    "for n, (train, val) in enumerate(kfoldcv.split(X_train_sm, y_train_sm), 1):\n",
    "    X_train_fold, y_train_fold = X_train_sm.iloc[train], y_train_sm.iloc[train]\n",
    "    X_val_fold, y_val_fold = X_train_sm.iloc[val], y_train_sm.iloc[val]\n",
    "    \n",
    "    # X_train_scaled = scaler.fit_transform(X_train_fold)\n",
    "    # X_val_scaled = scaler.fit_transform(X_val_fold)\n",
    "    \n",
    "    cat_vanilla = CatBoostClassifier(verbose=False)\n",
    "    cat_vanilla.fit(X_train_fold, y_train_fold)\n",
    "    y_pred = cat_vanilla.predict(X_val_fold)\n",
    "    \n",
    "    cross_val_metrics(cat_vanilla_dict, y_val_fold, y_pred)"
   ]
  },
  {
   "cell_type": "code",
   "execution_count": 90,
   "id": "ebf06a05-94ad-44a5-9dbf-86a0f1dc8e1c",
   "metadata": {},
   "outputs": [
    {
     "name": "stdout",
     "output_type": "stream",
     "text": [
      "Results for classifier\n",
      "----\n",
      "  Accuracy:  0.8387096774193549\n",
      "  F1 score:  0.7801418439716312\n",
      "  ROC score: 0.9038461538461539\n",
      "  Mislabeled 5 out of 31\n",
      "Quantities are 26 for 0, 5 for 1\n",
      "\n",
      "\n"
     ]
    },
    {
     "data": {
      "image/png": "[encoded data removed]",
      "text/plain": [
       "<Figure size 300x300 with 2 Axes>"
      ]
     },
     "metadata": {},
     "output_type": "display_data"
    }
   ],
   "source": [
    "# testing\n",
    "y_test_pred = cat_vanilla.predict(X_test)\n",
    "\n",
    "print_results(calculate_metrics(y_test, y_test_pred))\n",
    "get_binary_classes(y_test)\n",
    "get_confusion_matrix(y_test, y_test_pred)"
   ]
  },
  {
   "cell_type": "markdown",
   "id": "87aed9c8-b42d-4f7e-8121-b5e5543e58d2",
   "metadata": {},
   "source": [
    "Overall, metrics for `CatBoost` are slightly better than for `Random Forest`, but in the testing the confusion matrix looks the same - the model predicts too many False Negatives (in this context, these would rather be false positives, pun intendet). It works better than `XGBoost`, so I am hopefull.\n",
    "\n",
    "Let's move to optimization."
   ]
  },
  {
   "cell_type": "code",
   "execution_count": 91,
   "id": "775c62ab-9139-416d-b24d-8af0489e9d87",
   "metadata": {
    "collapsed": true,
    "jupyter": {
     "outputs_hidden": true
    },
    "tags": []
   },
   "outputs": [
    {
     "name": "stderr",
     "output_type": "stream",
     "text": [
      "[I 2023-10-08 22:22:33,748] A new study created in memory with name: no-name-92e15d26-088f-4f23-ad1a-478efcc64697\n",
      "[I 2023-10-08 22:22:33,795] Trial 0 finished with value: 0.8830769230769231 and parameters: {'learning_rate': 0.058920104293831134, 'depth': 7, 'iterations': 73, 'l2_leaf_reg': 1.6708961379622584, 'bagging_temperature': 0.7098680686119829, 'border_count': 142, 'random_strength': 40.796687717754686}. Best is trial 0 with value: 0.8830769230769231.\n",
      "[I 2023-10-08 22:22:33,827] Trial 1 finished with value: 0.8630769230769231 and parameters: {'learning_rate': 0.06789227985477822, 'depth': 5, 'iterations': 94, 'l2_leaf_reg': 4.587868123847325e-05, 'bagging_temperature': 0.8130962247178382, 'border_count': 165, 'random_strength': 18.847087310120536}. Best is trial 0 with value: 0.8830769230769231.\n",
      "[I 2023-10-08 22:22:33,866] Trial 2 finished with value: 0.9023076923076923 and parameters: {'learning_rate': 0.21930206900807214, 'depth': 5, 'iterations': 121, 'l2_leaf_reg': 0.0031200650373422825, 'bagging_temperature': 0.9081950731726094, 'border_count': 48, 'random_strength': 93.67582533704075}. Best is trial 2 with value: 0.9023076923076923.\n",
      "[I 2023-10-08 22:22:33,936] Trial 3 finished with value: 0.8630769230769231 and parameters: {'learning_rate': 0.027325049866203658, 'depth': 6, 'iterations': 142, 'l2_leaf_reg': 0.0034780233389712293, 'bagging_temperature': 0.9047651365912683, 'border_count': 112, 'random_strength': 13.730438421947056}. Best is trial 2 with value: 0.9023076923076923.\n",
      "[I 2023-10-08 22:22:33,974] Trial 4 finished with value: 0.8638461538461538 and parameters: {'learning_rate': 0.019046205327048305, 'depth': 5, 'iterations': 120, 'l2_leaf_reg': 0.5771872129937353, 'bagging_temperature': 0.26464473603506544, 'border_count': 14, 'random_strength': 92.3297766102842}. Best is trial 2 with value: 0.9023076923076923.\n",
      "[I 2023-10-08 22:22:34,354] Trial 5 finished with value: 0.9215384615384615 and parameters: {'learning_rate': 0.02962237478826584, 'depth': 10, 'iterations': 195, 'l2_leaf_reg': 0.024843133800623352, 'bagging_temperature': 0.08268270472308081, 'border_count': 85, 'random_strength': 97.05582708713888}. Best is trial 5 with value: 0.9215384615384615.\n",
      "[I 2023-10-08 22:22:34,409] Trial 6 finished with value: 0.9023076923076923 and parameters: {'learning_rate': 0.27012813963860044, 'depth': 6, 'iterations': 125, 'l2_leaf_reg': 7.347411063522704e-05, 'bagging_temperature': 0.8911116148120002, 'border_count': 29, 'random_strength': 6.309449152769176}. Best is trial 5 with value: 0.9215384615384615.\n",
      "[I 2023-10-08 22:22:34,467] Trial 7 finished with value: 0.9215384615384615 and parameters: {'learning_rate': 0.2685440104394977, 'depth': 5, 'iterations': 189, 'l2_leaf_reg': 0.016047531955946572, 'bagging_temperature': 0.678568324196653, 'border_count': 49, 'random_strength': 61.60131517303993}. Best is trial 5 with value: 0.9215384615384615.\n",
      "[I 2023-10-08 22:22:34,580] Trial 8 finished with value: 0.8830769230769231 and parameters: {'learning_rate': 0.03362331856536997, 'depth': 7, 'iterations': 188, 'l2_leaf_reg': 0.0007763281893802459, 'bagging_temperature': 0.06138691041538169, 'border_count': 243, 'random_strength': 30.048777564587493}. Best is trial 5 with value: 0.9215384615384615.\n",
      "[I 2023-10-08 22:22:34,614] Trial 9 finished with value: 0.8438461538461538 and parameters: {'learning_rate': 0.023015039541118287, 'depth': 4, 'iterations': 136, 'l2_leaf_reg': 6.634363514606287e-05, 'bagging_temperature': 0.11516732729536416, 'border_count': 159, 'random_strength': 18.556096198232318}. Best is trial 5 with value: 0.9215384615384615.\n",
      "[I 2023-10-08 22:22:34,952] Trial 10 finished with value: 0.9215384615384615 and parameters: {'learning_rate': 0.014604831229716432, 'depth': 10, 'iterations': 164, 'l2_leaf_reg': 1.313129893552481e-06, 'bagging_temperature': 0.38260732095253736, 'border_count': 93, 'random_strength': 70.88764247667119}. Best is trial 5 with value: 0.9215384615384615.\n",
      "[I 2023-10-08 22:22:35,442] Trial 11 finished with value: 0.9023076923076923 and parameters: {'learning_rate': 0.010006834618713444, 'depth': 10, 'iterations': 200, 'l2_leaf_reg': 0.04175591302750682, 'bagging_temperature': 0.572524483288043, 'border_count': 72, 'random_strength': 66.2601740472306}. Best is trial 5 with value: 0.9215384615384615.\n",
      "[I 2023-10-08 22:22:35,726] Trial 12 finished with value: 0.8830769230769231 and parameters: {'learning_rate': 0.09983589779233021, 'depth': 9, 'iterations': 172, 'l2_leaf_reg': 0.1445660746655778, 'bagging_temperature': 0.5569341432926355, 'border_count': 73, 'random_strength': 59.84132574441121}. Best is trial 5 with value: 0.9215384615384615.\n",
      "[I 2023-10-08 22:22:35,887] Trial 13 finished with value: 0.8630769230769231 and parameters: {'learning_rate': 0.11380775088185895, 'depth': 8, 'iterations': 168, 'l2_leaf_reg': 7.034553679189089, 'bagging_temperature': 0.3643557854166227, 'border_count': 4, 'random_strength': 82.03643721483378}. Best is trial 5 with value: 0.9215384615384615.\n",
      "[I 2023-10-08 22:22:36,126] Trial 14 finished with value: 0.8830769230769231 and parameters: {'learning_rate': 0.03828243298505622, 'depth': 8, 'iterations': 200, 'l2_leaf_reg': 0.043806601344519795, 'bagging_temperature': 0.003982753381848017, 'border_count': 57, 'random_strength': 99.83580737359037}. Best is trial 5 with value: 0.9215384615384615.\n",
      "[I 2023-10-08 22:22:36,191] Trial 15 finished with value: 0.8823076923076922 and parameters: {'learning_rate': 0.17573893684862663, 'depth': 4, 'iterations': 155, 'l2_leaf_reg': 0.030811590270525633, 'bagging_temperature': 0.669984995103264, 'border_count': 216, 'random_strength': 50.57483831235195}. Best is trial 5 with value: 0.9215384615384615.\n",
      "[I 2023-10-08 22:22:36,492] Trial 16 finished with value: 0.9215384615384615 and parameters: {'learning_rate': 0.04248515044676876, 'depth': 9, 'iterations': 180, 'l2_leaf_reg': 0.3217652093336449, 'bagging_temperature': 0.18486378059745098, 'border_count': 107, 'random_strength': 80.66237936294412}. Best is trial 5 with value: 0.9215384615384615.\n",
      "[I 2023-10-08 22:22:36,566] Trial 17 finished with value: 0.9023076923076923 and parameters: {'learning_rate': 0.28772568680741095, 'depth': 6, 'iterations': 101, 'l2_leaf_reg': 0.009926363201391931, 'bagging_temperature': 0.38006003668377125, 'border_count': 187, 'random_strength': 56.91326245369833}. Best is trial 5 with value: 0.9215384615384615.\n",
      "[I 2023-10-08 22:22:36,691] Trial 18 finished with value: 0.8830769230769231 and parameters: {'learning_rate': 0.07811921169739618, 'depth': 7, 'iterations': 149, 'l2_leaf_reg': 0.20660061399714028, 'bagging_temperature': 0.501035448446576, 'border_count': 36, 'random_strength': 42.53494842885848}. Best is trial 5 with value: 0.9215384615384615.\n",
      "[I 2023-10-08 22:22:36,812] Trial 19 finished with value: 0.9030769230769231 and parameters: {'learning_rate': 0.14071707156490124, 'depth': 9, 'iterations': 56, 'l2_leaf_reg': 8.215695633923122, 'bagging_temperature': 0.2392315121842699, 'border_count': 85, 'random_strength': 76.44957961465117}. Best is trial 5 with value: 0.9215384615384615.\n",
      "[I 2023-10-08 22:22:37,027] Trial 20 finished with value: 0.8438461538461538 and parameters: {'learning_rate': 0.04721290803484865, 'depth': 8, 'iterations': 186, 'l2_leaf_reg': 1.3537217549135538, 'bagging_temperature': 0.9837196025570377, 'border_count': 126, 'random_strength': 84.98195625282793}. Best is trial 5 with value: 0.9215384615384615.\n",
      "[I 2023-10-08 22:22:37,304] Trial 21 finished with value: 0.9215384615384615 and parameters: {'learning_rate': 0.01929421665678622, 'depth': 9, 'iterations': 163, 'l2_leaf_reg': 1.1996717551020816e-05, 'bagging_temperature': 0.3920097238474644, 'border_count': 95, 'random_strength': 69.86300142423366}. Best is trial 5 with value: 0.9215384615384615.\n",
      "[I 2023-10-08 22:22:37,702] Trial 22 finished with value: 0.8830769230769231 and parameters: {'learning_rate': 0.011563036970553789, 'depth': 10, 'iterations': 182, 'l2_leaf_reg': 1.8430413380969073e-06, 'bagging_temperature': 0.12255855606859173, 'border_count': 59, 'random_strength': 65.84179918474692}. Best is trial 5 with value: 0.9215384615384615.\n",
      "[I 2023-10-08 22:22:38,037] Trial 23 finished with value: 0.9215384615384615 and parameters: {'learning_rate': 0.01348692107681819, 'depth': 10, 'iterations': 161, 'l2_leaf_reg': 0.0002922752782604181, 'bagging_temperature': 0.27898438923854035, 'border_count': 91, 'random_strength': 74.30189875619556}. Best is trial 5 with value: 0.9215384615384615.\n",
      "[I 2023-10-08 22:22:38,449] Trial 24 finished with value: 0.9215384615384615 and parameters: {'learning_rate': 0.030360282316122863, 'depth': 10, 'iterations': 191, 'l2_leaf_reg': 2.487244368000269e-06, 'bagging_temperature': 0.45817976065555766, 'border_count': 113, 'random_strength': 85.14454325792349}. Best is trial 5 with value: 0.9215384615384615.\n",
      "[I 2023-10-08 22:22:38,834] Trial 25 finished with value: 0.9215384615384615 and parameters: {'learning_rate': 0.01670085641032596, 'depth': 10, 'iterations': 174, 'l2_leaf_reg': 0.0007051089150564283, 'bagging_temperature': 0.013418843019787699, 'border_count': 136, 'random_strength': 72.7058213835644}. Best is trial 5 with value: 0.9215384615384615.\n",
      "[I 2023-10-08 22:22:39,191] Trial 26 finished with value: 0.8830769230769231 and parameters: {'learning_rate': 0.014128693821448756, 'depth': 9, 'iterations': 200, 'l2_leaf_reg': 0.008918392847170628, 'bagging_temperature': 0.30585288244244146, 'border_count': 39, 'random_strength': 89.06924107656852}. Best is trial 5 with value: 0.9215384615384615.\n",
      "[I 2023-10-08 22:22:39,379] Trial 27 finished with value: 0.8638461538461538 and parameters: {'learning_rate': 0.02433393921060466, 'depth': 8, 'iterations': 175, 'l2_leaf_reg': 5.199841898747536e-06, 'bagging_temperature': 0.17348568468087527, 'border_count': 71, 'random_strength': 99.62605509976586}. Best is trial 5 with value: 0.9215384615384615.\n",
      "[I 2023-10-08 22:22:39,450] Trial 28 finished with value: 0.8438461538461538 and parameters: {'learning_rate': 0.05532117650835622, 'depth': 4, 'iterations': 152, 'l2_leaf_reg': 0.10025923180289989, 'bagging_temperature': 0.4684253713009985, 'border_count': 30, 'random_strength': 78.58867123280041}. Best is trial 5 with value: 0.9215384615384615.\n",
      "[I 2023-10-08 22:22:39,572] Trial 29 finished with value: 0.8830769230769231 and parameters: {'learning_rate': 0.043113548694281335, 'depth': 6, 'iterations': 191, 'l2_leaf_reg': 1.134623295934778e-06, 'bagging_temperature': 0.6920797894811901, 'border_count': 150, 'random_strength': 58.93092170274894}. Best is trial 5 with value: 0.9215384615384615.\n",
      "[I 2023-10-08 22:22:39,725] Trial 30 finished with value: 0.9023076923076923 and parameters: {'learning_rate': 0.0317617995426935, 'depth': 7, 'iterations': 163, 'l2_leaf_reg': 1.7314574862368432e-05, 'bagging_temperature': 0.6329915242602366, 'border_count': 182, 'random_strength': 51.610192155802935}. Best is trial 5 with value: 0.9215384615384615.\n",
      "[I 2023-10-08 22:22:40,064] Trial 31 finished with value: 0.9215384615384615 and parameters: {'learning_rate': 0.04886843253637989, 'depth': 9, 'iterations': 181, 'l2_leaf_reg': 0.41844877503189803, 'bagging_temperature': 0.19796249312468503, 'border_count': 104, 'random_strength': 81.2227871163905}. Best is trial 5 with value: 0.9215384615384615.\n",
      "[I 2023-10-08 22:22:40,565] Trial 32 finished with value: 0.9023076923076923 and parameters: {'learning_rate': 0.06252204445584411, 'depth': 10, 'iterations': 177, 'l2_leaf_reg': 0.01274890453153432, 'bagging_temperature': 0.7547659648113503, 'border_count': 119, 'random_strength': 67.99709370992056}. Best is trial 5 with value: 0.9215384615384615.\n",
      "[I 2023-10-08 22:22:40,864] Trial 33 finished with value: 0.9215384615384615 and parameters: {'learning_rate': 0.03890066450748881, 'depth': 9, 'iterations': 190, 'l2_leaf_reg': 0.06679254894672995, 'bagging_temperature': 0.16834542114626957, 'border_count': 82, 'random_strength': 90.02777879904122}. Best is trial 5 with value: 0.9215384615384615.\n",
      "[I 2023-10-08 22:22:41,082] Trial 34 finished with value: 0.9215384615384615 and parameters: {'learning_rate': 0.07244569537869365, 'depth': 10, 'iterations': 88, 'l2_leaf_reg': 0.025101010321906207, 'bagging_temperature': 0.09620310742100086, 'border_count': 98, 'random_strength': 77.40129962252296}. Best is trial 5 with value: 0.9215384615384615.\n",
      "[I 2023-10-08 22:22:41,153] Trial 35 finished with value: 0.8438461538461538 and parameters: {'learning_rate': 0.024790530808955366, 'depth': 5, 'iterations': 141, 'l2_leaf_reg': 0.0025653382437001767, 'bagging_temperature': 0.2085248095410143, 'border_count': 57, 'random_strength': 93.94730441416408}. Best is trial 5 with value: 0.9215384615384615.\n",
      "[I 2023-10-08 22:22:41,357] Trial 36 finished with value: 0.9023076923076923 and parameters: {'learning_rate': 0.05561529608788462, 'depth': 9, 'iterations': 132, 'l2_leaf_reg': 0.3302964607964602, 'bagging_temperature': 0.3295629177875144, 'border_count': 107, 'random_strength': 85.0399732804995}. Best is trial 5 with value: 0.9215384615384615.\n",
      "[I 2023-10-08 22:22:41,438] Trial 37 finished with value: 0.8830769230769231 and parameters: {'learning_rate': 0.21285937441972225, 'depth': 5, 'iterations': 169, 'l2_leaf_reg': 0.08338430972390429, 'bagging_temperature': 0.28019364503919636, 'border_count': 136, 'random_strength': 74.0839065362964}. Best is trial 5 with value: 0.9215384615384615.\n",
      "[I 2023-10-08 22:22:41,832] Trial 38 finished with value: 0.9215384615384615 and parameters: {'learning_rate': 0.028183449788031115, 'depth': 10, 'iterations': 192, 'l2_leaf_reg': 0.005704279349591959, 'bagging_temperature': 0.23917872403298107, 'border_count': 47, 'random_strength': 63.8064859668503}. Best is trial 5 with value: 0.9215384615384615.\n",
      "[I 2023-10-08 22:22:42,011] Trial 39 finished with value: 0.8830769230769231 and parameters: {'learning_rate': 0.020638067068956312, 'depth': 8, 'iterations': 182, 'l2_leaf_reg': 0.0019427211117169075, 'bagging_temperature': 0.7750581907322941, 'border_count': 18, 'random_strength': 70.24224343744949}. Best is trial 5 with value: 0.9215384615384615.\n"
     ]
    }
   ],
   "source": [
    "X_train, X_test, y_train, y_test = train_test_split(X, y,\n",
    "                                                   test_size=0.2,\n",
    "                                                   stratify=y,\n",
    "                                                    random_state=42\n",
    "                                                   )\n",
    "from imblearn.over_sampling import SMOTE\n",
    "sm = SMOTE(sampling_strategy='auto',\n",
    "           k_neighbors=4,\n",
    "           random_state=42\n",
    "          )\n",
    "\n",
    "X_train_sm, y_train_sm = sm.fit_resample(X_train, y_train)\n",
    "\n",
    "X_train, X_val, y_train, y_val = train_test_split(X_train_sm, y_train_sm,\n",
    "                                                  test_size=0.25,\n",
    "                                                  stratify=y_train_sm,\n",
    "                                                  random_state=42\n",
    "                                                 )\n",
    "\n",
    "def objective(trial):\n",
    "    params = {\n",
    "        'learning_rate': trial.suggest_float('learning_rate', 0.01, 0.3, log=True),\n",
    "        'depth': trial.suggest_int('depth', 4, 10),\n",
    "        'iterations': trial.suggest_int('iterations', 50, 200),\n",
    "        'l2_leaf_reg': trial.suggest_float('l2_leaf_reg', 1e-6, 10, log=True),\n",
    "        'bagging_temperature': trial.suggest_float('bagging_temperature', 0.0, 1.0),\n",
    "        'border_count': trial.suggest_int('border_count', 1, 255),\n",
    "        'random_strength': trial.suggest_float('random_strength', 0.0, 100.0)\n",
    "    }\n",
    "\n",
    "    # Tworzenie klasyfikatora z proponowanymi hiperparametrami\n",
    "    cat_opt = CatBoostClassifier(verbose=0, random_state=42, **params)\n",
    "\n",
    "    cat_opt.fit(X_train, y_train)\n",
    "    y_pred_val = cat_opt.predict(X_val)\n",
    "    roc = roc_auc_score(y_val, y_pred_val)\n",
    "    return roc\n",
    "\n",
    "\n",
    "study = optuna.create_study(direction='maximize')\n",
    "study.optimize(objective, n_trials=40)"
   ]
  },
  {
   "cell_type": "code",
   "execution_count": 92,
   "id": "756cc7aa-6f5f-47f4-91d0-2ec8302725b4",
   "metadata": {},
   "outputs": [
    {
     "name": "stdout",
     "output_type": "stream",
     "text": [
      "Accuracy: 0.8780487804878049, F1 score: 0.888888888888889, ROC: 0.8809523809523809\n",
      "Accuracy: 0.8658536585365854, F1 score: 0.873015873015873, ROC: 0.8678571428571429\n",
      "Accuracy: 0.8522357723577235, F1 score: 0.8610803494524425, ROC: 0.8535714285714285\n",
      "Accuracy: 0.8766768292682927, F1 score: 0.881921373200443, ROC: 0.8793090062111801\n",
      "Accuracy: 0.8863414634146342, F1 score: 0.8927711411135458, ROC: 0.8888638716356108\n"
     ]
    }
   ],
   "source": [
    "X_train, X_test, y_train, y_test = train_test_split(X, y,\n",
    "                                                   test_size=0.2,\n",
    "                                                   stratify=y,\n",
    "                                                    random_state=42\n",
    "                                                   )\n",
    "from imblearn.over_sampling import SMOTE\n",
    "sm = SMOTE(sampling_strategy='auto',\n",
    "           k_neighbors=4,\n",
    "           random_state=42\n",
    "          )\n",
    "\n",
    "X_train_sm, y_train_sm = sm.fit_resample(X_train, y_train)\n",
    "\n",
    "    \n",
    "cat_dict = {'accuracy': [],\n",
    "                    'f1 score': [],\n",
    "                    'roc score': []}\n",
    "\n",
    "for n, (train, val) in enumerate(kfoldcv.split(X_train_sm, y_train_sm), 1):\n",
    "    X_train_fold, y_train_fold = X_train_sm.iloc[train], y_train_sm.iloc[train]\n",
    "    X_val_fold, y_val_fold = X_train_sm.iloc[val], y_train_sm.iloc[val]\n",
    "    \n",
    "    best_params = study.best_params\n",
    "\n",
    "\n",
    "    cat = CatBoostClassifier(\n",
    "        learning_rate=best_params['learning_rate'],\n",
    "        depth=best_params['depth'],\n",
    "        iterations=best_params['iterations'],\n",
    "        l2_leaf_reg=best_params['l2_leaf_reg'],\n",
    "        bagging_temperature=best_params['bagging_temperature'],\n",
    "        border_count=best_params['border_count'],\n",
    "        random_strength=best_params['random_strength'],\n",
    "        verbose=False\n",
    "    )\n",
    "\n",
    "\n",
    "    cat.fit(X_train_fold, y_train_fold)\n",
    "    y_pred = cat.predict(X_val_fold)\n",
    "\n",
    "\n",
    "    cross_val_metrics(cat_dict, y_val_fold, y_pred)"
   ]
  },
  {
   "cell_type": "code",
   "execution_count": 94,
   "id": "afd53340-e5d1-435a-8b71-a65275932c56",
   "metadata": {},
   "outputs": [
    {
     "name": "stdout",
     "output_type": "stream",
     "text": [
      "Results for classifier\n",
      "----\n",
      "  Accuracy:  0.9354838709677419\n",
      "  F1 score:  0.8966666666666667\n",
      "  ROC score: 0.9615384615384616\n",
      "  Mislabeled 2 out of 31\n",
      "Quantities are 26 for 0, 5 for 1\n",
      "\n",
      "\n"
     ]
    },
    {
     "data": {
      "image/png": "[encoded data removed]",
      "text/plain": [
       "<Figure size 300x300 with 2 Axes>"
      ]
     },
     "metadata": {},
     "output_type": "display_data"
    }
   ],
   "source": [
    "# testing\n",
    "y_test_pred = cat.predict(X_test)\n",
    "\n",
    "print_results(calculate_metrics(y_test, y_test_pred))\n",
    "get_binary_classes(y_test)\n",
    "get_confusion_matrix(y_test, y_test_pred)\n",
    "models_metrics['CatBoost'] = calculate_metrics(y_test, y_test_pred)"
   ]
  },
  {
   "cell_type": "markdown",
   "id": "3a35add1-6c30-4f17-a64b-3592e2dae132",
   "metadata": {},
   "source": [
    "Okay, it seems that `CatBoost` has the best outcome overall. I will compare it later, but it already looks like it fits best on the testing set."
   ]
  },
  {
   "cell_type": "code",
   "execution_count": 97,
   "id": "14fe46b8-bf3e-4039-97d3-0e75801b9149",
   "metadata": {},
   "outputs": [
    {
     "data": {
      "image/png": "[encoded data removed]",
      "text/plain": [
       "<Figure size 1000x600 with 1 Axes>"
      ]
     },
     "metadata": {},
     "output_type": "display_data"
    }
   ],
   "source": [
    "y_probabilities = cat.predict_proba(X_test)[:, 1] \n",
    "\n",
    "fpr, tpr, _ = roc_curve(y_test, y_probabilities)\n",
    "\n",
    "# ROC curve for RandomForest\n",
    "plt.figure(figsize=(10, 6))\n",
    "plt.plot(fpr, tpr, color='darkorange', lw=2, label='ROC curve')\n",
    "plt.plot([0, 1], [0, 1], color='navy', linestyle='--')\n",
    "plt.xlim([0.0, 1.0])\n",
    "plt.ylim([0.0, 1.05])\n",
    "plt.xlabel('False Positive Rate')\n",
    "plt.ylabel('True Positive Rate')\n",
    "plt.title('Receiver Operating Characteristic (ROC)')\n",
    "plt.legend(loc='lower right')\n",
    "plt.show()"
   ]
  },
  {
   "cell_type": "code",
   "execution_count": 98,
   "id": "d9154e28-e77f-4444-ac36-3ea11087e01b",
   "metadata": {},
   "outputs": [
    {
     "name": "stdout",
     "output_type": "stream",
     "text": [
      "CatBoost Feature Importance:\n",
      "     Feature  Importance\n",
      "12  Reaction    0.242413\n",
      "1     Gender    0.182482\n",
      "0   AgeGroup    0.169006\n",
      "6        Age    0.090916\n",
      "8   Diabetes    0.047545\n",
      "2    Smoking    0.045646\n",
      "10   oldpeak    0.042106\n",
      "5    SKReact    0.039568\n",
      "4     Others    0.036168\n",
      "9        WBC    0.032983\n",
      "13  FollowUp    0.032555\n",
      "3        HTN    0.022368\n",
      "11        ca    0.016245\n",
      "7   FHistory    0.000000\n"
     ]
    }
   ],
   "source": [
    "feat_importance_cat = cat.feature_importances_\n",
    "\n",
    "# Tworzenie DataFrame z ważnością cech\n",
    "feat_importance_cat_df = pd.DataFrame({'Feature': X_train.columns, 'Importance': feat_importance_xgb})\n",
    "feat_importance_cat_df = feat_importance_cat_df.sort_values(by='Importance', ascending=False)\n",
    "\n",
    "print(\"CatBoost Feature Importance:\")\n",
    "print(feat_importance_cat_df)"
   ]
  },
  {
   "cell_type": "markdown",
   "id": "4308a139-9616-47a1-804f-ab052e8f760e",
   "metadata": {},
   "source": [
    "# Model choice\n",
    "For this part, we will compare all the model we tried. I am taking into consideration all the optimized models and comparing the accuracy, f1 score and roc score."
   ]
  },
  {
   "cell_type": "code",
   "execution_count": 105,
   "id": "e6890875-3903-4247-b303-e525e03e3249",
   "metadata": {},
   "outputs": [
    {
     "data": {
      "text/plain": [
       "dict_items([('Random Forest', (0.9032258064516129, 0.8342245989304813, 0.8615384615384616, 3, 31)), ('XGBoost', (0.8387096774193549, 0.7566718995290425, 0.823076923076923, 5, 31)), ('CatBoost', (0.9354838709677419, 0.8966666666666667, 0.9615384615384616, 2, 31))])"
      ]
     },
     "execution_count": 105,
     "metadata": {},
     "output_type": "execute_result"
    }
   ],
   "source": [
    "models_metrics.items()"
   ]
  },
  {
   "cell_type": "markdown",
   "id": "7e3f41bd-677b-4991-af42-03eda5398d47",
   "metadata": {},
   "source": [
    "As per many, **many** iteration and different random states used in training the models, the best one is `CatBoost`. It's our winner!\n",
    "\n",
    "With the best metrics overall and most of the most labels correctly recognized, `CatBoost` will work best for this dataset. We can now pickle it and put into use.\n",
    "\n",
    "**Note!**   \n",
    "As mentioned at the begining - I am not a medical profesionall. If I was creating such a model to be used in real life, on real people, I would definitely work on it with a doctor, cardiologist at best. Perhaps the parameters used would not be optimal to be used at hospitals, maybe different data would be needed or easier available.   \n",
    "Also, I would ask for more data, so the model could be more better and use the most important (in medical perspective) parameters. As well as for the number of patients to train and test this on, and the features, such as maybe time of cpr, weight of the patient or provided threatment. \n",
    "\n",
    "Overall, I am happy with the result of this study and besides the medical factor (which would be crucial in real life study!) the model is destined to work very well."
   ]
  },
  {
   "cell_type": "code",
   "execution_count": null,
   "id": "862e2023-5840-4807-b039-58850875842a",
   "metadata": {},
   "outputs": [],
   "source": [
    "with open('data/model.pkl', 'wb') as f:\n",
    "    pickle.dump((cat), f)"
   ]
  },
  {
   "cell_type": "markdown",
   "id": "855348de-43d7-4b7d-9b54-0b87e2bcc84f",
   "metadata": {},
   "source": [
    "![heart](https://health.ucdavis.edu/media-resources/contenthub/health-news/2023/01/marquee/heartbeat-cardiogram-sm.jpg)"
   ]
  }
 ],
 "metadata": {
  "kernelspec": {
   "display_name": "Python 3 (ipykernel)",
   "language": "python",
   "name": "python3"
  },
  "language_info": {
   "codemirror_mode": {
    "name": "ipython",
    "version": 3
   },
   "file_extension": ".py",
   "mimetype": "text/x-python",
   "name": "python",
   "nbconvert_exporter": "python",
   "pygments_lexer": "ipython3",
   "version": "3.10.9"
  }
 },
 "nbformat": 4,
 "nbformat_minor": 5
}
